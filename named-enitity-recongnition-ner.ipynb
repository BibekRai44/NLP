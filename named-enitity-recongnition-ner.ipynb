{
 "cells": [
  {
   "cell_type": "code",
   "execution_count": 1,
   "id": "81f2b3fe",
   "metadata": {
    "_cell_guid": "b1076dfc-b9ad-4769-8c92-a6c4dae69d19",
    "_uuid": "8f2839f25d086af736a60e9eeb907d3b93b6e0e5",
    "execution": {
     "iopub.execute_input": "2023-09-02T03:25:27.977568Z",
     "iopub.status.busy": "2023-09-02T03:25:27.976520Z",
     "iopub.status.idle": "2023-09-02T03:25:43.066654Z",
     "shell.execute_reply": "2023-09-02T03:25:43.065685Z"
    },
    "papermill": {
     "duration": 15.103952,
     "end_time": "2023-09-02T03:25:43.069317",
     "exception": false,
     "start_time": "2023-09-02T03:25:27.965365",
     "status": "completed"
    },
    "tags": []
   },
   "outputs": [],
   "source": [
    "import spacy\n",
    "nlp=spacy.load(\"en_core_web_sm\")"
   ]
  },
  {
   "cell_type": "code",
   "execution_count": 2,
   "id": "4d973ca8",
   "metadata": {
    "execution": {
     "iopub.execute_input": "2023-09-02T03:25:43.086525Z",
     "iopub.status.busy": "2023-09-02T03:25:43.085835Z",
     "iopub.status.idle": "2023-09-02T03:25:43.093753Z",
     "shell.execute_reply": "2023-09-02T03:25:43.092693Z"
    },
    "papermill": {
     "duration": 0.019703,
     "end_time": "2023-09-02T03:25:43.096832",
     "exception": false,
     "start_time": "2023-09-02T03:25:43.077129",
     "status": "completed"
    },
    "tags": []
   },
   "outputs": [
    {
     "data": {
      "text/plain": [
       "['tok2vec', 'tagger', 'parser', 'attribute_ruler', 'lemmatizer', 'ner']"
      ]
     },
     "execution_count": 2,
     "metadata": {},
     "output_type": "execute_result"
    }
   ],
   "source": [
    "nlp.pipe_names"
   ]
  },
  {
   "cell_type": "code",
   "execution_count": 3,
   "id": "8e005b58",
   "metadata": {
    "execution": {
     "iopub.execute_input": "2023-09-02T03:25:43.114138Z",
     "iopub.status.busy": "2023-09-02T03:25:43.113731Z",
     "iopub.status.idle": "2023-09-02T03:25:43.148778Z",
     "shell.execute_reply": "2023-09-02T03:25:43.147712Z"
    },
    "papermill": {
     "duration": 0.046656,
     "end_time": "2023-09-02T03:25:43.151318",
     "exception": false,
     "start_time": "2023-09-02T03:25:43.104662",
     "status": "completed"
    },
    "tags": []
   },
   "outputs": [
    {
     "name": "stdout",
     "output_type": "stream",
     "text": [
      "Meta Inc | ORG | Companies, agencies, institutions, etc.\n",
      "$761.37 billion | MONEY | Monetary values, including unit\n"
     ]
    }
   ],
   "source": [
    "doc=nlp(\"Meta Inc is worth $761.37 billion. That's huge.\")\n",
    "for ent in doc.ents:\n",
    "    print(ent.text,\"|\",ent.label_,\"|\",spacy.explain(ent.label_))"
   ]
  },
  {
   "cell_type": "code",
   "execution_count": 4,
   "id": "28c52d0d",
   "metadata": {
    "execution": {
     "iopub.execute_input": "2023-09-02T03:25:43.169619Z",
     "iopub.status.busy": "2023-09-02T03:25:43.168925Z",
     "iopub.status.idle": "2023-09-02T03:25:43.178311Z",
     "shell.execute_reply": "2023-09-02T03:25:43.177270Z"
    },
    "papermill": {
     "duration": 0.021302,
     "end_time": "2023-09-02T03:25:43.180894",
     "exception": false,
     "start_time": "2023-09-02T03:25:43.159592",
     "status": "completed"
    },
    "tags": []
   },
   "outputs": [
    {
     "data": {
      "text/html": [
       "<span class=\"tex2jax_ignore\"><div class=\"entities\" style=\"line-height: 2.5; direction: ltr\">\n",
       "<mark class=\"entity\" style=\"background: #7aecec; padding: 0.45em 0.6em; margin: 0 0.25em; line-height: 1; border-radius: 0.35em;\">\n",
       "    Meta Inc\n",
       "    <span style=\"font-size: 0.8em; font-weight: bold; line-height: 1; border-radius: 0.35em; vertical-align: middle; margin-left: 0.5rem\">ORG</span>\n",
       "</mark>\n",
       " is worth \n",
       "<mark class=\"entity\" style=\"background: #e4e7d2; padding: 0.45em 0.6em; margin: 0 0.25em; line-height: 1; border-radius: 0.35em;\">\n",
       "    $761.37 billion\n",
       "    <span style=\"font-size: 0.8em; font-weight: bold; line-height: 1; border-radius: 0.35em; vertical-align: middle; margin-left: 0.5rem\">MONEY</span>\n",
       "</mark>\n",
       ". That's huge.</div></span>"
      ],
      "text/plain": [
       "<IPython.core.display.HTML object>"
      ]
     },
     "metadata": {},
     "output_type": "display_data"
    }
   ],
   "source": [
    "from spacy import displacy\n",
    "displacy.render(doc,style=\"ent\")"
   ]
  },
  {
   "cell_type": "code",
   "execution_count": 5,
   "id": "f6bfcc8f",
   "metadata": {
    "execution": {
     "iopub.execute_input": "2023-09-02T03:25:43.199149Z",
     "iopub.status.busy": "2023-09-02T03:25:43.198297Z",
     "iopub.status.idle": "2023-09-02T03:25:43.216361Z",
     "shell.execute_reply": "2023-09-02T03:25:43.214776Z"
    },
    "papermill": {
     "duration": 0.029867,
     "end_time": "2023-09-02T03:25:43.218811",
     "exception": false,
     "start_time": "2023-09-02T03:25:43.188944",
     "status": "completed"
    },
    "tags": []
   },
   "outputs": [
    {
     "name": "stdout",
     "output_type": "stream",
     "text": [
      "Bibek | PERSON | People, including fictional\n",
      "OPENAI Inc. Bibek | ORG | Companies, agencies, institutions, etc.\n",
      "2001 | DATE | Absolute or relative dates or periods\n"
     ]
    }
   ],
   "source": [
    "doc=nlp(\"Mr.Bibek wants to work in OPENAI Inc. Bibek was born in 2001 \")\n",
    "for ent in doc.ents:\n",
    "    print(ent.text,\"|\",ent.label_,\"|\",spacy.explain(ent.label_))"
   ]
  },
  {
   "cell_type": "code",
   "execution_count": 6,
   "id": "4afc099f",
   "metadata": {
    "execution": {
     "iopub.execute_input": "2023-09-02T03:25:43.237408Z",
     "iopub.status.busy": "2023-09-02T03:25:43.236998Z",
     "iopub.status.idle": "2023-09-02T03:25:43.252370Z",
     "shell.execute_reply": "2023-09-02T03:25:43.251268Z"
    },
    "papermill": {
     "duration": 0.027573,
     "end_time": "2023-09-02T03:25:43.254511",
     "exception": false,
     "start_time": "2023-09-02T03:25:43.226938",
     "status": "completed"
    },
    "tags": []
   },
   "outputs": [
    {
     "name": "stdout",
     "output_type": "stream",
     "text": [
      "OPENAI Inc. Bibek | ORG | Companies, agencies, institutions, etc.\n",
      "2001 | DATE | Absolute or relative dates or periods\n"
     ]
    }
   ],
   "source": [
    "doc=nlp(\"Bibek wants to work in OPENAI Inc. Bibek was born in 2001 \")\n",
    "for ent in doc.ents:\n",
    "    print(ent.text,\"|\",ent.label_,\"|\",spacy.explain(ent.label_))"
   ]
  },
  {
   "cell_type": "code",
   "execution_count": 7,
   "id": "e516c96e",
   "metadata": {
    "execution": {
     "iopub.execute_input": "2023-09-02T03:25:43.272958Z",
     "iopub.status.busy": "2023-09-02T03:25:43.272102Z",
     "iopub.status.idle": "2023-09-02T03:25:43.277481Z",
     "shell.execute_reply": "2023-09-02T03:25:43.276583Z"
    },
    "papermill": {
     "duration": 0.016863,
     "end_time": "2023-09-02T03:25:43.279541",
     "exception": false,
     "start_time": "2023-09-02T03:25:43.262678",
     "status": "completed"
    },
    "tags": []
   },
   "outputs": [],
   "source": [
    "from spacy.tokens import Span\n",
    "s1= Span(doc,0,1,label=\"PERSON\")\n",
    "doc.set_ents([s1],default=\"unmodified\")"
   ]
  },
  {
   "cell_type": "code",
   "execution_count": 8,
   "id": "b5eb1484",
   "metadata": {
    "execution": {
     "iopub.execute_input": "2023-09-02T03:25:43.297906Z",
     "iopub.status.busy": "2023-09-02T03:25:43.297296Z",
     "iopub.status.idle": "2023-09-02T03:25:43.303779Z",
     "shell.execute_reply": "2023-09-02T03:25:43.302507Z"
    },
    "papermill": {
     "duration": 0.018113,
     "end_time": "2023-09-02T03:25:43.305900",
     "exception": false,
     "start_time": "2023-09-02T03:25:43.287787",
     "status": "completed"
    },
    "tags": []
   },
   "outputs": [
    {
     "name": "stdout",
     "output_type": "stream",
     "text": [
      "Bibek | PERSON | People, including fictional\n",
      "OPENAI Inc. Bibek | ORG | Companies, agencies, institutions, etc.\n",
      "2001 | DATE | Absolute or relative dates or periods\n"
     ]
    }
   ],
   "source": [
    "for ent in doc.ents:\n",
    "    print(ent.text,\"|\",ent.label_,\"|\",spacy.explain(ent.label_))"
   ]
  },
  {
   "cell_type": "markdown",
   "id": "6a939ef9",
   "metadata": {
    "papermill": {
     "duration": 0.007888,
     "end_time": "2023-09-02T03:25:43.322149",
     "exception": false,
     "start_time": "2023-09-02T03:25:43.314261",
     "status": "completed"
    },
    "tags": []
   },
   "source": [
    "# Exercise"
   ]
  },
  {
   "cell_type": "code",
   "execution_count": 9,
   "id": "f8e1cccb",
   "metadata": {
    "execution": {
     "iopub.execute_input": "2023-09-02T03:25:43.340880Z",
     "iopub.status.busy": "2023-09-02T03:25:43.339831Z",
     "iopub.status.idle": "2023-09-02T03:25:43.369812Z",
     "shell.execute_reply": "2023-09-02T03:25:43.368681Z"
    },
    "papermill": {
     "duration": 0.041918,
     "end_time": "2023-09-02T03:25:43.372339",
     "exception": false,
     "start_time": "2023-09-02T03:25:43.330421",
     "status": "completed"
    },
    "tags": []
   },
   "outputs": [],
   "source": [
    "text = \"\"\"Kiran want to know the famous foods in each state of India. So, he opened Google and search for this question. Google showed that\n",
    "in Delhi it is Chaat, in Gujarat it is Dal Dhokli, in Tamilnadu it is , in Andhrapradesh it is Biryani, in Assam it is Papaya Khar,\n",
    "in Bihar it is Litti Chowkha and so on for all other states\"\"\"\n",
    "\n",
    "doc = nlp(text)"
   ]
  },
  {
   "cell_type": "code",
   "execution_count": 10,
   "id": "50257a19",
   "metadata": {
    "execution": {
     "iopub.execute_input": "2023-09-02T03:25:43.392622Z",
     "iopub.status.busy": "2023-09-02T03:25:43.391900Z",
     "iopub.status.idle": "2023-09-02T03:25:43.399265Z",
     "shell.execute_reply": "2023-09-02T03:25:43.397861Z"
    },
    "papermill": {
     "duration": 0.019889,
     "end_time": "2023-09-02T03:25:43.401596",
     "exception": false,
     "start_time": "2023-09-02T03:25:43.381707",
     "status": "completed"
    },
    "tags": []
   },
   "outputs": [
    {
     "name": "stdout",
     "output_type": "stream",
     "text": [
      "India GPE\n",
      "Delhi GPE\n",
      "Gujarat GPE\n",
      "Tamilnadu GPE\n",
      "Andhrapradesh GPE\n",
      "Assam GPE\n",
      "Bihar GPE\n"
     ]
    }
   ],
   "source": [
    "places=[]\n",
    "for ent in doc.ents:\n",
    "    if ent.label_=='GPE':\n",
    "        result=print(ent.text,ent.label_)\n",
    "        places.append(result)"
   ]
  },
  {
   "cell_type": "code",
   "execution_count": 11,
   "id": "fffb996e",
   "metadata": {
    "execution": {
     "iopub.execute_input": "2023-09-02T03:25:43.420520Z",
     "iopub.status.busy": "2023-09-02T03:25:43.419536Z",
     "iopub.status.idle": "2023-09-02T03:25:43.426768Z",
     "shell.execute_reply": "2023-09-02T03:25:43.425578Z"
    },
    "papermill": {
     "duration": 0.01899,
     "end_time": "2023-09-02T03:25:43.428904",
     "exception": false,
     "start_time": "2023-09-02T03:25:43.409914",
     "status": "completed"
    },
    "tags": []
   },
   "outputs": [
    {
     "data": {
      "text/plain": [
       "7"
      ]
     },
     "execution_count": 11,
     "metadata": {},
     "output_type": "execute_result"
    }
   ],
   "source": [
    "count=len(places)\n",
    "count"
   ]
  },
  {
   "cell_type": "code",
   "execution_count": 12,
   "id": "2edcfea5",
   "metadata": {
    "execution": {
     "iopub.execute_input": "2023-09-02T03:25:43.448283Z",
     "iopub.status.busy": "2023-09-02T03:25:43.447323Z",
     "iopub.status.idle": "2023-09-02T03:25:43.467841Z",
     "shell.execute_reply": "2023-09-02T03:25:43.466746Z"
    },
    "papermill": {
     "duration": 0.033168,
     "end_time": "2023-09-02T03:25:43.470578",
     "exception": false,
     "start_time": "2023-09-02T03:25:43.437410",
     "status": "completed"
    },
    "tags": []
   },
   "outputs": [],
   "source": [
    "text = \"\"\"Sachin Tendulkar was born on 24 April 1973, Virat Kholi was born on 5 November 1988, Dhoni was born on 7 July 1981\n",
    "and finally Ricky ponting was born on 19 December 1974.\"\"\"\n",
    "\n",
    "doc = nlp(text)"
   ]
  },
  {
   "cell_type": "code",
   "execution_count": 13,
   "id": "22035c98",
   "metadata": {
    "execution": {
     "iopub.execute_input": "2023-09-02T03:25:43.490516Z",
     "iopub.status.busy": "2023-09-02T03:25:43.489556Z",
     "iopub.status.idle": "2023-09-02T03:25:43.496025Z",
     "shell.execute_reply": "2023-09-02T03:25:43.494940Z"
    },
    "papermill": {
     "duration": 0.01954,
     "end_time": "2023-09-02T03:25:43.498895",
     "exception": false,
     "start_time": "2023-09-02T03:25:43.479355",
     "status": "completed"
    },
    "tags": []
   },
   "outputs": [
    {
     "name": "stdout",
     "output_type": "stream",
     "text": [
      "24 April 1973 DATE\n",
      "5 November 1988 DATE\n",
      "7 July 1981 DATE\n",
      "19 December 1974 DATE\n"
     ]
    }
   ],
   "source": [
    "dates=[]\n",
    "for ent in doc.ents:\n",
    "    if ent.label_=='DATE':\n",
    "        result=print(ent.text,ent.label_)\n",
    "        dates.append(result)"
   ]
  },
  {
   "cell_type": "code",
   "execution_count": 14,
   "id": "508a3d68",
   "metadata": {
    "execution": {
     "iopub.execute_input": "2023-09-02T03:25:43.517886Z",
     "iopub.status.busy": "2023-09-02T03:25:43.517509Z",
     "iopub.status.idle": "2023-09-02T03:25:43.524184Z",
     "shell.execute_reply": "2023-09-02T03:25:43.523078Z"
    },
    "papermill": {
     "duration": 0.018715,
     "end_time": "2023-09-02T03:25:43.526373",
     "exception": false,
     "start_time": "2023-09-02T03:25:43.507658",
     "status": "completed"
    },
    "tags": []
   },
   "outputs": [
    {
     "data": {
      "text/plain": [
       "4"
      ]
     },
     "execution_count": 14,
     "metadata": {},
     "output_type": "execute_result"
    }
   ],
   "source": [
    "len(dates)"
   ]
  },
  {
   "cell_type": "code",
   "execution_count": null,
   "id": "be527bfb",
   "metadata": {
    "papermill": {
     "duration": 0.008343,
     "end_time": "2023-09-02T03:25:43.543798",
     "exception": false,
     "start_time": "2023-09-02T03:25:43.535455",
     "status": "completed"
    },
    "tags": []
   },
   "outputs": [],
   "source": []
  }
 ],
 "kernelspec": {
  "display_name": "Python 3",
  "language": "python",
  "name": "python3"
 },
 "language_info": {
  "codemirror_mode": {
   "name": "ipython",
   "version": 3
  },
  "file_extension": ".py",
  "mimetype": "text/x-python",
  "name": "python",
  "nbconvert_exporter": "python",
  "pygments_lexer": "ipython3",
  "version": "3.6.4"
 },
 "metadata": {
  "kernelspec": {
   "display_name": "Python 3",
   "language": "python",
   "name": "python3"
  },
  "language_info": {
   "codemirror_mode": {
    "name": "ipython",
    "version": 3
   },
   "file_extension": ".py",
   "mimetype": "text/x-python",
   "name": "python",
   "nbconvert_exporter": "python",
   "pygments_lexer": "ipython3",
   "version": "3.10.12"
  },
  "papermill": {
   "default_parameters": {},
   "duration": 21.391389,
   "end_time": "2023-09-02T03:25:45.866018",
   "environment_variables": {},
   "exception": null,
   "input_path": "__notebook__.ipynb",
   "output_path": "__notebook__.ipynb",
   "parameters": {},
   "start_time": "2023-09-02T03:25:24.474629",
   "version": "2.4.0"
  }
 },
 "nbformat": 4,
 "nbformat_minor": 5
}
