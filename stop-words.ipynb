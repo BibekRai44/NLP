{
 "cells": [
  {
   "cell_type": "code",
   "execution_count": 1,
   "id": "ee11bc8d",
   "metadata": {
    "_cell_guid": "b1076dfc-b9ad-4769-8c92-a6c4dae69d19",
    "_uuid": "8f2839f25d086af736a60e9eeb907d3b93b6e0e5",
    "execution": {
     "iopub.execute_input": "2023-09-02T09:54:07.216788Z",
     "iopub.status.busy": "2023-09-02T09:54:07.216393Z",
     "iopub.status.idle": "2023-09-02T09:54:22.230468Z",
     "shell.execute_reply": "2023-09-02T09:54:22.228763Z"
    },
    "papermill": {
     "duration": 15.026778,
     "end_time": "2023-09-02T09:54:22.232834",
     "exception": false,
     "start_time": "2023-09-02T09:54:07.206056",
     "status": "completed"
    },
    "tags": []
   },
   "outputs": [],
   "source": [
    "import spacy\n",
    "from spacy.lang.en.stop_words import STOP_WORDS\n"
   ]
  },
  {
   "cell_type": "code",
   "execution_count": 2,
   "id": "0bcf65f2",
   "metadata": {
    "execution": {
     "iopub.execute_input": "2023-09-02T09:54:22.255658Z",
     "iopub.status.busy": "2023-09-02T09:54:22.254972Z",
     "iopub.status.idle": "2023-09-02T09:54:23.145998Z",
     "shell.execute_reply": "2023-09-02T09:54:23.145081Z"
    },
    "papermill": {
     "duration": 0.905008,
     "end_time": "2023-09-02T09:54:23.148038",
     "exception": false,
     "start_time": "2023-09-02T09:54:22.243030",
     "status": "completed"
    },
    "tags": []
   },
   "outputs": [
    {
     "name": "stdout",
     "output_type": "stream",
     "text": [
      "Bibek\n",
      "is\n",
      "a\n",
      "nepali\n",
      "citizen\n"
     ]
    }
   ],
   "source": [
    "nlp=spacy.load(\"en_core_web_sm\")\n",
    "doc=nlp(\"Bibek is a nepali citizen\")\n",
    "for token in doc:\n",
    "    print(token)"
   ]
  },
  {
   "cell_type": "code",
   "execution_count": 3,
   "id": "245c898a",
   "metadata": {
    "execution": {
     "iopub.execute_input": "2023-09-02T09:54:23.167102Z",
     "iopub.status.busy": "2023-09-02T09:54:23.165310Z",
     "iopub.status.idle": "2023-09-02T09:54:23.183924Z",
     "shell.execute_reply": "2023-09-02T09:54:23.182727Z"
    },
    "papermill": {
     "duration": 0.031199,
     "end_time": "2023-09-02T09:54:23.187191",
     "exception": false,
     "start_time": "2023-09-02T09:54:23.155992",
     "status": "completed"
    },
    "tags": []
   },
   "outputs": [
    {
     "data": {
      "text/plain": [
       "'largest country land size russia'"
      ]
     },
     "execution_count": 3,
     "metadata": {},
     "output_type": "execute_result"
    }
   ],
   "source": [
    "def focused_text(text):\n",
    "    doc=nlp(text)\n",
    "    no_stop_words=[token.text for token in doc if not token.is_stop]\n",
    "    return \" \".join(no_stop_words)\n",
    "focused_text(\"The largest country in land size is russia\")"
   ]
  },
  {
   "cell_type": "code",
   "execution_count": 4,
   "id": "44dffe3c",
   "metadata": {
    "execution": {
     "iopub.execute_input": "2023-09-02T09:54:23.206904Z",
     "iopub.status.busy": "2023-09-02T09:54:23.206214Z",
     "iopub.status.idle": "2023-09-02T09:54:23.220934Z",
     "shell.execute_reply": "2023-09-02T09:54:23.219450Z"
    },
    "papermill": {
     "duration": 0.027441,
     "end_time": "2023-09-02T09:54:23.222968",
     "exception": false,
     "start_time": "2023-09-02T09:54:23.195527",
     "status": "completed"
    },
    "tags": []
   },
   "outputs": [
    {
     "data": {
      "text/plain": [
       "'china india nepal balls'"
      ]
     },
     "execution_count": 4,
     "metadata": {},
     "output_type": "execute_result"
    }
   ],
   "source": [
    "focused_text(\"china and india are nepal balls\")"
   ]
  },
  {
   "cell_type": "code",
   "execution_count": 5,
   "id": "3ed9db40",
   "metadata": {
    "execution": {
     "iopub.execute_input": "2023-09-02T09:54:23.241192Z",
     "iopub.status.busy": "2023-09-02T09:54:23.240715Z",
     "iopub.status.idle": "2023-09-02T09:54:24.762804Z",
     "shell.execute_reply": "2023-09-02T09:54:24.761418Z"
    },
    "papermill": {
     "duration": 1.533703,
     "end_time": "2023-09-02T09:54:24.764926",
     "exception": false,
     "start_time": "2023-09-02T09:54:23.231223",
     "status": "completed"
    },
    "tags": []
   },
   "outputs": [
    {
     "data": {
      "text/html": [
       "<div>\n",
       "<style scoped>\n",
       "    .dataframe tbody tr th:only-of-type {\n",
       "        vertical-align: middle;\n",
       "    }\n",
       "\n",
       "    .dataframe tbody tr th {\n",
       "        vertical-align: top;\n",
       "    }\n",
       "\n",
       "    .dataframe thead th {\n",
       "        text-align: right;\n",
       "    }\n",
       "</style>\n",
       "<table border=\"1\" class=\"dataframe\">\n",
       "  <thead>\n",
       "    <tr style=\"text-align: right;\">\n",
       "      <th></th>\n",
       "      <th>id</th>\n",
       "      <th>title</th>\n",
       "      <th>contents</th>\n",
       "      <th>date</th>\n",
       "      <th>topics</th>\n",
       "      <th>components</th>\n",
       "    </tr>\n",
       "  </thead>\n",
       "  <tbody>\n",
       "    <tr>\n",
       "      <th>0</th>\n",
       "      <td>None</td>\n",
       "      <td>Convicted Bomb Plotter Sentenced to 30 Years</td>\n",
       "      <td>PORTLAND, Oregon. – Mohamed Osman Mohamud, 23,...</td>\n",
       "      <td>2014-10-01T00:00:00-04:00</td>\n",
       "      <td>[]</td>\n",
       "      <td>[National Security Division (NSD)]</td>\n",
       "    </tr>\n",
       "    <tr>\n",
       "      <th>1</th>\n",
       "      <td>12-919</td>\n",
       "      <td>$1 Million in Restitution Payments Announced t...</td>\n",
       "      <td>WASHINGTON – North Carolina’s Waccamaw River...</td>\n",
       "      <td>2012-07-25T00:00:00-04:00</td>\n",
       "      <td>[]</td>\n",
       "      <td>[Environment and Natural Resources Division]</td>\n",
       "    </tr>\n",
       "    <tr>\n",
       "      <th>2</th>\n",
       "      <td>11-1002</td>\n",
       "      <td>$1 Million Settlement Reached for Natural Reso...</td>\n",
       "      <td>BOSTON– A $1-million settlement has been...</td>\n",
       "      <td>2011-08-03T00:00:00-04:00</td>\n",
       "      <td>[]</td>\n",
       "      <td>[Environment and Natural Resources Division]</td>\n",
       "    </tr>\n",
       "    <tr>\n",
       "      <th>3</th>\n",
       "      <td>10-015</td>\n",
       "      <td>10 Las Vegas Men Indicted \\r\\nfor Falsifying V...</td>\n",
       "      <td>WASHINGTON—A federal grand jury in Las Vegas...</td>\n",
       "      <td>2010-01-08T00:00:00-05:00</td>\n",
       "      <td>[]</td>\n",
       "      <td>[Environment and Natural Resources Division]</td>\n",
       "    </tr>\n",
       "    <tr>\n",
       "      <th>4</th>\n",
       "      <td>18-898</td>\n",
       "      <td>$100 Million Settlement Will Speed Cleanup Wor...</td>\n",
       "      <td>The U.S. Department of Justice, the U.S. Envir...</td>\n",
       "      <td>2018-07-09T00:00:00-04:00</td>\n",
       "      <td>[Environment]</td>\n",
       "      <td>[Environment and Natural Resources Division]</td>\n",
       "    </tr>\n",
       "  </tbody>\n",
       "</table>\n",
       "</div>"
      ],
      "text/plain": [
       "        id                                              title  \\\n",
       "0     None       Convicted Bomb Plotter Sentenced to 30 Years   \n",
       "1  12-919   $1 Million in Restitution Payments Announced t...   \n",
       "2  11-1002  $1 Million Settlement Reached for Natural Reso...   \n",
       "3   10-015  10 Las Vegas Men Indicted \\r\\nfor Falsifying V...   \n",
       "4   18-898  $100 Million Settlement Will Speed Cleanup Wor...   \n",
       "\n",
       "                                            contents  \\\n",
       "0  PORTLAND, Oregon. – Mohamed Osman Mohamud, 23,...   \n",
       "1    WASHINGTON – North Carolina’s Waccamaw River...   \n",
       "2        BOSTON– A $1-million settlement has been...   \n",
       "3    WASHINGTON—A federal grand jury in Las Vegas...   \n",
       "4  The U.S. Department of Justice, the U.S. Envir...   \n",
       "\n",
       "                        date         topics  \\\n",
       "0  2014-10-01T00:00:00-04:00             []   \n",
       "1  2012-07-25T00:00:00-04:00             []   \n",
       "2  2011-08-03T00:00:00-04:00             []   \n",
       "3  2010-01-08T00:00:00-05:00             []   \n",
       "4  2018-07-09T00:00:00-04:00  [Environment]   \n",
       "\n",
       "                                     components  \n",
       "0            [National Security Division (NSD)]  \n",
       "1  [Environment and Natural Resources Division]  \n",
       "2  [Environment and Natural Resources Division]  \n",
       "3  [Environment and Natural Resources Division]  \n",
       "4  [Environment and Natural Resources Division]  "
      ]
     },
     "execution_count": 5,
     "metadata": {},
     "output_type": "execute_result"
    }
   ],
   "source": [
    "import pandas as pd\n",
    "df=pd.read_json(\"/kaggle/input/json-dataset/doj_press.json\",lines=True)\n",
    "df.head()"
   ]
  },
  {
   "cell_type": "code",
   "execution_count": 6,
   "id": "bf625cf6",
   "metadata": {
    "execution": {
     "iopub.execute_input": "2023-09-02T09:54:24.783774Z",
     "iopub.status.busy": "2023-09-02T09:54:24.782592Z",
     "iopub.status.idle": "2023-09-02T09:54:24.790387Z",
     "shell.execute_reply": "2023-09-02T09:54:24.789379Z"
    },
    "papermill": {
     "duration": 0.01915,
     "end_time": "2023-09-02T09:54:24.792362",
     "exception": false,
     "start_time": "2023-09-02T09:54:24.773212",
     "status": "completed"
    },
    "tags": []
   },
   "outputs": [
    {
     "data": {
      "text/plain": [
       "Index(['id', 'title', 'contents', 'date', 'topics', 'components'], dtype='object')"
      ]
     },
     "execution_count": 6,
     "metadata": {},
     "output_type": "execute_result"
    }
   ],
   "source": [
    "df.columns"
   ]
  },
  {
   "cell_type": "code",
   "execution_count": 7,
   "id": "af8650fd",
   "metadata": {
    "execution": {
     "iopub.execute_input": "2023-09-02T09:54:24.811380Z",
     "iopub.status.busy": "2023-09-02T09:54:24.810971Z",
     "iopub.status.idle": "2023-09-02T09:54:24.818493Z",
     "shell.execute_reply": "2023-09-02T09:54:24.817178Z"
    },
    "papermill": {
     "duration": 0.020433,
     "end_time": "2023-09-02T09:54:24.821227",
     "exception": false,
     "start_time": "2023-09-02T09:54:24.800794",
     "status": "completed"
    },
    "tags": []
   },
   "outputs": [
    {
     "data": {
      "text/plain": [
       "(13087, 6)"
      ]
     },
     "execution_count": 7,
     "metadata": {},
     "output_type": "execute_result"
    }
   ],
   "source": [
    "df.shape"
   ]
  },
  {
   "cell_type": "code",
   "execution_count": 8,
   "id": "daea8245",
   "metadata": {
    "execution": {
     "iopub.execute_input": "2023-09-02T09:54:24.839636Z",
     "iopub.status.busy": "2023-09-02T09:54:24.839294Z",
     "iopub.status.idle": "2023-09-02T09:54:24.855036Z",
     "shell.execute_reply": "2023-09-02T09:54:24.854121Z"
    },
    "papermill": {
     "duration": 0.02701,
     "end_time": "2023-09-02T09:54:24.856696",
     "exception": false,
     "start_time": "2023-09-02T09:54:24.829686",
     "status": "completed"
    },
    "tags": []
   },
   "outputs": [
    {
     "data": {
      "text/plain": [
       "id            277\n",
       "title           0\n",
       "contents        0\n",
       "date            0\n",
       "topics          0\n",
       "components      0\n",
       "dtype: int64"
      ]
     },
     "execution_count": 8,
     "metadata": {},
     "output_type": "execute_result"
    }
   ],
   "source": [
    "df.isnull().sum()"
   ]
  },
  {
   "cell_type": "code",
   "execution_count": 9,
   "id": "767f82cb",
   "metadata": {
    "execution": {
     "iopub.execute_input": "2023-09-02T09:54:24.875141Z",
     "iopub.status.busy": "2023-09-02T09:54:24.874641Z",
     "iopub.status.idle": "2023-09-02T09:54:24.899667Z",
     "shell.execute_reply": "2023-09-02T09:54:24.898486Z"
    },
    "papermill": {
     "duration": 0.037348,
     "end_time": "2023-09-02T09:54:24.902565",
     "exception": false,
     "start_time": "2023-09-02T09:54:24.865217",
     "status": "completed"
    },
    "tags": []
   },
   "outputs": [
    {
     "data": {
      "text/html": [
       "<div>\n",
       "<style scoped>\n",
       "    .dataframe tbody tr th:only-of-type {\n",
       "        vertical-align: middle;\n",
       "    }\n",
       "\n",
       "    .dataframe tbody tr th {\n",
       "        vertical-align: top;\n",
       "    }\n",
       "\n",
       "    .dataframe thead th {\n",
       "        text-align: right;\n",
       "    }\n",
       "</style>\n",
       "<table border=\"1\" class=\"dataframe\">\n",
       "  <thead>\n",
       "    <tr style=\"text-align: right;\">\n",
       "      <th></th>\n",
       "      <th>id</th>\n",
       "      <th>title</th>\n",
       "      <th>contents</th>\n",
       "      <th>date</th>\n",
       "      <th>topics</th>\n",
       "      <th>components</th>\n",
       "    </tr>\n",
       "  </thead>\n",
       "  <tbody>\n",
       "    <tr>\n",
       "      <th>4</th>\n",
       "      <td>18-898</td>\n",
       "      <td>$100 Million Settlement Will Speed Cleanup Wor...</td>\n",
       "      <td>The U.S. Department of Justice, the U.S. Envir...</td>\n",
       "      <td>2018-07-09T00:00:00-04:00</td>\n",
       "      <td>[Environment]</td>\n",
       "      <td>[Environment and Natural Resources Division]</td>\n",
       "    </tr>\n",
       "    <tr>\n",
       "      <th>7</th>\n",
       "      <td>14-1412</td>\n",
       "      <td>14 Indicted in Connection with New England Com...</td>\n",
       "      <td>A 131-count criminal indictment was unsealed t...</td>\n",
       "      <td>2014-12-17T00:00:00-05:00</td>\n",
       "      <td>[Consumer Protection]</td>\n",
       "      <td>[Civil Division]</td>\n",
       "    </tr>\n",
       "    <tr>\n",
       "      <th>19</th>\n",
       "      <td>17-1419</td>\n",
       "      <td>2017 Southeast Regional Animal Cruelty Prosecu...</td>\n",
       "      <td>The United States Attorney’s Office for the Mi...</td>\n",
       "      <td>2017-12-14T00:00:00-05:00</td>\n",
       "      <td>[Environment]</td>\n",
       "      <td>[Environment and Natural Resources Division, U...</td>\n",
       "    </tr>\n",
       "    <tr>\n",
       "      <th>22</th>\n",
       "      <td>15-1562</td>\n",
       "      <td>21st Century Oncology to Pay $19.75 Million to...</td>\n",
       "      <td>21st Century Oncology LLC, has agreed to pay $...</td>\n",
       "      <td>2015-12-18T00:00:00-05:00</td>\n",
       "      <td>[False Claims Act, Health Care Fraud]</td>\n",
       "      <td>[Civil Division]</td>\n",
       "    </tr>\n",
       "    <tr>\n",
       "      <th>23</th>\n",
       "      <td>17-1404</td>\n",
       "      <td>21st Century Oncology to Pay $26 Million to Se...</td>\n",
       "      <td>21st Century Oncology Inc. and certain of its ...</td>\n",
       "      <td>2017-12-12T00:00:00-05:00</td>\n",
       "      <td>[Health Care Fraud, False Claims Act]</td>\n",
       "      <td>[Civil Division, USAO - Florida, Middle]</td>\n",
       "    </tr>\n",
       "  </tbody>\n",
       "</table>\n",
       "</div>"
      ],
      "text/plain": [
       "         id                                              title  \\\n",
       "4    18-898  $100 Million Settlement Will Speed Cleanup Wor...   \n",
       "7   14-1412  14 Indicted in Connection with New England Com...   \n",
       "19  17-1419  2017 Southeast Regional Animal Cruelty Prosecu...   \n",
       "22  15-1562  21st Century Oncology to Pay $19.75 Million to...   \n",
       "23  17-1404  21st Century Oncology to Pay $26 Million to Se...   \n",
       "\n",
       "                                             contents  \\\n",
       "4   The U.S. Department of Justice, the U.S. Envir...   \n",
       "7   A 131-count criminal indictment was unsealed t...   \n",
       "19  The United States Attorney’s Office for the Mi...   \n",
       "22  21st Century Oncology LLC, has agreed to pay $...   \n",
       "23  21st Century Oncology Inc. and certain of its ...   \n",
       "\n",
       "                         date                                 topics  \\\n",
       "4   2018-07-09T00:00:00-04:00                          [Environment]   \n",
       "7   2014-12-17T00:00:00-05:00                  [Consumer Protection]   \n",
       "19  2017-12-14T00:00:00-05:00                          [Environment]   \n",
       "22  2015-12-18T00:00:00-05:00  [False Claims Act, Health Care Fraud]   \n",
       "23  2017-12-12T00:00:00-05:00  [Health Care Fraud, False Claims Act]   \n",
       "\n",
       "                                           components  \n",
       "4        [Environment and Natural Resources Division]  \n",
       "7                                    [Civil Division]  \n",
       "19  [Environment and Natural Resources Division, U...  \n",
       "22                                   [Civil Division]  \n",
       "23           [Civil Division, USAO - Florida, Middle]  "
      ]
     },
     "execution_count": 9,
     "metadata": {},
     "output_type": "execute_result"
    }
   ],
   "source": [
    "df=df[df['topics'].str.len()!=0]\n",
    "df.head()"
   ]
  },
  {
   "cell_type": "code",
   "execution_count": 10,
   "id": "ff322399",
   "metadata": {
    "execution": {
     "iopub.execute_input": "2023-09-02T09:54:24.922511Z",
     "iopub.status.busy": "2023-09-02T09:54:24.922179Z",
     "iopub.status.idle": "2023-09-02T09:54:24.928474Z",
     "shell.execute_reply": "2023-09-02T09:54:24.926666Z"
    },
    "papermill": {
     "duration": 0.018638,
     "end_time": "2023-09-02T09:54:24.930690",
     "exception": false,
     "start_time": "2023-09-02T09:54:24.912052",
     "status": "completed"
    },
    "tags": []
   },
   "outputs": [],
   "source": [
    "df=df.head(100)"
   ]
  },
  {
   "cell_type": "code",
   "execution_count": 11,
   "id": "c895584e",
   "metadata": {
    "execution": {
     "iopub.execute_input": "2023-09-02T09:54:24.949699Z",
     "iopub.status.busy": "2023-09-02T09:54:24.949371Z",
     "iopub.status.idle": "2023-09-02T09:54:24.963578Z",
     "shell.execute_reply": "2023-09-02T09:54:24.962782Z"
    },
    "papermill": {
     "duration": 0.025939,
     "end_time": "2023-09-02T09:54:24.965501",
     "exception": false,
     "start_time": "2023-09-02T09:54:24.939562",
     "status": "completed"
    },
    "tags": []
   },
   "outputs": [
    {
     "data": {
      "text/html": [
       "<div>\n",
       "<style scoped>\n",
       "    .dataframe tbody tr th:only-of-type {\n",
       "        vertical-align: middle;\n",
       "    }\n",
       "\n",
       "    .dataframe tbody tr th {\n",
       "        vertical-align: top;\n",
       "    }\n",
       "\n",
       "    .dataframe thead th {\n",
       "        text-align: right;\n",
       "    }\n",
       "</style>\n",
       "<table border=\"1\" class=\"dataframe\">\n",
       "  <thead>\n",
       "    <tr style=\"text-align: right;\">\n",
       "      <th></th>\n",
       "      <th>id</th>\n",
       "      <th>title</th>\n",
       "      <th>contents</th>\n",
       "      <th>date</th>\n",
       "      <th>topics</th>\n",
       "      <th>components</th>\n",
       "    </tr>\n",
       "  </thead>\n",
       "  <tbody>\n",
       "    <tr>\n",
       "      <th>4</th>\n",
       "      <td>18-898</td>\n",
       "      <td>$100 Million Settlement Will Speed Cleanup Wor...</td>\n",
       "      <td>The U.S. Department of Justice, the U.S. Envir...</td>\n",
       "      <td>2018-07-09T00:00:00-04:00</td>\n",
       "      <td>[Environment]</td>\n",
       "      <td>[Environment and Natural Resources Division]</td>\n",
       "    </tr>\n",
       "    <tr>\n",
       "      <th>7</th>\n",
       "      <td>14-1412</td>\n",
       "      <td>14 Indicted in Connection with New England Com...</td>\n",
       "      <td>A 131-count criminal indictment was unsealed t...</td>\n",
       "      <td>2014-12-17T00:00:00-05:00</td>\n",
       "      <td>[Consumer Protection]</td>\n",
       "      <td>[Civil Division]</td>\n",
       "    </tr>\n",
       "    <tr>\n",
       "      <th>19</th>\n",
       "      <td>17-1419</td>\n",
       "      <td>2017 Southeast Regional Animal Cruelty Prosecu...</td>\n",
       "      <td>The United States Attorney’s Office for the Mi...</td>\n",
       "      <td>2017-12-14T00:00:00-05:00</td>\n",
       "      <td>[Environment]</td>\n",
       "      <td>[Environment and Natural Resources Division, U...</td>\n",
       "    </tr>\n",
       "    <tr>\n",
       "      <th>22</th>\n",
       "      <td>15-1562</td>\n",
       "      <td>21st Century Oncology to Pay $19.75 Million to...</td>\n",
       "      <td>21st Century Oncology LLC, has agreed to pay $...</td>\n",
       "      <td>2015-12-18T00:00:00-05:00</td>\n",
       "      <td>[False Claims Act, Health Care Fraud]</td>\n",
       "      <td>[Civil Division]</td>\n",
       "    </tr>\n",
       "    <tr>\n",
       "      <th>23</th>\n",
       "      <td>17-1404</td>\n",
       "      <td>21st Century Oncology to Pay $26 Million to Se...</td>\n",
       "      <td>21st Century Oncology Inc. and certain of its ...</td>\n",
       "      <td>2017-12-12T00:00:00-05:00</td>\n",
       "      <td>[Health Care Fraud, False Claims Act]</td>\n",
       "      <td>[Civil Division, USAO - Florida, Middle]</td>\n",
       "    </tr>\n",
       "  </tbody>\n",
       "</table>\n",
       "</div>"
      ],
      "text/plain": [
       "         id                                              title  \\\n",
       "4    18-898  $100 Million Settlement Will Speed Cleanup Wor...   \n",
       "7   14-1412  14 Indicted in Connection with New England Com...   \n",
       "19  17-1419  2017 Southeast Regional Animal Cruelty Prosecu...   \n",
       "22  15-1562  21st Century Oncology to Pay $19.75 Million to...   \n",
       "23  17-1404  21st Century Oncology to Pay $26 Million to Se...   \n",
       "\n",
       "                                             contents  \\\n",
       "4   The U.S. Department of Justice, the U.S. Envir...   \n",
       "7   A 131-count criminal indictment was unsealed t...   \n",
       "19  The United States Attorney’s Office for the Mi...   \n",
       "22  21st Century Oncology LLC, has agreed to pay $...   \n",
       "23  21st Century Oncology Inc. and certain of its ...   \n",
       "\n",
       "                         date                                 topics  \\\n",
       "4   2018-07-09T00:00:00-04:00                          [Environment]   \n",
       "7   2014-12-17T00:00:00-05:00                  [Consumer Protection]   \n",
       "19  2017-12-14T00:00:00-05:00                          [Environment]   \n",
       "22  2015-12-18T00:00:00-05:00  [False Claims Act, Health Care Fraud]   \n",
       "23  2017-12-12T00:00:00-05:00  [Health Care Fraud, False Claims Act]   \n",
       "\n",
       "                                           components  \n",
       "4        [Environment and Natural Resources Division]  \n",
       "7                                    [Civil Division]  \n",
       "19  [Environment and Natural Resources Division, U...  \n",
       "22                                   [Civil Division]  \n",
       "23           [Civil Division, USAO - Florida, Middle]  "
      ]
     },
     "execution_count": 11,
     "metadata": {},
     "output_type": "execute_result"
    }
   ],
   "source": [
    "df.head()"
   ]
  },
  {
   "cell_type": "code",
   "execution_count": 12,
   "id": "e5b62ac1",
   "metadata": {
    "execution": {
     "iopub.execute_input": "2023-09-02T09:54:24.985331Z",
     "iopub.status.busy": "2023-09-02T09:54:24.984937Z",
     "iopub.status.idle": "2023-09-02T09:54:35.091294Z",
     "shell.execute_reply": "2023-09-02T09:54:35.090332Z"
    },
    "papermill": {
     "duration": 10.119204,
     "end_time": "2023-09-02T09:54:35.093745",
     "exception": false,
     "start_time": "2023-09-02T09:54:24.974541",
     "status": "completed"
    },
    "tags": []
   },
   "outputs": [],
   "source": [
    "df['contents_new']=df['contents'].apply(focused_text)"
   ]
  },
  {
   "cell_type": "code",
   "execution_count": 13,
   "id": "40c8f74c",
   "metadata": {
    "execution": {
     "iopub.execute_input": "2023-09-02T09:54:35.115157Z",
     "iopub.status.busy": "2023-09-02T09:54:35.114790Z",
     "iopub.status.idle": "2023-09-02T09:54:35.134028Z",
     "shell.execute_reply": "2023-09-02T09:54:35.132722Z"
    },
    "papermill": {
     "duration": 0.032949,
     "end_time": "2023-09-02T09:54:35.136046",
     "exception": false,
     "start_time": "2023-09-02T09:54:35.103097",
     "status": "completed"
    },
    "tags": []
   },
   "outputs": [
    {
     "data": {
      "text/html": [
       "<div>\n",
       "<style scoped>\n",
       "    .dataframe tbody tr th:only-of-type {\n",
       "        vertical-align: middle;\n",
       "    }\n",
       "\n",
       "    .dataframe tbody tr th {\n",
       "        vertical-align: top;\n",
       "    }\n",
       "\n",
       "    .dataframe thead th {\n",
       "        text-align: right;\n",
       "    }\n",
       "</style>\n",
       "<table border=\"1\" class=\"dataframe\">\n",
       "  <thead>\n",
       "    <tr style=\"text-align: right;\">\n",
       "      <th></th>\n",
       "      <th>id</th>\n",
       "      <th>title</th>\n",
       "      <th>contents</th>\n",
       "      <th>date</th>\n",
       "      <th>topics</th>\n",
       "      <th>components</th>\n",
       "      <th>contents_new</th>\n",
       "    </tr>\n",
       "  </thead>\n",
       "  <tbody>\n",
       "    <tr>\n",
       "      <th>4</th>\n",
       "      <td>18-898</td>\n",
       "      <td>$100 Million Settlement Will Speed Cleanup Wor...</td>\n",
       "      <td>The U.S. Department of Justice, the U.S. Envir...</td>\n",
       "      <td>2018-07-09T00:00:00-04:00</td>\n",
       "      <td>[Environment]</td>\n",
       "      <td>[Environment and Natural Resources Division]</td>\n",
       "      <td>U.S. Department Justice , U.S. Environmental P...</td>\n",
       "    </tr>\n",
       "    <tr>\n",
       "      <th>7</th>\n",
       "      <td>14-1412</td>\n",
       "      <td>14 Indicted in Connection with New England Com...</td>\n",
       "      <td>A 131-count criminal indictment was unsealed t...</td>\n",
       "      <td>2014-12-17T00:00:00-05:00</td>\n",
       "      <td>[Consumer Protection]</td>\n",
       "      <td>[Civil Division]</td>\n",
       "      <td>131 - count criminal indictment unsealed today...</td>\n",
       "    </tr>\n",
       "    <tr>\n",
       "      <th>19</th>\n",
       "      <td>17-1419</td>\n",
       "      <td>2017 Southeast Regional Animal Cruelty Prosecu...</td>\n",
       "      <td>The United States Attorney’s Office for the Mi...</td>\n",
       "      <td>2017-12-14T00:00:00-05:00</td>\n",
       "      <td>[Environment]</td>\n",
       "      <td>[Environment and Natural Resources Division, U...</td>\n",
       "      <td>United States Attorney Office Middle District ...</td>\n",
       "    </tr>\n",
       "    <tr>\n",
       "      <th>22</th>\n",
       "      <td>15-1562</td>\n",
       "      <td>21st Century Oncology to Pay $19.75 Million to...</td>\n",
       "      <td>21st Century Oncology LLC, has agreed to pay $...</td>\n",
       "      <td>2015-12-18T00:00:00-05:00</td>\n",
       "      <td>[False Claims Act, Health Care Fraud]</td>\n",
       "      <td>[Civil Division]</td>\n",
       "      <td>21st Century Oncology LLC , agreed pay $ 19.75...</td>\n",
       "    </tr>\n",
       "    <tr>\n",
       "      <th>23</th>\n",
       "      <td>17-1404</td>\n",
       "      <td>21st Century Oncology to Pay $26 Million to Se...</td>\n",
       "      <td>21st Century Oncology Inc. and certain of its ...</td>\n",
       "      <td>2017-12-12T00:00:00-05:00</td>\n",
       "      <td>[Health Care Fraud, False Claims Act]</td>\n",
       "      <td>[Civil Division, USAO - Florida, Middle]</td>\n",
       "      <td>21st Century Oncology Inc. certain subsidiarie...</td>\n",
       "    </tr>\n",
       "    <tr>\n",
       "      <th>...</th>\n",
       "      <td>...</td>\n",
       "      <td>...</td>\n",
       "      <td>...</td>\n",
       "      <td>...</td>\n",
       "      <td>...</td>\n",
       "      <td>...</td>\n",
       "      <td>...</td>\n",
       "    </tr>\n",
       "    <tr>\n",
       "      <th>316</th>\n",
       "      <td>15-1359</td>\n",
       "      <td>Alaska Plastic Surgeon Convicted of Wire Fraud...</td>\n",
       "      <td>Doctor Hid Millions in Secret Accounts in Pana...</td>\n",
       "      <td>2015-11-04T00:00:00-05:00</td>\n",
       "      <td>[Tax]</td>\n",
       "      <td>[Tax Division]</td>\n",
       "      <td>Doctor Hid Millions Secret Accounts Panama Ala...</td>\n",
       "    </tr>\n",
       "    <tr>\n",
       "      <th>318</th>\n",
       "      <td>16-396</td>\n",
       "      <td>Alaska Plastic Surgeon Sentenced to Prison for...</td>\n",
       "      <td>Defendant Concealed Bank Accounts in Panama an...</td>\n",
       "      <td>2016-04-04T00:00:00-04:00</td>\n",
       "      <td>[Tax]</td>\n",
       "      <td>[Tax Division]</td>\n",
       "      <td>Defendant Concealed Bank Accounts Panama Costa...</td>\n",
       "    </tr>\n",
       "    <tr>\n",
       "      <th>321</th>\n",
       "      <td>17-736</td>\n",
       "      <td>Alaskan Commercial Fishing Couple Charged with...</td>\n",
       "      <td>An Alaskan couple was charged in federal court...</td>\n",
       "      <td>2017-07-26T00:00:00-04:00</td>\n",
       "      <td>[Tax]</td>\n",
       "      <td>[Tax Division, USAO - Alaska]</td>\n",
       "      <td>Alaskan couple charged federal court Juneau , ...</td>\n",
       "    </tr>\n",
       "    <tr>\n",
       "      <th>322</th>\n",
       "      <td>18-717</td>\n",
       "      <td>Alaskan Husband And Wife Plead Guilty To Willf...</td>\n",
       "      <td>A husband and wife pleaded guilty yesterday to...</td>\n",
       "      <td>2018-06-01T00:00:00-04:00</td>\n",
       "      <td>[Tax]</td>\n",
       "      <td>[Tax Division]</td>\n",
       "      <td>husband wife pleaded guilty yesterday counts w...</td>\n",
       "    </tr>\n",
       "    <tr>\n",
       "      <th>324</th>\n",
       "      <td>16-1345</td>\n",
       "      <td>Alaskan Oncologist Indicted for Tax Evasion</td>\n",
       "      <td>A resident of Big Lake, Alaska was indicted on...</td>\n",
       "      <td>2016-11-17T00:00:00-05:00</td>\n",
       "      <td>[Tax]</td>\n",
       "      <td>[Tax Division]</td>\n",
       "      <td>resident Big Lake , Alaska indicted counts tax...</td>\n",
       "    </tr>\n",
       "  </tbody>\n",
       "</table>\n",
       "<p>100 rows × 7 columns</p>\n",
       "</div>"
      ],
      "text/plain": [
       "          id                                              title  \\\n",
       "4     18-898  $100 Million Settlement Will Speed Cleanup Wor...   \n",
       "7    14-1412  14 Indicted in Connection with New England Com...   \n",
       "19   17-1419  2017 Southeast Regional Animal Cruelty Prosecu...   \n",
       "22   15-1562  21st Century Oncology to Pay $19.75 Million to...   \n",
       "23   17-1404  21st Century Oncology to Pay $26 Million to Se...   \n",
       "..       ...                                                ...   \n",
       "316  15-1359  Alaska Plastic Surgeon Convicted of Wire Fraud...   \n",
       "318   16-396  Alaska Plastic Surgeon Sentenced to Prison for...   \n",
       "321   17-736  Alaskan Commercial Fishing Couple Charged with...   \n",
       "322   18-717  Alaskan Husband And Wife Plead Guilty To Willf...   \n",
       "324  16-1345        Alaskan Oncologist Indicted for Tax Evasion   \n",
       "\n",
       "                                              contents  \\\n",
       "4    The U.S. Department of Justice, the U.S. Envir...   \n",
       "7    A 131-count criminal indictment was unsealed t...   \n",
       "19   The United States Attorney’s Office for the Mi...   \n",
       "22   21st Century Oncology LLC, has agreed to pay $...   \n",
       "23   21st Century Oncology Inc. and certain of its ...   \n",
       "..                                                 ...   \n",
       "316  Doctor Hid Millions in Secret Accounts in Pana...   \n",
       "318  Defendant Concealed Bank Accounts in Panama an...   \n",
       "321  An Alaskan couple was charged in federal court...   \n",
       "322  A husband and wife pleaded guilty yesterday to...   \n",
       "324  A resident of Big Lake, Alaska was indicted on...   \n",
       "\n",
       "                          date                                 topics  \\\n",
       "4    2018-07-09T00:00:00-04:00                          [Environment]   \n",
       "7    2014-12-17T00:00:00-05:00                  [Consumer Protection]   \n",
       "19   2017-12-14T00:00:00-05:00                          [Environment]   \n",
       "22   2015-12-18T00:00:00-05:00  [False Claims Act, Health Care Fraud]   \n",
       "23   2017-12-12T00:00:00-05:00  [Health Care Fraud, False Claims Act]   \n",
       "..                         ...                                    ...   \n",
       "316  2015-11-04T00:00:00-05:00                                  [Tax]   \n",
       "318  2016-04-04T00:00:00-04:00                                  [Tax]   \n",
       "321  2017-07-26T00:00:00-04:00                                  [Tax]   \n",
       "322  2018-06-01T00:00:00-04:00                                  [Tax]   \n",
       "324  2016-11-17T00:00:00-05:00                                  [Tax]   \n",
       "\n",
       "                                            components  \\\n",
       "4         [Environment and Natural Resources Division]   \n",
       "7                                     [Civil Division]   \n",
       "19   [Environment and Natural Resources Division, U...   \n",
       "22                                    [Civil Division]   \n",
       "23            [Civil Division, USAO - Florida, Middle]   \n",
       "..                                                 ...   \n",
       "316                                     [Tax Division]   \n",
       "318                                     [Tax Division]   \n",
       "321                      [Tax Division, USAO - Alaska]   \n",
       "322                                     [Tax Division]   \n",
       "324                                     [Tax Division]   \n",
       "\n",
       "                                          contents_new  \n",
       "4    U.S. Department Justice , U.S. Environmental P...  \n",
       "7    131 - count criminal indictment unsealed today...  \n",
       "19   United States Attorney Office Middle District ...  \n",
       "22   21st Century Oncology LLC , agreed pay $ 19.75...  \n",
       "23   21st Century Oncology Inc. certain subsidiarie...  \n",
       "..                                                 ...  \n",
       "316  Doctor Hid Millions Secret Accounts Panama Ala...  \n",
       "318  Defendant Concealed Bank Accounts Panama Costa...  \n",
       "321  Alaskan couple charged federal court Juneau , ...  \n",
       "322  husband wife pleaded guilty yesterday counts w...  \n",
       "324  resident Big Lake , Alaska indicted counts tax...  \n",
       "\n",
       "[100 rows x 7 columns]"
      ]
     },
     "execution_count": 13,
     "metadata": {},
     "output_type": "execute_result"
    }
   ],
   "source": [
    "df"
   ]
  },
  {
   "cell_type": "code",
   "execution_count": 14,
   "id": "7585056f",
   "metadata": {
    "execution": {
     "iopub.execute_input": "2023-09-02T09:54:35.155965Z",
     "iopub.status.busy": "2023-09-02T09:54:35.155580Z",
     "iopub.status.idle": "2023-09-02T09:54:35.165988Z",
     "shell.execute_reply": "2023-09-02T09:54:35.164601Z"
    },
    "papermill": {
     "duration": 0.023077,
     "end_time": "2023-09-02T09:54:35.168225",
     "exception": false,
     "start_time": "2023-09-02T09:54:35.145148",
     "status": "completed"
    },
    "tags": []
   },
   "outputs": [
    {
     "data": {
      "text/plain": [
       "'The U.S. Department of Justice, the U.S. Environmental Protection Agency (EPA), and the Rhode Island Department of Environmental Management (RIDEM) announced today that two subsidiaries of Stanley Bla'"
      ]
     },
     "execution_count": 14,
     "metadata": {},
     "output_type": "execute_result"
    }
   ],
   "source": [
    "df.contents[4][:200]"
   ]
  },
  {
   "cell_type": "code",
   "execution_count": 15,
   "id": "aec5196d",
   "metadata": {
    "execution": {
     "iopub.execute_input": "2023-09-02T09:54:35.189201Z",
     "iopub.status.busy": "2023-09-02T09:54:35.188837Z",
     "iopub.status.idle": "2023-09-02T09:54:35.196351Z",
     "shell.execute_reply": "2023-09-02T09:54:35.195146Z"
    },
    "papermill": {
     "duration": 0.021161,
     "end_time": "2023-09-02T09:54:35.199470",
     "exception": false,
     "start_time": "2023-09-02T09:54:35.178309",
     "status": "completed"
    },
    "tags": []
   },
   "outputs": [
    {
     "data": {
      "text/plain": [
       "6286"
      ]
     },
     "execution_count": 15,
     "metadata": {},
     "output_type": "execute_result"
    }
   ],
   "source": [
    "len(df.contents[4])"
   ]
  },
  {
   "cell_type": "code",
   "execution_count": 16,
   "id": "14b9d289",
   "metadata": {
    "execution": {
     "iopub.execute_input": "2023-09-02T09:54:35.221060Z",
     "iopub.status.busy": "2023-09-02T09:54:35.220706Z",
     "iopub.status.idle": "2023-09-02T09:54:35.225947Z",
     "shell.execute_reply": "2023-09-02T09:54:35.225328Z"
    },
    "papermill": {
     "duration": 0.017678,
     "end_time": "2023-09-02T09:54:35.227569",
     "exception": false,
     "start_time": "2023-09-02T09:54:35.209891",
     "status": "completed"
    },
    "tags": []
   },
   "outputs": [
    {
     "data": {
      "text/plain": [
       "'U.S. Department Justice , U.S. Environmental Protection Agency ( EPA ) , Rhode Island Department Environmental Management ( RIDEM ) announced today subsidiaries Stanley Black & Decker Inc.—Emhart Indu'"
      ]
     },
     "execution_count": 16,
     "metadata": {},
     "output_type": "execute_result"
    }
   ],
   "source": [
    "df['contents_new'][4][:200]"
   ]
  },
  {
   "cell_type": "code",
   "execution_count": 17,
   "id": "024640b2",
   "metadata": {
    "execution": {
     "iopub.execute_input": "2023-09-02T09:54:35.250134Z",
     "iopub.status.busy": "2023-09-02T09:54:35.249554Z",
     "iopub.status.idle": "2023-09-02T09:54:35.256370Z",
     "shell.execute_reply": "2023-09-02T09:54:35.254902Z"
    },
    "papermill": {
     "duration": 0.020578,
     "end_time": "2023-09-02T09:54:35.258730",
     "exception": false,
     "start_time": "2023-09-02T09:54:35.238152",
     "status": "completed"
    },
    "tags": []
   },
   "outputs": [
    {
     "data": {
      "text/plain": [
       "4810"
      ]
     },
     "execution_count": 17,
     "metadata": {},
     "output_type": "execute_result"
    }
   ],
   "source": [
    "len(df['contents_new'][4])"
   ]
  },
  {
   "cell_type": "code",
   "execution_count": 18,
   "id": "995c00ed",
   "metadata": {
    "execution": {
     "iopub.execute_input": "2023-09-02T09:54:35.280190Z",
     "iopub.status.busy": "2023-09-02T09:54:35.279799Z",
     "iopub.status.idle": "2023-09-02T09:54:35.284822Z",
     "shell.execute_reply": "2023-09-02T09:54:35.283482Z"
    },
    "papermill": {
     "duration": 0.017625,
     "end_time": "2023-09-02T09:54:35.286694",
     "exception": false,
     "start_time": "2023-09-02T09:54:35.269069",
     "status": "completed"
    },
    "tags": []
   },
   "outputs": [],
   "source": [
    "text = '''\n",
    "Thor: Love and Thunder is a 2022 American superhero film based on Marvel Comics featuring the character Thor, produced by Marvel Studios and \n",
    "distributed by Walt Disney Studios Motion Pictures. It is the sequel to Thor: Ragnarok (2017) and the 29th film in the Marvel Cinematic Universe (MCU).\n",
    "The film is directed by Taika Waititi, who co-wrote the script with Jennifer Kaytin Robinson, and stars Chris Hemsworth as Thor alongside Christian Bale, Tessa Thompson,\n",
    "Jaimie Alexander, Waititi, Russell Crowe, and Natalie Portman. In the film, Thor attempts to find inner peace, but must return to action and recruit Valkyrie (Thompson),\n",
    "Korg (Waititi), and Jane Foster (Portman)—who is now the Mighty Thor—to stop Gorr the God Butcher (Bale) from eliminating all gods.\n",
    "'''\n"
   ]
  },
  {
   "cell_type": "code",
   "execution_count": 19,
   "id": "c5cff03f",
   "metadata": {
    "execution": {
     "iopub.execute_input": "2023-09-02T09:54:35.308205Z",
     "iopub.status.busy": "2023-09-02T09:54:35.307824Z",
     "iopub.status.idle": "2023-09-02T09:54:35.340555Z",
     "shell.execute_reply": "2023-09-02T09:54:35.339202Z"
    },
    "papermill": {
     "duration": 0.045539,
     "end_time": "2023-09-02T09:54:35.342496",
     "exception": false,
     "start_time": "2023-09-02T09:54:35.296957",
     "status": "completed"
    },
    "tags": []
   },
   "outputs": [
    {
     "name": "stdout",
     "output_type": "stream",
     "text": [
      "40\n"
     ]
    }
   ],
   "source": [
    "#step1: Create the object 'doc' for the given text using nlp()\n",
    "\n",
    "doc=nlp(text)\n",
    "\n",
    "#step2: define the variables to keep track of stopwords count and total words count\n",
    "\n",
    "stopwords_count=0\n",
    "total_words_count=0\n",
    "\n",
    "#step3: iterate through all the words in the document\n",
    "\n",
    "for token in doc:\n",
    "    if token.is_stop:\n",
    "        stopwords_count=stopwords_count+1\n",
    "    else:\n",
    "        total_words_count=total_words_count+1\n",
    "\n",
    "#step4: print the count of stop words\n",
    "\n",
    "print(stopwords_count)\n"
   ]
  },
  {
   "cell_type": "code",
   "execution_count": 20,
   "id": "fb2b4ae2",
   "metadata": {
    "execution": {
     "iopub.execute_input": "2023-09-02T09:54:35.364188Z",
     "iopub.status.busy": "2023-09-02T09:54:35.363791Z",
     "iopub.status.idle": "2023-09-02T09:54:35.370111Z",
     "shell.execute_reply": "2023-09-02T09:54:35.368566Z"
    },
    "papermill": {
     "duration": 0.020142,
     "end_time": "2023-09-02T09:54:35.372901",
     "exception": false,
     "start_time": "2023-09-02T09:54:35.352759",
     "status": "completed"
    },
    "tags": []
   },
   "outputs": [
    {
     "name": "stdout",
     "output_type": "stream",
     "text": [
      "120\n"
     ]
    }
   ],
   "source": [
    "print(total_words_count)"
   ]
  },
  {
   "cell_type": "code",
   "execution_count": 21,
   "id": "74b739c4",
   "metadata": {
    "execution": {
     "iopub.execute_input": "2023-09-02T09:54:35.395796Z",
     "iopub.status.busy": "2023-09-02T09:54:35.395446Z",
     "iopub.status.idle": "2023-09-02T09:54:35.401021Z",
     "shell.execute_reply": "2023-09-02T09:54:35.399744Z"
    },
    "papermill": {
     "duration": 0.019747,
     "end_time": "2023-09-02T09:54:35.403345",
     "exception": false,
     "start_time": "2023-09-02T09:54:35.383598",
     "status": "completed"
    },
    "tags": []
   },
   "outputs": [
    {
     "name": "stdout",
     "output_type": "stream",
     "text": [
      "stopwords % is  33.33333333333333\n"
     ]
    }
   ],
   "source": [
    "#step5: print the percentage of stop words compared to total words in the text\n",
    "\n",
    "print(\"stopwords % is \",(stopwords_count/total_words_count)*100)"
   ]
  },
  {
   "cell_type": "code",
   "execution_count": 22,
   "id": "15e6bba3",
   "metadata": {
    "execution": {
     "iopub.execute_input": "2023-09-02T09:54:35.424661Z",
     "iopub.status.busy": "2023-09-02T09:54:35.424308Z",
     "iopub.status.idle": "2023-09-02T09:54:35.430648Z",
     "shell.execute_reply": "2023-09-02T09:54:35.428937Z"
    },
    "papermill": {
     "duration": 0.019536,
     "end_time": "2023-09-02T09:54:35.433001",
     "exception": false,
     "start_time": "2023-09-02T09:54:35.413465",
     "status": "completed"
    },
    "tags": []
   },
   "outputs": [],
   "source": [
    "#use this pre-processing function to pass the text and to remove all the stop words and finally get the cleaned fo\n",
    "def focused_text(text):\n",
    "    doc=nlp(text)\n",
    "    no_stop_words=[token.text for token in doc if not token.is_stop]\n",
    "    return \" \".join(no_stop_words)"
   ]
  },
  {
   "cell_type": "code",
   "execution_count": 23,
   "id": "fdef064f",
   "metadata": {
    "execution": {
     "iopub.execute_input": "2023-09-02T09:54:35.454158Z",
     "iopub.status.busy": "2023-09-02T09:54:35.453789Z",
     "iopub.status.idle": "2023-09-02T09:54:35.472211Z",
     "shell.execute_reply": "2023-09-02T09:54:35.470728Z"
    },
    "papermill": {
     "duration": 0.031481,
     "end_time": "2023-09-02T09:54:35.474130",
     "exception": false,
     "start_time": "2023-09-02T09:54:35.442649",
     "status": "completed"
    },
    "tags": []
   },
   "outputs": [
    {
     "name": "stdout",
     "output_type": "stream",
     "text": [
      "good movie\n"
     ]
    }
   ],
   "source": [
    "#Step1: remove the stopword 'not' in spacy\n",
    "\n",
    "nlp.vocab['not'].is_stop =False\n",
    "\n",
    "#step2: send the two texts given above into the pre-process function and store the transformed texts\n",
    "\n",
    "text1=focused_text(\"this is a good movie\")\n",
    "text2=focused_text(\"this is not a good movie\")\n",
    "\n",
    "#step3: finally print those 2 transformed texts\n",
    "\n",
    "print(text1)"
   ]
  },
  {
   "cell_type": "code",
   "execution_count": 24,
   "id": "c03f8206",
   "metadata": {
    "execution": {
     "iopub.execute_input": "2023-09-02T09:54:35.496510Z",
     "iopub.status.busy": "2023-09-02T09:54:35.495594Z",
     "iopub.status.idle": "2023-09-02T09:54:35.501166Z",
     "shell.execute_reply": "2023-09-02T09:54:35.500323Z"
    },
    "papermill": {
     "duration": 0.019465,
     "end_time": "2023-09-02T09:54:35.503387",
     "exception": false,
     "start_time": "2023-09-02T09:54:35.483922",
     "status": "completed"
    },
    "tags": []
   },
   "outputs": [
    {
     "name": "stdout",
     "output_type": "stream",
     "text": [
      "not good movie\n"
     ]
    }
   ],
   "source": [
    "print(text2)"
   ]
  },
  {
   "cell_type": "code",
   "execution_count": 25,
   "id": "1343c2e8",
   "metadata": {
    "execution": {
     "iopub.execute_input": "2023-09-02T09:54:35.525381Z",
     "iopub.status.busy": "2023-09-02T09:54:35.525035Z",
     "iopub.status.idle": "2023-09-02T09:54:35.531236Z",
     "shell.execute_reply": "2023-09-02T09:54:35.529827Z"
    },
    "papermill": {
     "duration": 0.020407,
     "end_time": "2023-09-02T09:54:35.534034",
     "exception": false,
     "start_time": "2023-09-02T09:54:35.513627",
     "status": "completed"
    },
    "tags": []
   },
   "outputs": [],
   "source": [
    "text = ''' The name \"Nepal\" is first recorded in texts from the Vedic period of the Indian subcontinent, the era in ancient Nepal when Hinduism was founded, the predominant religion of the country. In the middle of the first millennium BC, Gautama Buddha, the founder of Buddhism, was born in Lumbini in southern Nepal. Parts of northern Nepal were intertwined with the culture of Tibet. The centrally located Kathmandu Valley is intertwined with the culture of Indo-Aryans, and was the seat of the prosperous Newar confederacy known as Nepal Mandala. The Himalayan branch of the ancient Silk Road was dominated by the valley's traders. The cosmopolitan region developed distinct traditional art and architecture. By the 18th century, the Gorkha Kingdom achieved the unification of Nepal. The Shah dynasty established the Kingdom of Nepal and later formed an alliance with the British Empire, under its Rana dynasty of premiers. The country was never colonised but served as a buffer state between Imperial China and British India. Parliamentary democracy was introduced in 1951 but was twice suspended by Nepalese monarchs, in 1960 and 2005. The Nepalese Civil War in the 1990s and early 2000s resulted in the establishment of a secular republic in 2008, ending the world's last Hindu monarchy.\n",
    "\n",
    "The Constitution of Nepal, adopted in 2015, affirms the country as a secular federal parliamentary republic divided into seven provinces. Nepal was admitted to the United Nations in 1955, and friendship treaties were signed with India in 1950 and China in 1960. Nepal hosts the permanent secretariat of the South Asian Association for Regional Cooperation (SAARC), of which it is a founding member. Nepal is also a member of the Non-Aligned Movement and the Bay of Bengal Initiative. The Nepalese Armed Forces are the fifth-largest in South Asia; and are notable for their Gurkha history, particularly during the world wars, and has been a significant contributor to United Nations peacekeeping operations.\n",
    "'''"
   ]
  },
  {
   "cell_type": "code",
   "execution_count": 26,
   "id": "d659ee12",
   "metadata": {
    "execution": {
     "iopub.execute_input": "2023-09-02T09:54:35.556302Z",
     "iopub.status.busy": "2023-09-02T09:54:35.555946Z",
     "iopub.status.idle": "2023-09-02T09:54:35.619740Z",
     "shell.execute_reply": "2023-09-02T09:54:35.618375Z"
    },
    "papermill": {
     "duration": 0.077174,
     "end_time": "2023-09-02T09:54:35.622138",
     "exception": false,
     "start_time": "2023-09-02T09:54:35.544964",
     "status": "completed"
    },
    "tags": []
   },
   "outputs": [],
   "source": [
    "\n",
    "#step1: Create the object 'doc' for the given text using nlp()\n",
    "\n",
    "doc=nlp(text)\n",
    "\n",
    "#step2: remove all the stop words and punctuations and store all the remaining tokens in a new list\n",
    "\n",
    "new_words=[]\n",
    "for token in doc:\n",
    "    if token.is_stop or token.is_punct:\n",
    "        result=token.text\n",
    "        new_words.append(result)"
   ]
  },
  {
   "cell_type": "code",
   "execution_count": 27,
   "id": "ecdd6ba6",
   "metadata": {
    "execution": {
     "iopub.execute_input": "2023-09-02T09:54:35.692903Z",
     "iopub.status.busy": "2023-09-02T09:54:35.692545Z",
     "iopub.status.idle": "2023-09-02T09:54:35.701105Z",
     "shell.execute_reply": "2023-09-02T09:54:35.700174Z"
    },
    "papermill": {
     "duration": 0.022047,
     "end_time": "2023-09-02T09:54:35.703046",
     "exception": false,
     "start_time": "2023-09-02T09:54:35.680999",
     "status": "completed"
    },
    "tags": []
   },
   "outputs": [
    {
     "data": {
      "text/plain": [
       "['The',\n",
       " 'name',\n",
       " '\"',\n",
       " '\"',\n",
       " 'is',\n",
       " 'first',\n",
       " 'in',\n",
       " 'from',\n",
       " 'the',\n",
       " 'of',\n",
       " 'the',\n",
       " ',',\n",
       " 'the',\n",
       " 'in',\n",
       " 'when',\n",
       " 'was',\n",
       " ',',\n",
       " 'the',\n",
       " 'of',\n",
       " 'the',\n",
       " '.',\n",
       " 'In',\n",
       " 'the',\n",
       " 'of',\n",
       " 'the',\n",
       " 'first',\n",
       " ',',\n",
       " ',',\n",
       " 'the',\n",
       " 'of',\n",
       " ',',\n",
       " 'was',\n",
       " 'in',\n",
       " 'in',\n",
       " '.',\n",
       " 'of',\n",
       " 'were',\n",
       " 'with',\n",
       " 'the',\n",
       " 'of',\n",
       " '.',\n",
       " 'The',\n",
       " 'is',\n",
       " 'with',\n",
       " 'the',\n",
       " 'of',\n",
       " '-',\n",
       " ',',\n",
       " 'and',\n",
       " 'was',\n",
       " 'the',\n",
       " 'of',\n",
       " 'the',\n",
       " 'as',\n",
       " '.',\n",
       " 'The',\n",
       " 'of',\n",
       " 'the',\n",
       " 'was',\n",
       " 'by',\n",
       " 'the',\n",
       " \"'s\",\n",
       " '.',\n",
       " 'The',\n",
       " 'and',\n",
       " '.',\n",
       " 'By',\n",
       " 'the',\n",
       " ',',\n",
       " 'the',\n",
       " 'the',\n",
       " 'of',\n",
       " '.',\n",
       " 'The',\n",
       " 'the',\n",
       " 'of',\n",
       " 'and',\n",
       " 'an',\n",
       " 'with',\n",
       " 'the',\n",
       " ',',\n",
       " 'under',\n",
       " 'its',\n",
       " 'of',\n",
       " '.',\n",
       " 'The',\n",
       " 'was',\n",
       " 'never',\n",
       " 'but',\n",
       " 'as',\n",
       " 'a',\n",
       " 'between',\n",
       " 'and',\n",
       " '.',\n",
       " 'was',\n",
       " 'in',\n",
       " 'but',\n",
       " 'was',\n",
       " 'by',\n",
       " ',',\n",
       " 'in',\n",
       " 'and',\n",
       " '.',\n",
       " 'The',\n",
       " 'in',\n",
       " 'the',\n",
       " 'and',\n",
       " 'in',\n",
       " 'the',\n",
       " 'of',\n",
       " 'a',\n",
       " 'in',\n",
       " ',',\n",
       " 'the',\n",
       " \"'s\",\n",
       " 'last',\n",
       " '.',\n",
       " 'The',\n",
       " 'of',\n",
       " ',',\n",
       " 'in',\n",
       " ',',\n",
       " 'the',\n",
       " 'as',\n",
       " 'a',\n",
       " 'into',\n",
       " '.',\n",
       " 'was',\n",
       " 'to',\n",
       " 'the',\n",
       " 'in',\n",
       " ',',\n",
       " 'and',\n",
       " 'were',\n",
       " 'with',\n",
       " 'in',\n",
       " 'and',\n",
       " 'in',\n",
       " '.',\n",
       " 'the',\n",
       " 'of',\n",
       " 'the',\n",
       " 'for',\n",
       " '(',\n",
       " ')',\n",
       " ',',\n",
       " 'of',\n",
       " 'which',\n",
       " 'it',\n",
       " 'is',\n",
       " 'a',\n",
       " '.',\n",
       " 'is',\n",
       " 'also',\n",
       " 'a',\n",
       " 'of',\n",
       " 'the',\n",
       " '-',\n",
       " 'and',\n",
       " 'the',\n",
       " 'of',\n",
       " '.',\n",
       " 'The',\n",
       " 'are',\n",
       " 'the',\n",
       " '-',\n",
       " 'in',\n",
       " ';',\n",
       " 'and',\n",
       " 'are',\n",
       " 'for',\n",
       " 'their',\n",
       " ',',\n",
       " 'during',\n",
       " 'the',\n",
       " ',',\n",
       " 'and',\n",
       " 'has',\n",
       " 'been',\n",
       " 'a',\n",
       " 'to',\n",
       " '.']"
      ]
     },
     "execution_count": 27,
     "metadata": {},
     "output_type": "execute_result"
    }
   ],
   "source": [
    "new_words"
   ]
  },
  {
   "cell_type": "code",
   "execution_count": 28,
   "id": "d5ca30aa",
   "metadata": {
    "execution": {
     "iopub.execute_input": "2023-09-02T09:54:35.725599Z",
     "iopub.status.busy": "2023-09-02T09:54:35.725228Z",
     "iopub.status.idle": "2023-09-02T09:54:35.730744Z",
     "shell.execute_reply": "2023-09-02T09:54:35.729716Z"
    },
    "papermill": {
     "duration": 0.019492,
     "end_time": "2023-09-02T09:54:35.733123",
     "exception": false,
     "start_time": "2023-09-02T09:54:35.713631",
     "status": "completed"
    },
    "tags": []
   },
   "outputs": [],
   "source": [
    "#step3: create a new dictionary and get the frequency of words by iterating through the list which contains stored \n",
    "\n",
    "frequency_tokens = {}\n",
    "for token in new_words:\n",
    "  if token != '\\n' and token != ' ':      #As spacy considers new line and empty spaces as seperate token, it's better to ignore them\n",
    "    if token not in frequency_tokens:     #if a particular token occurs for the first time, we initialise it to 1\n",
    "      frequency_tokens[token] = 1\n",
    "    else:\n",
    "      frequency_tokens[token] += 1 "
   ]
  },
  {
   "cell_type": "code",
   "execution_count": 29,
   "id": "d13c4749",
   "metadata": {
    "execution": {
     "iopub.execute_input": "2023-09-02T09:54:35.756622Z",
     "iopub.status.busy": "2023-09-02T09:54:35.756245Z",
     "iopub.status.idle": "2023-09-02T09:54:35.762292Z",
     "shell.execute_reply": "2023-09-02T09:54:35.761031Z"
    },
    "papermill": {
     "duration": 0.021239,
     "end_time": "2023-09-02T09:54:35.764831",
     "exception": false,
     "start_time": "2023-09-02T09:54:35.743592",
     "status": "completed"
    },
    "tags": []
   },
   "outputs": [
    {
     "name": "stdout",
     "output_type": "stream",
     "text": [
      "the\n"
     ]
    }
   ],
   "source": [
    "#step4: get the maximum frequency word\n",
    "\n",
    "print(max(frequency_tokens.keys(), key=(lambda key: frequency_tokens[key])))"
   ]
  },
  {
   "cell_type": "code",
   "execution_count": null,
   "id": "75a51965",
   "metadata": {
    "papermill": {
     "duration": 0.009908,
     "end_time": "2023-09-02T09:54:35.785365",
     "exception": false,
     "start_time": "2023-09-02T09:54:35.775457",
     "status": "completed"
    },
    "tags": []
   },
   "outputs": [],
   "source": []
  }
 ],
 "kernelspec": {
  "display_name": "Python 3",
  "language": "python",
  "name": "python3"
 },
 "language_info": {
  "codemirror_mode": {
   "name": "ipython",
   "version": 3
  },
  "file_extension": ".py",
  "mimetype": "text/x-python",
  "name": "python",
  "nbconvert_exporter": "python",
  "pygments_lexer": "ipython3",
  "version": "3.6.4"
 },
 "metadata": {
  "kernelspec": {
   "display_name": "Python 3",
   "language": "python",
   "name": "python3"
  },
  "language_info": {
   "codemirror_mode": {
    "name": "ipython",
    "version": 3
   },
   "file_extension": ".py",
   "mimetype": "text/x-python",
   "name": "python",
   "nbconvert_exporter": "python",
   "pygments_lexer": "ipython3",
   "version": "3.10.12"
  },
  "papermill": {
   "default_parameters": {},
   "duration": 34.205846,
   "end_time": "2023-09-02T09:54:38.525982",
   "environment_variables": {},
   "exception": null,
   "input_path": "__notebook__.ipynb",
   "output_path": "__notebook__.ipynb",
   "parameters": {},
   "start_time": "2023-09-02T09:54:04.320136",
   "version": "2.4.0"
  }
 },
 "nbformat": 4,
 "nbformat_minor": 5
}
