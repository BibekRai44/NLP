{
 "cells": [
  {
   "cell_type": "code",
   "execution_count": 1,
   "id": "8c41b794",
   "metadata": {
    "_cell_guid": "b1076dfc-b9ad-4769-8c92-a6c4dae69d19",
    "_uuid": "8f2839f25d086af736a60e9eeb907d3b93b6e0e5",
    "execution": {
     "iopub.execute_input": "2023-09-04T07:53:50.559850Z",
     "iopub.status.busy": "2023-09-04T07:53:50.559517Z",
     "iopub.status.idle": "2023-09-04T07:54:05.560890Z",
     "shell.execute_reply": "2023-09-04T07:54:05.559513Z"
    },
    "papermill": {
     "duration": 15.016999,
     "end_time": "2023-09-04T07:54:05.563452",
     "exception": false,
     "start_time": "2023-09-04T07:53:50.546453",
     "status": "completed"
    },
    "tags": []
   },
   "outputs": [],
   "source": [
    "import spacy"
   ]
  },
  {
   "cell_type": "code",
   "execution_count": 2,
   "id": "d7b7a9bd",
   "metadata": {
    "execution": {
     "iopub.execute_input": "2023-09-04T07:54:05.588099Z",
     "iopub.status.busy": "2023-09-04T07:54:05.587336Z",
     "iopub.status.idle": "2023-09-04T07:54:06.418542Z",
     "shell.execute_reply": "2023-09-04T07:54:06.417505Z"
    },
    "papermill": {
     "duration": 0.846004,
     "end_time": "2023-09-04T07:54:06.420346",
     "exception": false,
     "start_time": "2023-09-04T07:54:05.574342",
     "status": "completed"
    },
    "tags": []
   },
   "outputs": [
    {
     "data": {
      "text/plain": [
       "{'nepal': 12,\n",
       " 'has': 9,\n",
       " 'consistently': 4,\n",
       " 'been': 3,\n",
       " 'ranked': 18,\n",
       " 'as': 1,\n",
       " 'one': 14,\n",
       " 'of': 13,\n",
       " 'the': 20,\n",
       " 'poorest': 16,\n",
       " 'countries': 5,\n",
       " 'in': 10,\n",
       " 'world': 23,\n",
       " 'used': 22,\n",
       " 'series': 19,\n",
       " 'five': 8,\n",
       " 'year': 24,\n",
       " 'plans': 15,\n",
       " 'an': 0,\n",
       " 'attempt': 2,\n",
       " 'to': 21,\n",
       " 'make': 11,\n",
       " 'progress': 17,\n",
       " 'economic': 7,\n",
       " 'development': 6}"
      ]
     },
     "execution_count": 2,
     "metadata": {},
     "output_type": "execute_result"
    }
   ],
   "source": [
    "import sklearn\n",
    "from sklearn.feature_extraction.text import CountVectorizer\n",
    "model=CountVectorizer()\n",
    "model.fit([\"Nepal has consistently been ranked as one of the poorest countries in the world. Nepal has used a series of five-year plans in an attempt to make progress in economic development.\"])\n",
    "model.vocabulary_"
   ]
  },
  {
   "cell_type": "code",
   "execution_count": 3,
   "id": "8bfdae1b",
   "metadata": {
    "execution": {
     "iopub.execute_input": "2023-09-04T07:54:06.443498Z",
     "iopub.status.busy": "2023-09-04T07:54:06.443116Z",
     "iopub.status.idle": "2023-09-04T07:54:06.452640Z",
     "shell.execute_reply": "2023-09-04T07:54:06.451596Z"
    },
    "papermill": {
     "duration": 0.023235,
     "end_time": "2023-09-04T07:54:06.454497",
     "exception": false,
     "start_time": "2023-09-04T07:54:06.431262",
     "status": "completed"
    },
    "tags": []
   },
   "outputs": [
    {
     "data": {
      "text/plain": [
       "{'nepal': 26,\n",
       " 'has': 17,\n",
       " 'consistently': 8,\n",
       " 'been': 6,\n",
       " 'ranked': 39,\n",
       " 'as': 2,\n",
       " 'one': 31,\n",
       " 'of': 28,\n",
       " 'the': 43,\n",
       " 'poorest': 35,\n",
       " 'countries': 10,\n",
       " 'in': 20,\n",
       " 'world': 50,\n",
       " 'used': 48,\n",
       " 'series': 41,\n",
       " 'five': 15,\n",
       " 'year': 52,\n",
       " 'plans': 33,\n",
       " 'an': 0,\n",
       " 'attempt': 4,\n",
       " 'to': 46,\n",
       " 'make': 24,\n",
       " 'progress': 37,\n",
       " 'economic': 13,\n",
       " 'development': 12,\n",
       " 'nepal has': 27,\n",
       " 'has consistently': 18,\n",
       " 'consistently been': 9,\n",
       " 'been ranked': 7,\n",
       " 'ranked as': 40,\n",
       " 'as one': 3,\n",
       " 'one of': 32,\n",
       " 'of the': 30,\n",
       " 'the poorest': 44,\n",
       " 'poorest countries': 36,\n",
       " 'countries in': 11,\n",
       " 'in the': 23,\n",
       " 'the world': 45,\n",
       " 'world nepal': 51,\n",
       " 'has used': 19,\n",
       " 'used series': 49,\n",
       " 'series of': 42,\n",
       " 'of five': 29,\n",
       " 'five year': 16,\n",
       " 'year plans': 53,\n",
       " 'plans in': 34,\n",
       " 'in an': 21,\n",
       " 'an attempt': 1,\n",
       " 'attempt to': 5,\n",
       " 'to make': 47,\n",
       " 'make progress': 25,\n",
       " 'progress in': 38,\n",
       " 'in economic': 22,\n",
       " 'economic development': 14}"
      ]
     },
     "execution_count": 3,
     "metadata": {},
     "output_type": "execute_result"
    }
   ],
   "source": [
    "model=CountVectorizer(ngram_range=(1,2))\n",
    "model.fit([\"Nepal has consistently been ranked as one of the poorest countries in the world. Nepal has used a series of five-year plans in an attempt to make progress in economic development.\"])\n",
    "model.vocabulary_"
   ]
  },
  {
   "cell_type": "code",
   "execution_count": 4,
   "id": "0e4d1a2c",
   "metadata": {
    "execution": {
     "iopub.execute_input": "2023-09-04T07:54:06.478564Z",
     "iopub.status.busy": "2023-09-04T07:54:06.478196Z",
     "iopub.status.idle": "2023-09-04T07:54:06.488410Z",
     "shell.execute_reply": "2023-09-04T07:54:06.487480Z"
    },
    "papermill": {
     "duration": 0.024434,
     "end_time": "2023-09-04T07:54:06.490193",
     "exception": false,
     "start_time": "2023-09-04T07:54:06.465759",
     "status": "completed"
    },
    "tags": []
   },
   "outputs": [
    {
     "data": {
      "text/plain": [
       "{'nepal': 39,\n",
       " 'has': 24,\n",
       " 'consistently': 12,\n",
       " 'been': 9,\n",
       " 'ranked': 60,\n",
       " 'as': 3,\n",
       " 'one': 48,\n",
       " 'of': 43,\n",
       " 'the': 66,\n",
       " 'poorest': 54,\n",
       " 'countries': 15,\n",
       " 'in': 29,\n",
       " 'world': 77,\n",
       " 'used': 74,\n",
       " 'series': 63,\n",
       " 'five': 21,\n",
       " 'year': 80,\n",
       " 'plans': 51,\n",
       " 'an': 0,\n",
       " 'attempt': 6,\n",
       " 'to': 71,\n",
       " 'make': 36,\n",
       " 'progress': 57,\n",
       " 'economic': 19,\n",
       " 'development': 18,\n",
       " 'nepal has': 40,\n",
       " 'has consistently': 25,\n",
       " 'consistently been': 13,\n",
       " 'been ranked': 10,\n",
       " 'ranked as': 61,\n",
       " 'as one': 4,\n",
       " 'one of': 49,\n",
       " 'of the': 46,\n",
       " 'the poorest': 67,\n",
       " 'poorest countries': 55,\n",
       " 'countries in': 16,\n",
       " 'in the': 34,\n",
       " 'the world': 69,\n",
       " 'world nepal': 78,\n",
       " 'has used': 27,\n",
       " 'used series': 75,\n",
       " 'series of': 64,\n",
       " 'of five': 44,\n",
       " 'five year': 22,\n",
       " 'year plans': 81,\n",
       " 'plans in': 52,\n",
       " 'in an': 30,\n",
       " 'an attempt': 1,\n",
       " 'attempt to': 7,\n",
       " 'to make': 72,\n",
       " 'make progress': 37,\n",
       " 'progress in': 58,\n",
       " 'in economic': 32,\n",
       " 'economic development': 20,\n",
       " 'nepal has consistently': 41,\n",
       " 'has consistently been': 26,\n",
       " 'consistently been ranked': 14,\n",
       " 'been ranked as': 11,\n",
       " 'ranked as one': 62,\n",
       " 'as one of': 5,\n",
       " 'one of the': 50,\n",
       " 'of the poorest': 47,\n",
       " 'the poorest countries': 68,\n",
       " 'poorest countries in': 56,\n",
       " 'countries in the': 17,\n",
       " 'in the world': 35,\n",
       " 'the world nepal': 70,\n",
       " 'world nepal has': 79,\n",
       " 'nepal has used': 42,\n",
       " 'has used series': 28,\n",
       " 'used series of': 76,\n",
       " 'series of five': 65,\n",
       " 'of five year': 45,\n",
       " 'five year plans': 23,\n",
       " 'year plans in': 82,\n",
       " 'plans in an': 53,\n",
       " 'in an attempt': 31,\n",
       " 'an attempt to': 2,\n",
       " 'attempt to make': 8,\n",
       " 'to make progress': 73,\n",
       " 'make progress in': 38,\n",
       " 'progress in economic': 59,\n",
       " 'in economic development': 33}"
      ]
     },
     "execution_count": 4,
     "metadata": {},
     "output_type": "execute_result"
    }
   ],
   "source": [
    "model=CountVectorizer(ngram_range=(1,3))\n",
    "model.fit([\"Nepal has consistently been ranked as one of the poorest countries in the world. Nepal has used a series of five-year plans in an attempt to make progress in economic development.\"])\n",
    "model.vocabulary_"
   ]
  },
  {
   "cell_type": "code",
   "execution_count": 5,
   "id": "06061dc5",
   "metadata": {
    "execution": {
     "iopub.execute_input": "2023-09-04T07:54:06.513760Z",
     "iopub.status.busy": "2023-09-04T07:54:06.513416Z",
     "iopub.status.idle": "2023-09-04T07:54:07.372301Z",
     "shell.execute_reply": "2023-09-04T07:54:07.370506Z"
    },
    "papermill": {
     "duration": 0.873784,
     "end_time": "2023-09-04T07:54:07.375046",
     "exception": false,
     "start_time": "2023-09-04T07:54:06.501262",
     "status": "completed"
    },
    "tags": []
   },
   "outputs": [],
   "source": [
    "nlp=spacy.load(\"en_core_web_sm\")\n",
    "def filtered_words(text):\n",
    "    filtered_text=[]\n",
    "    doc=nlp(text)\n",
    "    for token in doc:\n",
    "        if token.is_stop or token.is_punct:\n",
    "            continue\n",
    "        filtered_text.append(token.lemma_)\n",
    "    return \" \".join(filtered_text)"
   ]
  },
  {
   "cell_type": "code",
   "execution_count": 6,
   "id": "9554447f",
   "metadata": {
    "execution": {
     "iopub.execute_input": "2023-09-04T07:54:07.403970Z",
     "iopub.status.busy": "2023-09-04T07:54:07.403614Z",
     "iopub.status.idle": "2023-09-04T07:54:07.431896Z",
     "shell.execute_reply": "2023-09-04T07:54:07.430947Z"
    },
    "papermill": {
     "duration": 0.04373,
     "end_time": "2023-09-04T07:54:07.434246",
     "exception": false,
     "start_time": "2023-09-04T07:54:07.390516",
     "status": "completed"
    },
    "tags": []
   },
   "outputs": [
    {
     "data": {
      "text/plain": [
       "'Nepal have corruption problem'"
      ]
     },
     "execution_count": 6,
     "metadata": {},
     "output_type": "execute_result"
    }
   ],
   "source": [
    "filtered_words(\"Nepal is having many corruption problem.\")"
   ]
  },
  {
   "cell_type": "code",
   "execution_count": 7,
   "id": "8c2b2a70",
   "metadata": {
    "execution": {
     "iopub.execute_input": "2023-09-04T07:54:07.461650Z",
     "iopub.status.busy": "2023-09-04T07:54:07.460631Z",
     "iopub.status.idle": "2023-09-04T07:54:07.476345Z",
     "shell.execute_reply": "2023-09-04T07:54:07.475370Z"
    },
    "papermill": {
     "duration": 0.032582,
     "end_time": "2023-09-04T07:54:07.478602",
     "exception": false,
     "start_time": "2023-09-04T07:54:07.446020",
     "status": "completed"
    },
    "tags": []
   },
   "outputs": [
    {
     "data": {
      "text/plain": [
       "'Loki eat pizza'"
      ]
     },
     "execution_count": 7,
     "metadata": {},
     "output_type": "execute_result"
    }
   ],
   "source": [
    "filtered_words(\"Loki is eating pizza\")"
   ]
  },
  {
   "cell_type": "code",
   "execution_count": 8,
   "id": "ec60a829",
   "metadata": {
    "execution": {
     "iopub.execute_input": "2023-09-04T07:54:07.510423Z",
     "iopub.status.busy": "2023-09-04T07:54:07.509714Z",
     "iopub.status.idle": "2023-09-04T07:54:07.517857Z",
     "shell.execute_reply": "2023-09-04T07:54:07.516907Z"
    },
    "papermill": {
     "duration": 0.027132,
     "end_time": "2023-09-04T07:54:07.519802",
     "exception": false,
     "start_time": "2023-09-04T07:54:07.492670",
     "status": "completed"
    },
    "tags": []
   },
   "outputs": [
    {
     "data": {
      "text/plain": [
       "array([[0, 0, 0, 0, 0, 0, 0, 0, 0, 0, 0, 0, 0, 0, 0, 0, 0, 0, 0, 0, 0, 0,\n",
       "        0, 0, 0, 0, 0, 0, 0, 0, 0, 0, 0, 0, 0, 0, 0, 0, 0, 1, 0, 0, 0, 0,\n",
       "        0, 0, 0, 0, 0, 0, 0, 0, 0, 0, 0, 0, 0, 0, 0, 0, 0, 0, 0, 0, 0, 0,\n",
       "        0, 0, 0, 0, 0, 0, 0, 0, 0, 0, 0, 0, 0, 0, 0, 0, 0]])"
      ]
     },
     "execution_count": 8,
     "metadata": {},
     "output_type": "execute_result"
    }
   ],
   "source": [
    "model.transform([\"Nepal is having many corruption problem.\"]).toarray()"
   ]
  },
  {
   "cell_type": "code",
   "execution_count": 9,
   "id": "b0a82ae9",
   "metadata": {
    "execution": {
     "iopub.execute_input": "2023-09-04T07:54:07.546612Z",
     "iopub.status.busy": "2023-09-04T07:54:07.545428Z",
     "iopub.status.idle": "2023-09-04T07:54:07.641796Z",
     "shell.execute_reply": "2023-09-04T07:54:07.640822Z"
    },
    "papermill": {
     "duration": 0.111991,
     "end_time": "2023-09-04T07:54:07.643837",
     "exception": false,
     "start_time": "2023-09-04T07:54:07.531846",
     "status": "completed"
    },
    "tags": []
   },
   "outputs": [
    {
     "data": {
      "text/html": [
       "<div>\n",
       "<style scoped>\n",
       "    .dataframe tbody tr th:only-of-type {\n",
       "        vertical-align: middle;\n",
       "    }\n",
       "\n",
       "    .dataframe tbody tr th {\n",
       "        vertical-align: top;\n",
       "    }\n",
       "\n",
       "    .dataframe thead th {\n",
       "        text-align: right;\n",
       "    }\n",
       "</style>\n",
       "<table border=\"1\" class=\"dataframe\">\n",
       "  <thead>\n",
       "    <tr style=\"text-align: right;\">\n",
       "      <th></th>\n",
       "      <th>text</th>\n",
       "      <th>category</th>\n",
       "    </tr>\n",
       "  </thead>\n",
       "  <tbody>\n",
       "    <tr>\n",
       "      <th>0</th>\n",
       "      <td>Watching Schrödinger's Cat Die University of C...</td>\n",
       "      <td>SCIENCE</td>\n",
       "    </tr>\n",
       "    <tr>\n",
       "      <th>1</th>\n",
       "      <td>WATCH: Freaky Vortex Opens Up In Flooded Lake</td>\n",
       "      <td>SCIENCE</td>\n",
       "    </tr>\n",
       "    <tr>\n",
       "      <th>2</th>\n",
       "      <td>Entrepreneurs Today Don't Need a Big Budget to...</td>\n",
       "      <td>BUSINESS</td>\n",
       "    </tr>\n",
       "    <tr>\n",
       "      <th>3</th>\n",
       "      <td>These Roads Could Recharge Your Electric Car A...</td>\n",
       "      <td>BUSINESS</td>\n",
       "    </tr>\n",
       "    <tr>\n",
       "      <th>4</th>\n",
       "      <td>Civilian 'Guard' Fires Gun While 'Protecting' ...</td>\n",
       "      <td>CRIME</td>\n",
       "    </tr>\n",
       "  </tbody>\n",
       "</table>\n",
       "</div>"
      ],
      "text/plain": [
       "                                                text  category\n",
       "0  Watching Schrödinger's Cat Die University of C...   SCIENCE\n",
       "1     WATCH: Freaky Vortex Opens Up In Flooded Lake    SCIENCE\n",
       "2  Entrepreneurs Today Don't Need a Big Budget to...  BUSINESS\n",
       "3  These Roads Could Recharge Your Electric Car A...  BUSINESS\n",
       "4  Civilian 'Guard' Fires Gun While 'Protecting' ...     CRIME"
      ]
     },
     "execution_count": 9,
     "metadata": {},
     "output_type": "execute_result"
    }
   ],
   "source": [
    "import pandas as pd\n",
    "df=pd.read_json(\"/kaggle/input/json-dataset2/news_dataset.json\")\n",
    "df.head()"
   ]
  },
  {
   "cell_type": "code",
   "execution_count": 10,
   "id": "361b8a4e",
   "metadata": {
    "execution": {
     "iopub.execute_input": "2023-09-04T07:54:07.669858Z",
     "iopub.status.busy": "2023-09-04T07:54:07.669495Z",
     "iopub.status.idle": "2023-09-04T07:54:07.675253Z",
     "shell.execute_reply": "2023-09-04T07:54:07.674411Z"
    },
    "papermill": {
     "duration": 0.02117,
     "end_time": "2023-09-04T07:54:07.677413",
     "exception": false,
     "start_time": "2023-09-04T07:54:07.656243",
     "status": "completed"
    },
    "tags": []
   },
   "outputs": [
    {
     "data": {
      "text/plain": [
       "(12695, 2)"
      ]
     },
     "execution_count": 10,
     "metadata": {},
     "output_type": "execute_result"
    }
   ],
   "source": [
    "df.shape"
   ]
  },
  {
   "cell_type": "code",
   "execution_count": 11,
   "id": "e9dbc4cf",
   "metadata": {
    "execution": {
     "iopub.execute_input": "2023-09-04T07:54:07.704208Z",
     "iopub.status.busy": "2023-09-04T07:54:07.702981Z",
     "iopub.status.idle": "2023-09-04T07:54:07.710938Z",
     "shell.execute_reply": "2023-09-04T07:54:07.710031Z"
    },
    "papermill": {
     "duration": 0.023219,
     "end_time": "2023-09-04T07:54:07.712846",
     "exception": false,
     "start_time": "2023-09-04T07:54:07.689627",
     "status": "completed"
    },
    "tags": []
   },
   "outputs": [
    {
     "data": {
      "text/plain": [
       "Index(['text', 'category'], dtype='object')"
      ]
     },
     "execution_count": 11,
     "metadata": {},
     "output_type": "execute_result"
    }
   ],
   "source": [
    "df.columns"
   ]
  },
  {
   "cell_type": "code",
   "execution_count": 12,
   "id": "6b150dcc",
   "metadata": {
    "execution": {
     "iopub.execute_input": "2023-09-04T07:54:07.801105Z",
     "iopub.status.busy": "2023-09-04T07:54:07.799553Z",
     "iopub.status.idle": "2023-09-04T07:54:07.815131Z",
     "shell.execute_reply": "2023-09-04T07:54:07.813980Z"
    },
    "papermill": {
     "duration": 0.092627,
     "end_time": "2023-09-04T07:54:07.817822",
     "exception": false,
     "start_time": "2023-09-04T07:54:07.725195",
     "status": "completed"
    },
    "tags": []
   },
   "outputs": [
    {
     "data": {
      "text/plain": [
       "text        1\n",
       "category    1\n",
       "Name: count, dtype: int64"
      ]
     },
     "execution_count": 12,
     "metadata": {},
     "output_type": "execute_result"
    }
   ],
   "source": [
    "df.columns.value_counts()"
   ]
  },
  {
   "cell_type": "code",
   "execution_count": 13,
   "id": "0da22495",
   "metadata": {
    "execution": {
     "iopub.execute_input": "2023-09-04T07:54:07.844894Z",
     "iopub.status.busy": "2023-09-04T07:54:07.844537Z",
     "iopub.status.idle": "2023-09-04T07:54:07.854460Z",
     "shell.execute_reply": "2023-09-04T07:54:07.853223Z"
    },
    "papermill": {
     "duration": 0.026504,
     "end_time": "2023-09-04T07:54:07.857072",
     "exception": false,
     "start_time": "2023-09-04T07:54:07.830568",
     "status": "completed"
    },
    "tags": []
   },
   "outputs": [
    {
     "data": {
      "text/plain": [
       "category\n",
       "BUSINESS    4254\n",
       "SPORTS      4167\n",
       "CRIME       2893\n",
       "SCIENCE     1381\n",
       "Name: count, dtype: int64"
      ]
     },
     "execution_count": 13,
     "metadata": {},
     "output_type": "execute_result"
    }
   ],
   "source": [
    "df.category.value_counts()"
   ]
  },
  {
   "cell_type": "code",
   "execution_count": 14,
   "id": "1dcc5488",
   "metadata": {
    "execution": {
     "iopub.execute_input": "2023-09-04T07:54:07.885510Z",
     "iopub.status.busy": "2023-09-04T07:54:07.885104Z",
     "iopub.status.idle": "2023-09-04T07:54:07.903685Z",
     "shell.execute_reply": "2023-09-04T07:54:07.902724Z"
    },
    "papermill": {
     "duration": 0.034945,
     "end_time": "2023-09-04T07:54:07.905873",
     "exception": false,
     "start_time": "2023-09-04T07:54:07.870928",
     "status": "completed"
    },
    "tags": []
   },
   "outputs": [],
   "source": [
    "min_samples=1381\n",
    "df_business=df[df['category']==\"BUSINESS\"].sample(min_samples,random_state=42)\n",
    "df_sports=df[df['category']==\"SPORTS\"].sample(min_samples,random_state=42)\n",
    "df_crime=df[df['category']==\"CRIME\"].sample(min_samples,random_state=42)\n",
    "df_science=df[df['category']==\"SCIENCE\"].sample(min_samples,random_state=42)"
   ]
  },
  {
   "cell_type": "code",
   "execution_count": 15,
   "id": "26d604f6",
   "metadata": {
    "execution": {
     "iopub.execute_input": "2023-09-04T07:54:07.932417Z",
     "iopub.status.busy": "2023-09-04T07:54:07.932046Z",
     "iopub.status.idle": "2023-09-04T07:54:07.938153Z",
     "shell.execute_reply": "2023-09-04T07:54:07.936709Z"
    },
    "papermill": {
     "duration": 0.021952,
     "end_time": "2023-09-04T07:54:07.940192",
     "exception": false,
     "start_time": "2023-09-04T07:54:07.918240",
     "status": "completed"
    },
    "tags": []
   },
   "outputs": [],
   "source": [
    "df_balanced=pd.concat([df_business,df_sports,df_crime,df_science],axis=0)"
   ]
  },
  {
   "cell_type": "code",
   "execution_count": 16,
   "id": "0d6f7fd6",
   "metadata": {
    "execution": {
     "iopub.execute_input": "2023-09-04T07:54:07.967724Z",
     "iopub.status.busy": "2023-09-04T07:54:07.967367Z",
     "iopub.status.idle": "2023-09-04T07:54:07.977026Z",
     "shell.execute_reply": "2023-09-04T07:54:07.975963Z"
    },
    "papermill": {
     "duration": 0.02611,
     "end_time": "2023-09-04T07:54:07.978925",
     "exception": false,
     "start_time": "2023-09-04T07:54:07.952815",
     "status": "completed"
    },
    "tags": []
   },
   "outputs": [
    {
     "data": {
      "text/plain": [
       "category\n",
       "BUSINESS    1381\n",
       "SPORTS      1381\n",
       "CRIME       1381\n",
       "SCIENCE     1381\n",
       "Name: count, dtype: int64"
      ]
     },
     "execution_count": 16,
     "metadata": {},
     "output_type": "execute_result"
    }
   ],
   "source": [
    "df_balanced['category'].value_counts()"
   ]
  },
  {
   "cell_type": "code",
   "execution_count": 17,
   "id": "934ae522",
   "metadata": {
    "execution": {
     "iopub.execute_input": "2023-09-04T07:54:08.006952Z",
     "iopub.status.busy": "2023-09-04T07:54:08.006565Z",
     "iopub.status.idle": "2023-09-04T07:54:08.018850Z",
     "shell.execute_reply": "2023-09-04T07:54:08.017674Z"
    },
    "papermill": {
     "duration": 0.029057,
     "end_time": "2023-09-04T07:54:08.021260",
     "exception": false,
     "start_time": "2023-09-04T07:54:07.992203",
     "status": "completed"
    },
    "tags": []
   },
   "outputs": [],
   "source": [
    "df_balanced['category_num']=df['category'].map({\"BUSINESS\":0,\"SPORTS\":1,\"CRIME\":2,\"SCIENCE\":3})"
   ]
  },
  {
   "cell_type": "code",
   "execution_count": 18,
   "id": "78cf7cf7",
   "metadata": {
    "execution": {
     "iopub.execute_input": "2023-09-04T07:54:08.048733Z",
     "iopub.status.busy": "2023-09-04T07:54:08.048340Z",
     "iopub.status.idle": "2023-09-04T07:54:08.060609Z",
     "shell.execute_reply": "2023-09-04T07:54:08.059248Z"
    },
    "papermill": {
     "duration": 0.029243,
     "end_time": "2023-09-04T07:54:08.063415",
     "exception": false,
     "start_time": "2023-09-04T07:54:08.034172",
     "status": "completed"
    },
    "tags": []
   },
   "outputs": [
    {
     "data": {
      "text/html": [
       "<div>\n",
       "<style scoped>\n",
       "    .dataframe tbody tr th:only-of-type {\n",
       "        vertical-align: middle;\n",
       "    }\n",
       "\n",
       "    .dataframe tbody tr th {\n",
       "        vertical-align: top;\n",
       "    }\n",
       "\n",
       "    .dataframe thead th {\n",
       "        text-align: right;\n",
       "    }\n",
       "</style>\n",
       "<table border=\"1\" class=\"dataframe\">\n",
       "  <thead>\n",
       "    <tr style=\"text-align: right;\">\n",
       "      <th></th>\n",
       "      <th>text</th>\n",
       "      <th>category</th>\n",
       "      <th>category_num</th>\n",
       "    </tr>\n",
       "  </thead>\n",
       "  <tbody>\n",
       "    <tr>\n",
       "      <th>594</th>\n",
       "      <td>How to Develop the Next Generation of Innovato...</td>\n",
       "      <td>BUSINESS</td>\n",
       "      <td>0</td>\n",
       "    </tr>\n",
       "    <tr>\n",
       "      <th>3093</th>\n",
       "      <td>Madoff Victims' Payout Nears $7.2 Billion, Tru...</td>\n",
       "      <td>BUSINESS</td>\n",
       "      <td>0</td>\n",
       "    </tr>\n",
       "    <tr>\n",
       "      <th>7447</th>\n",
       "      <td>Bay Area Floats 'Sanctuary In Transit Policy' ...</td>\n",
       "      <td>BUSINESS</td>\n",
       "      <td>0</td>\n",
       "    </tr>\n",
       "    <tr>\n",
       "      <th>10388</th>\n",
       "      <td>Microsoft Agrees To Acquire LinkedIn For $26.2...</td>\n",
       "      <td>BUSINESS</td>\n",
       "      <td>0</td>\n",
       "    </tr>\n",
       "    <tr>\n",
       "      <th>1782</th>\n",
       "      <td>Inside A Legal, Multibillion Dollar Weed Market</td>\n",
       "      <td>BUSINESS</td>\n",
       "      <td>0</td>\n",
       "    </tr>\n",
       "    <tr>\n",
       "      <th>...</th>\n",
       "      <td>...</td>\n",
       "      <td>...</td>\n",
       "      <td>...</td>\n",
       "    </tr>\n",
       "    <tr>\n",
       "      <th>9924</th>\n",
       "      <td>A Call for Data Literacy If we care about youn...</td>\n",
       "      <td>SCIENCE</td>\n",
       "      <td>3</td>\n",
       "    </tr>\n",
       "    <tr>\n",
       "      <th>10219</th>\n",
       "      <td>Here's What Happens When Someone Sneezes On An...</td>\n",
       "      <td>SCIENCE</td>\n",
       "      <td>3</td>\n",
       "    </tr>\n",
       "    <tr>\n",
       "      <th>11884</th>\n",
       "      <td>Most People Don't See How Climate Change Is Af...</td>\n",
       "      <td>SCIENCE</td>\n",
       "      <td>3</td>\n",
       "    </tr>\n",
       "    <tr>\n",
       "      <th>7854</th>\n",
       "      <td>Watch Octopuses Meet for Blind Date, Tricky Se...</td>\n",
       "      <td>SCIENCE</td>\n",
       "      <td>3</td>\n",
       "    </tr>\n",
       "    <tr>\n",
       "      <th>10191</th>\n",
       "      <td>The World Of Science Has A Lot To Look Forward...</td>\n",
       "      <td>SCIENCE</td>\n",
       "      <td>3</td>\n",
       "    </tr>\n",
       "  </tbody>\n",
       "</table>\n",
       "<p>5524 rows × 3 columns</p>\n",
       "</div>"
      ],
      "text/plain": [
       "                                                    text  category  \\\n",
       "594    How to Develop the Next Generation of Innovato...  BUSINESS   \n",
       "3093   Madoff Victims' Payout Nears $7.2 Billion, Tru...  BUSINESS   \n",
       "7447   Bay Area Floats 'Sanctuary In Transit Policy' ...  BUSINESS   \n",
       "10388  Microsoft Agrees To Acquire LinkedIn For $26.2...  BUSINESS   \n",
       "1782    Inside A Legal, Multibillion Dollar Weed Market   BUSINESS   \n",
       "...                                                  ...       ...   \n",
       "9924   A Call for Data Literacy If we care about youn...   SCIENCE   \n",
       "10219  Here's What Happens When Someone Sneezes On An...   SCIENCE   \n",
       "11884  Most People Don't See How Climate Change Is Af...   SCIENCE   \n",
       "7854   Watch Octopuses Meet for Blind Date, Tricky Se...   SCIENCE   \n",
       "10191  The World Of Science Has A Lot To Look Forward...   SCIENCE   \n",
       "\n",
       "       category_num  \n",
       "594               0  \n",
       "3093              0  \n",
       "7447              0  \n",
       "10388             0  \n",
       "1782              0  \n",
       "...             ...  \n",
       "9924              3  \n",
       "10219             3  \n",
       "11884             3  \n",
       "7854              3  \n",
       "10191             3  \n",
       "\n",
       "[5524 rows x 3 columns]"
      ]
     },
     "execution_count": 18,
     "metadata": {},
     "output_type": "execute_result"
    }
   ],
   "source": [
    "df_balanced"
   ]
  },
  {
   "cell_type": "markdown",
   "id": "80aa5357",
   "metadata": {
    "papermill": {
     "duration": 0.012283,
     "end_time": "2023-09-04T07:54:08.089169",
     "exception": false,
     "start_time": "2023-09-04T07:54:08.076886",
     "status": "completed"
    },
    "tags": []
   },
   "source": [
    "# Model Building"
   ]
  },
  {
   "cell_type": "code",
   "execution_count": 19,
   "id": "74a761f7",
   "metadata": {
    "execution": {
     "iopub.execute_input": "2023-09-04T07:54:08.115985Z",
     "iopub.status.busy": "2023-09-04T07:54:08.115579Z",
     "iopub.status.idle": "2023-09-04T07:54:08.249982Z",
     "shell.execute_reply": "2023-09-04T07:54:08.248540Z"
    },
    "papermill": {
     "duration": 0.150834,
     "end_time": "2023-09-04T07:54:08.252684",
     "exception": false,
     "start_time": "2023-09-04T07:54:08.101850",
     "status": "completed"
    },
    "tags": []
   },
   "outputs": [],
   "source": [
    "import sklearn\n",
    "from sklearn.model_selection import train_test_split\n",
    "x=df_balanced['text']\n",
    "y=df_balanced['category_num']\n",
    "X_train,X_test,y_train,y_test=train_test_split(x,y,test_size=0.2,random_state=42,stratify=df_balanced.category_num)\n"
   ]
  },
  {
   "cell_type": "code",
   "execution_count": 20,
   "id": "26b23129",
   "metadata": {
    "execution": {
     "iopub.execute_input": "2023-09-04T07:54:08.280547Z",
     "iopub.status.busy": "2023-09-04T07:54:08.280131Z",
     "iopub.status.idle": "2023-09-04T07:54:08.285895Z",
     "shell.execute_reply": "2023-09-04T07:54:08.284916Z"
    },
    "papermill": {
     "duration": 0.021877,
     "end_time": "2023-09-04T07:54:08.287634",
     "exception": false,
     "start_time": "2023-09-04T07:54:08.265757",
     "status": "completed"
    },
    "tags": []
   },
   "outputs": [
    {
     "data": {
      "text/plain": [
       "(1105,)"
      ]
     },
     "execution_count": 20,
     "metadata": {},
     "output_type": "execute_result"
    }
   ],
   "source": [
    "X_test.shape"
   ]
  },
  {
   "cell_type": "code",
   "execution_count": 21,
   "id": "7253a348",
   "metadata": {
    "execution": {
     "iopub.execute_input": "2023-09-04T07:54:08.314883Z",
     "iopub.status.busy": "2023-09-04T07:54:08.314316Z",
     "iopub.status.idle": "2023-09-04T07:54:08.320536Z",
     "shell.execute_reply": "2023-09-04T07:54:08.319455Z"
    },
    "papermill": {
     "duration": 0.02217,
     "end_time": "2023-09-04T07:54:08.322502",
     "exception": false,
     "start_time": "2023-09-04T07:54:08.300332",
     "status": "completed"
    },
    "tags": []
   },
   "outputs": [
    {
     "data": {
      "text/plain": [
       "(4419,)"
      ]
     },
     "execution_count": 21,
     "metadata": {},
     "output_type": "execute_result"
    }
   ],
   "source": [
    "X_train.shape"
   ]
  },
  {
   "cell_type": "code",
   "execution_count": 22,
   "id": "3349f4e3",
   "metadata": {
    "execution": {
     "iopub.execute_input": "2023-09-04T07:54:08.350284Z",
     "iopub.status.busy": "2023-09-04T07:54:08.349890Z",
     "iopub.status.idle": "2023-09-04T07:54:08.355999Z",
     "shell.execute_reply": "2023-09-04T07:54:08.355022Z"
    },
    "papermill": {
     "duration": 0.022322,
     "end_time": "2023-09-04T07:54:08.357806",
     "exception": false,
     "start_time": "2023-09-04T07:54:08.335484",
     "status": "completed"
    },
    "tags": []
   },
   "outputs": [
    {
     "data": {
      "text/plain": [
       "(1105,)"
      ]
     },
     "execution_count": 22,
     "metadata": {},
     "output_type": "execute_result"
    }
   ],
   "source": [
    "y_test.shape"
   ]
  },
  {
   "cell_type": "code",
   "execution_count": 23,
   "id": "e0439267",
   "metadata": {
    "execution": {
     "iopub.execute_input": "2023-09-04T07:54:08.386054Z",
     "iopub.status.busy": "2023-09-04T07:54:08.385418Z",
     "iopub.status.idle": "2023-09-04T07:54:08.390334Z",
     "shell.execute_reply": "2023-09-04T07:54:08.389727Z"
    },
    "papermill": {
     "duration": 0.021652,
     "end_time": "2023-09-04T07:54:08.392383",
     "exception": false,
     "start_time": "2023-09-04T07:54:08.370731",
     "status": "completed"
    },
    "tags": []
   },
   "outputs": [
    {
     "data": {
      "text/plain": [
       "(4419,)"
      ]
     },
     "execution_count": 23,
     "metadata": {},
     "output_type": "execute_result"
    }
   ],
   "source": [
    "y_train.shape"
   ]
  },
  {
   "cell_type": "code",
   "execution_count": 24,
   "id": "60e0d82f",
   "metadata": {
    "execution": {
     "iopub.execute_input": "2023-09-04T07:54:08.420498Z",
     "iopub.status.busy": "2023-09-04T07:54:08.419828Z",
     "iopub.status.idle": "2023-09-04T07:54:08.915904Z",
     "shell.execute_reply": "2023-09-04T07:54:08.914262Z"
    },
    "papermill": {
     "duration": 0.51276,
     "end_time": "2023-09-04T07:54:08.918271",
     "exception": false,
     "start_time": "2023-09-04T07:54:08.405511",
     "status": "completed"
    },
    "tags": []
   },
   "outputs": [
    {
     "name": "stdout",
     "output_type": "stream",
     "text": [
      "              precision    recall  f1-score   support\n",
      "\n",
      "           0       0.73      0.95      0.82       276\n",
      "           1       0.92      0.83      0.87       276\n",
      "           2       0.91      0.88      0.89       277\n",
      "           3       0.93      0.79      0.85       276\n",
      "\n",
      "    accuracy                           0.86      1105\n",
      "   macro avg       0.87      0.86      0.86      1105\n",
      "weighted avg       0.87      0.86      0.86      1105\n",
      "\n"
     ]
    }
   ],
   "source": [
    "\n",
    "from sklearn.pipeline import Pipeline\n",
    "from sklearn.metrics import classification_report\n",
    "from sklearn.feature_extraction.text import CountVectorizer\n",
    "from sklearn.naive_bayes import MultinomialNB\n",
    "clf = Pipeline([\n",
    "    ('vectorizer_bow', CountVectorizer(ngram_range = (1, 2))),        #using the ngram_range parameter \n",
    "    ('Multi NB', MultinomialNB())\n",
    "])\n",
    "\n",
    "\n",
    "clf.fit(X_train,y_train)\n",
    "y_pred=clf.predict(X_test)\n",
    "print(classification_report(y_test,y_pred))"
   ]
  },
  {
   "cell_type": "code",
   "execution_count": 25,
   "id": "05c73f28",
   "metadata": {
    "execution": {
     "iopub.execute_input": "2023-09-04T07:54:08.945938Z",
     "iopub.status.busy": "2023-09-04T07:54:08.945581Z",
     "iopub.status.idle": "2023-09-04T07:54:09.694704Z",
     "shell.execute_reply": "2023-09-04T07:54:09.693659Z"
    },
    "papermill": {
     "duration": 0.765531,
     "end_time": "2023-09-04T07:54:09.696925",
     "exception": false,
     "start_time": "2023-09-04T07:54:08.931394",
     "status": "completed"
    },
    "tags": []
   },
   "outputs": [
    {
     "data": {
      "text/plain": [
       "Text(70.72222222222221, 0.5, 'truth')"
      ]
     },
     "execution_count": 25,
     "metadata": {},
     "output_type": "execute_result"
    },
    {
     "data": {
      "image/png": "[encoded data removed]",
      "text/plain": [
       "<Figure size 800x800 with 2 Axes>"
      ]
     },
     "metadata": {},
     "output_type": "display_data"
    }
   ],
   "source": [
    "from sklearn.metrics import confusion_matrix\n",
    "cm=confusion_matrix(y_test,y_pred)\n",
    "cm\n",
    "from matplotlib import pyplot as plt\n",
    "import seaborn as sns\n",
    "plt.figure(figsize=(8,8))\n",
    "sns.heatmap(cm,annot=True)\n",
    "plt.xlabel(\"prediction\")\n",
    "plt.ylabel(\"truth\")"
   ]
  },
  {
   "cell_type": "code",
   "execution_count": 26,
   "id": "7b0c24ad",
   "metadata": {
    "execution": {
     "iopub.execute_input": "2023-09-04T07:54:09.727211Z",
     "iopub.status.busy": "2023-09-04T07:54:09.726826Z",
     "iopub.status.idle": "2023-09-04T07:54:10.449929Z",
     "shell.execute_reply": "2023-09-04T07:54:10.448682Z"
    },
    "papermill": {
     "duration": 0.741235,
     "end_time": "2023-09-04T07:54:10.451882",
     "exception": false,
     "start_time": "2023-09-04T07:54:09.710647",
     "status": "completed"
    },
    "tags": []
   },
   "outputs": [
    {
     "data": {
      "text/html": [
       "<div>\n",
       "<style scoped>\n",
       "    .dataframe tbody tr th:only-of-type {\n",
       "        vertical-align: middle;\n",
       "    }\n",
       "\n",
       "    .dataframe tbody tr th {\n",
       "        vertical-align: top;\n",
       "    }\n",
       "\n",
       "    .dataframe thead th {\n",
       "        text-align: right;\n",
       "    }\n",
       "</style>\n",
       "<table border=\"1\" class=\"dataframe\">\n",
       "  <thead>\n",
       "    <tr style=\"text-align: right;\">\n",
       "      <th></th>\n",
       "      <th>Text</th>\n",
       "      <th>label</th>\n",
       "    </tr>\n",
       "  </thead>\n",
       "  <tbody>\n",
       "    <tr>\n",
       "      <th>0</th>\n",
       "      <td>Top Trump Surrogate BRUTALLY Stabs Him In The...</td>\n",
       "      <td>Fake</td>\n",
       "    </tr>\n",
       "    <tr>\n",
       "      <th>1</th>\n",
       "      <td>U.S. conservative leader optimistic of common ...</td>\n",
       "      <td>Real</td>\n",
       "    </tr>\n",
       "    <tr>\n",
       "      <th>2</th>\n",
       "      <td>Trump proposes U.S. tax overhaul, stirs concer...</td>\n",
       "      <td>Real</td>\n",
       "    </tr>\n",
       "    <tr>\n",
       "      <th>3</th>\n",
       "      <td>Court Forces Ohio To Allow Millions Of Illega...</td>\n",
       "      <td>Fake</td>\n",
       "    </tr>\n",
       "    <tr>\n",
       "      <th>4</th>\n",
       "      <td>Democrats say Trump agrees to work on immigrat...</td>\n",
       "      <td>Real</td>\n",
       "    </tr>\n",
       "  </tbody>\n",
       "</table>\n",
       "</div>"
      ],
      "text/plain": [
       "                                                Text label\n",
       "0   Top Trump Surrogate BRUTALLY Stabs Him In The...  Fake\n",
       "1  U.S. conservative leader optimistic of common ...  Real\n",
       "2  Trump proposes U.S. tax overhaul, stirs concer...  Real\n",
       "3   Court Forces Ohio To Allow Millions Of Illega...  Fake\n",
       "4  Democrats say Trump agrees to work on immigrat...  Real"
      ]
     },
     "execution_count": 26,
     "metadata": {},
     "output_type": "execute_result"
    }
   ],
   "source": [
    "df=pd.read_csv(\"/kaggle/input/fake-real-dataset/Fake_Real_Data.csv\")\n",
    "df.head()"
   ]
  },
  {
   "cell_type": "code",
   "execution_count": 27,
   "id": "1bd0e192",
   "metadata": {
    "execution": {
     "iopub.execute_input": "2023-09-04T07:54:10.482983Z",
     "iopub.status.busy": "2023-09-04T07:54:10.482646Z",
     "iopub.status.idle": "2023-09-04T07:54:10.489073Z",
     "shell.execute_reply": "2023-09-04T07:54:10.488288Z"
    },
    "papermill": {
     "duration": 0.025828,
     "end_time": "2023-09-04T07:54:10.492092",
     "exception": false,
     "start_time": "2023-09-04T07:54:10.466264",
     "status": "completed"
    },
    "tags": []
   },
   "outputs": [
    {
     "data": {
      "text/plain": [
       "(9900, 2)"
      ]
     },
     "execution_count": 27,
     "metadata": {},
     "output_type": "execute_result"
    }
   ],
   "source": [
    "df.shape"
   ]
  },
  {
   "cell_type": "code",
   "execution_count": 28,
   "id": "7e8d8508",
   "metadata": {
    "execution": {
     "iopub.execute_input": "2023-09-04T07:54:10.521887Z",
     "iopub.status.busy": "2023-09-04T07:54:10.521505Z",
     "iopub.status.idle": "2023-09-04T07:54:10.529827Z",
     "shell.execute_reply": "2023-09-04T07:54:10.528852Z"
    },
    "papermill": {
     "duration": 0.024857,
     "end_time": "2023-09-04T07:54:10.531659",
     "exception": false,
     "start_time": "2023-09-04T07:54:10.506802",
     "status": "completed"
    },
    "tags": []
   },
   "outputs": [
    {
     "data": {
      "text/plain": [
       "label\n",
       "Fake    5000\n",
       "Real    4900\n",
       "Name: count, dtype: int64"
      ]
     },
     "execution_count": 28,
     "metadata": {},
     "output_type": "execute_result"
    }
   ],
   "source": [
    "df.label.value_counts()"
   ]
  },
  {
   "cell_type": "code",
   "execution_count": 29,
   "id": "62800d83",
   "metadata": {
    "execution": {
     "iopub.execute_input": "2023-09-04T07:54:10.561887Z",
     "iopub.status.busy": "2023-09-04T07:54:10.560919Z",
     "iopub.status.idle": "2023-09-04T07:54:10.572297Z",
     "shell.execute_reply": "2023-09-04T07:54:10.571426Z"
    },
    "papermill": {
     "duration": 0.028325,
     "end_time": "2023-09-04T07:54:10.574099",
     "exception": false,
     "start_time": "2023-09-04T07:54:10.545774",
     "status": "completed"
    },
    "tags": []
   },
   "outputs": [
    {
     "data": {
      "text/html": [
       "<div>\n",
       "<style scoped>\n",
       "    .dataframe tbody tr th:only-of-type {\n",
       "        vertical-align: middle;\n",
       "    }\n",
       "\n",
       "    .dataframe tbody tr th {\n",
       "        vertical-align: top;\n",
       "    }\n",
       "\n",
       "    .dataframe thead th {\n",
       "        text-align: right;\n",
       "    }\n",
       "</style>\n",
       "<table border=\"1\" class=\"dataframe\">\n",
       "  <thead>\n",
       "    <tr style=\"text-align: right;\">\n",
       "      <th></th>\n",
       "      <th>Text</th>\n",
       "      <th>label</th>\n",
       "      <th>label_num</th>\n",
       "    </tr>\n",
       "  </thead>\n",
       "  <tbody>\n",
       "    <tr>\n",
       "      <th>0</th>\n",
       "      <td>Top Trump Surrogate BRUTALLY Stabs Him In The...</td>\n",
       "      <td>Fake</td>\n",
       "      <td>0</td>\n",
       "    </tr>\n",
       "    <tr>\n",
       "      <th>1</th>\n",
       "      <td>U.S. conservative leader optimistic of common ...</td>\n",
       "      <td>Real</td>\n",
       "      <td>1</td>\n",
       "    </tr>\n",
       "    <tr>\n",
       "      <th>2</th>\n",
       "      <td>Trump proposes U.S. tax overhaul, stirs concer...</td>\n",
       "      <td>Real</td>\n",
       "      <td>1</td>\n",
       "    </tr>\n",
       "    <tr>\n",
       "      <th>3</th>\n",
       "      <td>Court Forces Ohio To Allow Millions Of Illega...</td>\n",
       "      <td>Fake</td>\n",
       "      <td>0</td>\n",
       "    </tr>\n",
       "    <tr>\n",
       "      <th>4</th>\n",
       "      <td>Democrats say Trump agrees to work on immigrat...</td>\n",
       "      <td>Real</td>\n",
       "      <td>1</td>\n",
       "    </tr>\n",
       "  </tbody>\n",
       "</table>\n",
       "</div>"
      ],
      "text/plain": [
       "                                                Text label  label_num\n",
       "0   Top Trump Surrogate BRUTALLY Stabs Him In The...  Fake          0\n",
       "1  U.S. conservative leader optimistic of common ...  Real          1\n",
       "2  Trump proposes U.S. tax overhaul, stirs concer...  Real          1\n",
       "3   Court Forces Ohio To Allow Millions Of Illega...  Fake          0\n",
       "4  Democrats say Trump agrees to work on immigrat...  Real          1"
      ]
     },
     "execution_count": 29,
     "metadata": {},
     "output_type": "execute_result"
    }
   ],
   "source": [
    "df['label_num']=df['label'].map({'Real':1,'Fake':0})\n",
    "df.head()"
   ]
  },
  {
   "cell_type": "code",
   "execution_count": 30,
   "id": "a2dd6f62",
   "metadata": {
    "execution": {
     "iopub.execute_input": "2023-09-04T07:54:10.606819Z",
     "iopub.status.busy": "2023-09-04T07:54:10.606329Z",
     "iopub.status.idle": "2023-09-04T07:54:10.612581Z",
     "shell.execute_reply": "2023-09-04T07:54:10.611435Z"
    },
    "papermill": {
     "duration": 0.025558,
     "end_time": "2023-09-04T07:54:10.614566",
     "exception": false,
     "start_time": "2023-09-04T07:54:10.589008",
     "status": "completed"
    },
    "tags": []
   },
   "outputs": [],
   "source": [
    "x=df['Text']\n",
    "y=df['label_num']"
   ]
  },
  {
   "cell_type": "code",
   "execution_count": 31,
   "id": "9606a35e",
   "metadata": {
    "execution": {
     "iopub.execute_input": "2023-09-04T07:54:10.649475Z",
     "iopub.status.busy": "2023-09-04T07:54:10.648212Z",
     "iopub.status.idle": "2023-09-04T07:54:10.659574Z",
     "shell.execute_reply": "2023-09-04T07:54:10.658329Z"
    },
    "papermill": {
     "duration": 0.030219,
     "end_time": "2023-09-04T07:54:10.662148",
     "exception": false,
     "start_time": "2023-09-04T07:54:10.631929",
     "status": "completed"
    },
    "tags": []
   },
   "outputs": [],
   "source": [
    "import sklearn\n",
    "from sklearn.model_selection import train_test_split\n",
    "X_train,X_test,y_train,y_test=train_test_split(x,y,test_size=0.2,random_state=2022,stratify=df.label_num)"
   ]
  },
  {
   "cell_type": "code",
   "execution_count": 32,
   "id": "5a412776",
   "metadata": {
    "execution": {
     "iopub.execute_input": "2023-09-04T07:54:10.694305Z",
     "iopub.status.busy": "2023-09-04T07:54:10.693315Z",
     "iopub.status.idle": "2023-09-04T07:54:10.698800Z",
     "shell.execute_reply": "2023-09-04T07:54:10.697900Z"
    },
    "papermill": {
     "duration": 0.023529,
     "end_time": "2023-09-04T07:54:10.700820",
     "exception": false,
     "start_time": "2023-09-04T07:54:10.677291",
     "status": "completed"
    },
    "tags": []
   },
   "outputs": [
    {
     "name": "stdout",
     "output_type": "stream",
     "text": [
      "(7920,)\n"
     ]
    }
   ],
   "source": [
    "#print the shapes of X_train and X_test\n",
    "print(X_train.shape)"
   ]
  },
  {
   "cell_type": "code",
   "execution_count": 33,
   "id": "0087c99b",
   "metadata": {
    "execution": {
     "iopub.execute_input": "2023-09-04T07:54:10.733522Z",
     "iopub.status.busy": "2023-09-04T07:54:10.732828Z",
     "iopub.status.idle": "2023-09-04T07:54:10.738189Z",
     "shell.execute_reply": "2023-09-04T07:54:10.737268Z"
    },
    "papermill": {
     "duration": 0.023852,
     "end_time": "2023-09-04T07:54:10.740037",
     "exception": false,
     "start_time": "2023-09-04T07:54:10.716185",
     "status": "completed"
    },
    "tags": []
   },
   "outputs": [
    {
     "name": "stdout",
     "output_type": "stream",
     "text": [
      "(1980,)\n"
     ]
    }
   ],
   "source": [
    "print(X_test.shape)"
   ]
  },
  {
   "cell_type": "code",
   "execution_count": 34,
   "id": "9d48d08a",
   "metadata": {
    "execution": {
     "iopub.execute_input": "2023-09-04T07:54:10.771276Z",
     "iopub.status.busy": "2023-09-04T07:54:10.770904Z",
     "iopub.status.idle": "2023-09-04T07:54:42.763207Z",
     "shell.execute_reply": "2023-09-04T07:54:42.761884Z"
    },
    "papermill": {
     "duration": 32.02352,
     "end_time": "2023-09-04T07:54:42.778473",
     "exception": false,
     "start_time": "2023-09-04T07:54:10.754953",
     "status": "completed"
    },
    "tags": []
   },
   "outputs": [
    {
     "name": "stdout",
     "output_type": "stream",
     "text": [
      "              precision    recall  f1-score   support\n",
      "\n",
      "           0       0.96      0.49      0.65      1000\n",
      "           1       0.65      0.98      0.78       980\n",
      "\n",
      "    accuracy                           0.73      1980\n",
      "   macro avg       0.81      0.74      0.72      1980\n",
      "weighted avg       0.81      0.73      0.72      1980\n",
      "\n"
     ]
    }
   ],
   "source": [
    "from sklearn.pipeline import Pipeline\n",
    "from sklearn.metrics import classification_report\n",
    "from sklearn.neighbors import KNeighborsClassifier\n",
    "from sklearn.feature_extraction.text import CountVectorizer\n",
    "clf = Pipeline([\n",
    "     ('vectorizer_trigrams', CountVectorizer(ngram_range = (1, 3))),        #using the ngram_range parameter \n",
    "     ('KNN', KNeighborsClassifier(n_neighbors=10,metric='euclidean'))         \n",
    "])\n",
    "clf.fit(X_train,y_train)\n",
    "y_pred=clf.predict(X_test)\n",
    "print(classification_report(y_test,y_pred))"
   ]
  },
  {
   "cell_type": "code",
   "execution_count": 35,
   "id": "b47669c8",
   "metadata": {
    "execution": {
     "iopub.execute_input": "2023-09-04T07:54:42.808997Z",
     "iopub.status.busy": "2023-09-04T07:54:42.808608Z",
     "iopub.status.idle": "2023-09-04T07:55:15.094697Z",
     "shell.execute_reply": "2023-09-04T07:55:15.093218Z"
    },
    "papermill": {
     "duration": 32.317283,
     "end_time": "2023-09-04T07:55:15.110124",
     "exception": false,
     "start_time": "2023-09-04T07:54:42.792841",
     "status": "completed"
    },
    "tags": []
   },
   "outputs": [
    {
     "name": "stdout",
     "output_type": "stream",
     "text": [
      "              precision    recall  f1-score   support\n",
      "\n",
      "           0       0.99      0.55      0.71      1000\n",
      "           1       0.69      1.00      0.81       980\n",
      "\n",
      "    accuracy                           0.77      1980\n",
      "   macro avg       0.84      0.77      0.76      1980\n",
      "weighted avg       0.84      0.77      0.76      1980\n",
      "\n"
     ]
    }
   ],
   "source": [
    "from sklearn.pipeline import Pipeline\n",
    "from sklearn.metrics import classification_report\n",
    "from sklearn.neighbors import KNeighborsClassifier\n",
    "from sklearn.feature_extraction.text import CountVectorizer\n",
    "clf = Pipeline([\n",
    "     ('vectorizer_trigrams', CountVectorizer(ngram_range = (1, 3))),        #using the ngram_range parameter \n",
    "     ('KNN', KNeighborsClassifier(n_neighbors=10,metric='cosine'))         \n",
    "])\n",
    "clf.fit(X_train,y_train)\n",
    "y_pred=clf.predict(X_test)\n",
    "print(classification_report(y_test,y_pred))"
   ]
  },
  {
   "cell_type": "code",
   "execution_count": 36,
   "id": "ad9afaf9",
   "metadata": {
    "execution": {
     "iopub.execute_input": "2023-09-04T07:55:15.140917Z",
     "iopub.status.busy": "2023-09-04T07:55:15.140545Z",
     "iopub.status.idle": "2023-09-04T07:56:46.143196Z",
     "shell.execute_reply": "2023-09-04T07:56:46.141584Z"
    },
    "papermill": {
     "duration": 91.033155,
     "end_time": "2023-09-04T07:56:46.157802",
     "exception": false,
     "start_time": "2023-09-04T07:55:15.124647",
     "status": "completed"
    },
    "tags": []
   },
   "outputs": [
    {
     "name": "stdout",
     "output_type": "stream",
     "text": [
      "              precision    recall  f1-score   support\n",
      "\n",
      "           0       1.00      0.99      0.99      1000\n",
      "           1       0.99      1.00      0.99       980\n",
      "\n",
      "    accuracy                           0.99      1980\n",
      "   macro avg       0.99      0.99      0.99      1980\n",
      "weighted avg       0.99      0.99      0.99      1980\n",
      "\n"
     ]
    }
   ],
   "source": [
    "from sklearn.ensemble import RandomForestClassifier\n",
    "from sklearn.pipeline import Pipeline\n",
    "from sklearn.metrics import classification_report\n",
    "from sklearn.feature_extraction.text import CountVectorizer\n",
    "clf = Pipeline([\n",
    "     ('vectorizer_trigrams', CountVectorizer(ngram_range = (3, 3))),        #using the ngram_range parameter \n",
    "     ('random_forest', RandomForestClassifier())         \n",
    "])\n",
    "clf.fit(X_train,y_train)\n",
    "y_pred=clf.predict(X_test)\n",
    "print(classification_report(y_test,y_pred))"
   ]
  },
  {
   "cell_type": "code",
   "execution_count": 37,
   "id": "44ea2c84",
   "metadata": {
    "execution": {
     "iopub.execute_input": "2023-09-04T07:56:46.188587Z",
     "iopub.status.busy": "2023-09-04T07:56:46.188194Z",
     "iopub.status.idle": "2023-09-04T07:56:58.092873Z",
     "shell.execute_reply": "2023-09-04T07:56:58.089710Z"
    },
    "papermill": {
     "duration": 11.924649,
     "end_time": "2023-09-04T07:56:58.096836",
     "exception": false,
     "start_time": "2023-09-04T07:56:46.172187",
     "status": "completed"
    },
    "tags": []
   },
   "outputs": [
    {
     "name": "stdout",
     "output_type": "stream",
     "text": [
      "              precision    recall  f1-score   support\n",
      "\n",
      "           0       0.99      0.99      0.99      1000\n",
      "           1       0.99      0.98      0.99       980\n",
      "\n",
      "    accuracy                           0.99      1980\n",
      "   macro avg       0.99      0.99      0.99      1980\n",
      "weighted avg       0.99      0.99      0.99      1980\n",
      "\n"
     ]
    }
   ],
   "source": [
    "\n",
    "from sklearn.pipeline import Pipeline\n",
    "from sklearn.metrics import classification_report\n",
    "from sklearn.feature_extraction.text import CountVectorizer\n",
    "from sklearn.naive_bayes import MultinomialNB\n",
    "clf = Pipeline([\n",
    "    ('vectorizer_bow', CountVectorizer(ngram_range = (1, 2))),        #using the ngram_range parameter \n",
    "    ('Multi NB', MultinomialNB(alpha=0.75))\n",
    "])\n",
    "\n",
    "\n",
    "clf.fit(X_train,y_train)\n",
    "y_pred=clf.predict(X_test)\n",
    "print(classification_report(y_test,y_pred))"
   ]
  },
  {
   "cell_type": "code",
   "execution_count": 38,
   "id": "abeea9f8",
   "metadata": {
    "execution": {
     "iopub.execute_input": "2023-09-04T07:56:58.129801Z",
     "iopub.status.busy": "2023-09-04T07:56:58.129420Z",
     "iopub.status.idle": "2023-09-04T07:56:58.357278Z",
     "shell.execute_reply": "2023-09-04T07:56:58.356071Z"
    },
    "papermill": {
     "duration": 0.246673,
     "end_time": "2023-09-04T07:56:58.359577",
     "exception": false,
     "start_time": "2023-09-04T07:56:58.112904",
     "status": "completed"
    },
    "tags": []
   },
   "outputs": [
    {
     "data": {
      "text/plain": [
       "Text(70.72222222222221, 0.5, 'truth')"
      ]
     },
     "execution_count": 38,
     "metadata": {},
     "output_type": "execute_result"
    },
    {
     "data": {
      "image/png": "[encoded data removed]",
      "text/plain": [
       "<Figure size 800x800 with 2 Axes>"
      ]
     },
     "metadata": {},
     "output_type": "display_data"
    }
   ],
   "source": [
    "from sklearn.metrics import confusion_matrix\n",
    "cm=confusion_matrix(y_test,y_pred)\n",
    "cm\n",
    "from matplotlib import pyplot as plt\n",
    "import seaborn as sns\n",
    "plt.figure(figsize=(8,8))\n",
    "sns.heatmap(cm,annot=True)\n",
    "plt.xlabel(\"prediction\")\n",
    "plt.ylabel(\"truth\")"
   ]
  },
  {
   "cell_type": "code",
   "execution_count": 39,
   "id": "e62e79bc",
   "metadata": {
    "execution": {
     "iopub.execute_input": "2023-09-04T07:56:58.392889Z",
     "iopub.status.busy": "2023-09-04T07:56:58.391972Z",
     "iopub.status.idle": "2023-09-04T07:56:59.081389Z",
     "shell.execute_reply": "2023-09-04T07:56:59.080426Z"
    },
    "papermill": {
     "duration": 0.708512,
     "end_time": "2023-09-04T07:56:59.083708",
     "exception": false,
     "start_time": "2023-09-04T07:56:58.375196",
     "status": "completed"
    },
    "tags": []
   },
   "outputs": [],
   "source": [
    "import spacy\n",
    "\n",
    "# load english language model and create nlp object from it\n",
    "nlp = spacy.load(\"en_core_web_sm\") \n",
    "\n",
    "def preprocess(text):\n",
    "    # remove stop words and lemmatize the text\n",
    "    doc = nlp(text)\n",
    "    filtered_tokens = []\n",
    "    for token in doc:\n",
    "        if token.is_stop or token.is_punct:\n",
    "            continue\n",
    "        filtered_tokens.append(token.lemma_)\n",
    "    \n",
    "    return \" \".join(filtered_tokens) "
   ]
  },
  {
   "cell_type": "code",
   "execution_count": 40,
   "id": "7b13e761",
   "metadata": {
    "execution": {
     "iopub.execute_input": "2023-09-04T07:56:59.114600Z",
     "iopub.status.busy": "2023-09-04T07:56:59.114256Z",
     "iopub.status.idle": "2023-09-04T07:56:59.120378Z",
     "shell.execute_reply": "2023-09-04T07:56:59.119264Z"
    },
    "papermill": {
     "duration": 0.025307,
     "end_time": "2023-09-04T07:56:59.123622",
     "exception": false,
     "start_time": "2023-09-04T07:56:59.098315",
     "status": "completed"
    },
    "tags": []
   },
   "outputs": [
    {
     "data": {
      "text/plain": [
       "(9900, 3)"
      ]
     },
     "execution_count": 40,
     "metadata": {},
     "output_type": "execute_result"
    }
   ],
   "source": [
    "df.shape"
   ]
  },
  {
   "cell_type": "markdown",
   "id": "0aa2a481",
   "metadata": {
    "papermill": {
     "duration": 0.014493,
     "end_time": "2023-09-04T07:56:59.152805",
     "exception": false,
     "start_time": "2023-09-04T07:56:59.138312",
     "status": "completed"
    },
    "tags": []
   },
   "source": [
    "# there is too much data . so we do this."
   ]
  },
  {
   "cell_type": "code",
   "execution_count": 41,
   "id": "ac18c84d",
   "metadata": {
    "execution": {
     "iopub.execute_input": "2023-09-04T07:56:59.187503Z",
     "iopub.status.busy": "2023-09-04T07:56:59.186489Z",
     "iopub.status.idle": "2023-09-04T07:56:59.193073Z",
     "shell.execute_reply": "2023-09-04T07:56:59.191206Z"
    },
    "papermill": {
     "duration": 0.025579,
     "end_time": "2023-09-04T07:56:59.195717",
     "exception": false,
     "start_time": "2023-09-04T07:56:59.170138",
     "status": "completed"
    },
    "tags": []
   },
   "outputs": [],
   "source": [
    "df=df.head(100)"
   ]
  },
  {
   "cell_type": "code",
   "execution_count": 42,
   "id": "1c093c9a",
   "metadata": {
    "execution": {
     "iopub.execute_input": "2023-09-04T07:56:59.228343Z",
     "iopub.status.busy": "2023-09-04T07:56:59.227963Z",
     "iopub.status.idle": "2023-09-04T07:57:05.793217Z",
     "shell.execute_reply": "2023-09-04T07:57:05.791747Z"
    },
    "papermill": {
     "duration": 6.584289,
     "end_time": "2023-09-04T07:57:05.795490",
     "exception": false,
     "start_time": "2023-09-04T07:56:59.211201",
     "status": "completed"
    },
    "tags": []
   },
   "outputs": [],
   "source": [
    "df['preprocessed_txt']=df['Text'].apply(preprocess)"
   ]
  },
  {
   "cell_type": "code",
   "execution_count": 43,
   "id": "5a0a6b61",
   "metadata": {
    "execution": {
     "iopub.execute_input": "2023-09-04T07:57:05.827758Z",
     "iopub.status.busy": "2023-09-04T07:57:05.827326Z",
     "iopub.status.idle": "2023-09-04T07:57:05.836998Z",
     "shell.execute_reply": "2023-09-04T07:57:05.835734Z"
    },
    "papermill": {
     "duration": 0.029277,
     "end_time": "2023-09-04T07:57:05.839702",
     "exception": false,
     "start_time": "2023-09-04T07:57:05.810425",
     "status": "completed"
    },
    "tags": []
   },
   "outputs": [
    {
     "data": {
      "text/plain": [
       "0      Trump Surrogate BRUTALLY Stabs Pathetic vide...\n",
       "1    U.S. conservative leader optimistic common gro...\n",
       "2    trump propose U.S. tax overhaul stir concern d...\n",
       "3      Court Forces Ohio allow million illegally pu...\n",
       "4    Democrats Trump agree work immigration bill wa...\n",
       "Name: preprocessed_txt, dtype: object"
      ]
     },
     "execution_count": 43,
     "metadata": {},
     "output_type": "execute_result"
    }
   ],
   "source": [
    "df.preprocessed_txt.head(5)"
   ]
  },
  {
   "cell_type": "code",
   "execution_count": 44,
   "id": "944db9ca",
   "metadata": {
    "execution": {
     "iopub.execute_input": "2023-09-04T07:57:05.873164Z",
     "iopub.status.busy": "2023-09-04T07:57:05.872798Z",
     "iopub.status.idle": "2023-09-04T07:57:05.882109Z",
     "shell.execute_reply": "2023-09-04T07:57:05.881026Z"
    },
    "papermill": {
     "duration": 0.02916,
     "end_time": "2023-09-04T07:57:05.884403",
     "exception": false,
     "start_time": "2023-09-04T07:57:05.855243",
     "status": "completed"
    },
    "tags": []
   },
   "outputs": [],
   "source": [
    "from sklearn.model_selection import train_test_split\n",
    "X_train,X_test,y_train,y_test=train_test_split(df['preprocessed_txt'],df['label_num'],test_size=0.2,random_state=2022,stratify=df.label_num)"
   ]
  },
  {
   "cell_type": "code",
   "execution_count": 45,
   "id": "d2b18994",
   "metadata": {
    "execution": {
     "iopub.execute_input": "2023-09-04T07:57:05.917090Z",
     "iopub.status.busy": "2023-09-04T07:57:05.916699Z",
     "iopub.status.idle": "2023-09-04T07:57:06.260609Z",
     "shell.execute_reply": "2023-09-04T07:57:06.259642Z"
    },
    "papermill": {
     "duration": 0.363114,
     "end_time": "2023-09-04T07:57:06.262850",
     "exception": false,
     "start_time": "2023-09-04T07:57:05.899736",
     "status": "completed"
    },
    "tags": []
   },
   "outputs": [
    {
     "name": "stdout",
     "output_type": "stream",
     "text": [
      "              precision    recall  f1-score   support\n",
      "\n",
      "           0       0.00      0.00      0.00         8\n",
      "           1       0.60      1.00      0.75        12\n",
      "\n",
      "    accuracy                           0.60        20\n",
      "   macro avg       0.30      0.50      0.37        20\n",
      "weighted avg       0.36      0.60      0.45        20\n",
      "\n"
     ]
    }
   ],
   "source": [
    "import warnings\n",
    "warnings.filterwarnings(\"ignore\")\n",
    "from sklearn.ensemble import RandomForestClassifier\n",
    "from sklearn.pipeline import Pipeline\n",
    "from sklearn.metrics import classification_report\n",
    "from sklearn.feature_extraction.text import CountVectorizer\n",
    "clf = Pipeline([\n",
    "     ('vectorizer_trigrams', CountVectorizer(ngram_range = (3, 3))),        #using the ngram_range parameter \n",
    "     ('random_forest', RandomForestClassifier())         \n",
    "])\n",
    "clf.fit(X_train,y_train)\n",
    "y_pred=clf.predict(X_test)\n",
    "print(classification_report(y_test,y_pred))"
   ]
  },
  {
   "cell_type": "code",
   "execution_count": 46,
   "id": "706e009b",
   "metadata": {
    "execution": {
     "iopub.execute_input": "2023-09-04T07:57:06.296455Z",
     "iopub.status.busy": "2023-09-04T07:57:06.296049Z",
     "iopub.status.idle": "2023-09-04T07:57:06.538698Z",
     "shell.execute_reply": "2023-09-04T07:57:06.537086Z"
    },
    "papermill": {
     "duration": 0.262651,
     "end_time": "2023-09-04T07:57:06.541111",
     "exception": false,
     "start_time": "2023-09-04T07:57:06.278460",
     "status": "completed"
    },
    "tags": []
   },
   "outputs": [
    {
     "data": {
      "text/plain": [
       "Text(70.72222222222221, 0.5, 'truth')"
      ]
     },
     "execution_count": 46,
     "metadata": {},
     "output_type": "execute_result"
    },
    {
     "data": {
      "image/png": "[encoded data removed]",
      "text/plain": [
       "<Figure size 800x800 with 2 Axes>"
      ]
     },
     "metadata": {},
     "output_type": "display_data"
    }
   ],
   "source": [
    "from sklearn.metrics import confusion_matrix\n",
    "cm=confusion_matrix(y_test,y_pred)\n",
    "cm\n",
    "from matplotlib import pyplot as plt\n",
    "import seaborn as sns\n",
    "plt.figure(figsize=(8,8))\n",
    "sns.heatmap(cm,annot=True)\n",
    "plt.xlabel(\"prediction\")\n",
    "plt.ylabel(\"truth\")"
   ]
  },
  {
   "cell_type": "code",
   "execution_count": null,
   "id": "de6d9179",
   "metadata": {
    "papermill": {
     "duration": 0.015962,
     "end_time": "2023-09-04T07:57:06.572466",
     "exception": false,
     "start_time": "2023-09-04T07:57:06.556504",
     "status": "completed"
    },
    "tags": []
   },
   "outputs": [],
   "source": []
  }
 ],
 "kernelspec": {
  "display_name": "Python 3",
  "language": "python",
  "name": "python3"
 },
 "language_info": {
  "codemirror_mode": {
   "name": "ipython",
   "version": 3
  },
  "file_extension": ".py",
  "mimetype": "text/x-python",
  "name": "python",
  "nbconvert_exporter": "python",
  "pygments_lexer": "ipython3",
  "version": "3.6.4"
 },
 "metadata": {
  "kernelspec": {
   "display_name": "Python 3",
   "language": "python",
   "name": "python3"
  },
  "language_info": {
   "codemirror_mode": {
    "name": "ipython",
    "version": 3
   },
   "file_extension": ".py",
   "mimetype": "text/x-python",
   "name": "python",
   "nbconvert_exporter": "python",
   "pygments_lexer": "ipython3",
   "version": "3.10.12"
  },
  "papermill": {
   "default_parameters": {},
   "duration": 202.304881,
   "end_time": "2023-09-04T07:57:09.951194",
   "environment_variables": {},
   "exception": null,
   "input_path": "__notebook__.ipynb",
   "output_path": "__notebook__.ipynb",
   "parameters": {},
   "start_time": "2023-09-04T07:53:47.646313",
   "version": "2.4.0"
  }
 },
 "nbformat": 4,
 "nbformat_minor": 5
}
