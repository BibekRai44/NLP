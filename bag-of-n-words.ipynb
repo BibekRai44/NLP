{
 "cells": [
  {
   "cell_type": "code",
   "execution_count": 1,
   "id": "9ca513f1",
   "metadata": {
    "_cell_guid": "b1076dfc-b9ad-4769-8c92-a6c4dae69d19",
    "_uuid": "8f2839f25d086af736a60e9eeb907d3b93b6e0e5",
    "execution": {
     "iopub.execute_input": "2023-09-04T06:04:17.685192Z",
     "iopub.status.busy": "2023-09-04T06:04:17.684422Z",
     "iopub.status.idle": "2023-09-04T06:04:35.801752Z",
     "shell.execute_reply": "2023-09-04T06:04:35.800490Z"
    },
    "papermill": {
     "duration": 18.135642,
     "end_time": "2023-09-04T06:04:35.805001",
     "exception": false,
     "start_time": "2023-09-04T06:04:17.669359",
     "status": "completed"
    },
    "tags": []
   },
   "outputs": [],
   "source": [
    "import spacy"
   ]
  },
  {
   "cell_type": "code",
   "execution_count": 2,
   "id": "f9f34bae",
   "metadata": {
    "execution": {
     "iopub.execute_input": "2023-09-04T06:04:35.830335Z",
     "iopub.status.busy": "2023-09-04T06:04:35.829503Z",
     "iopub.status.idle": "2023-09-04T06:04:36.803693Z",
     "shell.execute_reply": "2023-09-04T06:04:36.802146Z"
    },
    "papermill": {
     "duration": 0.990425,
     "end_time": "2023-09-04T06:04:36.807230",
     "exception": false,
     "start_time": "2023-09-04T06:04:35.816805",
     "status": "completed"
    },
    "tags": []
   },
   "outputs": [
    {
     "data": {
      "text/plain": [
       "{'nepal': 12,\n",
       " 'has': 9,\n",
       " 'consistently': 4,\n",
       " 'been': 3,\n",
       " 'ranked': 18,\n",
       " 'as': 1,\n",
       " 'one': 14,\n",
       " 'of': 13,\n",
       " 'the': 20,\n",
       " 'poorest': 16,\n",
       " 'countries': 5,\n",
       " 'in': 10,\n",
       " 'world': 23,\n",
       " 'used': 22,\n",
       " 'series': 19,\n",
       " 'five': 8,\n",
       " 'year': 24,\n",
       " 'plans': 15,\n",
       " 'an': 0,\n",
       " 'attempt': 2,\n",
       " 'to': 21,\n",
       " 'make': 11,\n",
       " 'progress': 17,\n",
       " 'economic': 7,\n",
       " 'development': 6}"
      ]
     },
     "execution_count": 2,
     "metadata": {},
     "output_type": "execute_result"
    }
   ],
   "source": [
    "import sklearn\n",
    "from sklearn.feature_extraction.text import CountVectorizer\n",
    "model=CountVectorizer()\n",
    "model.fit([\"Nepal has consistently been ranked as one of the poorest countries in the world. Nepal has used a series of five-year plans in an attempt to make progress in economic development.\"])\n",
    "model.vocabulary_"
   ]
  },
  {
   "cell_type": "code",
   "execution_count": 3,
   "id": "4ab3269f",
   "metadata": {
    "execution": {
     "iopub.execute_input": "2023-09-04T06:04:36.833801Z",
     "iopub.status.busy": "2023-09-04T06:04:36.832666Z",
     "iopub.status.idle": "2023-09-04T06:04:36.845051Z",
     "shell.execute_reply": "2023-09-04T06:04:36.843765Z"
    },
    "papermill": {
     "duration": 0.028545,
     "end_time": "2023-09-04T06:04:36.847973",
     "exception": false,
     "start_time": "2023-09-04T06:04:36.819428",
     "status": "completed"
    },
    "tags": []
   },
   "outputs": [
    {
     "data": {
      "text/plain": [
       "{'nepal': 26,\n",
       " 'has': 17,\n",
       " 'consistently': 8,\n",
       " 'been': 6,\n",
       " 'ranked': 39,\n",
       " 'as': 2,\n",
       " 'one': 31,\n",
       " 'of': 28,\n",
       " 'the': 43,\n",
       " 'poorest': 35,\n",
       " 'countries': 10,\n",
       " 'in': 20,\n",
       " 'world': 50,\n",
       " 'used': 48,\n",
       " 'series': 41,\n",
       " 'five': 15,\n",
       " 'year': 52,\n",
       " 'plans': 33,\n",
       " 'an': 0,\n",
       " 'attempt': 4,\n",
       " 'to': 46,\n",
       " 'make': 24,\n",
       " 'progress': 37,\n",
       " 'economic': 13,\n",
       " 'development': 12,\n",
       " 'nepal has': 27,\n",
       " 'has consistently': 18,\n",
       " 'consistently been': 9,\n",
       " 'been ranked': 7,\n",
       " 'ranked as': 40,\n",
       " 'as one': 3,\n",
       " 'one of': 32,\n",
       " 'of the': 30,\n",
       " 'the poorest': 44,\n",
       " 'poorest countries': 36,\n",
       " 'countries in': 11,\n",
       " 'in the': 23,\n",
       " 'the world': 45,\n",
       " 'world nepal': 51,\n",
       " 'has used': 19,\n",
       " 'used series': 49,\n",
       " 'series of': 42,\n",
       " 'of five': 29,\n",
       " 'five year': 16,\n",
       " 'year plans': 53,\n",
       " 'plans in': 34,\n",
       " 'in an': 21,\n",
       " 'an attempt': 1,\n",
       " 'attempt to': 5,\n",
       " 'to make': 47,\n",
       " 'make progress': 25,\n",
       " 'progress in': 38,\n",
       " 'in economic': 22,\n",
       " 'economic development': 14}"
      ]
     },
     "execution_count": 3,
     "metadata": {},
     "output_type": "execute_result"
    }
   ],
   "source": [
    "model=CountVectorizer(ngram_range=(1,2))\n",
    "model.fit([\"Nepal has consistently been ranked as one of the poorest countries in the world. Nepal has used a series of five-year plans in an attempt to make progress in economic development.\"])\n",
    "model.vocabulary_"
   ]
  },
  {
   "cell_type": "code",
   "execution_count": 4,
   "id": "7125f4e4",
   "metadata": {
    "execution": {
     "iopub.execute_input": "2023-09-04T06:04:36.875041Z",
     "iopub.status.busy": "2023-09-04T06:04:36.874201Z",
     "iopub.status.idle": "2023-09-04T06:04:36.886879Z",
     "shell.execute_reply": "2023-09-04T06:04:36.885957Z"
    },
    "papermill": {
     "duration": 0.029379,
     "end_time": "2023-09-04T06:04:36.889287",
     "exception": false,
     "start_time": "2023-09-04T06:04:36.859908",
     "status": "completed"
    },
    "tags": []
   },
   "outputs": [
    {
     "data": {
      "text/plain": [
       "{'nepal': 39,\n",
       " 'has': 24,\n",
       " 'consistently': 12,\n",
       " 'been': 9,\n",
       " 'ranked': 60,\n",
       " 'as': 3,\n",
       " 'one': 48,\n",
       " 'of': 43,\n",
       " 'the': 66,\n",
       " 'poorest': 54,\n",
       " 'countries': 15,\n",
       " 'in': 29,\n",
       " 'world': 77,\n",
       " 'used': 74,\n",
       " 'series': 63,\n",
       " 'five': 21,\n",
       " 'year': 80,\n",
       " 'plans': 51,\n",
       " 'an': 0,\n",
       " 'attempt': 6,\n",
       " 'to': 71,\n",
       " 'make': 36,\n",
       " 'progress': 57,\n",
       " 'economic': 19,\n",
       " 'development': 18,\n",
       " 'nepal has': 40,\n",
       " 'has consistently': 25,\n",
       " 'consistently been': 13,\n",
       " 'been ranked': 10,\n",
       " 'ranked as': 61,\n",
       " 'as one': 4,\n",
       " 'one of': 49,\n",
       " 'of the': 46,\n",
       " 'the poorest': 67,\n",
       " 'poorest countries': 55,\n",
       " 'countries in': 16,\n",
       " 'in the': 34,\n",
       " 'the world': 69,\n",
       " 'world nepal': 78,\n",
       " 'has used': 27,\n",
       " 'used series': 75,\n",
       " 'series of': 64,\n",
       " 'of five': 44,\n",
       " 'five year': 22,\n",
       " 'year plans': 81,\n",
       " 'plans in': 52,\n",
       " 'in an': 30,\n",
       " 'an attempt': 1,\n",
       " 'attempt to': 7,\n",
       " 'to make': 72,\n",
       " 'make progress': 37,\n",
       " 'progress in': 58,\n",
       " 'in economic': 32,\n",
       " 'economic development': 20,\n",
       " 'nepal has consistently': 41,\n",
       " 'has consistently been': 26,\n",
       " 'consistently been ranked': 14,\n",
       " 'been ranked as': 11,\n",
       " 'ranked as one': 62,\n",
       " 'as one of': 5,\n",
       " 'one of the': 50,\n",
       " 'of the poorest': 47,\n",
       " 'the poorest countries': 68,\n",
       " 'poorest countries in': 56,\n",
       " 'countries in the': 17,\n",
       " 'in the world': 35,\n",
       " 'the world nepal': 70,\n",
       " 'world nepal has': 79,\n",
       " 'nepal has used': 42,\n",
       " 'has used series': 28,\n",
       " 'used series of': 76,\n",
       " 'series of five': 65,\n",
       " 'of five year': 45,\n",
       " 'five year plans': 23,\n",
       " 'year plans in': 82,\n",
       " 'plans in an': 53,\n",
       " 'in an attempt': 31,\n",
       " 'an attempt to': 2,\n",
       " 'attempt to make': 8,\n",
       " 'to make progress': 73,\n",
       " 'make progress in': 38,\n",
       " 'progress in economic': 59,\n",
       " 'in economic development': 33}"
      ]
     },
     "execution_count": 4,
     "metadata": {},
     "output_type": "execute_result"
    }
   ],
   "source": [
    "model=CountVectorizer(ngram_range=(1,3))\n",
    "model.fit([\"Nepal has consistently been ranked as one of the poorest countries in the world. Nepal has used a series of five-year plans in an attempt to make progress in economic development.\"])\n",
    "model.vocabulary_"
   ]
  },
  {
   "cell_type": "code",
   "execution_count": 5,
   "id": "0ebe5847",
   "metadata": {
    "execution": {
     "iopub.execute_input": "2023-09-04T06:04:36.916143Z",
     "iopub.status.busy": "2023-09-04T06:04:36.915330Z",
     "iopub.status.idle": "2023-09-04T06:04:38.358198Z",
     "shell.execute_reply": "2023-09-04T06:04:38.356724Z"
    },
    "papermill": {
     "duration": 1.460242,
     "end_time": "2023-09-04T06:04:38.361445",
     "exception": false,
     "start_time": "2023-09-04T06:04:36.901203",
     "status": "completed"
    },
    "tags": []
   },
   "outputs": [],
   "source": [
    "nlp=spacy.load(\"en_core_web_sm\")\n",
    "def filtered_words(text):\n",
    "    filtered_text=[]\n",
    "    doc=nlp(text)\n",
    "    for token in doc:\n",
    "        if token.is_stop or token.is_punct:\n",
    "            continue\n",
    "        filtered_text.append(token.lemma_)\n",
    "    return \" \".join(filtered_text)"
   ]
  },
  {
   "cell_type": "code",
   "execution_count": 6,
   "id": "e3d6d1de",
   "metadata": {
    "execution": {
     "iopub.execute_input": "2023-09-04T06:04:38.387645Z",
     "iopub.status.busy": "2023-09-04T06:04:38.387176Z",
     "iopub.status.idle": "2023-09-04T06:04:38.424210Z",
     "shell.execute_reply": "2023-09-04T06:04:38.422869Z"
    },
    "papermill": {
     "duration": 0.053643,
     "end_time": "2023-09-04T06:04:38.427289",
     "exception": false,
     "start_time": "2023-09-04T06:04:38.373646",
     "status": "completed"
    },
    "tags": []
   },
   "outputs": [
    {
     "data": {
      "text/plain": [
       "'Nepal have corruption problem'"
      ]
     },
     "execution_count": 6,
     "metadata": {},
     "output_type": "execute_result"
    }
   ],
   "source": [
    "filtered_words(\"Nepal is having many corruption problem.\")"
   ]
  },
  {
   "cell_type": "code",
   "execution_count": 7,
   "id": "8bc950a0",
   "metadata": {
    "execution": {
     "iopub.execute_input": "2023-09-04T06:04:38.453996Z",
     "iopub.status.busy": "2023-09-04T06:04:38.453549Z",
     "iopub.status.idle": "2023-09-04T06:04:38.471308Z",
     "shell.execute_reply": "2023-09-04T06:04:38.470003Z"
    },
    "papermill": {
     "duration": 0.034414,
     "end_time": "2023-09-04T06:04:38.474171",
     "exception": false,
     "start_time": "2023-09-04T06:04:38.439757",
     "status": "completed"
    },
    "tags": []
   },
   "outputs": [
    {
     "data": {
      "text/plain": [
       "'Loki eat pizza'"
      ]
     },
     "execution_count": 7,
     "metadata": {},
     "output_type": "execute_result"
    }
   ],
   "source": [
    "filtered_words(\"Loki is eating pizza\")"
   ]
  },
  {
   "cell_type": "code",
   "execution_count": 8,
   "id": "790eb7cd",
   "metadata": {
    "execution": {
     "iopub.execute_input": "2023-09-04T06:04:38.501448Z",
     "iopub.status.busy": "2023-09-04T06:04:38.500444Z",
     "iopub.status.idle": "2023-09-04T06:04:38.510420Z",
     "shell.execute_reply": "2023-09-04T06:04:38.509025Z"
    },
    "papermill": {
     "duration": 0.02703,
     "end_time": "2023-09-04T06:04:38.513527",
     "exception": false,
     "start_time": "2023-09-04T06:04:38.486497",
     "status": "completed"
    },
    "tags": []
   },
   "outputs": [
    {
     "data": {
      "text/plain": [
       "array([[0, 0, 0, 0, 0, 0, 0, 0, 0, 0, 0, 0, 0, 0, 0, 0, 0, 0, 0, 0, 0, 0,\n",
       "        0, 0, 0, 0, 0, 0, 0, 0, 0, 0, 0, 0, 0, 0, 0, 0, 0, 1, 0, 0, 0, 0,\n",
       "        0, 0, 0, 0, 0, 0, 0, 0, 0, 0, 0, 0, 0, 0, 0, 0, 0, 0, 0, 0, 0, 0,\n",
       "        0, 0, 0, 0, 0, 0, 0, 0, 0, 0, 0, 0, 0, 0, 0, 0, 0]])"
      ]
     },
     "execution_count": 8,
     "metadata": {},
     "output_type": "execute_result"
    }
   ],
   "source": [
    "model.transform([\"Nepal is having many corruption problem.\"]).toarray()"
   ]
  },
  {
   "cell_type": "code",
   "execution_count": 9,
   "id": "51395082",
   "metadata": {
    "execution": {
     "iopub.execute_input": "2023-09-04T06:04:38.540814Z",
     "iopub.status.busy": "2023-09-04T06:04:38.540390Z",
     "iopub.status.idle": "2023-09-04T06:04:38.657466Z",
     "shell.execute_reply": "2023-09-04T06:04:38.656064Z"
    },
    "papermill": {
     "duration": 0.134519,
     "end_time": "2023-09-04T06:04:38.660687",
     "exception": false,
     "start_time": "2023-09-04T06:04:38.526168",
     "status": "completed"
    },
    "tags": []
   },
   "outputs": [
    {
     "data": {
      "text/html": [
       "<div>\n",
       "<style scoped>\n",
       "    .dataframe tbody tr th:only-of-type {\n",
       "        vertical-align: middle;\n",
       "    }\n",
       "\n",
       "    .dataframe tbody tr th {\n",
       "        vertical-align: top;\n",
       "    }\n",
       "\n",
       "    .dataframe thead th {\n",
       "        text-align: right;\n",
       "    }\n",
       "</style>\n",
       "<table border=\"1\" class=\"dataframe\">\n",
       "  <thead>\n",
       "    <tr style=\"text-align: right;\">\n",
       "      <th></th>\n",
       "      <th>text</th>\n",
       "      <th>category</th>\n",
       "    </tr>\n",
       "  </thead>\n",
       "  <tbody>\n",
       "    <tr>\n",
       "      <th>0</th>\n",
       "      <td>Watching Schrödinger's Cat Die University of C...</td>\n",
       "      <td>SCIENCE</td>\n",
       "    </tr>\n",
       "    <tr>\n",
       "      <th>1</th>\n",
       "      <td>WATCH: Freaky Vortex Opens Up In Flooded Lake</td>\n",
       "      <td>SCIENCE</td>\n",
       "    </tr>\n",
       "    <tr>\n",
       "      <th>2</th>\n",
       "      <td>Entrepreneurs Today Don't Need a Big Budget to...</td>\n",
       "      <td>BUSINESS</td>\n",
       "    </tr>\n",
       "    <tr>\n",
       "      <th>3</th>\n",
       "      <td>These Roads Could Recharge Your Electric Car A...</td>\n",
       "      <td>BUSINESS</td>\n",
       "    </tr>\n",
       "    <tr>\n",
       "      <th>4</th>\n",
       "      <td>Civilian 'Guard' Fires Gun While 'Protecting' ...</td>\n",
       "      <td>CRIME</td>\n",
       "    </tr>\n",
       "  </tbody>\n",
       "</table>\n",
       "</div>"
      ],
      "text/plain": [
       "                                                text  category\n",
       "0  Watching Schrödinger's Cat Die University of C...   SCIENCE\n",
       "1     WATCH: Freaky Vortex Opens Up In Flooded Lake    SCIENCE\n",
       "2  Entrepreneurs Today Don't Need a Big Budget to...  BUSINESS\n",
       "3  These Roads Could Recharge Your Electric Car A...  BUSINESS\n",
       "4  Civilian 'Guard' Fires Gun While 'Protecting' ...     CRIME"
      ]
     },
     "execution_count": 9,
     "metadata": {},
     "output_type": "execute_result"
    }
   ],
   "source": [
    "import pandas as pd\n",
    "df=pd.read_json(\"/kaggle/input/json-dataset2/news_dataset.json\")\n",
    "df.head()"
   ]
  },
  {
   "cell_type": "code",
   "execution_count": 10,
   "id": "04c3680f",
   "metadata": {
    "execution": {
     "iopub.execute_input": "2023-09-04T06:04:38.688661Z",
     "iopub.status.busy": "2023-09-04T06:04:38.687531Z",
     "iopub.status.idle": "2023-09-04T06:04:38.694982Z",
     "shell.execute_reply": "2023-09-04T06:04:38.693919Z"
    },
    "papermill": {
     "duration": 0.023798,
     "end_time": "2023-09-04T06:04:38.697171",
     "exception": false,
     "start_time": "2023-09-04T06:04:38.673373",
     "status": "completed"
    },
    "tags": []
   },
   "outputs": [
    {
     "data": {
      "text/plain": [
       "(12695, 2)"
      ]
     },
     "execution_count": 10,
     "metadata": {},
     "output_type": "execute_result"
    }
   ],
   "source": [
    "df.shape"
   ]
  },
  {
   "cell_type": "code",
   "execution_count": 11,
   "id": "df9eb4b1",
   "metadata": {
    "execution": {
     "iopub.execute_input": "2023-09-04T06:04:38.724454Z",
     "iopub.status.busy": "2023-09-04T06:04:38.723737Z",
     "iopub.status.idle": "2023-09-04T06:04:38.731526Z",
     "shell.execute_reply": "2023-09-04T06:04:38.730085Z"
    },
    "papermill": {
     "duration": 0.024416,
     "end_time": "2023-09-04T06:04:38.734055",
     "exception": false,
     "start_time": "2023-09-04T06:04:38.709639",
     "status": "completed"
    },
    "tags": []
   },
   "outputs": [
    {
     "data": {
      "text/plain": [
       "Index(['text', 'category'], dtype='object')"
      ]
     },
     "execution_count": 11,
     "metadata": {},
     "output_type": "execute_result"
    }
   ],
   "source": [
    "df.columns"
   ]
  },
  {
   "cell_type": "code",
   "execution_count": 12,
   "id": "d7ea038e",
   "metadata": {
    "execution": {
     "iopub.execute_input": "2023-09-04T06:04:38.761074Z",
     "iopub.status.busy": "2023-09-04T06:04:38.760618Z",
     "iopub.status.idle": "2023-09-04T06:04:38.776564Z",
     "shell.execute_reply": "2023-09-04T06:04:38.775315Z"
    },
    "papermill": {
     "duration": 0.032733,
     "end_time": "2023-09-04T06:04:38.779408",
     "exception": false,
     "start_time": "2023-09-04T06:04:38.746675",
     "status": "completed"
    },
    "tags": []
   },
   "outputs": [
    {
     "data": {
      "text/plain": [
       "text        1\n",
       "category    1\n",
       "Name: count, dtype: int64"
      ]
     },
     "execution_count": 12,
     "metadata": {},
     "output_type": "execute_result"
    }
   ],
   "source": [
    "df.columns.value_counts()"
   ]
  },
  {
   "cell_type": "code",
   "execution_count": 13,
   "id": "90bf099e",
   "metadata": {
    "execution": {
     "iopub.execute_input": "2023-09-04T06:04:38.808636Z",
     "iopub.status.busy": "2023-09-04T06:04:38.808199Z",
     "iopub.status.idle": "2023-09-04T06:04:38.821204Z",
     "shell.execute_reply": "2023-09-04T06:04:38.819871Z"
    },
    "papermill": {
     "duration": 0.030857,
     "end_time": "2023-09-04T06:04:38.823774",
     "exception": false,
     "start_time": "2023-09-04T06:04:38.792917",
     "status": "completed"
    },
    "tags": []
   },
   "outputs": [
    {
     "data": {
      "text/plain": [
       "category\n",
       "BUSINESS    4254\n",
       "SPORTS      4167\n",
       "CRIME       2893\n",
       "SCIENCE     1381\n",
       "Name: count, dtype: int64"
      ]
     },
     "execution_count": 13,
     "metadata": {},
     "output_type": "execute_result"
    }
   ],
   "source": [
    "df.category.value_counts()"
   ]
  },
  {
   "cell_type": "code",
   "execution_count": 14,
   "id": "12f969db",
   "metadata": {
    "execution": {
     "iopub.execute_input": "2023-09-04T06:04:38.852416Z",
     "iopub.status.busy": "2023-09-04T06:04:38.851758Z",
     "iopub.status.idle": "2023-09-04T06:04:38.877859Z",
     "shell.execute_reply": "2023-09-04T06:04:38.876402Z"
    },
    "papermill": {
     "duration": 0.044286,
     "end_time": "2023-09-04T06:04:38.881223",
     "exception": false,
     "start_time": "2023-09-04T06:04:38.836937",
     "status": "completed"
    },
    "tags": []
   },
   "outputs": [],
   "source": [
    "min_samples=1381\n",
    "df_business=df[df['category']==\"BUSINESS\"].sample(min_samples,random_state=42)\n",
    "df_sports=df[df['category']==\"SPORTS\"].sample(min_samples,random_state=42)\n",
    "df_crime=df[df['category']==\"CRIME\"].sample(min_samples,random_state=42)\n",
    "df_science=df[df['category']==\"SCIENCE\"].sample(min_samples,random_state=42)"
   ]
  },
  {
   "cell_type": "code",
   "execution_count": 15,
   "id": "3a098fd6",
   "metadata": {
    "execution": {
     "iopub.execute_input": "2023-09-04T06:04:38.912011Z",
     "iopub.status.busy": "2023-09-04T06:04:38.911172Z",
     "iopub.status.idle": "2023-09-04T06:04:38.917727Z",
     "shell.execute_reply": "2023-09-04T06:04:38.916802Z"
    },
    "papermill": {
     "duration": 0.025314,
     "end_time": "2023-09-04T06:04:38.920436",
     "exception": false,
     "start_time": "2023-09-04T06:04:38.895122",
     "status": "completed"
    },
    "tags": []
   },
   "outputs": [],
   "source": [
    "df_balanced=pd.concat([df_business,df_sports,df_crime,df_science],axis=0)"
   ]
  },
  {
   "cell_type": "code",
   "execution_count": 16,
   "id": "e06522aa",
   "metadata": {
    "execution": {
     "iopub.execute_input": "2023-09-04T06:04:38.950007Z",
     "iopub.status.busy": "2023-09-04T06:04:38.949143Z",
     "iopub.status.idle": "2023-09-04T06:04:38.960012Z",
     "shell.execute_reply": "2023-09-04T06:04:38.958715Z"
    },
    "papermill": {
     "duration": 0.028593,
     "end_time": "2023-09-04T06:04:38.962540",
     "exception": false,
     "start_time": "2023-09-04T06:04:38.933947",
     "status": "completed"
    },
    "tags": []
   },
   "outputs": [
    {
     "data": {
      "text/plain": [
       "category\n",
       "BUSINESS    1381\n",
       "SPORTS      1381\n",
       "CRIME       1381\n",
       "SCIENCE     1381\n",
       "Name: count, dtype: int64"
      ]
     },
     "execution_count": 16,
     "metadata": {},
     "output_type": "execute_result"
    }
   ],
   "source": [
    "df_balanced['category'].value_counts()"
   ]
  },
  {
   "cell_type": "code",
   "execution_count": 17,
   "id": "d100d62f",
   "metadata": {
    "execution": {
     "iopub.execute_input": "2023-09-04T06:04:38.992649Z",
     "iopub.status.busy": "2023-09-04T06:04:38.991639Z",
     "iopub.status.idle": "2023-09-04T06:04:39.009999Z",
     "shell.execute_reply": "2023-09-04T06:04:39.008980Z"
    },
    "papermill": {
     "duration": 0.036833,
     "end_time": "2023-09-04T06:04:39.013166",
     "exception": false,
     "start_time": "2023-09-04T06:04:38.976333",
     "status": "completed"
    },
    "tags": []
   },
   "outputs": [],
   "source": [
    "df_balanced['category_num']=df['category'].map({\"BUSINESS\":0,\"SPORTS\":1,\"CRIME\":2,\"SCIENCE\":3})"
   ]
  },
  {
   "cell_type": "code",
   "execution_count": 18,
   "id": "fcdd0ed4",
   "metadata": {
    "execution": {
     "iopub.execute_input": "2023-09-04T06:04:39.042809Z",
     "iopub.status.busy": "2023-09-04T06:04:39.042041Z",
     "iopub.status.idle": "2023-09-04T06:04:39.056042Z",
     "shell.execute_reply": "2023-09-04T06:04:39.054857Z"
    },
    "papermill": {
     "duration": 0.031765,
     "end_time": "2023-09-04T06:04:39.058696",
     "exception": false,
     "start_time": "2023-09-04T06:04:39.026931",
     "status": "completed"
    },
    "tags": []
   },
   "outputs": [
    {
     "data": {
      "text/html": [
       "<div>\n",
       "<style scoped>\n",
       "    .dataframe tbody tr th:only-of-type {\n",
       "        vertical-align: middle;\n",
       "    }\n",
       "\n",
       "    .dataframe tbody tr th {\n",
       "        vertical-align: top;\n",
       "    }\n",
       "\n",
       "    .dataframe thead th {\n",
       "        text-align: right;\n",
       "    }\n",
       "</style>\n",
       "<table border=\"1\" class=\"dataframe\">\n",
       "  <thead>\n",
       "    <tr style=\"text-align: right;\">\n",
       "      <th></th>\n",
       "      <th>text</th>\n",
       "      <th>category</th>\n",
       "      <th>category_num</th>\n",
       "    </tr>\n",
       "  </thead>\n",
       "  <tbody>\n",
       "    <tr>\n",
       "      <th>594</th>\n",
       "      <td>How to Develop the Next Generation of Innovato...</td>\n",
       "      <td>BUSINESS</td>\n",
       "      <td>0</td>\n",
       "    </tr>\n",
       "    <tr>\n",
       "      <th>3093</th>\n",
       "      <td>Madoff Victims' Payout Nears $7.2 Billion, Tru...</td>\n",
       "      <td>BUSINESS</td>\n",
       "      <td>0</td>\n",
       "    </tr>\n",
       "    <tr>\n",
       "      <th>7447</th>\n",
       "      <td>Bay Area Floats 'Sanctuary In Transit Policy' ...</td>\n",
       "      <td>BUSINESS</td>\n",
       "      <td>0</td>\n",
       "    </tr>\n",
       "    <tr>\n",
       "      <th>10388</th>\n",
       "      <td>Microsoft Agrees To Acquire LinkedIn For $26.2...</td>\n",
       "      <td>BUSINESS</td>\n",
       "      <td>0</td>\n",
       "    </tr>\n",
       "    <tr>\n",
       "      <th>1782</th>\n",
       "      <td>Inside A Legal, Multibillion Dollar Weed Market</td>\n",
       "      <td>BUSINESS</td>\n",
       "      <td>0</td>\n",
       "    </tr>\n",
       "    <tr>\n",
       "      <th>...</th>\n",
       "      <td>...</td>\n",
       "      <td>...</td>\n",
       "      <td>...</td>\n",
       "    </tr>\n",
       "    <tr>\n",
       "      <th>9924</th>\n",
       "      <td>A Call for Data Literacy If we care about youn...</td>\n",
       "      <td>SCIENCE</td>\n",
       "      <td>3</td>\n",
       "    </tr>\n",
       "    <tr>\n",
       "      <th>10219</th>\n",
       "      <td>Here's What Happens When Someone Sneezes On An...</td>\n",
       "      <td>SCIENCE</td>\n",
       "      <td>3</td>\n",
       "    </tr>\n",
       "    <tr>\n",
       "      <th>11884</th>\n",
       "      <td>Most People Don't See How Climate Change Is Af...</td>\n",
       "      <td>SCIENCE</td>\n",
       "      <td>3</td>\n",
       "    </tr>\n",
       "    <tr>\n",
       "      <th>7854</th>\n",
       "      <td>Watch Octopuses Meet for Blind Date, Tricky Se...</td>\n",
       "      <td>SCIENCE</td>\n",
       "      <td>3</td>\n",
       "    </tr>\n",
       "    <tr>\n",
       "      <th>10191</th>\n",
       "      <td>The World Of Science Has A Lot To Look Forward...</td>\n",
       "      <td>SCIENCE</td>\n",
       "      <td>3</td>\n",
       "    </tr>\n",
       "  </tbody>\n",
       "</table>\n",
       "<p>5524 rows × 3 columns</p>\n",
       "</div>"
      ],
      "text/plain": [
       "                                                    text  category  \\\n",
       "594    How to Develop the Next Generation of Innovato...  BUSINESS   \n",
       "3093   Madoff Victims' Payout Nears $7.2 Billion, Tru...  BUSINESS   \n",
       "7447   Bay Area Floats 'Sanctuary In Transit Policy' ...  BUSINESS   \n",
       "10388  Microsoft Agrees To Acquire LinkedIn For $26.2...  BUSINESS   \n",
       "1782    Inside A Legal, Multibillion Dollar Weed Market   BUSINESS   \n",
       "...                                                  ...       ...   \n",
       "9924   A Call for Data Literacy If we care about youn...   SCIENCE   \n",
       "10219  Here's What Happens When Someone Sneezes On An...   SCIENCE   \n",
       "11884  Most People Don't See How Climate Change Is Af...   SCIENCE   \n",
       "7854   Watch Octopuses Meet for Blind Date, Tricky Se...   SCIENCE   \n",
       "10191  The World Of Science Has A Lot To Look Forward...   SCIENCE   \n",
       "\n",
       "       category_num  \n",
       "594               0  \n",
       "3093              0  \n",
       "7447              0  \n",
       "10388             0  \n",
       "1782              0  \n",
       "...             ...  \n",
       "9924              3  \n",
       "10219             3  \n",
       "11884             3  \n",
       "7854              3  \n",
       "10191             3  \n",
       "\n",
       "[5524 rows x 3 columns]"
      ]
     },
     "execution_count": 18,
     "metadata": {},
     "output_type": "execute_result"
    }
   ],
   "source": [
    "df_balanced"
   ]
  },
  {
   "cell_type": "markdown",
   "id": "3e598653",
   "metadata": {
    "papermill": {
     "duration": 0.013658,
     "end_time": "2023-09-04T06:04:39.086160",
     "exception": false,
     "start_time": "2023-09-04T06:04:39.072502",
     "status": "completed"
    },
    "tags": []
   },
   "source": [
    "# Model Building"
   ]
  },
  {
   "cell_type": "code",
   "execution_count": 19,
   "id": "8c118c1b",
   "metadata": {
    "execution": {
     "iopub.execute_input": "2023-09-04T06:04:39.115760Z",
     "iopub.status.busy": "2023-09-04T06:04:39.115311Z",
     "iopub.status.idle": "2023-09-04T06:04:39.250764Z",
     "shell.execute_reply": "2023-09-04T06:04:39.249423Z"
    },
    "papermill": {
     "duration": 0.154111,
     "end_time": "2023-09-04T06:04:39.254059",
     "exception": false,
     "start_time": "2023-09-04T06:04:39.099948",
     "status": "completed"
    },
    "tags": []
   },
   "outputs": [],
   "source": [
    "import sklearn\n",
    "from sklearn.model_selection import train_test_split\n",
    "x=df_balanced['text']\n",
    "y=df_balanced['category_num']\n",
    "X_train,X_test,y_train,y_test=train_test_split(x,y,test_size=0.2,random_state=42,stratify=df_balanced.category_num)\n"
   ]
  },
  {
   "cell_type": "code",
   "execution_count": 20,
   "id": "ae281af5",
   "metadata": {
    "execution": {
     "iopub.execute_input": "2023-09-04T06:04:39.284404Z",
     "iopub.status.busy": "2023-09-04T06:04:39.283601Z",
     "iopub.status.idle": "2023-09-04T06:04:39.289692Z",
     "shell.execute_reply": "2023-09-04T06:04:39.288893Z"
    },
    "papermill": {
     "duration": 0.023829,
     "end_time": "2023-09-04T06:04:39.291926",
     "exception": false,
     "start_time": "2023-09-04T06:04:39.268097",
     "status": "completed"
    },
    "tags": []
   },
   "outputs": [
    {
     "data": {
      "text/plain": [
       "(1105,)"
      ]
     },
     "execution_count": 20,
     "metadata": {},
     "output_type": "execute_result"
    }
   ],
   "source": [
    "X_test.shape"
   ]
  },
  {
   "cell_type": "code",
   "execution_count": 21,
   "id": "b8fe801a",
   "metadata": {
    "execution": {
     "iopub.execute_input": "2023-09-04T06:04:39.323343Z",
     "iopub.status.busy": "2023-09-04T06:04:39.322555Z",
     "iopub.status.idle": "2023-09-04T06:04:39.329657Z",
     "shell.execute_reply": "2023-09-04T06:04:39.328487Z"
    },
    "papermill": {
     "duration": 0.026268,
     "end_time": "2023-09-04T06:04:39.332024",
     "exception": false,
     "start_time": "2023-09-04T06:04:39.305756",
     "status": "completed"
    },
    "tags": []
   },
   "outputs": [
    {
     "data": {
      "text/plain": [
       "(4419,)"
      ]
     },
     "execution_count": 21,
     "metadata": {},
     "output_type": "execute_result"
    }
   ],
   "source": [
    "X_train.shape"
   ]
  },
  {
   "cell_type": "code",
   "execution_count": 22,
   "id": "a3f53520",
   "metadata": {
    "execution": {
     "iopub.execute_input": "2023-09-04T06:04:39.362834Z",
     "iopub.status.busy": "2023-09-04T06:04:39.362057Z",
     "iopub.status.idle": "2023-09-04T06:04:39.368955Z",
     "shell.execute_reply": "2023-09-04T06:04:39.367460Z"
    },
    "papermill": {
     "duration": 0.025206,
     "end_time": "2023-09-04T06:04:39.371417",
     "exception": false,
     "start_time": "2023-09-04T06:04:39.346211",
     "status": "completed"
    },
    "tags": []
   },
   "outputs": [
    {
     "data": {
      "text/plain": [
       "(1105,)"
      ]
     },
     "execution_count": 22,
     "metadata": {},
     "output_type": "execute_result"
    }
   ],
   "source": [
    "y_test.shape"
   ]
  },
  {
   "cell_type": "code",
   "execution_count": 23,
   "id": "d3cf6654",
   "metadata": {
    "execution": {
     "iopub.execute_input": "2023-09-04T06:04:39.403380Z",
     "iopub.status.busy": "2023-09-04T06:04:39.402558Z",
     "iopub.status.idle": "2023-09-04T06:04:39.408671Z",
     "shell.execute_reply": "2023-09-04T06:04:39.407874Z"
    },
    "papermill": {
     "duration": 0.024661,
     "end_time": "2023-09-04T06:04:39.410947",
     "exception": false,
     "start_time": "2023-09-04T06:04:39.386286",
     "status": "completed"
    },
    "tags": []
   },
   "outputs": [
    {
     "data": {
      "text/plain": [
       "(4419,)"
      ]
     },
     "execution_count": 23,
     "metadata": {},
     "output_type": "execute_result"
    }
   ],
   "source": [
    "y_train.shape"
   ]
  },
  {
   "cell_type": "code",
   "execution_count": 24,
   "id": "54ac4df4",
   "metadata": {
    "execution": {
     "iopub.execute_input": "2023-09-04T06:04:39.443709Z",
     "iopub.status.busy": "2023-09-04T06:04:39.442964Z",
     "iopub.status.idle": "2023-09-04T06:04:39.753535Z",
     "shell.execute_reply": "2023-09-04T06:04:39.751922Z"
    },
    "papermill": {
     "duration": 0.329942,
     "end_time": "2023-09-04T06:04:39.756310",
     "exception": false,
     "start_time": "2023-09-04T06:04:39.426368",
     "status": "completed"
    },
    "tags": []
   },
   "outputs": [
    {
     "name": "stdout",
     "output_type": "stream",
     "text": [
      "              precision    recall  f1-score   support\n",
      "\n",
      "           0       0.78      0.92      0.84       276\n",
      "           1       0.92      0.85      0.88       276\n",
      "           2       0.91      0.89      0.90       277\n",
      "           3       0.89      0.82      0.85       276\n",
      "\n",
      "    accuracy                           0.87      1105\n",
      "   macro avg       0.88      0.87      0.87      1105\n",
      "weighted avg       0.88      0.87      0.87      1105\n",
      "\n"
     ]
    }
   ],
   "source": [
    "from sklearn.naive_bayes import MultinomialNB\n",
    "from sklearn.pipeline import Pipeline\n",
    "from sklearn.metrics import classification_report\n",
    "\n",
    "clf = Pipeline([\n",
    "     ('vectorizer_bow', CountVectorizer(ngram_range = (1, 1))),        #using the ngram_range parameter \n",
    "     ('Multi NB', MultinomialNB())         \n",
    "])\n",
    "\n",
    "clf.fit(X_train,y_train)\n",
    "y_pred=clf.predict(X_test)\n",
    "print(classification_report(y_test,y_pred))"
   ]
  },
  {
   "cell_type": "code",
   "execution_count": 25,
   "id": "5970ee31",
   "metadata": {
    "execution": {
     "iopub.execute_input": "2023-09-04T06:04:39.789258Z",
     "iopub.status.busy": "2023-09-04T06:04:39.788478Z",
     "iopub.status.idle": "2023-09-04T06:04:40.757999Z",
     "shell.execute_reply": "2023-09-04T06:04:40.756681Z"
    },
    "papermill": {
     "duration": 0.989414,
     "end_time": "2023-09-04T06:04:40.760546",
     "exception": false,
     "start_time": "2023-09-04T06:04:39.771132",
     "status": "completed"
    },
    "tags": []
   },
   "outputs": [
    {
     "data": {
      "text/plain": [
       "Text(70.72222222222221, 0.5, 'truth')"
      ]
     },
     "execution_count": 25,
     "metadata": {},
     "output_type": "execute_result"
    },
    {
     "data": {
      "image/png": "[encoded data removed]",
      "text/plain": [
       "<Figure size 800x800 with 2 Axes>"
      ]
     },
     "metadata": {},
     "output_type": "display_data"
    }
   ],
   "source": [
    "from sklearn.metrics import confusion_matrix\n",
    "cm=confusion_matrix(y_test,y_pred)\n",
    "cm\n",
    "from matplotlib import pyplot as plt\n",
    "import seaborn as sns\n",
    "plt.figure(figsize=(8,8))\n",
    "sns.heatmap(cm,annot=True)\n",
    "plt.xlabel(\"prediction\")\n",
    "plt.ylabel(\"truth\")"
   ]
  },
  {
   "cell_type": "code",
   "execution_count": null,
   "id": "9d9c26a1",
   "metadata": {
    "papermill": {
     "duration": 0.015059,
     "end_time": "2023-09-04T06:04:40.790471",
     "exception": false,
     "start_time": "2023-09-04T06:04:40.775412",
     "status": "completed"
    },
    "tags": []
   },
   "outputs": [],
   "source": []
  }
 ],
 "kernelspec": {
  "display_name": "Python 3",
  "language": "python",
  "name": "python3"
 },
 "language_info": {
  "codemirror_mode": {
   "name": "ipython",
   "version": 3
  },
  "file_extension": ".py",
  "mimetype": "text/x-python",
  "name": "python",
  "nbconvert_exporter": "python",
  "pygments_lexer": "ipython3",
  "version": "3.6.4"
 },
 "metadata": {
  "kernelspec": {
   "display_name": "Python 3",
   "language": "python",
   "name": "python3"
  },
  "language_info": {
   "codemirror_mode": {
    "name": "ipython",
    "version": 3
   },
   "file_extension": ".py",
   "mimetype": "text/x-python",
   "name": "python",
   "nbconvert_exporter": "python",
   "pygments_lexer": "ipython3",
   "version": "3.10.12"
  },
  "papermill": {
   "default_parameters": {},
   "duration": 30.693796,
   "end_time": "2023-09-04T06:04:44.244093",
   "environment_variables": {},
   "exception": null,
   "input_path": "__notebook__.ipynb",
   "output_path": "__notebook__.ipynb",
   "parameters": {},
   "start_time": "2023-09-04T06:04:13.550297",
   "version": "2.4.0"
  }
 },
 "nbformat": 4,
 "nbformat_minor": 5
}
