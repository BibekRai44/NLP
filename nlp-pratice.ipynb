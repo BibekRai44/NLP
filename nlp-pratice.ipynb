{
 "cells": [
  {
   "cell_type": "code",
   "execution_count": 1,
   "id": "19e60c59",
   "metadata": {
    "_cell_guid": "b1076dfc-b9ad-4769-8c92-a6c4dae69d19",
    "_uuid": "8f2839f25d086af736a60e9eeb907d3b93b6e0e5",
    "execution": {
     "iopub.execute_input": "2023-09-02T03:20:40.303944Z",
     "iopub.status.busy": "2023-09-02T03:20:40.303433Z",
     "iopub.status.idle": "2023-09-02T03:20:40.317664Z",
     "shell.execute_reply": "2023-09-02T03:20:40.316061Z"
    },
    "papermill": {
     "duration": 0.0424,
     "end_time": "2023-09-02T03:20:40.320953",
     "exception": false,
     "start_time": "2023-09-02T03:20:40.278553",
     "status": "completed"
    },
    "tags": []
   },
   "outputs": [],
   "source": [
    "import warnings\n",
    "warnings.filterwarnings('ignore')"
   ]
  },
  {
   "cell_type": "code",
   "execution_count": 2,
   "id": "8cffbf8f",
   "metadata": {
    "execution": {
     "iopub.execute_input": "2023-09-02T03:20:40.365217Z",
     "iopub.status.busy": "2023-09-02T03:20:40.363931Z",
     "iopub.status.idle": "2023-09-02T03:20:57.922844Z",
     "shell.execute_reply": "2023-09-02T03:20:57.920079Z"
    },
    "papermill": {
     "duration": 17.584406,
     "end_time": "2023-09-02T03:20:57.925698",
     "exception": false,
     "start_time": "2023-09-02T03:20:40.341292",
     "status": "completed"
    },
    "tags": []
   },
   "outputs": [
    {
     "name": "stdout",
     "output_type": "stream",
     "text": [
      "Dr. Ashok just visited kathmandu.\n",
      "He was very happy.\n"
     ]
    }
   ],
   "source": [
    "import spacy\n",
    "nlp = spacy.load(\"en_core_web_sm\")\n",
    "\n",
    "\n",
    "doc = nlp(\"Dr. Ashok just visited kathmandu. He was very happy.\")\n",
    "for sentence in doc.sents:\n",
    "    print(sentence)"
   ]
  },
  {
   "cell_type": "code",
   "execution_count": 3,
   "id": "6fb8341b",
   "metadata": {
    "execution": {
     "iopub.execute_input": "2023-09-02T03:20:57.968662Z",
     "iopub.status.busy": "2023-09-02T03:20:57.967151Z",
     "iopub.status.idle": "2023-09-02T03:20:57.974779Z",
     "shell.execute_reply": "2023-09-02T03:20:57.973283Z"
    },
    "papermill": {
     "duration": 0.031989,
     "end_time": "2023-09-02T03:20:57.977335",
     "exception": false,
     "start_time": "2023-09-02T03:20:57.945346",
     "status": "completed"
    },
    "tags": []
   },
   "outputs": [
    {
     "name": "stdout",
     "output_type": "stream",
     "text": [
      "Dr.\n",
      "Ashok\n",
      "just\n",
      "visited\n",
      "kathmandu\n",
      ".\n",
      "He\n",
      "was\n",
      "very\n",
      "happy\n",
      ".\n"
     ]
    }
   ],
   "source": [
    "for sentence in doc.sents:\n",
    "    for word in sentence:\n",
    "        print(word)"
   ]
  },
  {
   "cell_type": "code",
   "execution_count": 4,
   "id": "4000f416",
   "metadata": {
    "execution": {
     "iopub.execute_input": "2023-09-02T03:20:58.019755Z",
     "iopub.status.busy": "2023-09-02T03:20:58.018827Z",
     "iopub.status.idle": "2023-09-02T03:20:58.026447Z",
     "shell.execute_reply": "2023-09-02T03:20:58.024690Z"
    },
    "papermill": {
     "duration": 0.031731,
     "end_time": "2023-09-02T03:20:58.028868",
     "exception": false,
     "start_time": "2023-09-02T03:20:57.997137",
     "status": "completed"
    },
    "tags": []
   },
   "outputs": [
    {
     "name": "stdout",
     "output_type": "stream",
     "text": [
      "Dr.\n",
      "Ashok\n",
      "just\n",
      "visited\n",
      "kathmandu\n",
      ".\n",
      "He\n",
      "was\n",
      "very\n",
      "happy\n",
      ".\n"
     ]
    }
   ],
   "source": [
    "for token in doc:\n",
    "    print(token)"
   ]
  },
  {
   "cell_type": "code",
   "execution_count": 5,
   "id": "e84b350b",
   "metadata": {
    "execution": {
     "iopub.execute_input": "2023-09-02T03:20:58.071426Z",
     "iopub.status.busy": "2023-09-02T03:20:58.071005Z",
     "iopub.status.idle": "2023-09-02T03:20:58.089433Z",
     "shell.execute_reply": "2023-09-02T03:20:58.088406Z"
    },
    "papermill": {
     "duration": 0.04372,
     "end_time": "2023-09-02T03:20:58.092814",
     "exception": false,
     "start_time": "2023-09-02T03:20:58.049094",
     "status": "completed"
    },
    "tags": []
   },
   "outputs": [
    {
     "name": "stdout",
     "output_type": "stream",
     "text": [
      "\"\n",
      "N.Y\n",
      "is\n",
      "a\n",
      "great\n",
      "city\n",
      "\"\n"
     ]
    }
   ],
   "source": [
    "test_sentence=nlp('''\"N.Y is a great city\"''')\n",
    "for token in test_sentence:\n",
    "    print(token)\n"
   ]
  },
  {
   "cell_type": "code",
   "execution_count": 6,
   "id": "7f873c5c",
   "metadata": {
    "execution": {
     "iopub.execute_input": "2023-09-02T03:20:58.140605Z",
     "iopub.status.busy": "2023-09-02T03:20:58.140108Z",
     "iopub.status.idle": "2023-09-02T03:20:58.149638Z",
     "shell.execute_reply": "2023-09-02T03:20:58.148037Z"
    },
    "papermill": {
     "duration": 0.037315,
     "end_time": "2023-09-02T03:20:58.152801",
     "exception": false,
     "start_time": "2023-09-02T03:20:58.115486",
     "status": "completed"
    },
    "tags": []
   },
   "outputs": [
    {
     "data": {
      "text/plain": [
       "spacy.lang.en.English"
      ]
     },
     "execution_count": 6,
     "metadata": {},
     "output_type": "execute_result"
    }
   ],
   "source": [
    "type(nlp)"
   ]
  },
  {
   "cell_type": "code",
   "execution_count": 7,
   "id": "85ef3236",
   "metadata": {
    "execution": {
     "iopub.execute_input": "2023-09-02T03:20:58.202252Z",
     "iopub.status.busy": "2023-09-02T03:20:58.201042Z",
     "iopub.status.idle": "2023-09-02T03:20:58.210424Z",
     "shell.execute_reply": "2023-09-02T03:20:58.208656Z"
    },
    "papermill": {
     "duration": 0.037706,
     "end_time": "2023-09-02T03:20:58.213667",
     "exception": false,
     "start_time": "2023-09-02T03:20:58.175961",
     "status": "completed"
    },
    "tags": []
   },
   "outputs": [
    {
     "data": {
      "text/plain": [
       "spacy.tokens.doc.Doc"
      ]
     },
     "execution_count": 7,
     "metadata": {},
     "output_type": "execute_result"
    }
   ],
   "source": [
    "type(doc)"
   ]
  },
  {
   "cell_type": "code",
   "execution_count": 8,
   "id": "c1353ec5",
   "metadata": {
    "execution": {
     "iopub.execute_input": "2023-09-02T03:20:58.262316Z",
     "iopub.status.busy": "2023-09-02T03:20:58.261846Z",
     "iopub.status.idle": "2023-09-02T03:20:58.270661Z",
     "shell.execute_reply": "2023-09-02T03:20:58.269065Z"
    },
    "papermill": {
     "duration": 0.03562,
     "end_time": "2023-09-02T03:20:58.273440",
     "exception": false,
     "start_time": "2023-09-02T03:20:58.237820",
     "status": "completed"
    },
    "tags": []
   },
   "outputs": [
    {
     "data": {
      "text/plain": [
       "spacy.tokens.doc.Doc"
      ]
     },
     "execution_count": 8,
     "metadata": {},
     "output_type": "execute_result"
    }
   ],
   "source": [
    "type(test_sentence)"
   ]
  },
  {
   "cell_type": "code",
   "execution_count": 9,
   "id": "e2a62c4d",
   "metadata": {
    "execution": {
     "iopub.execute_input": "2023-09-02T03:20:58.322830Z",
     "iopub.status.busy": "2023-09-02T03:20:58.322309Z",
     "iopub.status.idle": "2023-09-02T03:20:58.330538Z",
     "shell.execute_reply": "2023-09-02T03:20:58.329316Z"
    },
    "papermill": {
     "duration": 0.036161,
     "end_time": "2023-09-02T03:20:58.332945",
     "exception": false,
     "start_time": "2023-09-02T03:20:58.296784",
     "status": "completed"
    },
    "tags": []
   },
   "outputs": [
    {
     "data": {
      "text/plain": [
       "spacy.tokens.token.Token"
      ]
     },
     "execution_count": 9,
     "metadata": {},
     "output_type": "execute_result"
    }
   ],
   "source": [
    "type(token)"
   ]
  },
  {
   "cell_type": "code",
   "execution_count": 10,
   "id": "9e93131d",
   "metadata": {
    "execution": {
     "iopub.execute_input": "2023-09-02T03:20:58.380587Z",
     "iopub.status.busy": "2023-09-02T03:20:58.380184Z",
     "iopub.status.idle": "2023-09-02T03:20:58.402299Z",
     "shell.execute_reply": "2023-09-02T03:20:58.400633Z"
    },
    "papermill": {
     "duration": 0.049995,
     "end_time": "2023-09-02T03:20:58.405475",
     "exception": false,
     "start_time": "2023-09-02T03:20:58.355480",
     "status": "completed"
    },
    "tags": []
   },
   "outputs": [
    {
     "name": "stdout",
     "output_type": "stream",
     "text": [
      "['asmit123@gmail.com is asmit gmail id.\\n', 'kishor342@gmail.com is kishor gmail id.\\n', 'bibekrai655@gmail.com is bibek gmail.id.']\n"
     ]
    }
   ],
   "source": [
    "with open(\"/kaggle/input/added-data/friends.txt\") as f:\n",
    "    text=f.readlines()\n",
    "print(text)"
   ]
  },
  {
   "cell_type": "code",
   "execution_count": 11,
   "id": "ea3b208d",
   "metadata": {
    "execution": {
     "iopub.execute_input": "2023-09-02T03:20:58.451642Z",
     "iopub.status.busy": "2023-09-02T03:20:58.451084Z",
     "iopub.status.idle": "2023-09-02T03:20:58.457622Z",
     "shell.execute_reply": "2023-09-02T03:20:58.456890Z"
    },
    "papermill": {
     "duration": 0.032923,
     "end_time": "2023-09-02T03:20:58.460076",
     "exception": false,
     "start_time": "2023-09-02T03:20:58.427153",
     "status": "completed"
    },
    "tags": []
   },
   "outputs": [
    {
     "data": {
      "text/plain": [
       "'asmit123@gmail.com is asmit gmail id.\\nkishor342@gmail.com is kishor gmail id.\\nbibekrai655@gmail.com is bibek gmail.id.'"
      ]
     },
     "execution_count": 11,
     "metadata": {},
     "output_type": "execute_result"
    }
   ],
   "source": [
    "text=''.join(text)\n",
    "text"
   ]
  },
  {
   "cell_type": "code",
   "execution_count": 12,
   "id": "f7be68ef",
   "metadata": {
    "execution": {
     "iopub.execute_input": "2023-09-02T03:20:58.503784Z",
     "iopub.status.busy": "2023-09-02T03:20:58.503325Z",
     "iopub.status.idle": "2023-09-02T03:20:58.532745Z",
     "shell.execute_reply": "2023-09-02T03:20:58.531667Z"
    },
    "papermill": {
     "duration": 0.053995,
     "end_time": "2023-09-02T03:20:58.535011",
     "exception": false,
     "start_time": "2023-09-02T03:20:58.481016",
     "status": "completed"
    },
    "tags": []
   },
   "outputs": [
    {
     "data": {
      "text/plain": [
       "['asmit123@gmail.com', 'kishor342@gmail.com', 'bibekrai655@gmail.com']"
      ]
     },
     "execution_count": 12,
     "metadata": {},
     "output_type": "execute_result"
    }
   ],
   "source": [
    "doc=nlp(text)\n",
    "emails=[]\n",
    "for token in doc:\n",
    "    if token.like_email:\n",
    "        emails.append(token.text)\n",
    "emails"
   ]
  },
  {
   "cell_type": "code",
   "execution_count": 13,
   "id": "0c87399c",
   "metadata": {
    "execution": {
     "iopub.execute_input": "2023-09-02T03:20:58.580445Z",
     "iopub.status.busy": "2023-09-02T03:20:58.579901Z",
     "iopub.status.idle": "2023-09-02T03:20:58.755892Z",
     "shell.execute_reply": "2023-09-02T03:20:58.754086Z"
    },
    "papermill": {
     "duration": 0.20285,
     "end_time": "2023-09-02T03:20:58.758849",
     "exception": false,
     "start_time": "2023-09-02T03:20:58.555999",
     "status": "completed"
    },
    "tags": []
   },
   "outputs": [
    {
     "name": "stdout",
     "output_type": "stream",
     "text": [
      "के False False\n",
      "तारिका False False\n",
      "हो False False\n",
      "? False False\n",
      "  False False\n",
      "$ True False\n",
      "५००० False True\n",
      "जाती False False\n",
      "येही False False\n",
      "राखेको False False\n",
      "कहा False False\n",
      "हरियो False False\n"
     ]
    }
   ],
   "source": [
    "nlp=spacy.blank('ne')\n",
    "doc=nlp(\"के तारिका हो ?  $ ५००० जाती येही राखेको कहा हरियो\")\n",
    "for token in doc:\n",
    "    print(token,token.is_currency,token.like_num)"
   ]
  },
  {
   "cell_type": "code",
   "execution_count": 14,
   "id": "e61d2471",
   "metadata": {
    "execution": {
     "iopub.execute_input": "2023-09-02T03:20:58.805088Z",
     "iopub.status.busy": "2023-09-02T03:20:58.804511Z",
     "iopub.status.idle": "2023-09-02T03:20:59.138485Z",
     "shell.execute_reply": "2023-09-02T03:20:59.137002Z"
    },
    "papermill": {
     "duration": 0.36057,
     "end_time": "2023-09-02T03:20:59.141551",
     "exception": false,
     "start_time": "2023-09-02T03:20:58.780981",
     "status": "completed"
    },
    "tags": []
   },
   "outputs": [
    {
     "data": {
      "text/plain": [
       "[gimme, the, cars, keys]"
      ]
     },
     "execution_count": 14,
     "metadata": {},
     "output_type": "execute_result"
    }
   ],
   "source": [
    "nlp=spacy.blank(\"en\")\n",
    "text=nlp(\"gimme the cars keys\")\n",
    "text_list=[]\n",
    "for token in text:\n",
    "    text_list.append(token)\n",
    "text_list"
   ]
  },
  {
   "cell_type": "code",
   "execution_count": 15,
   "id": "a5fb5d48",
   "metadata": {
    "execution": {
     "iopub.execute_input": "2023-09-02T03:20:59.187423Z",
     "iopub.status.busy": "2023-09-02T03:20:59.186887Z",
     "iopub.status.idle": "2023-09-02T03:20:59.198082Z",
     "shell.execute_reply": "2023-09-02T03:20:59.196629Z"
    },
    "papermill": {
     "duration": 0.037716,
     "end_time": "2023-09-02T03:20:59.200652",
     "exception": false,
     "start_time": "2023-09-02T03:20:59.162936",
     "status": "completed"
    },
    "tags": []
   },
   "outputs": [
    {
     "data": {
      "text/plain": [
       "['gim', 'me', 'the', 'cars', 'keys']"
      ]
     },
     "execution_count": 15,
     "metadata": {},
     "output_type": "execute_result"
    }
   ],
   "source": [
    "from spacy.symbols import ORTH\n",
    "nlp.tokenizer.add_special_case(\"gimme\",[{ORTH:\"gim\"},{ORTH:\"me\"}])\n",
    "doc=nlp(\"gimme the cars keys\")\n",
    "tokens=[token.text for token in doc ]\n",
    "tokens\n"
   ]
  },
  {
   "cell_type": "code",
   "execution_count": 16,
   "id": "cf271256",
   "metadata": {
    "execution": {
     "iopub.execute_input": "2023-09-02T03:20:59.245885Z",
     "iopub.status.busy": "2023-09-02T03:20:59.245361Z",
     "iopub.status.idle": "2023-09-02T03:20:59.270242Z",
     "shell.execute_reply": "2023-09-02T03:20:59.268835Z"
    },
    "papermill": {
     "duration": 0.050793,
     "end_time": "2023-09-02T03:20:59.272803",
     "exception": false,
     "start_time": "2023-09-02T03:20:59.222010",
     "status": "completed"
    },
    "tags": []
   },
   "outputs": [
    {
     "data": {
      "text/plain": [
       "<spacy.pipeline.sentencizer.Sentencizer at 0x7cbb8106ffc0>"
      ]
     },
     "execution_count": 16,
     "metadata": {},
     "output_type": "execute_result"
    }
   ],
   "source": [
    "nlp.add_pipe('sentencizer')"
   ]
  },
  {
   "cell_type": "code",
   "execution_count": 17,
   "id": "56a0dee2",
   "metadata": {
    "execution": {
     "iopub.execute_input": "2023-09-02T03:20:59.318766Z",
     "iopub.status.busy": "2023-09-02T03:20:59.318210Z",
     "iopub.status.idle": "2023-09-02T03:20:59.326595Z",
     "shell.execute_reply": "2023-09-02T03:20:59.325561Z"
    },
    "papermill": {
     "duration": 0.035333,
     "end_time": "2023-09-02T03:20:59.329947",
     "exception": false,
     "start_time": "2023-09-02T03:20:59.294614",
     "status": "completed"
    },
    "tags": []
   },
   "outputs": [
    {
     "data": {
      "text/plain": [
       "['sentencizer']"
      ]
     },
     "execution_count": 17,
     "metadata": {},
     "output_type": "execute_result"
    }
   ],
   "source": [
    "nlp.pipe_names"
   ]
  },
  {
   "cell_type": "code",
   "execution_count": 18,
   "id": "7cefa541",
   "metadata": {
    "execution": {
     "iopub.execute_input": "2023-09-02T03:20:59.378852Z",
     "iopub.status.busy": "2023-09-02T03:20:59.378396Z",
     "iopub.status.idle": "2023-09-02T03:20:59.387024Z",
     "shell.execute_reply": "2023-09-02T03:20:59.385385Z"
    },
    "papermill": {
     "duration": 0.036206,
     "end_time": "2023-09-02T03:20:59.389841",
     "exception": false,
     "start_time": "2023-09-02T03:20:59.353635",
     "status": "completed"
    },
    "tags": []
   },
   "outputs": [
    {
     "name": "stdout",
     "output_type": "stream",
     "text": [
      "Dr. Ashok just visited kathmandu.\n",
      "He was very happy.\n"
     ]
    }
   ],
   "source": [
    "doc = nlp(\"Dr. Ashok just visited kathmandu. He was very happy.\")\n",
    "for sentence in doc.sents:\n",
    "    print(sentence)"
   ]
  },
  {
   "cell_type": "code",
   "execution_count": 19,
   "id": "f94b59d7",
   "metadata": {
    "execution": {
     "iopub.execute_input": "2023-09-02T03:20:59.436512Z",
     "iopub.status.busy": "2023-09-02T03:20:59.436091Z",
     "iopub.status.idle": "2023-09-02T03:20:59.448289Z",
     "shell.execute_reply": "2023-09-02T03:20:59.446587Z"
    },
    "papermill": {
     "duration": 0.038696,
     "end_time": "2023-09-02T03:20:59.451090",
     "exception": false,
     "start_time": "2023-09-02T03:20:59.412394",
     "status": "completed"
    },
    "tags": []
   },
   "outputs": [
    {
     "name": "stdout",
     "output_type": "stream",
     "text": [
      "http://www.data.gov/\n",
      "http://www.science\n",
      "http://data.gov.uk/.\n",
      "http://www3.norc.org/gss+website/\n",
      "http://www.europeansocialsurvey.org/.\n"
     ]
    }
   ],
   "source": [
    "text='''\n",
    "Look for data to help you address the question. Governments are good\n",
    "sources because data from public research is often freely available. Good\n",
    "places to start include http://www.data.gov/, and http://www.science.\n",
    "gov/, and in the United Kingdom, http://data.gov.uk/.\n",
    "Two of my favorite data sets are the General Social Survey at http://www3.norc.org/gss+website/, \n",
    "and the European Social Survey at http://www.europeansocialsurvey.org/.\n",
    "'''\n",
    "doc = nlp(text)\n",
    "for token in doc:\n",
    "    if token.like_url:\n",
    "        print(token.text)        \n"
   ]
  },
  {
   "cell_type": "code",
   "execution_count": 20,
   "id": "f8c6ac34",
   "metadata": {
    "execution": {
     "iopub.execute_input": "2023-09-02T03:20:59.497999Z",
     "iopub.status.busy": "2023-09-02T03:20:59.497453Z",
     "iopub.status.idle": "2023-09-02T03:20:59.507690Z",
     "shell.execute_reply": "2023-09-02T03:20:59.505672Z"
    },
    "papermill": {
     "duration": 0.036288,
     "end_time": "2023-09-02T03:20:59.510158",
     "exception": false,
     "start_time": "2023-09-02T03:20:59.473870",
     "status": "completed"
    },
    "tags": []
   },
   "outputs": [
    {
     "name": "stdout",
     "output_type": "stream",
     "text": [
      "two $\n",
      "500 €\n"
     ]
    }
   ],
   "source": [
    "transactions = \"Tony gave two $ to Peter, Bruce gave 500 € to Steve\"\n",
    "doc = nlp(transactions)\n",
    "for token in doc:\n",
    "    if token.like_num and doc[token.i+1].is_currency:\n",
    "        print(token.text, doc[token.i+1].text)        "
   ]
  },
  {
   "cell_type": "code",
   "execution_count": 21,
   "id": "93f78754",
   "metadata": {
    "execution": {
     "iopub.execute_input": "2023-09-02T03:20:59.558271Z",
     "iopub.status.busy": "2023-09-02T03:20:59.557793Z",
     "iopub.status.idle": "2023-09-02T03:20:59.862134Z",
     "shell.execute_reply": "2023-09-02T03:20:59.860582Z"
    },
    "papermill": {
     "duration": 0.332224,
     "end_time": "2023-09-02T03:20:59.865876",
     "exception": false,
     "start_time": "2023-09-02T03:20:59.533652",
     "status": "completed"
    },
    "tags": []
   },
   "outputs": [
    {
     "name": "stdout",
     "output_type": "stream",
     "text": [
      "I\n",
      "have\n",
      "only\n",
      "2\n",
      "$\n",
      "in\n",
      "my\n",
      "bank\n",
      "account\n",
      ".\n",
      "I\n",
      "am\n",
      "broke\n",
      ".\n"
     ]
    }
   ],
   "source": [
    "import spacy\n",
    "nlp=spacy.blank(\"en\")\n",
    "doc=nlp(\"I have only 2$ in my bank account. I am broke.\")\n",
    "for token in doc:\n",
    "    print(token)"
   ]
  },
  {
   "cell_type": "code",
   "execution_count": 22,
   "id": "7122e6d9",
   "metadata": {
    "execution": {
     "iopub.execute_input": "2023-09-02T03:20:59.916438Z",
     "iopub.status.busy": "2023-09-02T03:20:59.915753Z",
     "iopub.status.idle": "2023-09-02T03:20:59.922625Z",
     "shell.execute_reply": "2023-09-02T03:20:59.921722Z"
    },
    "papermill": {
     "duration": 0.035713,
     "end_time": "2023-09-02T03:20:59.925278",
     "exception": false,
     "start_time": "2023-09-02T03:20:59.889565",
     "status": "completed"
    },
    "tags": []
   },
   "outputs": [
    {
     "data": {
      "text/plain": [
       "[]"
      ]
     },
     "execution_count": 22,
     "metadata": {},
     "output_type": "execute_result"
    }
   ],
   "source": [
    "nlp.pipe_names"
   ]
  },
  {
   "cell_type": "code",
   "execution_count": 23,
   "id": "214ab42b",
   "metadata": {
    "execution": {
     "iopub.execute_input": "2023-09-02T03:20:59.977646Z",
     "iopub.status.busy": "2023-09-02T03:20:59.976157Z",
     "iopub.status.idle": "2023-09-02T03:21:01.195645Z",
     "shell.execute_reply": "2023-09-02T03:21:01.193903Z"
    },
    "papermill": {
     "duration": 1.249072,
     "end_time": "2023-09-02T03:21:01.198985",
     "exception": false,
     "start_time": "2023-09-02T03:20:59.949913",
     "status": "completed"
    },
    "tags": []
   },
   "outputs": [],
   "source": [
    "nlp=spacy.load(\"en_core_web_sm\")"
   ]
  },
  {
   "cell_type": "code",
   "execution_count": 24,
   "id": "33cc01a4",
   "metadata": {
    "execution": {
     "iopub.execute_input": "2023-09-02T03:21:01.252180Z",
     "iopub.status.busy": "2023-09-02T03:21:01.251267Z",
     "iopub.status.idle": "2023-09-02T03:21:01.257935Z",
     "shell.execute_reply": "2023-09-02T03:21:01.257083Z"
    },
    "papermill": {
     "duration": 0.036294,
     "end_time": "2023-09-02T03:21:01.260422",
     "exception": false,
     "start_time": "2023-09-02T03:21:01.224128",
     "status": "completed"
    },
    "tags": []
   },
   "outputs": [
    {
     "data": {
      "text/plain": [
       "['tok2vec', 'tagger', 'parser', 'attribute_ruler', 'lemmatizer', 'ner']"
      ]
     },
     "execution_count": 24,
     "metadata": {},
     "output_type": "execute_result"
    }
   ],
   "source": [
    "nlp.pipe_names"
   ]
  },
  {
   "cell_type": "code",
   "execution_count": 25,
   "id": "a622b175",
   "metadata": {
    "execution": {
     "iopub.execute_input": "2023-09-02T03:21:01.313769Z",
     "iopub.status.busy": "2023-09-02T03:21:01.312989Z",
     "iopub.status.idle": "2023-09-02T03:21:01.332581Z",
     "shell.execute_reply": "2023-09-02T03:21:01.330585Z"
    },
    "papermill": {
     "duration": 0.049418,
     "end_time": "2023-09-02T03:21:01.335392",
     "exception": false,
     "start_time": "2023-09-02T03:21:01.285974",
     "status": "completed"
    },
    "tags": []
   },
   "outputs": [
    {
     "name": "stdout",
     "output_type": "stream",
     "text": [
      "I  |  pronoun  |  I\n",
      "have  |  verb  |  have\n",
      "only  |  adverb  |  only\n",
      "2  |  numeral  |  2\n",
      "$  |  numeral  |  $\n",
      "in  |  adposition  |  in\n",
      "my  |  pronoun  |  my\n",
      "bank  |  noun  |  bank\n",
      "account  |  noun  |  account\n",
      ".  |  punctuation  |  .\n",
      "I  |  pronoun  |  I\n",
      "am  |  auxiliary  |  be\n",
      "broke  |  verb  |  break\n",
      ".  |  punctuation  |  .\n"
     ]
    }
   ],
   "source": [
    "doc=nlp(\"I have only 2$ in my bank account. I am broke.\")\n",
    "for token in doc:\n",
    "    print(token,\" | \",spacy.explain(token.pos_),\" | \",token.lemma_)"
   ]
  },
  {
   "cell_type": "code",
   "execution_count": 26,
   "id": "e9e3301d",
   "metadata": {
    "execution": {
     "iopub.execute_input": "2023-09-02T03:21:01.385023Z",
     "iopub.status.busy": "2023-09-02T03:21:01.383913Z",
     "iopub.status.idle": "2023-09-02T03:21:01.404755Z",
     "shell.execute_reply": "2023-09-02T03:21:01.403376Z"
    },
    "papermill": {
     "duration": 0.048272,
     "end_time": "2023-09-02T03:21:01.407216",
     "exception": false,
     "start_time": "2023-09-02T03:21:01.358944",
     "status": "completed"
    },
    "tags": []
   },
   "outputs": [
    {
     "name": "stdout",
     "output_type": "stream",
     "text": [
      "Meta Inc ORG\n",
      "$116 billion dollars MONEY\n"
     ]
    }
   ],
   "source": [
    "doc=nlp(\"Meta Inc revenue is worth $116 billion dollars. That's huge\")\n",
    "for ent in doc.ents:\n",
    "    print(ent.text,ent.label_)"
   ]
  },
  {
   "cell_type": "code",
   "execution_count": 27,
   "id": "8f61a302",
   "metadata": {
    "execution": {
     "iopub.execute_input": "2023-09-02T03:21:01.456052Z",
     "iopub.status.busy": "2023-09-02T03:21:01.455250Z",
     "iopub.status.idle": "2023-09-02T03:21:01.466408Z",
     "shell.execute_reply": "2023-09-02T03:21:01.465011Z"
    },
    "papermill": {
     "duration": 0.038662,
     "end_time": "2023-09-02T03:21:01.469111",
     "exception": false,
     "start_time": "2023-09-02T03:21:01.430449",
     "status": "completed"
    },
    "tags": []
   },
   "outputs": [
    {
     "data": {
      "text/html": [
       "<span class=\"tex2jax_ignore\"><div class=\"entities\" style=\"line-height: 2.5; direction: ltr\">\n",
       "<mark class=\"entity\" style=\"background: #7aecec; padding: 0.45em 0.6em; margin: 0 0.25em; line-height: 1; border-radius: 0.35em;\">\n",
       "    Meta Inc\n",
       "    <span style=\"font-size: 0.8em; font-weight: bold; line-height: 1; border-radius: 0.35em; vertical-align: middle; margin-left: 0.5rem\">ORG</span>\n",
       "</mark>\n",
       " revenue is worth \n",
       "<mark class=\"entity\" style=\"background: #e4e7d2; padding: 0.45em 0.6em; margin: 0 0.25em; line-height: 1; border-radius: 0.35em;\">\n",
       "    $116 billion dollars\n",
       "    <span style=\"font-size: 0.8em; font-weight: bold; line-height: 1; border-radius: 0.35em; vertical-align: middle; margin-left: 0.5rem\">MONEY</span>\n",
       "</mark>\n",
       ". That's huge</div></span>"
      ],
      "text/plain": [
       "<IPython.core.display.HTML object>"
      ]
     },
     "metadata": {},
     "output_type": "display_data"
    }
   ],
   "source": [
    "from spacy import displacy\n",
    "displacy.render(doc,style=\"ent\")"
   ]
  },
  {
   "cell_type": "markdown",
   "id": "e7a08d48",
   "metadata": {
    "papermill": {
     "duration": 0.02399,
     "end_time": "2023-09-02T03:21:01.516463",
     "exception": false,
     "start_time": "2023-09-02T03:21:01.492473",
     "status": "completed"
    },
    "tags": []
   },
   "source": [
    "## adding a pipeline"
   ]
  },
  {
   "cell_type": "code",
   "execution_count": 28,
   "id": "70427010",
   "metadata": {
    "execution": {
     "iopub.execute_input": "2023-09-02T03:21:01.568782Z",
     "iopub.status.busy": "2023-09-02T03:21:01.567515Z",
     "iopub.status.idle": "2023-09-02T03:21:03.384984Z",
     "shell.execute_reply": "2023-09-02T03:21:03.383659Z"
    },
    "papermill": {
     "duration": 1.846338,
     "end_time": "2023-09-02T03:21:03.388429",
     "exception": false,
     "start_time": "2023-09-02T03:21:01.542091",
     "status": "completed"
    },
    "tags": []
   },
   "outputs": [
    {
     "data": {
      "text/plain": [
       "['ner']"
      ]
     },
     "execution_count": 28,
     "metadata": {},
     "output_type": "execute_result"
    }
   ],
   "source": [
    "nlp_source=spacy.load(\"en_core_web_sm\")\n",
    "nlp=spacy.blank(\"en\")\n",
    "nlp.add_pipe(\"ner\",source=nlp_source)\n",
    "nlp.pipe_names"
   ]
  },
  {
   "cell_type": "code",
   "execution_count": 29,
   "id": "ab8d1f4e",
   "metadata": {
    "execution": {
     "iopub.execute_input": "2023-09-02T03:21:03.445474Z",
     "iopub.status.busy": "2023-09-02T03:21:03.444801Z",
     "iopub.status.idle": "2023-09-02T03:21:03.460318Z",
     "shell.execute_reply": "2023-09-02T03:21:03.459345Z"
    },
    "papermill": {
     "duration": 0.048202,
     "end_time": "2023-09-02T03:21:03.463815",
     "exception": false,
     "start_time": "2023-09-02T03:21:03.415613",
     "status": "completed"
    },
    "tags": []
   },
   "outputs": [
    {
     "name": "stdout",
     "output_type": "stream",
     "text": [
      "Meta Inc ORG\n",
      "$116 billion dollars MONEY\n"
     ]
    }
   ],
   "source": [
    "doc=nlp(\"Meta Inc revenue is worth $116 billion dollars. That's huge\")\n",
    "for ent in doc.ents:\n",
    "    print(ent.text,ent.label_)"
   ]
  },
  {
   "cell_type": "markdown",
   "id": "865ff9d4",
   "metadata": {
    "papermill": {
     "duration": 0.025995,
     "end_time": "2023-09-02T03:21:03.514881",
     "exception": false,
     "start_time": "2023-09-02T03:21:03.488886",
     "status": "completed"
    },
    "tags": []
   },
   "source": [
    "# Lemmatization "
   ]
  },
  {
   "cell_type": "code",
   "execution_count": 30,
   "id": "7e0f8b06",
   "metadata": {
    "execution": {
     "iopub.execute_input": "2023-09-02T03:21:03.573779Z",
     "iopub.status.busy": "2023-09-02T03:21:03.572804Z",
     "iopub.status.idle": "2023-09-02T03:21:04.906239Z",
     "shell.execute_reply": "2023-09-02T03:21:04.905240Z"
    },
    "papermill": {
     "duration": 1.369559,
     "end_time": "2023-09-02T03:21:04.909987",
     "exception": false,
     "start_time": "2023-09-02T03:21:03.540428",
     "status": "completed"
    },
    "tags": []
   },
   "outputs": [],
   "source": [
    "import spacy\n",
    "nlp=spacy.load(\"en_core_web_sm\")\n",
    "doc=nlp(\"I was having a good lunch but suddenly earthquake hits the ground. It was terrifying.\")"
   ]
  },
  {
   "cell_type": "code",
   "execution_count": 31,
   "id": "0e749dae",
   "metadata": {
    "execution": {
     "iopub.execute_input": "2023-09-02T03:21:04.963672Z",
     "iopub.status.busy": "2023-09-02T03:21:04.963019Z",
     "iopub.status.idle": "2023-09-02T03:21:04.968733Z",
     "shell.execute_reply": "2023-09-02T03:21:04.967884Z"
    },
    "papermill": {
     "duration": 0.03637,
     "end_time": "2023-09-02T03:21:04.972554",
     "exception": false,
     "start_time": "2023-09-02T03:21:04.936184",
     "status": "completed"
    },
    "tags": []
   },
   "outputs": [
    {
     "name": "stdout",
     "output_type": "stream",
     "text": [
      "I  |  I\n",
      "was  |  be\n",
      "having  |  have\n",
      "a  |  a\n",
      "good  |  good\n",
      "lunch  |  lunch\n",
      "but  |  but\n",
      "suddenly  |  suddenly\n",
      "earthquake  |  earthquake\n",
      "hits  |  hit\n",
      "the  |  the\n",
      "ground  |  ground\n",
      ".  |  .\n",
      "It  |  it\n",
      "was  |  be\n",
      "terrifying  |  terrifying\n",
      ".  |  .\n"
     ]
    }
   ],
   "source": [
    "for token in doc:\n",
    "    print(token,\" | \",token.lemma_ )"
   ]
  },
  {
   "cell_type": "code",
   "execution_count": 32,
   "id": "8776fb38",
   "metadata": {
    "execution": {
     "iopub.execute_input": "2023-09-02T03:21:05.030675Z",
     "iopub.status.busy": "2023-09-02T03:21:05.029918Z",
     "iopub.status.idle": "2023-09-02T03:21:05.036042Z",
     "shell.execute_reply": "2023-09-02T03:21:05.035243Z"
    },
    "papermill": {
     "duration": 0.039429,
     "end_time": "2023-09-02T03:21:05.038478",
     "exception": false,
     "start_time": "2023-09-02T03:21:04.999049",
     "status": "completed"
    },
    "tags": []
   },
   "outputs": [
    {
     "data": {
      "text/plain": [
       "['tok2vec', 'tagger', 'parser', 'attribute_ruler', 'lemmatizer', 'ner']"
      ]
     },
     "execution_count": 32,
     "metadata": {},
     "output_type": "execute_result"
    }
   ],
   "source": [
    "nlp.pipe_names"
   ]
  },
  {
   "cell_type": "code",
   "execution_count": 33,
   "id": "d97f6ea1",
   "metadata": {
    "execution": {
     "iopub.execute_input": "2023-09-02T03:21:05.094857Z",
     "iopub.status.busy": "2023-09-02T03:21:05.094127Z",
     "iopub.status.idle": "2023-09-02T03:21:05.112339Z",
     "shell.execute_reply": "2023-09-02T03:21:05.110956Z"
    },
    "papermill": {
     "duration": 0.051027,
     "end_time": "2023-09-02T03:21:05.115555",
     "exception": false,
     "start_time": "2023-09-02T03:21:05.064528",
     "status": "completed"
    },
    "tags": []
   },
   "outputs": [
    {
     "name": "stdout",
     "output_type": "stream",
     "text": [
      "Hey  |  hey\n",
      "Bro  |  Brother\n",
      ".  |  .\n",
      "Hello  |  hello\n",
      "Brah  |  Brother\n",
      ".  |  .\n",
      "Where  |  where\n",
      "are  |  be\n",
      "you  |  you\n",
      "going  |  go\n",
      "?  |  ?\n"
     ]
    }
   ],
   "source": [
    "change=nlp.get_pipe('attribute_ruler')\n",
    "change.add([[{\"TEXT\":\"Bro\"}],[{\"TEXT\":\"Brah\"}]],{\"LEMMA\":\"Brother\"})\n",
    "doc=nlp(\"Hey Bro. Hello Brah. Where are you going?\")\n",
    "for token in doc:\n",
    "    print(token,\" | \",token.lemma_)"
   ]
  },
  {
   "cell_type": "code",
   "execution_count": 34,
   "id": "890da2ed",
   "metadata": {
    "execution": {
     "iopub.execute_input": "2023-09-02T03:21:05.165840Z",
     "iopub.status.busy": "2023-09-02T03:21:05.165380Z",
     "iopub.status.idle": "2023-09-02T03:21:05.173825Z",
     "shell.execute_reply": "2023-09-02T03:21:05.172269Z"
    },
    "papermill": {
     "duration": 0.036794,
     "end_time": "2023-09-02T03:21:05.176486",
     "exception": false,
     "start_time": "2023-09-02T03:21:05.139692",
     "status": "completed"
    },
    "tags": []
   },
   "outputs": [
    {
     "data": {
      "text/plain": [
       "Bro"
      ]
     },
     "execution_count": 34,
     "metadata": {},
     "output_type": "execute_result"
    }
   ],
   "source": [
    "doc[1]"
   ]
  },
  {
   "cell_type": "code",
   "execution_count": 35,
   "id": "5f59aa30",
   "metadata": {
    "execution": {
     "iopub.execute_input": "2023-09-02T03:21:05.227194Z",
     "iopub.status.busy": "2023-09-02T03:21:05.225782Z",
     "iopub.status.idle": "2023-09-02T03:21:05.235613Z",
     "shell.execute_reply": "2023-09-02T03:21:05.234121Z"
    },
    "papermill": {
     "duration": 0.037803,
     "end_time": "2023-09-02T03:21:05.238180",
     "exception": false,
     "start_time": "2023-09-02T03:21:05.200377",
     "status": "completed"
    },
    "tags": []
   },
   "outputs": [
    {
     "data": {
      "text/plain": [
       "'Brother'"
      ]
     },
     "execution_count": 35,
     "metadata": {},
     "output_type": "execute_result"
    }
   ],
   "source": [
    "doc[1].lemma_"
   ]
  },
  {
   "cell_type": "code",
   "execution_count": 36,
   "id": "0cb4771f",
   "metadata": {
    "execution": {
     "iopub.execute_input": "2023-09-02T03:21:05.287869Z",
     "iopub.status.busy": "2023-09-02T03:21:05.287399Z",
     "iopub.status.idle": "2023-09-02T03:21:06.536534Z",
     "shell.execute_reply": "2023-09-02T03:21:06.535211Z"
    },
    "papermill": {
     "duration": 1.27751,
     "end_time": "2023-09-02T03:21:06.539509",
     "exception": false,
     "start_time": "2023-09-02T03:21:05.261999",
     "status": "completed"
    },
    "tags": []
   },
   "outputs": [],
   "source": [
    "import spacy\n",
    "nlp = spacy.load(\"en_core_web_sm\")\n",
    "doc = nlp(\"running painting walking dressing likely children who good ate fishing\")"
   ]
  },
  {
   "cell_type": "code",
   "execution_count": 37,
   "id": "de32c983",
   "metadata": {
    "execution": {
     "iopub.execute_input": "2023-09-02T03:21:06.592660Z",
     "iopub.status.busy": "2023-09-02T03:21:06.591970Z",
     "iopub.status.idle": "2023-09-02T03:21:06.600524Z",
     "shell.execute_reply": "2023-09-02T03:21:06.599106Z"
    },
    "papermill": {
     "duration": 0.039466,
     "end_time": "2023-09-02T03:21:06.603271",
     "exception": false,
     "start_time": "2023-09-02T03:21:06.563805",
     "status": "completed"
    },
    "tags": []
   },
   "outputs": [
    {
     "name": "stdout",
     "output_type": "stream",
     "text": [
      "running  |  run\n",
      "painting  |  paint\n",
      "walking  |  walk\n",
      "dressing  |  dress\n",
      "likely  |  likely\n",
      "children  |  child\n",
      "who  |  who\n",
      "good  |  good\n",
      "ate  |  eat\n",
      "fishing  |  fishing\n"
     ]
    }
   ],
   "source": [
    "for token in doc:\n",
    "    print(token,\" | \",token.lemma_)"
   ]
  },
  {
   "cell_type": "code",
   "execution_count": 38,
   "id": "768a04c9",
   "metadata": {
    "execution": {
     "iopub.execute_input": "2023-09-02T03:21:06.653900Z",
     "iopub.status.busy": "2023-09-02T03:21:06.653456Z",
     "iopub.status.idle": "2023-09-02T03:21:06.660165Z",
     "shell.execute_reply": "2023-09-02T03:21:06.658541Z"
    },
    "papermill": {
     "duration": 0.035434,
     "end_time": "2023-09-02T03:21:06.662659",
     "exception": false,
     "start_time": "2023-09-02T03:21:06.627225",
     "status": "completed"
    },
    "tags": []
   },
   "outputs": [],
   "source": [
    "text = \"\"\"Latha is very multi talented girl.She is good at many skills like dancing, running, singing, playing.She also likes eating Pav Bhagi. she has a \n",
    "habit of fishing and swimming too.Besides all this, she is a wonderful at cooking too.\n",
    "\"\"\""
   ]
  },
  {
   "cell_type": "code",
   "execution_count": 39,
   "id": "edf3706c",
   "metadata": {
    "execution": {
     "iopub.execute_input": "2023-09-02T03:21:06.716038Z",
     "iopub.status.busy": "2023-09-02T03:21:06.715464Z",
     "iopub.status.idle": "2023-09-02T03:21:06.750544Z",
     "shell.execute_reply": "2023-09-02T03:21:06.748617Z"
    },
    "papermill": {
     "duration": 0.066365,
     "end_time": "2023-09-02T03:21:06.753625",
     "exception": false,
     "start_time": "2023-09-02T03:21:06.687260",
     "status": "completed"
    },
    "tags": []
   },
   "outputs": [
    {
     "name": "stdout",
     "output_type": "stream",
     "text": [
      "Latha be very multi talented girl . she be good at many skill like dancing , running , singing , play . she also like eat Pav Bhagi . she have a \n",
      " habit of fishing and swim too . besides all this , she be a wonderful at cook too . \n",
      "\n"
     ]
    }
   ],
   "source": [
    "base_words=[]\n",
    "doc=nlp(text)\n",
    "for token in doc:\n",
    "    result=token.lemma_\n",
    "    base_words.append(result)\n",
    "\n",
    "final_base_words=' '.join(base_words)\n",
    "print(final_base_words)\n",
    "    "
   ]
  },
  {
   "cell_type": "markdown",
   "id": "fcae2ee4",
   "metadata": {
    "papermill": {
     "duration": 0.024049,
     "end_time": "2023-09-02T03:21:06.802044",
     "exception": false,
     "start_time": "2023-09-02T03:21:06.777995",
     "status": "completed"
    },
    "tags": []
   },
   "source": [
    "# POS in spacy"
   ]
  },
  {
   "cell_type": "code",
   "execution_count": 40,
   "id": "0092e96b",
   "metadata": {
    "execution": {
     "iopub.execute_input": "2023-09-02T03:21:06.852267Z",
     "iopub.status.busy": "2023-09-02T03:21:06.851749Z",
     "iopub.status.idle": "2023-09-02T03:21:06.876344Z",
     "shell.execute_reply": "2023-09-02T03:21:06.874798Z"
    },
    "papermill": {
     "duration": 0.052975,
     "end_time": "2023-09-02T03:21:06.879092",
     "exception": false,
     "start_time": "2023-09-02T03:21:06.826117",
     "status": "completed"
    },
    "tags": []
   },
   "outputs": [
    {
     "name": "stdout",
     "output_type": "stream",
     "text": [
      "I | PRON | pronoun | PRP | pronoun, personal\n",
      "was | AUX | auxiliary | VBD | verb, past tense\n",
      "having | VERB | verb | VBG | verb, gerund or present participle\n",
      "a | DET | determiner | DT | determiner\n",
      "good | ADJ | adjective | JJ | adjective (English), other noun-modifier (Chinese)\n",
      "lunch | NOUN | noun | NN | noun, singular or mass\n",
      "but | CCONJ | coordinating conjunction | CC | conjunction, coordinating\n",
      "suddenly | ADV | adverb | RB | adverb\n",
      "earthquake | NOUN | noun | NN | noun, singular or mass\n",
      "hits | VERB | verb | VBZ | verb, 3rd person singular present\n",
      "the | DET | determiner | DT | determiner\n",
      "ground | NOUN | noun | NN | noun, singular or mass\n",
      ". | PUNCT | punctuation | . | punctuation mark, sentence closer\n",
      "It | PRON | pronoun | PRP | pronoun, personal\n",
      "was | AUX | auxiliary | VBD | verb, past tense\n",
      "terrifying | ADJ | adjective | JJ | adjective (English), other noun-modifier (Chinese)\n",
      ". | PUNCT | punctuation | . | punctuation mark, sentence closer\n"
     ]
    }
   ],
   "source": [
    "text = \"I was having a good lunch but suddenly earthquake hits the ground. It was terrifying.\"\n",
    "doc=nlp(text)\n",
    "for token in doc:\n",
    "    print(token,\"|\",token.pos_,\"|\",spacy.explain(token.pos_),\"|\",token.tag_,\"|\",spacy.explain(token.tag_))"
   ]
  },
  {
   "cell_type": "code",
   "execution_count": 41,
   "id": "e7414e0c",
   "metadata": {
    "execution": {
     "iopub.execute_input": "2023-09-02T03:21:06.930227Z",
     "iopub.status.busy": "2023-09-02T03:21:06.929178Z",
     "iopub.status.idle": "2023-09-02T03:21:06.948959Z",
     "shell.execute_reply": "2023-09-02T03:21:06.947384Z"
    },
    "papermill": {
     "duration": 0.048581,
     "end_time": "2023-09-02T03:21:06.951541",
     "exception": false,
     "start_time": "2023-09-02T03:21:06.902960",
     "status": "completed"
    },
    "tags": []
   },
   "outputs": [
    {
     "name": "stdout",
     "output_type": "stream",
     "text": [
      "quits | VBZ | verb, 3rd person singular present\n"
     ]
    }
   ],
   "source": [
    "doc=nlp(\"He quits his job.\")\n",
    "\n",
    "print(doc[1].text,\"|\",doc[1].tag_,\"|\",spacy.explain(doc[1].tag_))"
   ]
  },
  {
   "cell_type": "code",
   "execution_count": 42,
   "id": "fb108be3",
   "metadata": {
    "execution": {
     "iopub.execute_input": "2023-09-02T03:21:07.002661Z",
     "iopub.status.busy": "2023-09-02T03:21:07.002067Z",
     "iopub.status.idle": "2023-09-02T03:21:07.022315Z",
     "shell.execute_reply": "2023-09-02T03:21:07.020901Z"
    },
    "papermill": {
     "duration": 0.049334,
     "end_time": "2023-09-02T03:21:07.025228",
     "exception": false,
     "start_time": "2023-09-02T03:21:06.975894",
     "status": "completed"
    },
    "tags": []
   },
   "outputs": [
    {
     "name": "stdout",
     "output_type": "stream",
     "text": [
      "quit | VBD | verb, past tense\n"
     ]
    }
   ],
   "source": [
    "doc=nlp(\"he quit his job\")\n",
    "print(doc[1].text,\"|\",doc[1].tag_,\"|\",spacy.explain(doc[1].tag_))"
   ]
  },
  {
   "cell_type": "code",
   "execution_count": 43,
   "id": "b21bcac6",
   "metadata": {
    "execution": {
     "iopub.execute_input": "2023-09-02T03:21:07.078548Z",
     "iopub.status.busy": "2023-09-02T03:21:07.077114Z",
     "iopub.status.idle": "2023-09-02T03:21:07.152042Z",
     "shell.execute_reply": "2023-09-02T03:21:07.150488Z"
    },
    "papermill": {
     "duration": 0.105064,
     "end_time": "2023-09-02T03:21:07.155021",
     "exception": false,
     "start_time": "2023-09-02T03:21:07.049957",
     "status": "completed"
    },
    "tags": []
   },
   "outputs": [],
   "source": [
    "earnings_text=\"\"\"Microsoft Corp. today announced the following results for the quarter ended December 31, 2021, as compared to the corresponding period of last fiscal year:\n",
    "\n",
    "·         Revenue was $51.7 billion and increased 20%\n",
    "·         Operating income was $22.2 billion and increased 24%\n",
    "·         Net income was $18.8 billion and increased 21%\n",
    "·         Diluted earnings per share was $2.48 and increased 22%\n",
    "“Digital technology is the most malleable resource at the world’s disposal to overcome constraints and reimagine everyday work and life,” said Satya Nadella, chairman and chief executive officer of Microsoft. “As tech as a percentage of global GDP continues to increase, we are innovating and investing across diverse and growing markets, with a common underlying technology stack and an operating model that reinforces a common strategy, culture, and sense of purpose.”\n",
    "“Solid commercial execution, represented by strong bookings growth driven by long-term Azure commitments, increased Microsoft Cloud revenue to $22.1 billion, up 32% year over year” said Amy Hood, executive vice president and chief financial officer of Microsoft.\"\"\"\n",
    "\n",
    "\n",
    "filtered_text=[]\n",
    "doc=nlp(earnings_text)\n",
    "for token in doc:\n",
    "    if token.pos_ not in [\"SPACE\", \"PUNCT\", \"X\"]:\n",
    "        filtered_text.append(token)\n"
   ]
  },
  {
   "cell_type": "code",
   "execution_count": 44,
   "id": "a0b65a9d",
   "metadata": {
    "execution": {
     "iopub.execute_input": "2023-09-02T03:21:07.206283Z",
     "iopub.status.busy": "2023-09-02T03:21:07.205776Z",
     "iopub.status.idle": "2023-09-02T03:21:07.215199Z",
     "shell.execute_reply": "2023-09-02T03:21:07.213616Z"
    },
    "papermill": {
     "duration": 0.038491,
     "end_time": "2023-09-02T03:21:07.217761",
     "exception": false,
     "start_time": "2023-09-02T03:21:07.179270",
     "status": "completed"
    },
    "tags": []
   },
   "outputs": [
    {
     "data": {
      "text/plain": [
       "[Microsoft,\n",
       " Corp.,\n",
       " today,\n",
       " announced,\n",
       " the,\n",
       " following,\n",
       " results,\n",
       " for,\n",
       " the,\n",
       " quarter,\n",
       " ended,\n",
       " December,\n",
       " 31,\n",
       " 2021,\n",
       " as,\n",
       " compared,\n",
       " to,\n",
       " the,\n",
       " corresponding,\n",
       " period]"
      ]
     },
     "execution_count": 44,
     "metadata": {},
     "output_type": "execute_result"
    }
   ],
   "source": [
    "filtered_text[:20]"
   ]
  },
  {
   "cell_type": "code",
   "execution_count": 45,
   "id": "7a6a9bda",
   "metadata": {
    "execution": {
     "iopub.execute_input": "2023-09-02T03:21:07.269816Z",
     "iopub.status.busy": "2023-09-02T03:21:07.269321Z",
     "iopub.status.idle": "2023-09-02T03:21:07.279083Z",
     "shell.execute_reply": "2023-09-02T03:21:07.277671Z"
    },
    "papermill": {
     "duration": 0.038626,
     "end_time": "2023-09-02T03:21:07.281634",
     "exception": false,
     "start_time": "2023-09-02T03:21:07.243008",
     "status": "completed"
    },
    "tags": []
   },
   "outputs": [
    {
     "data": {
      "text/plain": [
       "{96: 13,\n",
       " 92: 46,\n",
       " 100: 24,\n",
       " 90: 9,\n",
       " 85: 16,\n",
       " 93: 16,\n",
       " 97: 27,\n",
       " 98: 1,\n",
       " 84: 20,\n",
       " 103: 10,\n",
       " 87: 6,\n",
       " 99: 5,\n",
       " 89: 12,\n",
       " 86: 3,\n",
       " 94: 3,\n",
       " 95: 2}"
      ]
     },
     "execution_count": 45,
     "metadata": {},
     "output_type": "execute_result"
    }
   ],
   "source": [
    "count=doc.count_by(spacy.attrs.POS)\n",
    "count"
   ]
  },
  {
   "cell_type": "code",
   "execution_count": 46,
   "id": "a99e096d",
   "metadata": {
    "execution": {
     "iopub.execute_input": "2023-09-02T03:21:07.333803Z",
     "iopub.status.busy": "2023-09-02T03:21:07.333299Z",
     "iopub.status.idle": "2023-09-02T03:21:07.341726Z",
     "shell.execute_reply": "2023-09-02T03:21:07.340304Z"
    },
    "papermill": {
     "duration": 0.038001,
     "end_time": "2023-09-02T03:21:07.344303",
     "exception": false,
     "start_time": "2023-09-02T03:21:07.306302",
     "status": "completed"
    },
    "tags": []
   },
   "outputs": [
    {
     "data": {
      "text/plain": [
       "'PROPN'"
      ]
     },
     "execution_count": 46,
     "metadata": {},
     "output_type": "execute_result"
    }
   ],
   "source": [
    "doc.vocab[96].text"
   ]
  },
  {
   "cell_type": "code",
   "execution_count": 47,
   "id": "2183bbe3",
   "metadata": {
    "execution": {
     "iopub.execute_input": "2023-09-02T03:21:07.397330Z",
     "iopub.status.busy": "2023-09-02T03:21:07.396796Z",
     "iopub.status.idle": "2023-09-02T03:21:07.405168Z",
     "shell.execute_reply": "2023-09-02T03:21:07.404043Z"
    },
    "papermill": {
     "duration": 0.038259,
     "end_time": "2023-09-02T03:21:07.407651",
     "exception": false,
     "start_time": "2023-09-02T03:21:07.369392",
     "status": "completed"
    },
    "tags": []
   },
   "outputs": [
    {
     "name": "stdout",
     "output_type": "stream",
     "text": [
      "PROPN | 13\n",
      "NOUN | 46\n",
      "VERB | 24\n",
      "DET | 9\n",
      "ADP | 16\n",
      "NUM | 16\n",
      "PUNCT | 27\n",
      "SCONJ | 1\n",
      "ADJ | 20\n",
      "SPACE | 10\n",
      "AUX | 6\n",
      "SYM | 5\n",
      "CCONJ | 12\n",
      "ADV | 3\n",
      "PART | 3\n",
      "PRON | 2\n"
     ]
    }
   ],
   "source": [
    "for k,v in count.items():\n",
    "    print(doc.vocab[k].text, \"|\",v)"
   ]
  },
  {
   "cell_type": "markdown",
   "id": "d49787d6",
   "metadata": {
    "papermill": {
     "duration": 0.024575,
     "end_time": "2023-09-02T03:21:07.457220",
     "exception": false,
     "start_time": "2023-09-02T03:21:07.432645",
     "status": "completed"
    },
    "tags": []
   },
   "source": [
    "# Exercise"
   ]
  },
  {
   "cell_type": "code",
   "execution_count": 48,
   "id": "84de114f",
   "metadata": {
    "execution": {
     "iopub.execute_input": "2023-09-02T03:21:07.509715Z",
     "iopub.status.busy": "2023-09-02T03:21:07.509187Z",
     "iopub.status.idle": "2023-09-02T03:21:07.623347Z",
     "shell.execute_reply": "2023-09-02T03:21:07.621665Z"
    },
    "papermill": {
     "duration": 0.143691,
     "end_time": "2023-09-02T03:21:07.626185",
     "exception": false,
     "start_time": "2023-09-02T03:21:07.482494",
     "status": "completed"
    },
    "tags": []
   },
   "outputs": [],
   "source": [
    "text='''Inflation rose again in April, continuing a climb that has pushed consumers to the brink and is threatening the economic expansion, the Bureau of Labor Statistics reported Wednesday.\n",
    "\n",
    "The consumer price index, a broad-based measure of prices for goods and services, increased 8.3% from a year ago, higher than the Dow Jones estimate for an 8.1% gain. That represented a slight ease from March’s peak but was still close to the highest level since the summer of 1982.\n",
    "\n",
    "Removing volatile food and energy prices, so-called core CPI still rose 6.2%, against expectations for a 6% gain, clouding hopes that inflation had peaked in March.\n",
    "\n",
    "The month-over-month gains also were higher than expectations — 0.3% on headline CPI versus the 0.2% estimate and a 0.6% increase for core, against the outlook for a 0.4% gain.\n",
    "\n",
    "The price gains also meant that workers continued to lose ground. Real wages adjusted for inflation decreased 0.1% on the month despite a nominal increase of 0.3% in average hourly earnings. Over the past year, real earnings have dropped 2.6% even though average hourly earnings are up 5.5%.\n",
    "\n",
    "Inflation has been the single biggest threat to a recovery that began early in the Covid pandemic and saw the economy in 2021 stage its biggest single-year growth level since 1984. Rising prices at the pump and in grocery stores have been one problem, but inflation has spread beyond those two areas into housing, auto sales and a host of other areas.\n",
    "\n",
    "Federal Reserve officials have responded to the problem with two interest rate hikes so far this year and pledges of more until inflation comes down to the central bank’s 2% goal. However, Wednesday’s data shows that the Fed has a big job ahead.\n",
    "\n",
    "Credits: cnbc.com'''\n",
    "doc=nlp(text)"
   ]
  },
  {
   "cell_type": "code",
   "execution_count": 49,
   "id": "78f4cfab",
   "metadata": {
    "execution": {
     "iopub.execute_input": "2023-09-02T03:21:07.683394Z",
     "iopub.status.busy": "2023-09-02T03:21:07.682972Z",
     "iopub.status.idle": "2023-09-02T03:21:07.690790Z",
     "shell.execute_reply": "2023-09-02T03:21:07.689286Z"
    },
    "papermill": {
     "duration": 0.041932,
     "end_time": "2023-09-02T03:21:07.693360",
     "exception": false,
     "start_time": "2023-09-02T03:21:07.651428",
     "status": "completed"
    },
    "tags": []
   },
   "outputs": [],
   "source": [
    "noun_count=[]\n",
    "num_count=[]\n",
    "for token in doc:\n",
    "    if token.pos_ == 'NOUN':\n",
    "        noun_count.append(token)\n",
    "    elif token.pos_=='NUM':\n",
    "        num_count.append(token)\n",
    "            "
   ]
  },
  {
   "cell_type": "code",
   "execution_count": 50,
   "id": "feb7d130",
   "metadata": {
    "execution": {
     "iopub.execute_input": "2023-09-02T03:21:07.752330Z",
     "iopub.status.busy": "2023-09-02T03:21:07.751908Z",
     "iopub.status.idle": "2023-09-02T03:21:07.759512Z",
     "shell.execute_reply": "2023-09-02T03:21:07.758079Z"
    },
    "papermill": {
     "duration": 0.040073,
     "end_time": "2023-09-02T03:21:07.761929",
     "exception": false,
     "start_time": "2023-09-02T03:21:07.721856",
     "status": "completed"
    },
    "tags": []
   },
   "outputs": [
    {
     "data": {
      "text/plain": [
       "[Inflation,\n",
       " climb,\n",
       " consumers,\n",
       " brink,\n",
       " expansion,\n",
       " consumer,\n",
       " price,\n",
       " index,\n",
       " measure,\n",
       " prices]"
      ]
     },
     "execution_count": 50,
     "metadata": {},
     "output_type": "execute_result"
    }
   ],
   "source": [
    "noun_count[:10]"
   ]
  },
  {
   "cell_type": "code",
   "execution_count": 51,
   "id": "ccdb242a",
   "metadata": {
    "execution": {
     "iopub.execute_input": "2023-09-02T03:21:07.814346Z",
     "iopub.status.busy": "2023-09-02T03:21:07.813861Z",
     "iopub.status.idle": "2023-09-02T03:21:07.822442Z",
     "shell.execute_reply": "2023-09-02T03:21:07.821332Z"
    },
    "papermill": {
     "duration": 0.037545,
     "end_time": "2023-09-02T03:21:07.824747",
     "exception": false,
     "start_time": "2023-09-02T03:21:07.787202",
     "status": "completed"
    },
    "tags": []
   },
   "outputs": [
    {
     "data": {
      "text/plain": [
       "[8.3, 8.1, 1982, 6.2, 6, 0.3, 0.2, 0.6, 0.4, 0.1]"
      ]
     },
     "execution_count": 51,
     "metadata": {},
     "output_type": "execute_result"
    }
   ],
   "source": [
    "num_count[:10]"
   ]
  },
  {
   "cell_type": "code",
   "execution_count": 52,
   "id": "150767bf",
   "metadata": {
    "execution": {
     "iopub.execute_input": "2023-09-02T03:21:07.878024Z",
     "iopub.status.busy": "2023-09-02T03:21:07.877489Z",
     "iopub.status.idle": "2023-09-02T03:21:07.886417Z",
     "shell.execute_reply": "2023-09-02T03:21:07.884873Z"
    },
    "papermill": {
     "duration": 0.038381,
     "end_time": "2023-09-02T03:21:07.888799",
     "exception": false,
     "start_time": "2023-09-02T03:21:07.850418",
     "status": "completed"
    },
    "tags": []
   },
   "outputs": [
    {
     "data": {
      "text/plain": [
       "{92: 96,\n",
       " 100: 27,\n",
       " 86: 15,\n",
       " 85: 39,\n",
       " 96: 16,\n",
       " 97: 32,\n",
       " 90: 34,\n",
       " 95: 4,\n",
       " 87: 13,\n",
       " 89: 10,\n",
       " 84: 23,\n",
       " 103: 7,\n",
       " 93: 19,\n",
       " 94: 4,\n",
       " 98: 8,\n",
       " 101: 1}"
      ]
     },
     "execution_count": 52,
     "metadata": {},
     "output_type": "execute_result"
    }
   ],
   "source": [
    "count=doc.count_by(spacy.attrs.POS)\n",
    "count"
   ]
  },
  {
   "cell_type": "code",
   "execution_count": 53,
   "id": "90f3f9ef",
   "metadata": {
    "execution": {
     "iopub.execute_input": "2023-09-02T03:21:07.941322Z",
     "iopub.status.busy": "2023-09-02T03:21:07.940758Z",
     "iopub.status.idle": "2023-09-02T03:21:07.950689Z",
     "shell.execute_reply": "2023-09-02T03:21:07.949072Z"
    },
    "papermill": {
     "duration": 0.039283,
     "end_time": "2023-09-02T03:21:07.953315",
     "exception": false,
     "start_time": "2023-09-02T03:21:07.914032",
     "status": "completed"
    },
    "tags": []
   },
   "outputs": [
    {
     "data": {
      "text/plain": [
       "'PROPN'"
      ]
     },
     "execution_count": 53,
     "metadata": {},
     "output_type": "execute_result"
    }
   ],
   "source": [
    "doc.vocab[96].text"
   ]
  },
  {
   "cell_type": "code",
   "execution_count": 54,
   "id": "13321921",
   "metadata": {
    "execution": {
     "iopub.execute_input": "2023-09-02T03:21:08.006738Z",
     "iopub.status.busy": "2023-09-02T03:21:08.006205Z",
     "iopub.status.idle": "2023-09-02T03:21:08.015099Z",
     "shell.execute_reply": "2023-09-02T03:21:08.013458Z"
    },
    "papermill": {
     "duration": 0.038911,
     "end_time": "2023-09-02T03:21:08.017576",
     "exception": false,
     "start_time": "2023-09-02T03:21:07.978665",
     "status": "completed"
    },
    "tags": []
   },
   "outputs": [
    {
     "name": "stdout",
     "output_type": "stream",
     "text": [
      "NOUN | 96\n",
      "VERB | 27\n",
      "ADV | 15\n",
      "ADP | 39\n",
      "PROPN | 16\n",
      "PUNCT | 32\n",
      "DET | 34\n",
      "PRON | 4\n",
      "AUX | 13\n",
      "CCONJ | 10\n",
      "ADJ | 23\n",
      "SPACE | 7\n",
      "NUM | 19\n",
      "PART | 4\n",
      "SCONJ | 8\n",
      "X | 1\n"
     ]
    }
   ],
   "source": [
    "for k,v in count.items():\n",
    "    print(doc.vocab[k].text, \"|\",v)"
   ]
  },
  {
   "cell_type": "code",
   "execution_count": null,
   "id": "f9ba9f63",
   "metadata": {
    "papermill": {
     "duration": 0.025739,
     "end_time": "2023-09-02T03:21:08.070458",
     "exception": false,
     "start_time": "2023-09-02T03:21:08.044719",
     "status": "completed"
    },
    "tags": []
   },
   "outputs": [],
   "source": []
  }
 ],
 "kernelspec": {
  "display_name": "Python 3",
  "language": "python",
  "name": "python3"
 },
 "language_info": {
  "codemirror_mode": {
   "name": "ipython",
   "version": 3
  },
  "file_extension": ".py",
  "mimetype": "text/x-python",
  "name": "python",
  "nbconvert_exporter": "python",
  "pygments_lexer": "ipython3",
  "version": "3.6.4"
 },
 "metadata": {
  "kernelspec": {
   "display_name": "Python 3",
   "language": "python",
   "name": "python3"
  },
  "language_info": {
   "codemirror_mode": {
    "name": "ipython",
    "version": 3
   },
   "file_extension": ".py",
   "mimetype": "text/x-python",
   "name": "python",
   "nbconvert_exporter": "python",
   "pygments_lexer": "ipython3",
   "version": "3.10.12"
  },
  "papermill": {
   "default_parameters": {},
   "duration": 44.665238,
   "end_time": "2023-09-02T03:21:11.098903",
   "environment_variables": {},
   "exception": null,
   "input_path": "__notebook__.ipynb",
   "output_path": "__notebook__.ipynb",
   "parameters": {},
   "start_time": "2023-09-02T03:20:26.433665",
   "version": "2.4.0"
  }
 },
 "nbformat": 4,
 "nbformat_minor": 5
}
