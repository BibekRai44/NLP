{
 "cells": [
  {
   "cell_type": "code",
   "execution_count": 1,
   "id": "d25a247c",
   "metadata": {
    "execution": {
     "iopub.execute_input": "2023-09-05T15:07:37.572230Z",
     "iopub.status.busy": "2023-09-05T15:07:37.571860Z",
     "iopub.status.idle": "2023-09-05T15:07:37.990342Z",
     "shell.execute_reply": "2023-09-05T15:07:37.989110Z"
    },
    "papermill": {
     "duration": 0.428134,
     "end_time": "2023-09-05T15:07:37.993523",
     "exception": false,
     "start_time": "2023-09-05T15:07:37.565389",
     "status": "completed"
    },
    "tags": []
   },
   "outputs": [
    {
     "data": {
      "text/html": [
       "<div>\n",
       "<style scoped>\n",
       "    .dataframe tbody tr th:only-of-type {\n",
       "        vertical-align: middle;\n",
       "    }\n",
       "\n",
       "    .dataframe tbody tr th {\n",
       "        vertical-align: top;\n",
       "    }\n",
       "\n",
       "    .dataframe thead th {\n",
       "        text-align: right;\n",
       "    }\n",
       "</style>\n",
       "<table border=\"1\" class=\"dataframe\">\n",
       "  <thead>\n",
       "    <tr style=\"text-align: right;\">\n",
       "      <th></th>\n",
       "      <th>Comment</th>\n",
       "      <th>Emotion</th>\n",
       "    </tr>\n",
       "  </thead>\n",
       "  <tbody>\n",
       "    <tr>\n",
       "      <th>0</th>\n",
       "      <td>i seriously hate one subject to death but now ...</td>\n",
       "      <td>fear</td>\n",
       "    </tr>\n",
       "    <tr>\n",
       "      <th>1</th>\n",
       "      <td>im so full of life i feel appalled</td>\n",
       "      <td>anger</td>\n",
       "    </tr>\n",
       "    <tr>\n",
       "      <th>2</th>\n",
       "      <td>i sit here to write i start to dig out my feel...</td>\n",
       "      <td>fear</td>\n",
       "    </tr>\n",
       "    <tr>\n",
       "      <th>3</th>\n",
       "      <td>ive been really angry with r and i feel like a...</td>\n",
       "      <td>joy</td>\n",
       "    </tr>\n",
       "    <tr>\n",
       "      <th>4</th>\n",
       "      <td>i feel suspicious if there is no one outside l...</td>\n",
       "      <td>fear</td>\n",
       "    </tr>\n",
       "  </tbody>\n",
       "</table>\n",
       "</div>"
      ],
      "text/plain": [
       "                                             Comment Emotion\n",
       "0  i seriously hate one subject to death but now ...    fear\n",
       "1                 im so full of life i feel appalled   anger\n",
       "2  i sit here to write i start to dig out my feel...    fear\n",
       "3  ive been really angry with r and i feel like a...     joy\n",
       "4  i feel suspicious if there is no one outside l...    fear"
      ]
     },
     "execution_count": 1,
     "metadata": {},
     "output_type": "execute_result"
    }
   ],
   "source": [
    "#import pandas library\n",
    "\n",
    "import pandas as pd\n",
    "\n",
    "#read the dataset with name \"Emotion_classify_Data.csv\" and store it in a variable df\n",
    "\n",
    "df=pd.read_csv(\"/kaggle/input/emotion-dataset/Emotion_classify_Data.csv\") \n",
    "\n",
    "#print the shape of dataframe\n",
    "\n",
    "df.shape \n",
    "\n",
    "#print top 5 rows\n",
    "\n",
    "df.head(5)"
   ]
  },
  {
   "cell_type": "code",
   "execution_count": 2,
   "id": "90649218",
   "metadata": {
    "execution": {
     "iopub.execute_input": "2023-09-05T15:07:38.004306Z",
     "iopub.status.busy": "2023-09-05T15:07:38.003910Z",
     "iopub.status.idle": "2023-09-05T15:07:38.017720Z",
     "shell.execute_reply": "2023-09-05T15:07:38.016868Z"
    },
    "papermill": {
     "duration": 0.021554,
     "end_time": "2023-09-05T15:07:38.019725",
     "exception": false,
     "start_time": "2023-09-05T15:07:37.998171",
     "status": "completed"
    },
    "tags": []
   },
   "outputs": [
    {
     "data": {
      "text/plain": [
       "Emotion\n",
       "anger    2000\n",
       "joy      2000\n",
       "fear     1937\n",
       "Name: count, dtype: int64"
      ]
     },
     "execution_count": 2,
     "metadata": {},
     "output_type": "execute_result"
    }
   ],
   "source": [
    "#check the distribution of Emotion\n",
    "\n",
    "df['Emotion'].value_counts()"
   ]
  },
  {
   "cell_type": "code",
   "execution_count": 3,
   "id": "d2739de9",
   "metadata": {
    "execution": {
     "iopub.execute_input": "2023-09-05T15:07:38.029871Z",
     "iopub.status.busy": "2023-09-05T15:07:38.029556Z",
     "iopub.status.idle": "2023-09-05T15:07:38.043692Z",
     "shell.execute_reply": "2023-09-05T15:07:38.042756Z"
    },
    "papermill": {
     "duration": 0.021496,
     "end_time": "2023-09-05T15:07:38.045630",
     "exception": false,
     "start_time": "2023-09-05T15:07:38.024134",
     "status": "completed"
    },
    "tags": []
   },
   "outputs": [
    {
     "data": {
      "text/html": [
       "<div>\n",
       "<style scoped>\n",
       "    .dataframe tbody tr th:only-of-type {\n",
       "        vertical-align: middle;\n",
       "    }\n",
       "\n",
       "    .dataframe tbody tr th {\n",
       "        vertical-align: top;\n",
       "    }\n",
       "\n",
       "    .dataframe thead th {\n",
       "        text-align: right;\n",
       "    }\n",
       "</style>\n",
       "<table border=\"1\" class=\"dataframe\">\n",
       "  <thead>\n",
       "    <tr style=\"text-align: right;\">\n",
       "      <th></th>\n",
       "      <th>Comment</th>\n",
       "      <th>Emotion</th>\n",
       "      <th>Emotion_num</th>\n",
       "    </tr>\n",
       "  </thead>\n",
       "  <tbody>\n",
       "    <tr>\n",
       "      <th>0</th>\n",
       "      <td>i seriously hate one subject to death but now ...</td>\n",
       "      <td>fear</td>\n",
       "      <td>1</td>\n",
       "    </tr>\n",
       "    <tr>\n",
       "      <th>1</th>\n",
       "      <td>im so full of life i feel appalled</td>\n",
       "      <td>anger</td>\n",
       "      <td>2</td>\n",
       "    </tr>\n",
       "    <tr>\n",
       "      <th>2</th>\n",
       "      <td>i sit here to write i start to dig out my feel...</td>\n",
       "      <td>fear</td>\n",
       "      <td>1</td>\n",
       "    </tr>\n",
       "    <tr>\n",
       "      <th>3</th>\n",
       "      <td>ive been really angry with r and i feel like a...</td>\n",
       "      <td>joy</td>\n",
       "      <td>0</td>\n",
       "    </tr>\n",
       "    <tr>\n",
       "      <th>4</th>\n",
       "      <td>i feel suspicious if there is no one outside l...</td>\n",
       "      <td>fear</td>\n",
       "      <td>1</td>\n",
       "    </tr>\n",
       "  </tbody>\n",
       "</table>\n",
       "</div>"
      ],
      "text/plain": [
       "                                             Comment Emotion  Emotion_num\n",
       "0  i seriously hate one subject to death but now ...    fear            1\n",
       "1                 im so full of life i feel appalled   anger            2\n",
       "2  i sit here to write i start to dig out my feel...    fear            1\n",
       "3  ive been really angry with r and i feel like a...     joy            0\n",
       "4  i feel suspicious if there is no one outside l...    fear            1"
      ]
     },
     "execution_count": 3,
     "metadata": {},
     "output_type": "execute_result"
    }
   ],
   "source": [
    "#Add the new column \"Emotion_num\" which gives a unique number to each of these Emotions\n",
    "#joy --> 0, fear --> 1, anger --> 2\n",
    "\n",
    "df['Emotion_num']=df['Emotion'].map({'joy':0,'fear':1,'anger':2})\n",
    "\n",
    "#checking the results by printing top 5 rows\n",
    "\n",
    "df.head(5)"
   ]
  },
  {
   "cell_type": "code",
   "execution_count": 4,
   "id": "005894c7",
   "metadata": {
    "execution": {
     "iopub.execute_input": "2023-09-05T15:07:38.056159Z",
     "iopub.status.busy": "2023-09-05T15:07:38.055831Z",
     "iopub.status.idle": "2023-09-05T15:07:39.281351Z",
     "shell.execute_reply": "2023-09-05T15:07:39.280210Z"
    },
    "papermill": {
     "duration": 1.233583,
     "end_time": "2023-09-05T15:07:39.284023",
     "exception": false,
     "start_time": "2023-09-05T15:07:38.050440",
     "status": "completed"
    },
    "tags": []
   },
   "outputs": [],
   "source": [
    "#import train-test split\n",
    "\n",
    "import sklearn\n",
    "from sklearn.model_selection import train_test_split\n",
    "\n",
    "#Do the 'train-test' splitting with test size of 20%\n",
    "#Note: Give Random state \n",
    "\n",
    "x=df['Comment']\n",
    "y=df['Emotion_num']\n",
    "X_train,X_test,y_train,y_test=train_test_split(x,y,random_state=2023,test_size=0.2,stratify=df['Emotion_num'])"
   ]
  },
  {
   "cell_type": "code",
   "execution_count": 5,
   "id": "24385e3f",
   "metadata": {
    "execution": {
     "iopub.execute_input": "2023-09-05T15:07:39.295567Z",
     "iopub.status.busy": "2023-09-05T15:07:39.295165Z",
     "iopub.status.idle": "2023-09-05T15:07:39.300454Z",
     "shell.execute_reply": "2023-09-05T15:07:39.299452Z"
    },
    "papermill": {
     "duration": 0.013578,
     "end_time": "2023-09-05T15:07:39.302488",
     "exception": false,
     "start_time": "2023-09-05T15:07:39.288910",
     "status": "completed"
    },
    "tags": []
   },
   "outputs": [
    {
     "name": "stdout",
     "output_type": "stream",
     "text": [
      "(4749,)\n"
     ]
    }
   ],
   "source": [
    "#print the shapes of X_train and X_test\n",
    "\n",
    "print(X_train.shape)"
   ]
  },
  {
   "cell_type": "code",
   "execution_count": 6,
   "id": "fce6c958",
   "metadata": {
    "execution": {
     "iopub.execute_input": "2023-09-05T15:07:39.314369Z",
     "iopub.status.busy": "2023-09-05T15:07:39.313604Z",
     "iopub.status.idle": "2023-09-05T15:07:39.319785Z",
     "shell.execute_reply": "2023-09-05T15:07:39.318676Z"
    },
    "papermill": {
     "duration": 0.014608,
     "end_time": "2023-09-05T15:07:39.322047",
     "exception": false,
     "start_time": "2023-09-05T15:07:39.307439",
     "status": "completed"
    },
    "tags": []
   },
   "outputs": [
    {
     "name": "stdout",
     "output_type": "stream",
     "text": [
      "(1188,)\n"
     ]
    }
   ],
   "source": [
    "print(X_test.shape)"
   ]
  },
  {
   "cell_type": "markdown",
   "id": "b7f32175",
   "metadata": {
    "papermill": {
     "duration": 0.004769,
     "end_time": "2023-09-05T15:07:39.331711",
     "exception": false,
     "start_time": "2023-09-05T15:07:39.326942",
     "status": "completed"
    },
    "tags": []
   },
   "source": [
    "Attempt 1 :\n",
    "\n",
    "using the sklearn pipeline module create a classification pipeline to classify the Data.\n",
    "Note:\n",
    "\n",
    "using CountVectorizer with only trigrams.\n",
    "use RandomForest as the classifier.\n",
    "print the classification report."
   ]
  },
  {
   "cell_type": "code",
   "execution_count": 7,
   "id": "d80530b8",
   "metadata": {
    "execution": {
     "iopub.execute_input": "2023-09-05T15:07:39.342684Z",
     "iopub.status.busy": "2023-09-05T15:07:39.342315Z",
     "iopub.status.idle": "2023-09-05T15:07:58.857600Z",
     "shell.execute_reply": "2023-09-05T15:07:58.856387Z"
    },
    "papermill": {
     "duration": 19.523587,
     "end_time": "2023-09-05T15:07:58.859930",
     "exception": false,
     "start_time": "2023-09-05T15:07:39.336343",
     "status": "completed"
    },
    "tags": []
   },
   "outputs": [
    {
     "name": "stdout",
     "output_type": "stream",
     "text": [
      "              precision    recall  f1-score   support\n",
      "\n",
      "           0       0.58      0.25      0.35       400\n",
      "           1       0.64      0.42      0.51       388\n",
      "           2       0.41      0.78      0.54       400\n",
      "\n",
      "    accuracy                           0.49      1188\n",
      "   macro avg       0.55      0.49      0.47      1188\n",
      "weighted avg       0.54      0.49      0.47      1188\n",
      "\n"
     ]
    }
   ],
   "source": [
    "#import CountVectorizer, RandomForest, pipeline, classification_report from sklearn \n",
    "\n",
    "from sklearn.ensemble import RandomForestClassifier\n",
    "from sklearn.pipeline import Pipeline\n",
    "from sklearn.metrics import classification_report\n",
    "from sklearn.feature_extraction.text import CountVectorizer\n",
    "\n",
    "#1. create a pipeline object\n",
    "\n",
    "clf=Pipeline([('count_vectorizer',CountVectorizer(ngram_range=(3,3))),\n",
    "             ('RF',RandomForestClassifier())])\n",
    "\n",
    "\n",
    "#2. fit with X_train and y_train\n",
    "\n",
    "clf.fit(X_train,y_train)\n",
    "\n",
    "\n",
    "#3. get the predictions for X_test and store it in y_pred\n",
    "\n",
    "y_pred=clf.predict(X_test)\n",
    "\n",
    "\n",
    "#4. print the classfication report\n",
    "\n",
    "print(classification_report(y_test,y_pred))"
   ]
  },
  {
   "cell_type": "code",
   "execution_count": null,
   "id": "1c2ab174",
   "metadata": {
    "papermill": {
     "duration": 0.004829,
     "end_time": "2023-09-05T15:07:58.869882",
     "exception": false,
     "start_time": "2023-09-05T15:07:58.865053",
     "status": "completed"
    },
    "tags": []
   },
   "outputs": [],
   "source": []
  }
 ],
 "kernelspec": {
  "display_name": "Python 3",
  "language": "python",
  "name": "python3"
 },
 "language_info": {
  "codemirror_mode": {
   "name": "ipython",
   "version": 3
  },
  "file_extension": ".py",
  "mimetype": "text/x-python",
  "name": "python",
  "nbconvert_exporter": "python",
  "pygments_lexer": "ipython3",
  "version": "3.6.4"
 },
 "metadata": {
  "kernelspec": {
   "display_name": "Python 3",
   "language": "python",
   "name": "python3"
  },
  "language_info": {
   "codemirror_mode": {
    "name": "ipython",
    "version": 3
   },
   "file_extension": ".py",
   "mimetype": "text/x-python",
   "name": "python",
   "nbconvert_exporter": "python",
   "pygments_lexer": "ipython3",
   "version": "3.10.12"
  },
  "papermill": {
   "default_parameters": {},
   "duration": 24.968169,
   "end_time": "2023-09-05T15:07:59.394670",
   "environment_variables": {},
   "exception": null,
   "input_path": "__notebook__.ipynb",
   "output_path": "__notebook__.ipynb",
   "parameters": {},
   "start_time": "2023-09-05T15:07:34.426501",
   "version": "2.4.0"
  }
 },
 "nbformat": 4,
 "nbformat_minor": 5
}
