{
 "cells": [
  {
   "cell_type": "code",
   "execution_count": 1,
   "id": "61566f50",
   "metadata": {
    "execution": {
     "iopub.execute_input": "2023-09-06T01:23:09.802683Z",
     "iopub.status.busy": "2023-09-06T01:23:09.801959Z",
     "iopub.status.idle": "2023-09-06T01:23:10.224805Z",
     "shell.execute_reply": "2023-09-06T01:23:10.223669Z"
    },
    "papermill": {
     "duration": 0.438676,
     "end_time": "2023-09-06T01:23:10.227517",
     "exception": false,
     "start_time": "2023-09-06T01:23:09.788841",
     "status": "completed"
    },
    "tags": []
   },
   "outputs": [
    {
     "data": {
      "text/html": [
       "<div>\n",
       "<style scoped>\n",
       "    .dataframe tbody tr th:only-of-type {\n",
       "        vertical-align: middle;\n",
       "    }\n",
       "\n",
       "    .dataframe tbody tr th {\n",
       "        vertical-align: top;\n",
       "    }\n",
       "\n",
       "    .dataframe thead th {\n",
       "        text-align: right;\n",
       "    }\n",
       "</style>\n",
       "<table border=\"1\" class=\"dataframe\">\n",
       "  <thead>\n",
       "    <tr style=\"text-align: right;\">\n",
       "      <th></th>\n",
       "      <th>Comment</th>\n",
       "      <th>Emotion</th>\n",
       "    </tr>\n",
       "  </thead>\n",
       "  <tbody>\n",
       "    <tr>\n",
       "      <th>0</th>\n",
       "      <td>i seriously hate one subject to death but now ...</td>\n",
       "      <td>fear</td>\n",
       "    </tr>\n",
       "    <tr>\n",
       "      <th>1</th>\n",
       "      <td>im so full of life i feel appalled</td>\n",
       "      <td>anger</td>\n",
       "    </tr>\n",
       "    <tr>\n",
       "      <th>2</th>\n",
       "      <td>i sit here to write i start to dig out my feel...</td>\n",
       "      <td>fear</td>\n",
       "    </tr>\n",
       "    <tr>\n",
       "      <th>3</th>\n",
       "      <td>ive been really angry with r and i feel like a...</td>\n",
       "      <td>joy</td>\n",
       "    </tr>\n",
       "    <tr>\n",
       "      <th>4</th>\n",
       "      <td>i feel suspicious if there is no one outside l...</td>\n",
       "      <td>fear</td>\n",
       "    </tr>\n",
       "  </tbody>\n",
       "</table>\n",
       "</div>"
      ],
      "text/plain": [
       "                                             Comment Emotion\n",
       "0  i seriously hate one subject to death but now ...    fear\n",
       "1                 im so full of life i feel appalled   anger\n",
       "2  i sit here to write i start to dig out my feel...    fear\n",
       "3  ive been really angry with r and i feel like a...     joy\n",
       "4  i feel suspicious if there is no one outside l...    fear"
      ]
     },
     "execution_count": 1,
     "metadata": {},
     "output_type": "execute_result"
    }
   ],
   "source": [
    "#import pandas library\n",
    "\n",
    "import pandas as pd\n",
    "\n",
    "#read the dataset with name \"Emotion_classify_Data.csv\" and store it in a variable df\n",
    "\n",
    "df=pd.read_csv(\"/kaggle/input/emotion-dataset/Emotion_classify_Data.csv\") \n",
    "\n",
    "#print the shape of dataframe\n",
    "\n",
    "df.shape \n",
    "\n",
    "#print top 5 rows\n",
    "\n",
    "df.head(5)"
   ]
  },
  {
   "cell_type": "code",
   "execution_count": 2,
   "id": "008703b9",
   "metadata": {
    "execution": {
     "iopub.execute_input": "2023-09-06T01:23:10.247174Z",
     "iopub.status.busy": "2023-09-06T01:23:10.246014Z",
     "iopub.status.idle": "2023-09-06T01:23:10.271103Z",
     "shell.execute_reply": "2023-09-06T01:23:10.269865Z"
    },
    "papermill": {
     "duration": 0.037085,
     "end_time": "2023-09-06T01:23:10.273431",
     "exception": false,
     "start_time": "2023-09-06T01:23:10.236346",
     "status": "completed"
    },
    "tags": []
   },
   "outputs": [
    {
     "data": {
      "text/plain": [
       "Emotion\n",
       "anger    2000\n",
       "joy      2000\n",
       "fear     1937\n",
       "Name: count, dtype: int64"
      ]
     },
     "execution_count": 2,
     "metadata": {},
     "output_type": "execute_result"
    }
   ],
   "source": [
    "#check the distribution of Emotion\n",
    "\n",
    "df['Emotion'].value_counts()"
   ]
  },
  {
   "cell_type": "code",
   "execution_count": 3,
   "id": "ec597952",
   "metadata": {
    "execution": {
     "iopub.execute_input": "2023-09-06T01:23:10.294065Z",
     "iopub.status.busy": "2023-09-06T01:23:10.293206Z",
     "iopub.status.idle": "2023-09-06T01:23:10.310361Z",
     "shell.execute_reply": "2023-09-06T01:23:10.309050Z"
    },
    "papermill": {
     "duration": 0.031143,
     "end_time": "2023-09-06T01:23:10.312941",
     "exception": false,
     "start_time": "2023-09-06T01:23:10.281798",
     "status": "completed"
    },
    "tags": []
   },
   "outputs": [
    {
     "data": {
      "text/html": [
       "<div>\n",
       "<style scoped>\n",
       "    .dataframe tbody tr th:only-of-type {\n",
       "        vertical-align: middle;\n",
       "    }\n",
       "\n",
       "    .dataframe tbody tr th {\n",
       "        vertical-align: top;\n",
       "    }\n",
       "\n",
       "    .dataframe thead th {\n",
       "        text-align: right;\n",
       "    }\n",
       "</style>\n",
       "<table border=\"1\" class=\"dataframe\">\n",
       "  <thead>\n",
       "    <tr style=\"text-align: right;\">\n",
       "      <th></th>\n",
       "      <th>Comment</th>\n",
       "      <th>Emotion</th>\n",
       "      <th>Emotion_num</th>\n",
       "    </tr>\n",
       "  </thead>\n",
       "  <tbody>\n",
       "    <tr>\n",
       "      <th>0</th>\n",
       "      <td>i seriously hate one subject to death but now ...</td>\n",
       "      <td>fear</td>\n",
       "      <td>1</td>\n",
       "    </tr>\n",
       "    <tr>\n",
       "      <th>1</th>\n",
       "      <td>im so full of life i feel appalled</td>\n",
       "      <td>anger</td>\n",
       "      <td>2</td>\n",
       "    </tr>\n",
       "    <tr>\n",
       "      <th>2</th>\n",
       "      <td>i sit here to write i start to dig out my feel...</td>\n",
       "      <td>fear</td>\n",
       "      <td>1</td>\n",
       "    </tr>\n",
       "    <tr>\n",
       "      <th>3</th>\n",
       "      <td>ive been really angry with r and i feel like a...</td>\n",
       "      <td>joy</td>\n",
       "      <td>0</td>\n",
       "    </tr>\n",
       "    <tr>\n",
       "      <th>4</th>\n",
       "      <td>i feel suspicious if there is no one outside l...</td>\n",
       "      <td>fear</td>\n",
       "      <td>1</td>\n",
       "    </tr>\n",
       "  </tbody>\n",
       "</table>\n",
       "</div>"
      ],
      "text/plain": [
       "                                             Comment Emotion  Emotion_num\n",
       "0  i seriously hate one subject to death but now ...    fear            1\n",
       "1                 im so full of life i feel appalled   anger            2\n",
       "2  i sit here to write i start to dig out my feel...    fear            1\n",
       "3  ive been really angry with r and i feel like a...     joy            0\n",
       "4  i feel suspicious if there is no one outside l...    fear            1"
      ]
     },
     "execution_count": 3,
     "metadata": {},
     "output_type": "execute_result"
    }
   ],
   "source": [
    "#Add the new column \"Emotion_num\" which gives a unique number to each of these Emotions\n",
    "#joy --> 0, fear --> 1, anger --> 2\n",
    "\n",
    "df['Emotion_num']=df['Emotion'].map({'joy':0,'fear':1,'anger':2})\n",
    "\n",
    "#checking the results by printing top 5 rows\n",
    "\n",
    "df.head(5)"
   ]
  },
  {
   "cell_type": "code",
   "execution_count": 4,
   "id": "269ddc67",
   "metadata": {
    "execution": {
     "iopub.execute_input": "2023-09-06T01:23:10.332464Z",
     "iopub.status.busy": "2023-09-06T01:23:10.331805Z",
     "iopub.status.idle": "2023-09-06T01:23:11.780966Z",
     "shell.execute_reply": "2023-09-06T01:23:11.779877Z"
    },
    "papermill": {
     "duration": 1.461693,
     "end_time": "2023-09-06T01:23:11.783550",
     "exception": false,
     "start_time": "2023-09-06T01:23:10.321857",
     "status": "completed"
    },
    "tags": []
   },
   "outputs": [],
   "source": [
    "#import train-test split\n",
    "\n",
    "import sklearn\n",
    "from sklearn.model_selection import train_test_split\n",
    "\n",
    "#Do the 'train-test' splitting with test size of 20%\n",
    "#Note: Give Random state \n",
    "\n",
    "x=df['Comment']\n",
    "y=df['Emotion_num']\n",
    "X_train,X_test,y_train,y_test=train_test_split(x,y,random_state=2023,test_size=0.2,stratify=df['Emotion_num'])"
   ]
  },
  {
   "cell_type": "code",
   "execution_count": 5,
   "id": "3b613392",
   "metadata": {
    "execution": {
     "iopub.execute_input": "2023-09-06T01:23:11.803609Z",
     "iopub.status.busy": "2023-09-06T01:23:11.803197Z",
     "iopub.status.idle": "2023-09-06T01:23:11.808803Z",
     "shell.execute_reply": "2023-09-06T01:23:11.807535Z"
    },
    "papermill": {
     "duration": 0.018622,
     "end_time": "2023-09-06T01:23:11.811076",
     "exception": false,
     "start_time": "2023-09-06T01:23:11.792454",
     "status": "completed"
    },
    "tags": []
   },
   "outputs": [
    {
     "name": "stdout",
     "output_type": "stream",
     "text": [
      "(4749,)\n"
     ]
    }
   ],
   "source": [
    "#print the shapes of X_train and X_test\n",
    "\n",
    "print(X_train.shape)"
   ]
  },
  {
   "cell_type": "code",
   "execution_count": 6,
   "id": "e864fe2c",
   "metadata": {
    "execution": {
     "iopub.execute_input": "2023-09-06T01:23:11.829914Z",
     "iopub.status.busy": "2023-09-06T01:23:11.829498Z",
     "iopub.status.idle": "2023-09-06T01:23:11.834703Z",
     "shell.execute_reply": "2023-09-06T01:23:11.833875Z"
    },
    "papermill": {
     "duration": 0.016719,
     "end_time": "2023-09-06T01:23:11.836578",
     "exception": false,
     "start_time": "2023-09-06T01:23:11.819859",
     "status": "completed"
    },
    "tags": []
   },
   "outputs": [
    {
     "name": "stdout",
     "output_type": "stream",
     "text": [
      "(1188,)\n"
     ]
    }
   ],
   "source": [
    "print(X_test.shape)"
   ]
  },
  {
   "cell_type": "markdown",
   "id": "1f071410",
   "metadata": {
    "papermill": {
     "duration": 0.009176,
     "end_time": "2023-09-06T01:23:11.854899",
     "exception": false,
     "start_time": "2023-09-06T01:23:11.845723",
     "status": "completed"
    },
    "tags": []
   },
   "source": [
    "Attempt 1 :\n",
    "\n",
    "using the sklearn pipeline module create a classification pipeline to classify the Data.\n",
    "Note:\n",
    "\n",
    "using CountVectorizer with only trigrams.\n",
    "use RandomForest as the classifier.\n",
    "print the classification report."
   ]
  },
  {
   "cell_type": "code",
   "execution_count": 7,
   "id": "56be6db7",
   "metadata": {
    "execution": {
     "iopub.execute_input": "2023-09-06T01:23:11.874736Z",
     "iopub.status.busy": "2023-09-06T01:23:11.873316Z",
     "iopub.status.idle": "2023-09-06T01:23:31.933300Z",
     "shell.execute_reply": "2023-09-06T01:23:31.931665Z"
    },
    "papermill": {
     "duration": 20.072227,
     "end_time": "2023-09-06T01:23:31.935858",
     "exception": false,
     "start_time": "2023-09-06T01:23:11.863631",
     "status": "completed"
    },
    "tags": []
   },
   "outputs": [
    {
     "name": "stdout",
     "output_type": "stream",
     "text": [
      "              precision    recall  f1-score   support\n",
      "\n",
      "           0       0.58      0.26      0.36       400\n",
      "           1       0.40      0.74      0.52       388\n",
      "           2       0.52      0.38      0.44       400\n",
      "\n",
      "    accuracy                           0.46      1188\n",
      "   macro avg       0.50      0.46      0.44      1188\n",
      "weighted avg       0.50      0.46      0.44      1188\n",
      "\n"
     ]
    }
   ],
   "source": [
    "#import CountVectorizer, RandomForest, pipeline, classification_report from sklearn \n",
    "\n",
    "from sklearn.ensemble import RandomForestClassifier\n",
    "from sklearn.pipeline import Pipeline\n",
    "from sklearn.metrics import classification_report\n",
    "from sklearn.feature_extraction.text import CountVectorizer\n",
    "\n",
    "#1. create a pipeline object\n",
    "\n",
    "clf=Pipeline([('count_vectorizer',CountVectorizer(ngram_range=(3,3))),\n",
    "             ('RF',RandomForestClassifier())])\n",
    "\n",
    "\n",
    "#2. fit with X_train and y_train\n",
    "\n",
    "clf.fit(X_train,y_train)\n",
    "\n",
    "\n",
    "#3. get the predictions for X_test and store it in y_pred\n",
    "\n",
    "y_pred=clf.predict(X_test)\n",
    "\n",
    "\n",
    "#4. print the classfication report\n",
    "\n",
    "print(classification_report(y_test,y_pred))"
   ]
  },
  {
   "cell_type": "markdown",
   "id": "63288df8",
   "metadata": {
    "papermill": {
     "duration": 0.008174,
     "end_time": "2023-09-06T01:23:31.953042",
     "exception": false,
     "start_time": "2023-09-06T01:23:31.944868",
     "status": "completed"
    },
    "tags": []
   },
   "source": [
    "Attempt 2 :\n",
    "\n",
    "using the sklearn pipeline module create a classification pipeline to classify the Data.\n",
    "Note:\n",
    "\n",
    "using CountVectorizer with both unigram and bigrams.\n",
    "use Multinomial Naive Bayes as the classifier.\n",
    "print the classification report."
   ]
  },
  {
   "cell_type": "code",
   "execution_count": 8,
   "id": "89e33ed8",
   "metadata": {
    "execution": {
     "iopub.execute_input": "2023-09-06T01:23:31.972272Z",
     "iopub.status.busy": "2023-09-06T01:23:31.971895Z",
     "iopub.status.idle": "2023-09-06T01:23:32.335435Z",
     "shell.execute_reply": "2023-09-06T01:23:32.333956Z"
    },
    "papermill": {
     "duration": 0.375993,
     "end_time": "2023-09-06T01:23:32.337814",
     "exception": false,
     "start_time": "2023-09-06T01:23:31.961821",
     "status": "completed"
    },
    "tags": []
   },
   "outputs": [
    {
     "name": "stdout",
     "output_type": "stream",
     "text": [
      "              precision    recall  f1-score   support\n",
      "\n",
      "           0       0.90      0.88      0.89       400\n",
      "           1       0.88      0.86      0.87       388\n",
      "           2       0.85      0.90      0.87       400\n",
      "\n",
      "    accuracy                           0.88      1188\n",
      "   macro avg       0.88      0.88      0.88      1188\n",
      "weighted avg       0.88      0.88      0.88      1188\n",
      "\n"
     ]
    }
   ],
   "source": [
    "from sklearn.naive_bayes import MultinomialNB\n",
    "clf=Pipeline([('vectorizer_count',CountVectorizer(ngram_range=(1,2))),\n",
    "              (\"naive_bayes\",MultinomialNB())])\n",
    "clf.fit(X_train,y_train)\n",
    "y_pred=clf.predict(X_test)\n",
    "print(classification_report(y_test,y_pred))"
   ]
  },
  {
   "cell_type": "markdown",
   "id": "833358b0",
   "metadata": {
    "papermill": {
     "duration": 0.00867,
     "end_time": "2023-09-06T01:23:32.355147",
     "exception": false,
     "start_time": "2023-09-06T01:23:32.346477",
     "status": "completed"
    },
    "tags": []
   },
   "source": [
    "Attempt 3 :\n",
    "\n",
    "using the sklearn pipeline module create a classification pipeline to classify the Data.\n",
    "Note:\n",
    "\n",
    "using CountVectorizer with both unigram and Bigrams.\n",
    "use RandomForest as the classifier.\n",
    "print the classification report."
   ]
  },
  {
   "cell_type": "code",
   "execution_count": 9,
   "id": "4b3c65c3",
   "metadata": {
    "execution": {
     "iopub.execute_input": "2023-09-06T01:23:32.374325Z",
     "iopub.status.busy": "2023-09-06T01:23:32.373923Z",
     "iopub.status.idle": "2023-09-06T01:23:42.967100Z",
     "shell.execute_reply": "2023-09-06T01:23:42.966011Z"
    },
    "papermill": {
     "duration": 10.605332,
     "end_time": "2023-09-06T01:23:42.969263",
     "exception": false,
     "start_time": "2023-09-06T01:23:32.363931",
     "status": "completed"
    },
    "tags": []
   },
   "outputs": [
    {
     "name": "stdout",
     "output_type": "stream",
     "text": [
      "              precision    recall  f1-score   support\n",
      "\n",
      "           0       0.86      0.94      0.90       400\n",
      "           1       0.92      0.84      0.88       388\n",
      "           2       0.91      0.91      0.91       400\n",
      "\n",
      "    accuracy                           0.90      1188\n",
      "   macro avg       0.90      0.90      0.90      1188\n",
      "weighted avg       0.90      0.90      0.90      1188\n",
      "\n"
     ]
    }
   ],
   "source": [
    "#import CountVectorizer, RandomForest, pipeline, classification_report from sklearn \n",
    "\n",
    "from sklearn.ensemble import RandomForestClassifier\n",
    "from sklearn.pipeline import Pipeline\n",
    "from sklearn.metrics import classification_report\n",
    "from sklearn.feature_extraction.text import CountVectorizer\n",
    "\n",
    "#1. create a pipeline object\n",
    "\n",
    "clf=Pipeline([('count_vectorizer',CountVectorizer(ngram_range=(1,2))),\n",
    "             ('RF',RandomForestClassifier())])\n",
    "\n",
    "\n",
    "#2. fit with X_train and y_train\n",
    "\n",
    "clf.fit(X_train,y_train)\n",
    "\n",
    "\n",
    "#3. get the predictions for X_test and store it in y_pred\n",
    "\n",
    "y_pred=clf.predict(X_test)\n",
    "\n",
    "\n",
    "#4. print the classfication report\n",
    "\n",
    "print(classification_report(y_test,y_pred))"
   ]
  },
  {
   "cell_type": "markdown",
   "id": "48dfb09a",
   "metadata": {
    "papermill": {
     "duration": 0.008683,
     "end_time": "2023-09-06T01:23:42.986647",
     "exception": false,
     "start_time": "2023-09-06T01:23:42.977964",
     "status": "completed"
    },
    "tags": []
   },
   "source": [
    "Attempt 4 :\n",
    "\n",
    "using the sklearn pipeline module create a classification pipeline to classify the Data.\n",
    "Note:\n",
    "\n",
    "using TF-IDF vectorizer for Pre-processing the text.\n",
    "use RandomForest as the classifier.\n",
    "print the classification report."
   ]
  },
  {
   "cell_type": "code",
   "execution_count": 10,
   "id": "a1d7234a",
   "metadata": {
    "execution": {
     "iopub.execute_input": "2023-09-06T01:23:43.006373Z",
     "iopub.status.busy": "2023-09-06T01:23:43.005122Z",
     "iopub.status.idle": "2023-09-06T01:23:47.548407Z",
     "shell.execute_reply": "2023-09-06T01:23:47.547295Z"
    },
    "papermill": {
     "duration": 4.555638,
     "end_time": "2023-09-06T01:23:47.550799",
     "exception": false,
     "start_time": "2023-09-06T01:23:42.995161",
     "status": "completed"
    },
    "tags": []
   },
   "outputs": [
    {
     "name": "stdout",
     "output_type": "stream",
     "text": [
      "              precision    recall  f1-score   support\n",
      "\n",
      "           0       0.89      0.92      0.91       400\n",
      "           1       0.92      0.89      0.90       388\n",
      "           2       0.90      0.90      0.90       400\n",
      "\n",
      "    accuracy                           0.90      1188\n",
      "   macro avg       0.90      0.90      0.90      1188\n",
      "weighted avg       0.90      0.90      0.90      1188\n",
      "\n"
     ]
    }
   ],
   "source": [
    "from sklearn.feature_extraction.text import TfidfVectorizer\n",
    "clf=Pipeline([('tfidf',TfidfVectorizer()),\n",
    "             ('rf',RandomForestClassifier())])\n",
    "clf.fit(X_train,y_train)\n",
    "y_pred=clf.predict(X_test)\n",
    "print(classification_report(y_test,y_pred))"
   ]
  },
  {
   "cell_type": "code",
   "execution_count": 11,
   "id": "d592007c",
   "metadata": {
    "execution": {
     "iopub.execute_input": "2023-09-06T01:23:47.570520Z",
     "iopub.status.busy": "2023-09-06T01:23:47.570094Z",
     "iopub.status.idle": "2023-09-06T01:24:03.519382Z",
     "shell.execute_reply": "2023-09-06T01:24:03.518118Z"
    },
    "papermill": {
     "duration": 15.962386,
     "end_time": "2023-09-06T01:24:03.522376",
     "exception": false,
     "start_time": "2023-09-06T01:23:47.559990",
     "status": "completed"
    },
    "tags": []
   },
   "outputs": [],
   "source": [
    "import spacy\n",
    "nlp=spacy.load(\"en_core_web_sm\")\n",
    "def preprocess(text):\n",
    "    doc=nlp(text)\n",
    "    filtered_text=[]\n",
    "    for token in doc:\n",
    "        if token.is_stop or token.is_punct:\n",
    "            continue\n",
    "        filtered_text.append(token.lemma_)\n",
    "    return \" \".join(filtered_text)"
   ]
  },
  {
   "cell_type": "code",
   "execution_count": 12,
   "id": "3539fcbd",
   "metadata": {
    "execution": {
     "iopub.execute_input": "2023-09-06T01:24:03.544944Z",
     "iopub.status.busy": "2023-09-06T01:24:03.544264Z",
     "iopub.status.idle": "2023-09-06T01:24:03.557513Z",
     "shell.execute_reply": "2023-09-06T01:24:03.556432Z"
    },
    "papermill": {
     "duration": 0.027973,
     "end_time": "2023-09-06T01:24:03.559701",
     "exception": false,
     "start_time": "2023-09-06T01:24:03.531728",
     "status": "completed"
    },
    "tags": []
   },
   "outputs": [
    {
     "data": {
      "text/html": [
       "<div>\n",
       "<style scoped>\n",
       "    .dataframe tbody tr th:only-of-type {\n",
       "        vertical-align: middle;\n",
       "    }\n",
       "\n",
       "    .dataframe tbody tr th {\n",
       "        vertical-align: top;\n",
       "    }\n",
       "\n",
       "    .dataframe thead th {\n",
       "        text-align: right;\n",
       "    }\n",
       "</style>\n",
       "<table border=\"1\" class=\"dataframe\">\n",
       "  <thead>\n",
       "    <tr style=\"text-align: right;\">\n",
       "      <th></th>\n",
       "      <th>Comment</th>\n",
       "      <th>Emotion</th>\n",
       "      <th>Emotion_num</th>\n",
       "    </tr>\n",
       "  </thead>\n",
       "  <tbody>\n",
       "    <tr>\n",
       "      <th>0</th>\n",
       "      <td>i seriously hate one subject to death but now ...</td>\n",
       "      <td>fear</td>\n",
       "      <td>1</td>\n",
       "    </tr>\n",
       "    <tr>\n",
       "      <th>1</th>\n",
       "      <td>im so full of life i feel appalled</td>\n",
       "      <td>anger</td>\n",
       "      <td>2</td>\n",
       "    </tr>\n",
       "    <tr>\n",
       "      <th>2</th>\n",
       "      <td>i sit here to write i start to dig out my feel...</td>\n",
       "      <td>fear</td>\n",
       "      <td>1</td>\n",
       "    </tr>\n",
       "    <tr>\n",
       "      <th>3</th>\n",
       "      <td>ive been really angry with r and i feel like a...</td>\n",
       "      <td>joy</td>\n",
       "      <td>0</td>\n",
       "    </tr>\n",
       "    <tr>\n",
       "      <th>4</th>\n",
       "      <td>i feel suspicious if there is no one outside l...</td>\n",
       "      <td>fear</td>\n",
       "      <td>1</td>\n",
       "    </tr>\n",
       "    <tr>\n",
       "      <th>...</th>\n",
       "      <td>...</td>\n",
       "      <td>...</td>\n",
       "      <td>...</td>\n",
       "    </tr>\n",
       "    <tr>\n",
       "      <th>5932</th>\n",
       "      <td>i begun to feel distressed for you</td>\n",
       "      <td>fear</td>\n",
       "      <td>1</td>\n",
       "    </tr>\n",
       "    <tr>\n",
       "      <th>5933</th>\n",
       "      <td>i left feeling annoyed and angry thinking that...</td>\n",
       "      <td>anger</td>\n",
       "      <td>2</td>\n",
       "    </tr>\n",
       "    <tr>\n",
       "      <th>5934</th>\n",
       "      <td>i were to ever get married i d have everything...</td>\n",
       "      <td>joy</td>\n",
       "      <td>0</td>\n",
       "    </tr>\n",
       "    <tr>\n",
       "      <th>5935</th>\n",
       "      <td>i feel reluctant in applying there because i w...</td>\n",
       "      <td>fear</td>\n",
       "      <td>1</td>\n",
       "    </tr>\n",
       "    <tr>\n",
       "      <th>5936</th>\n",
       "      <td>i just wanted to apologize to you because i fe...</td>\n",
       "      <td>anger</td>\n",
       "      <td>2</td>\n",
       "    </tr>\n",
       "  </tbody>\n",
       "</table>\n",
       "<p>5937 rows × 3 columns</p>\n",
       "</div>"
      ],
      "text/plain": [
       "                                                Comment Emotion  Emotion_num\n",
       "0     i seriously hate one subject to death but now ...    fear            1\n",
       "1                    im so full of life i feel appalled   anger            2\n",
       "2     i sit here to write i start to dig out my feel...    fear            1\n",
       "3     ive been really angry with r and i feel like a...     joy            0\n",
       "4     i feel suspicious if there is no one outside l...    fear            1\n",
       "...                                                 ...     ...          ...\n",
       "5932                 i begun to feel distressed for you    fear            1\n",
       "5933  i left feeling annoyed and angry thinking that...   anger            2\n",
       "5934  i were to ever get married i d have everything...     joy            0\n",
       "5935  i feel reluctant in applying there because i w...    fear            1\n",
       "5936  i just wanted to apologize to you because i fe...   anger            2\n",
       "\n",
       "[5937 rows x 3 columns]"
      ]
     },
     "execution_count": 12,
     "metadata": {},
     "output_type": "execute_result"
    }
   ],
   "source": [
    "df"
   ]
  },
  {
   "cell_type": "code",
   "execution_count": 13,
   "id": "e9a8d793",
   "metadata": {
    "execution": {
     "iopub.execute_input": "2023-09-06T01:24:03.580284Z",
     "iopub.status.busy": "2023-09-06T01:24:03.579038Z",
     "iopub.status.idle": "2023-09-06T01:24:52.106327Z",
     "shell.execute_reply": "2023-09-06T01:24:52.105057Z"
    },
    "papermill": {
     "duration": 48.54082,
     "end_time": "2023-09-06T01:24:52.109579",
     "exception": false,
     "start_time": "2023-09-06T01:24:03.568759",
     "status": "completed"
    },
    "tags": []
   },
   "outputs": [],
   "source": [
    "# create a new column \"preprocessed_comment\" and use the utility function above to get the clean data\n",
    "\n",
    "df['preprocessed_comment']=df['Comment'].apply(preprocess)"
   ]
  },
  {
   "cell_type": "code",
   "execution_count": 14,
   "id": "4a1cb13e",
   "metadata": {
    "execution": {
     "iopub.execute_input": "2023-09-06T01:24:52.135773Z",
     "iopub.status.busy": "2023-09-06T01:24:52.135208Z",
     "iopub.status.idle": "2023-09-06T01:24:52.149678Z",
     "shell.execute_reply": "2023-09-06T01:24:52.148480Z"
    },
    "papermill": {
     "duration": 0.028038,
     "end_time": "2023-09-06T01:24:52.152312",
     "exception": false,
     "start_time": "2023-09-06T01:24:52.124274",
     "status": "completed"
    },
    "tags": []
   },
   "outputs": [
    {
     "data": {
      "text/html": [
       "<div>\n",
       "<style scoped>\n",
       "    .dataframe tbody tr th:only-of-type {\n",
       "        vertical-align: middle;\n",
       "    }\n",
       "\n",
       "    .dataframe tbody tr th {\n",
       "        vertical-align: top;\n",
       "    }\n",
       "\n",
       "    .dataframe thead th {\n",
       "        text-align: right;\n",
       "    }\n",
       "</style>\n",
       "<table border=\"1\" class=\"dataframe\">\n",
       "  <thead>\n",
       "    <tr style=\"text-align: right;\">\n",
       "      <th></th>\n",
       "      <th>Comment</th>\n",
       "      <th>Emotion</th>\n",
       "      <th>Emotion_num</th>\n",
       "      <th>preprocessed_comment</th>\n",
       "    </tr>\n",
       "  </thead>\n",
       "  <tbody>\n",
       "    <tr>\n",
       "      <th>0</th>\n",
       "      <td>i seriously hate one subject to death but now ...</td>\n",
       "      <td>fear</td>\n",
       "      <td>1</td>\n",
       "      <td>seriously hate subject death feel reluctant drop</td>\n",
       "    </tr>\n",
       "    <tr>\n",
       "      <th>1</th>\n",
       "      <td>im so full of life i feel appalled</td>\n",
       "      <td>anger</td>\n",
       "      <td>2</td>\n",
       "      <td>m life feel appalled</td>\n",
       "    </tr>\n",
       "    <tr>\n",
       "      <th>2</th>\n",
       "      <td>i sit here to write i start to dig out my feel...</td>\n",
       "      <td>fear</td>\n",
       "      <td>1</td>\n",
       "      <td>sit write start dig feeling think afraid accep...</td>\n",
       "    </tr>\n",
       "    <tr>\n",
       "      <th>3</th>\n",
       "      <td>ive been really angry with r and i feel like a...</td>\n",
       "      <td>joy</td>\n",
       "      <td>0</td>\n",
       "      <td>ve angry r feel like idiot trust place</td>\n",
       "    </tr>\n",
       "    <tr>\n",
       "      <th>4</th>\n",
       "      <td>i feel suspicious if there is no one outside l...</td>\n",
       "      <td>fear</td>\n",
       "      <td>1</td>\n",
       "      <td>feel suspicious outside like rapture happen</td>\n",
       "    </tr>\n",
       "    <tr>\n",
       "      <th>...</th>\n",
       "      <td>...</td>\n",
       "      <td>...</td>\n",
       "      <td>...</td>\n",
       "      <td>...</td>\n",
       "    </tr>\n",
       "    <tr>\n",
       "      <th>5932</th>\n",
       "      <td>i begun to feel distressed for you</td>\n",
       "      <td>fear</td>\n",
       "      <td>1</td>\n",
       "      <td>begin feel distressed</td>\n",
       "    </tr>\n",
       "    <tr>\n",
       "      <th>5933</th>\n",
       "      <td>i left feeling annoyed and angry thinking that...</td>\n",
       "      <td>anger</td>\n",
       "      <td>2</td>\n",
       "      <td>leave feel annoyed angry thinking center stupi...</td>\n",
       "    </tr>\n",
       "    <tr>\n",
       "      <th>5934</th>\n",
       "      <td>i were to ever get married i d have everything...</td>\n",
       "      <td>joy</td>\n",
       "      <td>0</td>\n",
       "      <td>marry d ready offer ve get club perfect good l...</td>\n",
       "    </tr>\n",
       "    <tr>\n",
       "      <th>5935</th>\n",
       "      <td>i feel reluctant in applying there because i w...</td>\n",
       "      <td>fear</td>\n",
       "      <td>1</td>\n",
       "      <td>feel reluctant apply want able find company kn...</td>\n",
       "    </tr>\n",
       "    <tr>\n",
       "      <th>5936</th>\n",
       "      <td>i just wanted to apologize to you because i fe...</td>\n",
       "      <td>anger</td>\n",
       "      <td>2</td>\n",
       "      <td>want apologize feel like heartless bitch</td>\n",
       "    </tr>\n",
       "  </tbody>\n",
       "</table>\n",
       "<p>5937 rows × 4 columns</p>\n",
       "</div>"
      ],
      "text/plain": [
       "                                                Comment Emotion  Emotion_num  \\\n",
       "0     i seriously hate one subject to death but now ...    fear            1   \n",
       "1                    im so full of life i feel appalled   anger            2   \n",
       "2     i sit here to write i start to dig out my feel...    fear            1   \n",
       "3     ive been really angry with r and i feel like a...     joy            0   \n",
       "4     i feel suspicious if there is no one outside l...    fear            1   \n",
       "...                                                 ...     ...          ...   \n",
       "5932                 i begun to feel distressed for you    fear            1   \n",
       "5933  i left feeling annoyed and angry thinking that...   anger            2   \n",
       "5934  i were to ever get married i d have everything...     joy            0   \n",
       "5935  i feel reluctant in applying there because i w...    fear            1   \n",
       "5936  i just wanted to apologize to you because i fe...   anger            2   \n",
       "\n",
       "                                   preprocessed_comment  \n",
       "0      seriously hate subject death feel reluctant drop  \n",
       "1                                  m life feel appalled  \n",
       "2     sit write start dig feeling think afraid accep...  \n",
       "3                ve angry r feel like idiot trust place  \n",
       "4           feel suspicious outside like rapture happen  \n",
       "...                                                 ...  \n",
       "5932                              begin feel distressed  \n",
       "5933  leave feel annoyed angry thinking center stupi...  \n",
       "5934  marry d ready offer ve get club perfect good l...  \n",
       "5935  feel reluctant apply want able find company kn...  \n",
       "5936           want apologize feel like heartless bitch  \n",
       "\n",
       "[5937 rows x 4 columns]"
      ]
     },
     "execution_count": 14,
     "metadata": {},
     "output_type": "execute_result"
    }
   ],
   "source": [
    "df"
   ]
  },
  {
   "cell_type": "code",
   "execution_count": 15,
   "id": "3d90f367",
   "metadata": {
    "execution": {
     "iopub.execute_input": "2023-09-06T01:24:52.173313Z",
     "iopub.status.busy": "2023-09-06T01:24:52.172943Z",
     "iopub.status.idle": "2023-09-06T01:24:52.178257Z",
     "shell.execute_reply": "2023-09-06T01:24:52.177098Z"
    },
    "papermill": {
     "duration": 0.01874,
     "end_time": "2023-09-06T01:24:52.180445",
     "exception": false,
     "start_time": "2023-09-06T01:24:52.161705",
     "status": "completed"
    },
    "tags": []
   },
   "outputs": [],
   "source": [
    "x=df['preprocessed_comment']\n",
    "y=df['Emotion_num']"
   ]
  },
  {
   "cell_type": "code",
   "execution_count": 16,
   "id": "80d78ac4",
   "metadata": {
    "execution": {
     "iopub.execute_input": "2023-09-06T01:24:52.200495Z",
     "iopub.status.busy": "2023-09-06T01:24:52.200131Z",
     "iopub.status.idle": "2023-09-06T01:24:52.211808Z",
     "shell.execute_reply": "2023-09-06T01:24:52.210681Z"
    },
    "papermill": {
     "duration": 0.025119,
     "end_time": "2023-09-06T01:24:52.214839",
     "exception": false,
     "start_time": "2023-09-06T01:24:52.189720",
     "status": "completed"
    },
    "tags": []
   },
   "outputs": [],
   "source": [
    "#Do the 'train-test' splitting with test size of 20% with random state of 2022 and stratify sampling too\n",
    "\n",
    "\n",
    "from sklearn.model_selection import train_test_split\n",
    "X_train,X_test,y_train,y_test=train_test_split(x,y,random_state=2022,test_size=0.2,stratify=df['Emotion_num'])"
   ]
  },
  {
   "cell_type": "code",
   "execution_count": 17,
   "id": "ffc53604",
   "metadata": {
    "execution": {
     "iopub.execute_input": "2023-09-06T01:24:52.237650Z",
     "iopub.status.busy": "2023-09-06T01:24:52.237257Z",
     "iopub.status.idle": "2023-09-06T01:24:52.243943Z",
     "shell.execute_reply": "2023-09-06T01:24:52.242803Z"
    },
    "papermill": {
     "duration": 0.01972,
     "end_time": "2023-09-06T01:24:52.245977",
     "exception": false,
     "start_time": "2023-09-06T01:24:52.226257",
     "status": "completed"
    },
    "tags": []
   },
   "outputs": [
    {
     "data": {
      "text/plain": [
       "(4749,)"
      ]
     },
     "execution_count": 17,
     "metadata": {},
     "output_type": "execute_result"
    }
   ],
   "source": [
    "X_train.shape"
   ]
  },
  {
   "cell_type": "code",
   "execution_count": 18,
   "id": "bb7ab504",
   "metadata": {
    "execution": {
     "iopub.execute_input": "2023-09-06T01:24:52.266724Z",
     "iopub.status.busy": "2023-09-06T01:24:52.266176Z",
     "iopub.status.idle": "2023-09-06T01:24:52.272431Z",
     "shell.execute_reply": "2023-09-06T01:24:52.271329Z"
    },
    "papermill": {
     "duration": 0.019338,
     "end_time": "2023-09-06T01:24:52.274632",
     "exception": false,
     "start_time": "2023-09-06T01:24:52.255294",
     "status": "completed"
    },
    "tags": []
   },
   "outputs": [
    {
     "data": {
      "text/plain": [
       "(1188,)"
      ]
     },
     "execution_count": 18,
     "metadata": {},
     "output_type": "execute_result"
    }
   ],
   "source": [
    "X_test.shape"
   ]
  },
  {
   "cell_type": "code",
   "execution_count": 19,
   "id": "88d3567f",
   "metadata": {
    "execution": {
     "iopub.execute_input": "2023-09-06T01:24:52.295344Z",
     "iopub.status.busy": "2023-09-06T01:24:52.294984Z",
     "iopub.status.idle": "2023-09-06T01:24:52.299951Z",
     "shell.execute_reply": "2023-09-06T01:24:52.299134Z"
    },
    "papermill": {
     "duration": 0.017697,
     "end_time": "2023-09-06T01:24:52.301779",
     "exception": false,
     "start_time": "2023-09-06T01:24:52.284082",
     "status": "completed"
    },
    "tags": []
   },
   "outputs": [
    {
     "data": {
      "text/plain": [
       "(4749,)"
      ]
     },
     "execution_count": 19,
     "metadata": {},
     "output_type": "execute_result"
    }
   ],
   "source": [
    "y_train.shape"
   ]
  },
  {
   "cell_type": "code",
   "execution_count": 20,
   "id": "1d191294",
   "metadata": {
    "execution": {
     "iopub.execute_input": "2023-09-06T01:24:52.323543Z",
     "iopub.status.busy": "2023-09-06T01:24:52.322970Z",
     "iopub.status.idle": "2023-09-06T01:24:52.329105Z",
     "shell.execute_reply": "2023-09-06T01:24:52.328059Z"
    },
    "papermill": {
     "duration": 0.019324,
     "end_time": "2023-09-06T01:24:52.331107",
     "exception": false,
     "start_time": "2023-09-06T01:24:52.311783",
     "status": "completed"
    },
    "tags": []
   },
   "outputs": [
    {
     "data": {
      "text/plain": [
       "(1188,)"
      ]
     },
     "execution_count": 20,
     "metadata": {},
     "output_type": "execute_result"
    }
   ],
   "source": [
    "y_test.shape"
   ]
  },
  {
   "cell_type": "markdown",
   "id": "ac825750",
   "metadata": {
    "papermill": {
     "duration": 0.009532,
     "end_time": "2023-09-06T01:24:52.350481",
     "exception": false,
     "start_time": "2023-09-06T01:24:52.340949",
     "status": "completed"
    },
    "tags": []
   },
   "source": [
    "Attempt1 :\n",
    "\n",
    "using the sklearn pipeline module create a classification pipeline to classify the Data.\n",
    "Note:\n",
    "\n",
    "using CountVectorizer with both unigrams and bigrams.\n",
    "use RandomForest as the classifier.\n",
    "print the classification report."
   ]
  },
  {
   "cell_type": "code",
   "execution_count": 21,
   "id": "521e6e6d",
   "metadata": {
    "execution": {
     "iopub.execute_input": "2023-09-06T01:24:52.371934Z",
     "iopub.status.busy": "2023-09-06T01:24:52.371329Z",
     "iopub.status.idle": "2023-09-06T01:24:59.725476Z",
     "shell.execute_reply": "2023-09-06T01:24:59.724395Z"
    },
    "papermill": {
     "duration": 7.367769,
     "end_time": "2023-09-06T01:24:59.727922",
     "exception": false,
     "start_time": "2023-09-06T01:24:52.360153",
     "status": "completed"
    },
    "tags": []
   },
   "outputs": [
    {
     "name": "stdout",
     "output_type": "stream",
     "text": [
      "              precision    recall  f1-score   support\n",
      "\n",
      "           0       0.94      0.95      0.95       400\n",
      "           1       0.94      0.91      0.93       388\n",
      "           2       0.91      0.93      0.92       400\n",
      "\n",
      "    accuracy                           0.93      1188\n",
      "   macro avg       0.93      0.93      0.93      1188\n",
      "weighted avg       0.93      0.93      0.93      1188\n",
      "\n"
     ]
    }
   ],
   "source": [
    "clf=Pipeline([('vectorizer',CountVectorizer(ngram_range=(1,2))),\n",
    "             ('rf',RandomForestClassifier())])\n",
    "clf.fit(X_train,y_train)\n",
    "y_pred=clf.predict(X_test)\n",
    "print(classification_report(y_test,y_pred))"
   ]
  },
  {
   "cell_type": "markdown",
   "id": "77dd57d1",
   "metadata": {
    "papermill": {
     "duration": 0.009961,
     "end_time": "2023-09-06T01:24:59.748022",
     "exception": false,
     "start_time": "2023-09-06T01:24:59.738061",
     "status": "completed"
    },
    "tags": []
   },
   "source": [
    "Attempt 2 :\n",
    "\n",
    "using the sklearn pipeline module create a classification pipeline to classify the data.\n",
    "Note:\n",
    "\n",
    "using TF-IDF vectorizer for pre-processing the text.\n",
    "use RandomForest as the classifier.\n",
    "print the classification report."
   ]
  },
  {
   "cell_type": "code",
   "execution_count": 22,
   "id": "faaac0f0",
   "metadata": {
    "execution": {
     "iopub.execute_input": "2023-09-06T01:24:59.770223Z",
     "iopub.status.busy": "2023-09-06T01:24:59.769833Z",
     "iopub.status.idle": "2023-09-06T01:25:03.377529Z",
     "shell.execute_reply": "2023-09-06T01:25:03.376649Z"
    },
    "papermill": {
     "duration": 3.62153,
     "end_time": "2023-09-06T01:25:03.379979",
     "exception": false,
     "start_time": "2023-09-06T01:24:59.758449",
     "status": "completed"
    },
    "tags": []
   },
   "outputs": [
    {
     "name": "stdout",
     "output_type": "stream",
     "text": [
      "              precision    recall  f1-score   support\n",
      "\n",
      "           0       0.93      0.96      0.94       400\n",
      "           1       0.94      0.93      0.93       388\n",
      "           2       0.94      0.93      0.94       400\n",
      "\n",
      "    accuracy                           0.94      1188\n",
      "   macro avg       0.94      0.94      0.94      1188\n",
      "weighted avg       0.94      0.94      0.94      1188\n",
      "\n"
     ]
    }
   ],
   "source": [
    "clf=Pipeline([('tfidf',TfidfVectorizer()),\n",
    "             ('rf',RandomForestClassifier())])\n",
    "clf.fit(X_train,y_train)\n",
    "y_pred=clf.predict(X_test)\n",
    "print(classification_report(y_test,y_pred))"
   ]
  },
  {
   "cell_type": "code",
   "execution_count": null,
   "id": "08828f35",
   "metadata": {
    "papermill": {
     "duration": 0.009481,
     "end_time": "2023-09-06T01:25:03.399936",
     "exception": false,
     "start_time": "2023-09-06T01:25:03.390455",
     "status": "completed"
    },
    "tags": []
   },
   "outputs": [],
   "source": []
  }
 ],
 "kernelspec": {
  "display_name": "Python 3",
  "language": "python",
  "name": "python3"
 },
 "language_info": {
  "codemirror_mode": {
   "name": "ipython",
   "version": 3
  },
  "file_extension": ".py",
  "mimetype": "text/x-python",
  "name": "python",
  "nbconvert_exporter": "python",
  "pygments_lexer": "ipython3",
  "version": "3.6.4"
 },
 "metadata": {
  "kernelspec": {
   "display_name": "Python 3",
   "language": "python",
   "name": "python3"
  },
  "language_info": {
   "codemirror_mode": {
    "name": "ipython",
    "version": 3
   },
   "file_extension": ".py",
   "mimetype": "text/x-python",
   "name": "python",
   "nbconvert_exporter": "python",
   "pygments_lexer": "ipython3",
   "version": "3.10.12"
  },
  "papermill": {
   "default_parameters": {},
   "duration": 119.485553,
   "end_time": "2023-09-06T01:25:05.914229",
   "environment_variables": {},
   "exception": null,
   "input_path": "__notebook__.ipynb",
   "output_path": "__notebook__.ipynb",
   "parameters": {},
   "start_time": "2023-09-06T01:23:06.428676",
   "version": "2.4.0"
  }
 },
 "nbformat": 4,
 "nbformat_minor": 5
}
