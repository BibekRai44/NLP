{
 "cells": [
  {
   "cell_type": "code",
   "execution_count": 1,
   "id": "a8074efe",
   "metadata": {
    "_cell_guid": "b1076dfc-b9ad-4769-8c92-a6c4dae69d19",
    "_uuid": "8f2839f25d086af736a60e9eeb907d3b93b6e0e5",
    "execution": {
     "iopub.execute_input": "2023-09-05T14:36:47.776916Z",
     "iopub.status.busy": "2023-09-05T14:36:47.776479Z",
     "iopub.status.idle": "2023-09-05T14:36:47.788613Z",
     "shell.execute_reply": "2023-09-05T14:36:47.787466Z"
    },
    "papermill": {
     "duration": 0.032309,
     "end_time": "2023-09-05T14:36:47.791021",
     "exception": false,
     "start_time": "2023-09-05T14:36:47.758712",
     "status": "completed"
    },
    "tags": []
   },
   "outputs": [],
   "source": [
    "corpous={\n",
    "    \"I was having a meal.\",\n",
    "    \"I was sitting on a chair.\",\n",
    "    \"I will be getting ready.\"\n",
    "}"
   ]
  },
  {
   "cell_type": "code",
   "execution_count": 2,
   "id": "14e73a88",
   "metadata": {
    "execution": {
     "iopub.execute_input": "2023-09-05T14:36:47.822624Z",
     "iopub.status.busy": "2023-09-05T14:36:47.822166Z",
     "iopub.status.idle": "2023-09-05T14:36:49.350043Z",
     "shell.execute_reply": "2023-09-05T14:36:49.348803Z"
    },
    "papermill": {
     "duration": 1.547003,
     "end_time": "2023-09-05T14:36:49.352956",
     "exception": false,
     "start_time": "2023-09-05T14:36:47.805953",
     "status": "completed"
    },
    "tags": []
   },
   "outputs": [
    {
     "name": "stdout",
     "output_type": "stream",
     "text": [
      "{'will': 9, 'be': 0, 'getting': 2, 'ready': 6, 'was': 8, 'sitting': 7, 'on': 5, 'chair': 1, 'having': 3, 'meal': 4}\n"
     ]
    }
   ],
   "source": [
    "import sklearn\n",
    "from sklearn.feature_extraction.text import TfidfVectorizer\n",
    "model=TfidfVectorizer()\n",
    "model.fit_transform(corpous)\n",
    "print(model.vocabulary_)"
   ]
  },
  {
   "cell_type": "code",
   "execution_count": 3,
   "id": "717996ca",
   "metadata": {
    "execution": {
     "iopub.execute_input": "2023-09-05T14:36:49.387091Z",
     "iopub.status.busy": "2023-09-05T14:36:49.386308Z",
     "iopub.status.idle": "2023-09-05T14:36:49.392650Z",
     "shell.execute_reply": "2023-09-05T14:36:49.391289Z"
    },
    "papermill": {
     "duration": 0.027185,
     "end_time": "2023-09-05T14:36:49.395148",
     "exception": false,
     "start_time": "2023-09-05T14:36:49.367963",
     "status": "completed"
    },
    "tags": []
   },
   "outputs": [],
   "source": [
    "all_feature_names=model.get_feature_names_out()"
   ]
  },
  {
   "cell_type": "code",
   "execution_count": 4,
   "id": "cbedd3bf",
   "metadata": {
    "execution": {
     "iopub.execute_input": "2023-09-05T14:36:49.428185Z",
     "iopub.status.busy": "2023-09-05T14:36:49.427728Z",
     "iopub.status.idle": "2023-09-05T14:36:49.436647Z",
     "shell.execute_reply": "2023-09-05T14:36:49.435251Z"
    },
    "papermill": {
     "duration": 0.028886,
     "end_time": "2023-09-05T14:36:49.439396",
     "exception": false,
     "start_time": "2023-09-05T14:36:49.410510",
     "status": "completed"
    },
    "tags": []
   },
   "outputs": [
    {
     "data": {
      "text/plain": [
       "array(['be', 'chair', 'getting', 'having', 'meal', 'on', 'ready',\n",
       "       'sitting', 'was', 'will'], dtype=object)"
      ]
     },
     "execution_count": 4,
     "metadata": {},
     "output_type": "execute_result"
    }
   ],
   "source": [
    "all_feature_names"
   ]
  },
  {
   "cell_type": "code",
   "execution_count": 5,
   "id": "5a941428",
   "metadata": {
    "execution": {
     "iopub.execute_input": "2023-09-05T14:36:49.473388Z",
     "iopub.status.busy": "2023-09-05T14:36:49.472989Z",
     "iopub.status.idle": "2023-09-05T14:36:49.481656Z",
     "shell.execute_reply": "2023-09-05T14:36:49.480507Z"
    },
    "papermill": {
     "duration": 0.028142,
     "end_time": "2023-09-05T14:36:49.484247",
     "exception": false,
     "start_time": "2023-09-05T14:36:49.456105",
     "status": "completed"
    },
    "tags": []
   },
   "outputs": [
    {
     "name": "stdout",
     "output_type": "stream",
     "text": [
      "be : 1.6931471805599454\n",
      "chair : 1.6931471805599454\n",
      "getting : 1.6931471805599454\n",
      "having : 1.6931471805599454\n",
      "meal : 1.6931471805599454\n",
      "on : 1.6931471805599454\n",
      "ready : 1.6931471805599454\n",
      "sitting : 1.6931471805599454\n",
      "was : 1.2876820724517808\n",
      "will : 1.6931471805599454\n"
     ]
    }
   ],
   "source": [
    "for word in all_feature_names:\n",
    "    indx = model.vocabulary_.get(word)\n",
    "    idf_score = model.idf_[indx]\n",
    "    print(f\"{word} : {idf_score}\")"
   ]
  },
  {
   "cell_type": "code",
   "execution_count": 6,
   "id": "ad98a55a",
   "metadata": {
    "execution": {
     "iopub.execute_input": "2023-09-05T14:36:49.517034Z",
     "iopub.status.busy": "2023-09-05T14:36:49.516656Z",
     "iopub.status.idle": "2023-09-05T14:36:50.334271Z",
     "shell.execute_reply": "2023-09-05T14:36:50.333032Z"
    },
    "papermill": {
     "duration": 0.837669,
     "end_time": "2023-09-05T14:36:50.337223",
     "exception": false,
     "start_time": "2023-09-05T14:36:49.499554",
     "status": "completed"
    },
    "tags": []
   },
   "outputs": [
    {
     "data": {
      "text/html": [
       "<div>\n",
       "<style scoped>\n",
       "    .dataframe tbody tr th:only-of-type {\n",
       "        vertical-align: middle;\n",
       "    }\n",
       "\n",
       "    .dataframe tbody tr th {\n",
       "        vertical-align: top;\n",
       "    }\n",
       "\n",
       "    .dataframe thead th {\n",
       "        text-align: right;\n",
       "    }\n",
       "</style>\n",
       "<table border=\"1\" class=\"dataframe\">\n",
       "  <thead>\n",
       "    <tr style=\"text-align: right;\">\n",
       "      <th></th>\n",
       "      <th>Text</th>\n",
       "      <th>label</th>\n",
       "    </tr>\n",
       "  </thead>\n",
       "  <tbody>\n",
       "    <tr>\n",
       "      <th>0</th>\n",
       "      <td>Urban Ladder Eisner Low Back Study-Office Comp...</td>\n",
       "      <td>Household</td>\n",
       "    </tr>\n",
       "    <tr>\n",
       "      <th>1</th>\n",
       "      <td>Contrast living Wooden Decorative Box,Painted ...</td>\n",
       "      <td>Household</td>\n",
       "    </tr>\n",
       "    <tr>\n",
       "      <th>2</th>\n",
       "      <td>IO Crest SY-PCI40010 PCI RAID Host Controller ...</td>\n",
       "      <td>Electronics</td>\n",
       "    </tr>\n",
       "    <tr>\n",
       "      <th>3</th>\n",
       "      <td>ISAKAA Baby Socks from Just Born to 8 Years- P...</td>\n",
       "      <td>Clothing &amp; Accessories</td>\n",
       "    </tr>\n",
       "    <tr>\n",
       "      <th>4</th>\n",
       "      <td>Indira Designer Women's Art Mysore Silk Saree ...</td>\n",
       "      <td>Clothing &amp; Accessories</td>\n",
       "    </tr>\n",
       "  </tbody>\n",
       "</table>\n",
       "</div>"
      ],
      "text/plain": [
       "                                                Text                   label\n",
       "0  Urban Ladder Eisner Low Back Study-Office Comp...               Household\n",
       "1  Contrast living Wooden Decorative Box,Painted ...               Household\n",
       "2  IO Crest SY-PCI40010 PCI RAID Host Controller ...             Electronics\n",
       "3  ISAKAA Baby Socks from Just Born to 8 Years- P...  Clothing & Accessories\n",
       "4  Indira Designer Women's Art Mysore Silk Saree ...  Clothing & Accessories"
      ]
     },
     "execution_count": 6,
     "metadata": {},
     "output_type": "execute_result"
    }
   ],
   "source": [
    "# importing libraries\n",
    "\n",
    "import numpy as np\n",
    "import pandas as pd\n",
    "df=pd.read_csv(\"/kaggle/input/ecommerce/Ecommerce_data.csv\")\n",
    "df.head()"
   ]
  },
  {
   "cell_type": "code",
   "execution_count": 7,
   "id": "06b754f7",
   "metadata": {
    "execution": {
     "iopub.execute_input": "2023-09-05T14:36:50.371494Z",
     "iopub.status.busy": "2023-09-05T14:36:50.371055Z",
     "iopub.status.idle": "2023-09-05T14:36:50.388822Z",
     "shell.execute_reply": "2023-09-05T14:36:50.387477Z"
    },
    "papermill": {
     "duration": 0.037483,
     "end_time": "2023-09-05T14:36:50.391531",
     "exception": false,
     "start_time": "2023-09-05T14:36:50.354048",
     "status": "completed"
    },
    "tags": []
   },
   "outputs": [
    {
     "data": {
      "text/plain": [
       "label\n",
       "Household                 6000\n",
       "Electronics               6000\n",
       "Clothing & Accessories    6000\n",
       "Books                     6000\n",
       "Name: count, dtype: int64"
      ]
     },
     "execution_count": 7,
     "metadata": {},
     "output_type": "execute_result"
    }
   ],
   "source": [
    "df.label.value_counts()"
   ]
  },
  {
   "cell_type": "code",
   "execution_count": 8,
   "id": "f69c0f8a",
   "metadata": {
    "execution": {
     "iopub.execute_input": "2023-09-05T14:36:50.426123Z",
     "iopub.status.busy": "2023-09-05T14:36:50.425679Z",
     "iopub.status.idle": "2023-09-05T14:36:50.433008Z",
     "shell.execute_reply": "2023-09-05T14:36:50.431885Z"
    },
    "papermill": {
     "duration": 0.028144,
     "end_time": "2023-09-05T14:36:50.435348",
     "exception": false,
     "start_time": "2023-09-05T14:36:50.407204",
     "status": "completed"
    },
    "tags": []
   },
   "outputs": [
    {
     "data": {
      "text/plain": [
       "(24000, 2)"
      ]
     },
     "execution_count": 8,
     "metadata": {},
     "output_type": "execute_result"
    }
   ],
   "source": [
    "df.shape"
   ]
  },
  {
   "cell_type": "markdown",
   "id": "5ff8114a",
   "metadata": {
    "papermill": {
     "duration": 0.017094,
     "end_time": "2023-09-05T14:36:50.468661",
     "exception": false,
     "start_time": "2023-09-05T14:36:50.451567",
     "status": "completed"
    },
    "tags": []
   },
   "source": [
    "# so much data . takes time to train model . so reduce in small size"
   ]
  },
  {
   "cell_type": "code",
   "execution_count": 9,
   "id": "1980ea6a",
   "metadata": {
    "execution": {
     "iopub.execute_input": "2023-09-05T14:36:50.504500Z",
     "iopub.status.busy": "2023-09-05T14:36:50.503773Z",
     "iopub.status.idle": "2023-09-05T14:36:50.508985Z",
     "shell.execute_reply": "2023-09-05T14:36:50.507716Z"
    },
    "papermill": {
     "duration": 0.02614,
     "end_time": "2023-09-05T14:36:50.511826",
     "exception": false,
     "start_time": "2023-09-05T14:36:50.485686",
     "status": "completed"
    },
    "tags": []
   },
   "outputs": [],
   "source": [
    "df=df.head(5000)"
   ]
  },
  {
   "cell_type": "code",
   "execution_count": 10,
   "id": "2addebf9",
   "metadata": {
    "execution": {
     "iopub.execute_input": "2023-09-05T14:36:50.547617Z",
     "iopub.status.busy": "2023-09-05T14:36:50.546904Z",
     "iopub.status.idle": "2023-09-05T14:36:50.568545Z",
     "shell.execute_reply": "2023-09-05T14:36:50.567087Z"
    },
    "papermill": {
     "duration": 0.0438,
     "end_time": "2023-09-05T14:36:50.571526",
     "exception": false,
     "start_time": "2023-09-05T14:36:50.527726",
     "status": "completed"
    },
    "tags": []
   },
   "outputs": [
    {
     "data": {
      "text/html": [
       "<div>\n",
       "<style scoped>\n",
       "    .dataframe tbody tr th:only-of-type {\n",
       "        vertical-align: middle;\n",
       "    }\n",
       "\n",
       "    .dataframe tbody tr th {\n",
       "        vertical-align: top;\n",
       "    }\n",
       "\n",
       "    .dataframe thead th {\n",
       "        text-align: right;\n",
       "    }\n",
       "</style>\n",
       "<table border=\"1\" class=\"dataframe\">\n",
       "  <thead>\n",
       "    <tr style=\"text-align: right;\">\n",
       "      <th></th>\n",
       "      <th>Text</th>\n",
       "      <th>label</th>\n",
       "      <th>label_num</th>\n",
       "    </tr>\n",
       "  </thead>\n",
       "  <tbody>\n",
       "    <tr>\n",
       "      <th>0</th>\n",
       "      <td>Urban Ladder Eisner Low Back Study-Office Comp...</td>\n",
       "      <td>Household</td>\n",
       "      <td>0</td>\n",
       "    </tr>\n",
       "    <tr>\n",
       "      <th>1</th>\n",
       "      <td>Contrast living Wooden Decorative Box,Painted ...</td>\n",
       "      <td>Household</td>\n",
       "      <td>0</td>\n",
       "    </tr>\n",
       "    <tr>\n",
       "      <th>2</th>\n",
       "      <td>IO Crest SY-PCI40010 PCI RAID Host Controller ...</td>\n",
       "      <td>Electronics</td>\n",
       "      <td>1</td>\n",
       "    </tr>\n",
       "    <tr>\n",
       "      <th>3</th>\n",
       "      <td>ISAKAA Baby Socks from Just Born to 8 Years- P...</td>\n",
       "      <td>Clothing &amp; Accessories</td>\n",
       "      <td>2</td>\n",
       "    </tr>\n",
       "    <tr>\n",
       "      <th>4</th>\n",
       "      <td>Indira Designer Women's Art Mysore Silk Saree ...</td>\n",
       "      <td>Clothing &amp; Accessories</td>\n",
       "      <td>2</td>\n",
       "    </tr>\n",
       "  </tbody>\n",
       "</table>\n",
       "</div>"
      ],
      "text/plain": [
       "                                                Text                   label  \\\n",
       "0  Urban Ladder Eisner Low Back Study-Office Comp...               Household   \n",
       "1  Contrast living Wooden Decorative Box,Painted ...               Household   \n",
       "2  IO Crest SY-PCI40010 PCI RAID Host Controller ...             Electronics   \n",
       "3  ISAKAA Baby Socks from Just Born to 8 Years- P...  Clothing & Accessories   \n",
       "4  Indira Designer Women's Art Mysore Silk Saree ...  Clothing & Accessories   \n",
       "\n",
       "   label_num  \n",
       "0          0  \n",
       "1          0  \n",
       "2          1  \n",
       "3          2  \n",
       "4          2  "
      ]
     },
     "execution_count": 10,
     "metadata": {},
     "output_type": "execute_result"
    }
   ],
   "source": [
    "import warnings\n",
    "warnings.filterwarnings('ignore')\n",
    "df['label_num']=df['label'].map({'Household':0,'Electronics':1,'Clothing & Accessories':2,'Books':3})\n",
    "df.head()"
   ]
  },
  {
   "cell_type": "code",
   "execution_count": 11,
   "id": "31745a6c",
   "metadata": {
    "execution": {
     "iopub.execute_input": "2023-09-05T14:36:50.606278Z",
     "iopub.status.busy": "2023-09-05T14:36:50.605850Z",
     "iopub.status.idle": "2023-09-05T14:36:50.611952Z",
     "shell.execute_reply": "2023-09-05T14:36:50.610767Z"
    },
    "papermill": {
     "duration": 0.026144,
     "end_time": "2023-09-05T14:36:50.614394",
     "exception": false,
     "start_time": "2023-09-05T14:36:50.588250",
     "status": "completed"
    },
    "tags": []
   },
   "outputs": [],
   "source": [
    "x=df['Text']\n",
    "y=df['label_num']"
   ]
  },
  {
   "cell_type": "code",
   "execution_count": 12,
   "id": "cd17ba3d",
   "metadata": {
    "execution": {
     "iopub.execute_input": "2023-09-05T14:36:50.649160Z",
     "iopub.status.busy": "2023-09-05T14:36:50.648390Z",
     "iopub.status.idle": "2023-09-05T14:36:50.791655Z",
     "shell.execute_reply": "2023-09-05T14:36:50.789933Z"
    },
    "papermill": {
     "duration": 0.164231,
     "end_time": "2023-09-05T14:36:50.795170",
     "exception": false,
     "start_time": "2023-09-05T14:36:50.630939",
     "status": "completed"
    },
    "tags": []
   },
   "outputs": [],
   "source": [
    "import sklearn\n",
    "from sklearn.model_selection import train_test_split\n",
    "X_train,X_test,y_train,y_test=train_test_split(x,y,test_size=0.2,random_state=2022,stratify=df['label_num'])\n"
   ]
  },
  {
   "cell_type": "code",
   "execution_count": 13,
   "id": "dd16f63c",
   "metadata": {
    "execution": {
     "iopub.execute_input": "2023-09-05T14:36:50.830550Z",
     "iopub.status.busy": "2023-09-05T14:36:50.830099Z",
     "iopub.status.idle": "2023-09-05T14:36:50.836414Z",
     "shell.execute_reply": "2023-09-05T14:36:50.835550Z"
    },
    "papermill": {
     "duration": 0.026641,
     "end_time": "2023-09-05T14:36:50.838730",
     "exception": false,
     "start_time": "2023-09-05T14:36:50.812089",
     "status": "completed"
    },
    "tags": []
   },
   "outputs": [
    {
     "data": {
      "text/plain": [
       "(4000,)"
      ]
     },
     "execution_count": 13,
     "metadata": {},
     "output_type": "execute_result"
    }
   ],
   "source": [
    "X_train.shape"
   ]
  },
  {
   "cell_type": "code",
   "execution_count": 14,
   "id": "7ee150fb",
   "metadata": {
    "execution": {
     "iopub.execute_input": "2023-09-05T14:36:50.873884Z",
     "iopub.status.busy": "2023-09-05T14:36:50.873435Z",
     "iopub.status.idle": "2023-09-05T14:36:50.880243Z",
     "shell.execute_reply": "2023-09-05T14:36:50.879161Z"
    },
    "papermill": {
     "duration": 0.027492,
     "end_time": "2023-09-05T14:36:50.882796",
     "exception": false,
     "start_time": "2023-09-05T14:36:50.855304",
     "status": "completed"
    },
    "tags": []
   },
   "outputs": [
    {
     "data": {
      "text/plain": [
       "(1000,)"
      ]
     },
     "execution_count": 14,
     "metadata": {},
     "output_type": "execute_result"
    }
   ],
   "source": [
    "X_test.shape"
   ]
  },
  {
   "cell_type": "code",
   "execution_count": 15,
   "id": "1754b984",
   "metadata": {
    "execution": {
     "iopub.execute_input": "2023-09-05T14:36:50.917255Z",
     "iopub.status.busy": "2023-09-05T14:36:50.916815Z",
     "iopub.status.idle": "2023-09-05T14:36:50.924573Z",
     "shell.execute_reply": "2023-09-05T14:36:50.923405Z"
    },
    "papermill": {
     "duration": 0.027945,
     "end_time": "2023-09-05T14:36:50.926988",
     "exception": false,
     "start_time": "2023-09-05T14:36:50.899043",
     "status": "completed"
    },
    "tags": []
   },
   "outputs": [
    {
     "data": {
      "text/plain": [
       "(4000,)"
      ]
     },
     "execution_count": 15,
     "metadata": {},
     "output_type": "execute_result"
    }
   ],
   "source": [
    "y_train.shape"
   ]
  },
  {
   "cell_type": "code",
   "execution_count": 16,
   "id": "caf7a113",
   "metadata": {
    "execution": {
     "iopub.execute_input": "2023-09-05T14:36:50.962529Z",
     "iopub.status.busy": "2023-09-05T14:36:50.961400Z",
     "iopub.status.idle": "2023-09-05T14:36:50.969108Z",
     "shell.execute_reply": "2023-09-05T14:36:50.967814Z"
    },
    "papermill": {
     "duration": 0.028441,
     "end_time": "2023-09-05T14:36:50.971991",
     "exception": false,
     "start_time": "2023-09-05T14:36:50.943550",
     "status": "completed"
    },
    "tags": []
   },
   "outputs": [
    {
     "data": {
      "text/plain": [
       "(1000,)"
      ]
     },
     "execution_count": 16,
     "metadata": {},
     "output_type": "execute_result"
    }
   ],
   "source": [
    "y_test.shape"
   ]
  },
  {
   "cell_type": "markdown",
   "id": "3af1faf9",
   "metadata": {
    "papermill": {
     "duration": 0.016304,
     "end_time": "2023-09-05T14:36:51.004912",
     "exception": false,
     "start_time": "2023-09-05T14:36:50.988608",
     "status": "completed"
    },
    "tags": []
   },
   "source": [
    "Attempt 1 :\n",
    "\n",
    "using sklearn pipeline module create a classification pipeline to classify the Ecommerce Data.\n",
    "Note:\n",
    "\n",
    "use TF-IDF for pre-processing the text.\n",
    "\n",
    "use KNN as the classifier\n",
    "\n",
    "print the classification report."
   ]
  },
  {
   "cell_type": "code",
   "execution_count": 17,
   "id": "b6a4d76d",
   "metadata": {
    "execution": {
     "iopub.execute_input": "2023-09-05T14:36:51.105828Z",
     "iopub.status.busy": "2023-09-05T14:36:51.104441Z",
     "iopub.status.idle": "2023-09-05T14:37:00.599947Z",
     "shell.execute_reply": "2023-09-05T14:37:00.598551Z"
    },
    "papermill": {
     "duration": 9.581125,
     "end_time": "2023-09-05T14:37:00.602631",
     "exception": false,
     "start_time": "2023-09-05T14:36:51.021506",
     "status": "completed"
    },
    "tags": []
   },
   "outputs": [
    {
     "name": "stdout",
     "output_type": "stream",
     "text": [
      "              precision    recall  f1-score   support\n",
      "\n",
      "           0       0.92      0.95      0.93       255\n",
      "           1       0.95      0.94      0.95       257\n",
      "           2       0.98      0.95      0.96       237\n",
      "           3       0.93      0.95      0.94       251\n",
      "\n",
      "    accuracy                           0.94      1000\n",
      "   macro avg       0.95      0.95      0.95      1000\n",
      "weighted avg       0.95      0.94      0.95      1000\n",
      "\n"
     ]
    }
   ],
   "source": [
    "from sklearn.pipeline import Pipeline\n",
    "from sklearn.metrics import classification_report\n",
    "from sklearn.neighbors import KNeighborsClassifier\n",
    "\n",
    "clf=Pipeline(\n",
    "    [('vectorizer_tfidf',TfidfVectorizer()),\n",
    "    ('KNN',KNeighborsClassifier())])\n",
    "clf.fit(X_train,y_train)\n",
    "y_pred=clf.predict(X_test)\n",
    "print(classification_report(y_test,y_pred))"
   ]
  },
  {
   "cell_type": "code",
   "execution_count": 18,
   "id": "1441ae24",
   "metadata": {
    "execution": {
     "iopub.execute_input": "2023-09-05T14:37:00.639355Z",
     "iopub.status.busy": "2023-09-05T14:37:00.638629Z",
     "iopub.status.idle": "2023-09-05T14:37:00.646802Z",
     "shell.execute_reply": "2023-09-05T14:37:00.645870Z"
    },
    "papermill": {
     "duration": 0.029615,
     "end_time": "2023-09-05T14:37:00.649266",
     "exception": false,
     "start_time": "2023-09-05T14:37:00.619651",
     "status": "completed"
    },
    "tags": []
   },
   "outputs": [
    {
     "data": {
      "text/plain": [
       "610     Frabjous Pebbles Glossy Home Decorative Vase F...\n",
       "2002                         Jack & Jones Men's Waistcoat\n",
       "3945                     Fundamentals of Database System \n",
       "52      Artis AR-MAC-60W-MG1 100-240V Laptop Adapter f...\n",
       "3143    Toreto 15.6 Inch Finished Leather Premium Qual...\n",
       "4887    Satyam Kraft Rectangle Shape Metal Printed Tru...\n",
       "4171    VIMAL JONNEY Winter Cover Blended Thermal Bott...\n",
       "3937    evo India Magazine Issues brief evo India Febr...\n",
       "2392    Glow: Indian Foods, Recipes and Rituals for Be...\n",
       "3849    Make: JavaScript Robotics - Building NodeBots ...\n",
       "Name: Text, dtype: object"
      ]
     },
     "execution_count": 18,
     "metadata": {},
     "output_type": "execute_result"
    }
   ],
   "source": [
    "X_test[10:20]"
   ]
  },
  {
   "cell_type": "code",
   "execution_count": 19,
   "id": "8694b3c6",
   "metadata": {
    "execution": {
     "iopub.execute_input": "2023-09-05T14:37:00.686116Z",
     "iopub.status.busy": "2023-09-05T14:37:00.685363Z",
     "iopub.status.idle": "2023-09-05T14:37:00.693097Z",
     "shell.execute_reply": "2023-09-05T14:37:00.692098Z"
    },
    "papermill": {
     "duration": 0.029009,
     "end_time": "2023-09-05T14:37:00.695726",
     "exception": false,
     "start_time": "2023-09-05T14:37:00.666717",
     "status": "completed"
    },
    "tags": []
   },
   "outputs": [
    {
     "data": {
      "text/plain": [
       "610     0\n",
       "2002    2\n",
       "3945    3\n",
       "52      1\n",
       "3143    1\n",
       "4887    0\n",
       "4171    2\n",
       "3937    3\n",
       "2392    3\n",
       "3849    3\n",
       "Name: label_num, dtype: int64"
      ]
     },
     "execution_count": 19,
     "metadata": {},
     "output_type": "execute_result"
    }
   ],
   "source": [
    "y_test[10:20]"
   ]
  },
  {
   "cell_type": "code",
   "execution_count": 20,
   "id": "4cd5c089",
   "metadata": {
    "execution": {
     "iopub.execute_input": "2023-09-05T14:37:00.732859Z",
     "iopub.status.busy": "2023-09-05T14:37:00.731880Z",
     "iopub.status.idle": "2023-09-05T14:37:00.739028Z",
     "shell.execute_reply": "2023-09-05T14:37:00.737854Z"
    },
    "papermill": {
     "duration": 0.028374,
     "end_time": "2023-09-05T14:37:00.741479",
     "exception": false,
     "start_time": "2023-09-05T14:37:00.713105",
     "status": "completed"
    },
    "tags": []
   },
   "outputs": [
    {
     "data": {
      "text/plain": [
       "array([0, 2, 3, 1, 1, 0, 2, 3, 3, 3])"
      ]
     },
     "execution_count": 20,
     "metadata": {},
     "output_type": "execute_result"
    }
   ],
   "source": [
    "y_pred[10:20]"
   ]
  },
  {
   "cell_type": "markdown",
   "id": "1c3c2286",
   "metadata": {
    "papermill": {
     "duration": 0.016966,
     "end_time": "2023-09-05T14:37:00.775854",
     "exception": false,
     "start_time": "2023-09-05T14:37:00.758888",
     "status": "completed"
    },
    "tags": []
   },
   "source": [
    "Attempt 2 :\n",
    "\n",
    "using sklearn pipeline module create a classification pipeline to classify the Ecommerce Data.\n",
    "Note:\n",
    "\n",
    "use TF-IDF for pre-processing the text.\n",
    "\n",
    "use MultinomialNB as the classifier.\n",
    "\n",
    "print the classification report."
   ]
  },
  {
   "cell_type": "code",
   "execution_count": 21,
   "id": "96c80f6b",
   "metadata": {
    "execution": {
     "iopub.execute_input": "2023-09-05T14:37:00.812356Z",
     "iopub.status.busy": "2023-09-05T14:37:00.811928Z",
     "iopub.status.idle": "2023-09-05T14:37:01.656216Z",
     "shell.execute_reply": "2023-09-05T14:37:01.655257Z"
    },
    "papermill": {
     "duration": 0.865777,
     "end_time": "2023-09-05T14:37:01.658955",
     "exception": false,
     "start_time": "2023-09-05T14:37:00.793178",
     "status": "completed"
    },
    "tags": []
   },
   "outputs": [
    {
     "name": "stdout",
     "output_type": "stream",
     "text": [
      "              precision    recall  f1-score   support\n",
      "\n",
      "           0       0.90      0.96      0.93       255\n",
      "           1       0.96      0.96      0.96       257\n",
      "           2       0.99      0.97      0.98       237\n",
      "           3       0.97      0.92      0.95       251\n",
      "\n",
      "    accuracy                           0.95      1000\n",
      "   macro avg       0.95      0.95      0.95      1000\n",
      "weighted avg       0.95      0.95      0.95      1000\n",
      "\n"
     ]
    }
   ],
   "source": [
    "from sklearn.naive_bayes import MultinomialNB\n",
    "clf=Pipeline([('vectorizer_tdidf',TfidfVectorizer()),\n",
    "             ('NB',MultinomialNB())])\n",
    "clf.fit(X_train,y_train)\n",
    "y_pred=clf.predict(X_test)\n",
    "print(classification_report(y_test,y_pred))"
   ]
  },
  {
   "cell_type": "markdown",
   "id": "0b8bf3db",
   "metadata": {
    "papermill": {
     "duration": 0.01745,
     "end_time": "2023-09-05T14:37:01.694430",
     "exception": false,
     "start_time": "2023-09-05T14:37:01.676980",
     "status": "completed"
    },
    "tags": []
   },
   "source": [
    "Attempt 3 :\n",
    "\n",
    "using sklearn pipeline module create a classification pipeline to classify the Ecommerce Data.\n",
    "Note:\n",
    "\n",
    "use TF-IDF for pre-processing the text.\n",
    "\n",
    "use Random Forest as the classifier.\n",
    "\n",
    "print the classification report."
   ]
  },
  {
   "cell_type": "code",
   "execution_count": 22,
   "id": "b89445ed",
   "metadata": {
    "execution": {
     "iopub.execute_input": "2023-09-05T14:37:01.731682Z",
     "iopub.status.busy": "2023-09-05T14:37:01.731140Z",
     "iopub.status.idle": "2023-09-05T14:37:07.721786Z",
     "shell.execute_reply": "2023-09-05T14:37:07.720156Z"
    },
    "papermill": {
     "duration": 6.012721,
     "end_time": "2023-09-05T14:37:07.724626",
     "exception": false,
     "start_time": "2023-09-05T14:37:01.711905",
     "status": "completed"
    },
    "tags": []
   },
   "outputs": [
    {
     "name": "stdout",
     "output_type": "stream",
     "text": [
      "              precision    recall  f1-score   support\n",
      "\n",
      "           0       0.91      0.91      0.91       255\n",
      "           1       0.97      0.92      0.95       257\n",
      "           2       0.97      0.95      0.96       237\n",
      "           3       0.90      0.96      0.93       251\n",
      "\n",
      "    accuracy                           0.94      1000\n",
      "   macro avg       0.94      0.94      0.94      1000\n",
      "weighted avg       0.94      0.94      0.94      1000\n",
      "\n"
     ]
    }
   ],
   "source": [
    "from sklearn.ensemble import RandomForestClassifier\n",
    "clf=Pipeline([('tfidf_vectorizer',TfidfVectorizer()),\n",
    "             ('RF',RandomForestClassifier())])\n",
    "clf.fit(X_train,y_train)\n",
    "y_pred=clf.predict(X_test)\n",
    "print(classification_report(y_test,y_pred))"
   ]
  },
  {
   "cell_type": "code",
   "execution_count": 23,
   "id": "e30d0508",
   "metadata": {
    "execution": {
     "iopub.execute_input": "2023-09-05T14:37:07.762334Z",
     "iopub.status.busy": "2023-09-05T14:37:07.761266Z",
     "iopub.status.idle": "2023-09-05T14:37:07.773169Z",
     "shell.execute_reply": "2023-09-05T14:37:07.771901Z"
    },
    "papermill": {
     "duration": 0.033478,
     "end_time": "2023-09-05T14:37:07.775763",
     "exception": false,
     "start_time": "2023-09-05T14:37:07.742285",
     "status": "completed"
    },
    "tags": []
   },
   "outputs": [
    {
     "data": {
      "text/html": [
       "<div>\n",
       "<style scoped>\n",
       "    .dataframe tbody tr th:only-of-type {\n",
       "        vertical-align: middle;\n",
       "    }\n",
       "\n",
       "    .dataframe tbody tr th {\n",
       "        vertical-align: top;\n",
       "    }\n",
       "\n",
       "    .dataframe thead th {\n",
       "        text-align: right;\n",
       "    }\n",
       "</style>\n",
       "<table border=\"1\" class=\"dataframe\">\n",
       "  <thead>\n",
       "    <tr style=\"text-align: right;\">\n",
       "      <th></th>\n",
       "      <th>Text</th>\n",
       "      <th>label</th>\n",
       "      <th>label_num</th>\n",
       "    </tr>\n",
       "  </thead>\n",
       "  <tbody>\n",
       "    <tr>\n",
       "      <th>0</th>\n",
       "      <td>Urban Ladder Eisner Low Back Study-Office Comp...</td>\n",
       "      <td>Household</td>\n",
       "      <td>0</td>\n",
       "    </tr>\n",
       "    <tr>\n",
       "      <th>1</th>\n",
       "      <td>Contrast living Wooden Decorative Box,Painted ...</td>\n",
       "      <td>Household</td>\n",
       "      <td>0</td>\n",
       "    </tr>\n",
       "    <tr>\n",
       "      <th>2</th>\n",
       "      <td>IO Crest SY-PCI40010 PCI RAID Host Controller ...</td>\n",
       "      <td>Electronics</td>\n",
       "      <td>1</td>\n",
       "    </tr>\n",
       "    <tr>\n",
       "      <th>3</th>\n",
       "      <td>ISAKAA Baby Socks from Just Born to 8 Years- P...</td>\n",
       "      <td>Clothing &amp; Accessories</td>\n",
       "      <td>2</td>\n",
       "    </tr>\n",
       "    <tr>\n",
       "      <th>4</th>\n",
       "      <td>Indira Designer Women's Art Mysore Silk Saree ...</td>\n",
       "      <td>Clothing &amp; Accessories</td>\n",
       "      <td>2</td>\n",
       "    </tr>\n",
       "  </tbody>\n",
       "</table>\n",
       "</div>"
      ],
      "text/plain": [
       "                                                Text                   label  \\\n",
       "0  Urban Ladder Eisner Low Back Study-Office Comp...               Household   \n",
       "1  Contrast living Wooden Decorative Box,Painted ...               Household   \n",
       "2  IO Crest SY-PCI40010 PCI RAID Host Controller ...             Electronics   \n",
       "3  ISAKAA Baby Socks from Just Born to 8 Years- P...  Clothing & Accessories   \n",
       "4  Indira Designer Women's Art Mysore Silk Saree ...  Clothing & Accessories   \n",
       "\n",
       "   label_num  \n",
       "0          0  \n",
       "1          0  \n",
       "2          1  \n",
       "3          2  \n",
       "4          2  "
      ]
     },
     "execution_count": 23,
     "metadata": {},
     "output_type": "execute_result"
    }
   ],
   "source": [
    "df.head()"
   ]
  },
  {
   "cell_type": "code",
   "execution_count": 24,
   "id": "354eace1",
   "metadata": {
    "execution": {
     "iopub.execute_input": "2023-09-05T14:37:07.813283Z",
     "iopub.status.busy": "2023-09-05T14:37:07.812773Z",
     "iopub.status.idle": "2023-09-05T14:37:25.258281Z",
     "shell.execute_reply": "2023-09-05T14:37:25.257324Z"
    },
    "papermill": {
     "duration": 17.467854,
     "end_time": "2023-09-05T14:37:25.261375",
     "exception": false,
     "start_time": "2023-09-05T14:37:07.793521",
     "status": "completed"
    },
    "tags": []
   },
   "outputs": [],
   "source": [
    "import spacy\n",
    "nlp=spacy.load(\"en_core_web_sm\")\n",
    "def filtered(text):\n",
    "    doc=nlp(text)\n",
    "    filtered_text=[]\n",
    "    for token in doc:\n",
    "        if token.is_stop or token.is_punct:\n",
    "            continue\n",
    "        filtered_text.append(token.lemma_)\n",
    "    return \" \".join(filtered_text)"
   ]
  },
  {
   "cell_type": "code",
   "execution_count": 25,
   "id": "b49d9742",
   "metadata": {
    "execution": {
     "iopub.execute_input": "2023-09-05T14:37:25.301718Z",
     "iopub.status.busy": "2023-09-05T14:37:25.300865Z",
     "iopub.status.idle": "2023-09-05T14:39:52.301596Z",
     "shell.execute_reply": "2023-09-05T14:39:52.300362Z"
    },
    "papermill": {
     "duration": 147.042639,
     "end_time": "2023-09-05T14:39:52.322974",
     "exception": false,
     "start_time": "2023-09-05T14:37:25.280335",
     "status": "completed"
    },
    "tags": []
   },
   "outputs": [
    {
     "data": {
      "text/html": [
       "<div>\n",
       "<style scoped>\n",
       "    .dataframe tbody tr th:only-of-type {\n",
       "        vertical-align: middle;\n",
       "    }\n",
       "\n",
       "    .dataframe tbody tr th {\n",
       "        vertical-align: top;\n",
       "    }\n",
       "\n",
       "    .dataframe thead th {\n",
       "        text-align: right;\n",
       "    }\n",
       "</style>\n",
       "<table border=\"1\" class=\"dataframe\">\n",
       "  <thead>\n",
       "    <tr style=\"text-align: right;\">\n",
       "      <th></th>\n",
       "      <th>Text</th>\n",
       "      <th>label</th>\n",
       "      <th>label_num</th>\n",
       "      <th>preprocessed_text</th>\n",
       "    </tr>\n",
       "  </thead>\n",
       "  <tbody>\n",
       "    <tr>\n",
       "      <th>0</th>\n",
       "      <td>Urban Ladder Eisner Low Back Study-Office Comp...</td>\n",
       "      <td>Household</td>\n",
       "      <td>0</td>\n",
       "      <td>Urban Ladder Eisner low Study Office Computer ...</td>\n",
       "    </tr>\n",
       "    <tr>\n",
       "      <th>1</th>\n",
       "      <td>Contrast living Wooden Decorative Box,Painted ...</td>\n",
       "      <td>Household</td>\n",
       "      <td>0</td>\n",
       "      <td>contrast live Wooden Decorative Box Painted Bo...</td>\n",
       "    </tr>\n",
       "    <tr>\n",
       "      <th>2</th>\n",
       "      <td>IO Crest SY-PCI40010 PCI RAID Host Controller ...</td>\n",
       "      <td>Electronics</td>\n",
       "      <td>1</td>\n",
       "      <td>IO Crest SY PCI40010 PCI raid Host Controller ...</td>\n",
       "    </tr>\n",
       "    <tr>\n",
       "      <th>3</th>\n",
       "      <td>ISAKAA Baby Socks from Just Born to 8 Years- P...</td>\n",
       "      <td>Clothing &amp; Accessories</td>\n",
       "      <td>2</td>\n",
       "      <td>ISAKAA Baby Socks bear 8 Years- Pack 4 6 8 12 ...</td>\n",
       "    </tr>\n",
       "    <tr>\n",
       "      <th>4</th>\n",
       "      <td>Indira Designer Women's Art Mysore Silk Saree ...</td>\n",
       "      <td>Clothing &amp; Accessories</td>\n",
       "      <td>2</td>\n",
       "      <td>Indira Designer Women Art Mysore Silk Saree Bl...</td>\n",
       "    </tr>\n",
       "  </tbody>\n",
       "</table>\n",
       "</div>"
      ],
      "text/plain": [
       "                                                Text                   label  \\\n",
       "0  Urban Ladder Eisner Low Back Study-Office Comp...               Household   \n",
       "1  Contrast living Wooden Decorative Box,Painted ...               Household   \n",
       "2  IO Crest SY-PCI40010 PCI RAID Host Controller ...             Electronics   \n",
       "3  ISAKAA Baby Socks from Just Born to 8 Years- P...  Clothing & Accessories   \n",
       "4  Indira Designer Women's Art Mysore Silk Saree ...  Clothing & Accessories   \n",
       "\n",
       "   label_num                                  preprocessed_text  \n",
       "0          0  Urban Ladder Eisner low Study Office Computer ...  \n",
       "1          0  contrast live Wooden Decorative Box Painted Bo...  \n",
       "2          1  IO Crest SY PCI40010 PCI raid Host Controller ...  \n",
       "3          2  ISAKAA Baby Socks bear 8 Years- Pack 4 6 8 12 ...  \n",
       "4          2  Indira Designer Women Art Mysore Silk Saree Bl...  "
      ]
     },
     "execution_count": 25,
     "metadata": {},
     "output_type": "execute_result"
    }
   ],
   "source": [
    "df['preprocessed_text']=df['Text'].apply(filtered)\n",
    "df.head()"
   ]
  },
  {
   "cell_type": "code",
   "execution_count": 26,
   "id": "a2a12a83",
   "metadata": {
    "execution": {
     "iopub.execute_input": "2023-09-05T14:39:52.362423Z",
     "iopub.status.busy": "2023-09-05T14:39:52.362034Z",
     "iopub.status.idle": "2023-09-05T14:39:52.369441Z",
     "shell.execute_reply": "2023-09-05T14:39:52.367861Z"
    },
    "papermill": {
     "duration": 0.030542,
     "end_time": "2023-09-05T14:39:52.372334",
     "exception": false,
     "start_time": "2023-09-05T14:39:52.341792",
     "status": "completed"
    },
    "tags": []
   },
   "outputs": [
    {
     "data": {
      "text/plain": [
       "'IO Crest SY-PCI40010 PCI RAID Host Controller Card Brings new life to any old desktop PC. Connects up to 4 SATA II high speed SATA hard disk drives. Supports Windows 8 and Server 2012'"
      ]
     },
     "execution_count": 26,
     "metadata": {},
     "output_type": "execute_result"
    }
   ],
   "source": [
    "df['Text'][2]"
   ]
  },
  {
   "cell_type": "code",
   "execution_count": 27,
   "id": "aab46180",
   "metadata": {
    "execution": {
     "iopub.execute_input": "2023-09-05T14:39:52.412088Z",
     "iopub.status.busy": "2023-09-05T14:39:52.411649Z",
     "iopub.status.idle": "2023-09-05T14:39:52.421086Z",
     "shell.execute_reply": "2023-09-05T14:39:52.419523Z"
    },
    "papermill": {
     "duration": 0.032926,
     "end_time": "2023-09-05T14:39:52.424056",
     "exception": false,
     "start_time": "2023-09-05T14:39:52.391130",
     "status": "completed"
    },
    "tags": []
   },
   "outputs": [
    {
     "data": {
      "text/plain": [
       "'IO Crest SY PCI40010 PCI raid Host Controller Card Brings new life old desktop pc connect 4 SATA II high speed SATA hard disk drive support Windows 8 Server 2012'"
      ]
     },
     "execution_count": 27,
     "metadata": {},
     "output_type": "execute_result"
    }
   ],
   "source": [
    "df['preprocessed_text'][2]"
   ]
  },
  {
   "cell_type": "code",
   "execution_count": 28,
   "id": "3465f343",
   "metadata": {
    "execution": {
     "iopub.execute_input": "2023-09-05T14:39:52.463337Z",
     "iopub.status.busy": "2023-09-05T14:39:52.462902Z",
     "iopub.status.idle": "2023-09-05T14:39:52.467410Z",
     "shell.execute_reply": "2023-09-05T14:39:52.466369Z"
    },
    "papermill": {
     "duration": 0.026725,
     "end_time": "2023-09-05T14:39:52.469775",
     "exception": false,
     "start_time": "2023-09-05T14:39:52.443050",
     "status": "completed"
    },
    "tags": []
   },
   "outputs": [],
   "source": [
    "x=df['preprocessed_text']\n",
    "y=df['label_num']"
   ]
  },
  {
   "cell_type": "code",
   "execution_count": 29,
   "id": "8c5895c2",
   "metadata": {
    "execution": {
     "iopub.execute_input": "2023-09-05T14:39:52.510000Z",
     "iopub.status.busy": "2023-09-05T14:39:52.509530Z",
     "iopub.status.idle": "2023-09-05T14:39:52.520396Z",
     "shell.execute_reply": "2023-09-05T14:39:52.519195Z"
    },
    "papermill": {
     "duration": 0.033944,
     "end_time": "2023-09-05T14:39:52.523376",
     "exception": false,
     "start_time": "2023-09-05T14:39:52.489432",
     "status": "completed"
    },
    "tags": []
   },
   "outputs": [],
   "source": [
    "from sklearn.model_selection import train_test_split\n",
    "X_train,X_test,y_train,y_test=train_test_split(x,y,random_state=2022,test_size=0.2,stratify=df['label_num'])"
   ]
  },
  {
   "cell_type": "code",
   "execution_count": 30,
   "id": "5b7f06fd",
   "metadata": {
    "execution": {
     "iopub.execute_input": "2023-09-05T14:39:52.567737Z",
     "iopub.status.busy": "2023-09-05T14:39:52.567094Z",
     "iopub.status.idle": "2023-09-05T14:39:52.575517Z",
     "shell.execute_reply": "2023-09-05T14:39:52.574207Z"
    },
    "papermill": {
     "duration": 0.034584,
     "end_time": "2023-09-05T14:39:52.579548",
     "exception": false,
     "start_time": "2023-09-05T14:39:52.544964",
     "status": "completed"
    },
    "tags": []
   },
   "outputs": [
    {
     "data": {
      "text/plain": [
       "(4000,)"
      ]
     },
     "execution_count": 30,
     "metadata": {},
     "output_type": "execute_result"
    }
   ],
   "source": [
    "X_train.shape"
   ]
  },
  {
   "cell_type": "code",
   "execution_count": 31,
   "id": "4d22c3ba",
   "metadata": {
    "execution": {
     "iopub.execute_input": "2023-09-05T14:39:52.625956Z",
     "iopub.status.busy": "2023-09-05T14:39:52.624595Z",
     "iopub.status.idle": "2023-09-05T14:39:52.634480Z",
     "shell.execute_reply": "2023-09-05T14:39:52.632553Z"
    },
    "papermill": {
     "duration": 0.035893,
     "end_time": "2023-09-05T14:39:52.637173",
     "exception": false,
     "start_time": "2023-09-05T14:39:52.601280",
     "status": "completed"
    },
    "tags": []
   },
   "outputs": [
    {
     "data": {
      "text/plain": [
       "(1000,)"
      ]
     },
     "execution_count": 31,
     "metadata": {},
     "output_type": "execute_result"
    }
   ],
   "source": [
    "X_test.shape"
   ]
  },
  {
   "cell_type": "code",
   "execution_count": 32,
   "id": "a0e4f3aa",
   "metadata": {
    "execution": {
     "iopub.execute_input": "2023-09-05T14:39:52.679587Z",
     "iopub.status.busy": "2023-09-05T14:39:52.678291Z",
     "iopub.status.idle": "2023-09-05T14:39:52.685890Z",
     "shell.execute_reply": "2023-09-05T14:39:52.684465Z"
    },
    "papermill": {
     "duration": 0.030723,
     "end_time": "2023-09-05T14:39:52.688386",
     "exception": false,
     "start_time": "2023-09-05T14:39:52.657663",
     "status": "completed"
    },
    "tags": []
   },
   "outputs": [
    {
     "data": {
      "text/plain": [
       "(4000,)"
      ]
     },
     "execution_count": 32,
     "metadata": {},
     "output_type": "execute_result"
    }
   ],
   "source": [
    "y_train.shape"
   ]
  },
  {
   "cell_type": "code",
   "execution_count": 33,
   "id": "257a105d",
   "metadata": {
    "execution": {
     "iopub.execute_input": "2023-09-05T14:39:52.727932Z",
     "iopub.status.busy": "2023-09-05T14:39:52.727473Z",
     "iopub.status.idle": "2023-09-05T14:39:52.733874Z",
     "shell.execute_reply": "2023-09-05T14:39:52.732996Z"
    },
    "papermill": {
     "duration": 0.029049,
     "end_time": "2023-09-05T14:39:52.736307",
     "exception": false,
     "start_time": "2023-09-05T14:39:52.707258",
     "status": "completed"
    },
    "tags": []
   },
   "outputs": [
    {
     "data": {
      "text/plain": [
       "(1000,)"
      ]
     },
     "execution_count": 33,
     "metadata": {},
     "output_type": "execute_result"
    }
   ],
   "source": [
    "y_test.shape"
   ]
  },
  {
   "cell_type": "code",
   "execution_count": 34,
   "id": "db4be703",
   "metadata": {
    "execution": {
     "iopub.execute_input": "2023-09-05T14:39:52.776790Z",
     "iopub.status.busy": "2023-09-05T14:39:52.775976Z",
     "iopub.status.idle": "2023-09-05T14:39:57.862157Z",
     "shell.execute_reply": "2023-09-05T14:39:57.860832Z"
    },
    "papermill": {
     "duration": 5.109433,
     "end_time": "2023-09-05T14:39:57.865065",
     "exception": false,
     "start_time": "2023-09-05T14:39:52.755632",
     "status": "completed"
    },
    "tags": []
   },
   "outputs": [
    {
     "name": "stdout",
     "output_type": "stream",
     "text": [
      "              precision    recall  f1-score   support\n",
      "\n",
      "           0       0.93      0.91      0.92       255\n",
      "           1       0.98      0.93      0.96       257\n",
      "           2       0.97      0.98      0.97       237\n",
      "           3       0.91      0.96      0.94       251\n",
      "\n",
      "    accuracy                           0.95      1000\n",
      "   macro avg       0.95      0.95      0.95      1000\n",
      "weighted avg       0.95      0.95      0.95      1000\n",
      "\n"
     ]
    }
   ],
   "source": [
    "from sklearn.ensemble import RandomForestClassifier\n",
    "from sklearn.metrics import classification_report\n",
    "from sklearn.feature_extraction.text import TfidfVectorizer\n",
    "clf=Pipeline([\n",
    "    ('tfidf',TfidfVectorizer()),\n",
    "    ('RF',RandomForestClassifier())\n",
    "])\n",
    "clf.fit(X_train,y_train)\n",
    "y_pred=clf.predict(X_test)\n",
    "print(classification_report(y_test,y_pred))"
   ]
  },
  {
   "cell_type": "code",
   "execution_count": 35,
   "id": "8edbe24d",
   "metadata": {
    "execution": {
     "iopub.execute_input": "2023-09-05T14:39:57.905879Z",
     "iopub.status.busy": "2023-09-05T14:39:57.905434Z",
     "iopub.status.idle": "2023-09-05T14:39:57.914366Z",
     "shell.execute_reply": "2023-09-05T14:39:57.912871Z"
    },
    "papermill": {
     "duration": 0.032155,
     "end_time": "2023-09-05T14:39:57.917193",
     "exception": false,
     "start_time": "2023-09-05T14:39:57.885038",
     "status": "completed"
    },
    "tags": []
   },
   "outputs": [
    {
     "name": "stdout",
     "output_type": "stream",
     "text": [
      "[[232   4   6  13]\n",
      " [ 11 240   0   6]\n",
      " [  1   0 232   4]\n",
      " [  6   1   2 242]]\n"
     ]
    }
   ],
   "source": [
    "from sklearn.metrics import confusion_matrix\n",
    "cm=confusion_matrix(y_test,y_pred)\n",
    "print(cm)"
   ]
  },
  {
   "cell_type": "code",
   "execution_count": 36,
   "id": "c7c6d9a0",
   "metadata": {
    "execution": {
     "iopub.execute_input": "2023-09-05T14:39:57.958694Z",
     "iopub.status.busy": "2023-09-05T14:39:57.958259Z",
     "iopub.status.idle": "2023-09-05T14:39:59.206834Z",
     "shell.execute_reply": "2023-09-05T14:39:59.205400Z"
    },
    "papermill": {
     "duration": 1.272563,
     "end_time": "2023-09-05T14:39:59.209629",
     "exception": false,
     "start_time": "2023-09-05T14:39:57.937066",
     "status": "completed"
    },
    "tags": []
   },
   "outputs": [
    {
     "data": {
      "text/plain": [
       "Text(95.72222222222221, 0.5, 'truth')"
      ]
     },
     "execution_count": 36,
     "metadata": {},
     "output_type": "execute_result"
    },
    {
     "data": {
      "image/png": "[encoded data removed]",
      "text/plain": [
       "<Figure size 1000x1000 with 2 Axes>"
      ]
     },
     "metadata": {},
     "output_type": "display_data"
    }
   ],
   "source": [
    "import seaborn as sns\n",
    "from matplotlib import pyplot as plt\n",
    "plt.figure(figsize=(10,10))\n",
    "sns.heatmap(cm,annot=True)\n",
    "plt.xlabel(\"prediction\")\n",
    "plt.ylabel(\"truth\")\n"
   ]
  },
  {
   "cell_type": "code",
   "execution_count": null,
   "id": "aea963f9",
   "metadata": {
    "papermill": {
     "duration": 0.020079,
     "end_time": "2023-09-05T14:39:59.250719",
     "exception": false,
     "start_time": "2023-09-05T14:39:59.230640",
     "status": "completed"
    },
    "tags": []
   },
   "outputs": [],
   "source": []
  }
 ],
 "kernelspec": {
  "display_name": "Python 3",
  "language": "python",
  "name": "python3"
 },
 "language_info": {
  "codemirror_mode": {
   "name": "ipython",
   "version": 3
  },
  "file_extension": ".py",
  "mimetype": "text/x-python",
  "name": "python",
  "nbconvert_exporter": "python",
  "pygments_lexer": "ipython3",
  "version": "3.6.4"
 },
 "metadata": {
  "kernelspec": {
   "display_name": "Python 3",
   "language": "python",
   "name": "python3"
  },
  "language_info": {
   "codemirror_mode": {
    "name": "ipython",
    "version": 3
   },
   "file_extension": ".py",
   "mimetype": "text/x-python",
   "name": "python",
   "nbconvert_exporter": "python",
   "pygments_lexer": "ipython3",
   "version": "3.10.12"
  },
  "papermill": {
   "default_parameters": {},
   "duration": 198.69476,
   "end_time": "2023-09-05T14:40:02.663166",
   "environment_variables": {},
   "exception": null,
   "input_path": "__notebook__.ipynb",
   "output_path": "__notebook__.ipynb",
   "parameters": {},
   "start_time": "2023-09-05T14:36:43.968406",
   "version": "2.4.0"
  }
 },
 "nbformat": 4,
 "nbformat_minor": 5
}
