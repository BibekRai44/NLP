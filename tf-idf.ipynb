{
 "cells": [
  {
   "cell_type": "code",
   "execution_count": 1,
   "id": "474afd42",
   "metadata": {
    "_cell_guid": "b1076dfc-b9ad-4769-8c92-a6c4dae69d19",
    "_uuid": "8f2839f25d086af736a60e9eeb907d3b93b6e0e5",
    "execution": {
     "iopub.execute_input": "2023-09-05T09:05:58.393131Z",
     "iopub.status.busy": "2023-09-05T09:05:58.392437Z",
     "iopub.status.idle": "2023-09-05T09:05:58.404952Z",
     "shell.execute_reply": "2023-09-05T09:05:58.403589Z"
    },
    "papermill": {
     "duration": 0.024282,
     "end_time": "2023-09-05T09:05:58.408227",
     "exception": false,
     "start_time": "2023-09-05T09:05:58.383945",
     "status": "completed"
    },
    "tags": []
   },
   "outputs": [],
   "source": [
    "corpous={\n",
    "    \"I was having a meal.\",\n",
    "    \"I was sitting on a chair.\",\n",
    "    \"I will be getting ready.\"\n",
    "}"
   ]
  },
  {
   "cell_type": "code",
   "execution_count": 2,
   "id": "91748035",
   "metadata": {
    "execution": {
     "iopub.execute_input": "2023-09-05T09:05:58.422470Z",
     "iopub.status.busy": "2023-09-05T09:05:58.421389Z",
     "iopub.status.idle": "2023-09-05T09:05:59.741881Z",
     "shell.execute_reply": "2023-09-05T09:05:59.740397Z"
    },
    "papermill": {
     "duration": 1.331141,
     "end_time": "2023-09-05T09:05:59.745242",
     "exception": false,
     "start_time": "2023-09-05T09:05:58.414101",
     "status": "completed"
    },
    "tags": []
   },
   "outputs": [
    {
     "name": "stdout",
     "output_type": "stream",
     "text": [
      "{'was': 8, 'having': 3, 'meal': 4, 'sitting': 7, 'on': 5, 'chair': 1, 'will': 9, 'be': 0, 'getting': 2, 'ready': 6}\n"
     ]
    }
   ],
   "source": [
    "import sklearn\n",
    "from sklearn.feature_extraction.text import TfidfVectorizer\n",
    "model=TfidfVectorizer()\n",
    "model.fit_transform(corpous)\n",
    "print(model.vocabulary_)"
   ]
  },
  {
   "cell_type": "code",
   "execution_count": 3,
   "id": "d940e243",
   "metadata": {
    "execution": {
     "iopub.execute_input": "2023-09-05T09:05:59.760445Z",
     "iopub.status.busy": "2023-09-05T09:05:59.759480Z",
     "iopub.status.idle": "2023-09-05T09:05:59.765557Z",
     "shell.execute_reply": "2023-09-05T09:05:59.764348Z"
    },
    "papermill": {
     "duration": 0.016906,
     "end_time": "2023-09-05T09:05:59.768489",
     "exception": false,
     "start_time": "2023-09-05T09:05:59.751583",
     "status": "completed"
    },
    "tags": []
   },
   "outputs": [],
   "source": [
    "all_feature_names=model.get_feature_names_out()"
   ]
  },
  {
   "cell_type": "code",
   "execution_count": 4,
   "id": "d84bf66f",
   "metadata": {
    "execution": {
     "iopub.execute_input": "2023-09-05T09:05:59.782314Z",
     "iopub.status.busy": "2023-09-05T09:05:59.781881Z",
     "iopub.status.idle": "2023-09-05T09:05:59.791296Z",
     "shell.execute_reply": "2023-09-05T09:05:59.789759Z"
    },
    "papermill": {
     "duration": 0.020764,
     "end_time": "2023-09-05T09:05:59.795080",
     "exception": false,
     "start_time": "2023-09-05T09:05:59.774316",
     "status": "completed"
    },
    "tags": []
   },
   "outputs": [
    {
     "data": {
      "text/plain": [
       "array(['be', 'chair', 'getting', 'having', 'meal', 'on', 'ready',\n",
       "       'sitting', 'was', 'will'], dtype=object)"
      ]
     },
     "execution_count": 4,
     "metadata": {},
     "output_type": "execute_result"
    }
   ],
   "source": [
    "all_feature_names"
   ]
  },
  {
   "cell_type": "code",
   "execution_count": 5,
   "id": "46cf2bbd",
   "metadata": {
    "execution": {
     "iopub.execute_input": "2023-09-05T09:05:59.810160Z",
     "iopub.status.busy": "2023-09-05T09:05:59.809634Z",
     "iopub.status.idle": "2023-09-05T09:05:59.820665Z",
     "shell.execute_reply": "2023-09-05T09:05:59.818861Z"
    },
    "papermill": {
     "duration": 0.022835,
     "end_time": "2023-09-05T09:05:59.824454",
     "exception": false,
     "start_time": "2023-09-05T09:05:59.801619",
     "status": "completed"
    },
    "tags": []
   },
   "outputs": [
    {
     "name": "stdout",
     "output_type": "stream",
     "text": [
      "be : 1.6931471805599454\n",
      "chair : 1.6931471805599454\n",
      "getting : 1.6931471805599454\n",
      "having : 1.6931471805599454\n",
      "meal : 1.6931471805599454\n",
      "on : 1.6931471805599454\n",
      "ready : 1.6931471805599454\n",
      "sitting : 1.6931471805599454\n",
      "was : 1.2876820724517808\n",
      "will : 1.6931471805599454\n"
     ]
    }
   ],
   "source": [
    "for word in all_feature_names:\n",
    "    indx = model.vocabulary_.get(word)\n",
    "    idf_score = model.idf_[indx]\n",
    "    print(f\"{word} : {idf_score}\")"
   ]
  },
  {
   "cell_type": "code",
   "execution_count": 6,
   "id": "ed9c2b12",
   "metadata": {
    "execution": {
     "iopub.execute_input": "2023-09-05T09:05:59.839885Z",
     "iopub.status.busy": "2023-09-05T09:05:59.839288Z",
     "iopub.status.idle": "2023-09-05T09:06:01.361349Z",
     "shell.execute_reply": "2023-09-05T09:06:01.360144Z"
    },
    "papermill": {
     "duration": 1.533655,
     "end_time": "2023-09-05T09:06:01.364228",
     "exception": false,
     "start_time": "2023-09-05T09:05:59.830573",
     "status": "completed"
    },
    "tags": []
   },
   "outputs": [
    {
     "data": {
      "text/html": [
       "<div>\n",
       "<style scoped>\n",
       "    .dataframe tbody tr th:only-of-type {\n",
       "        vertical-align: middle;\n",
       "    }\n",
       "\n",
       "    .dataframe tbody tr th {\n",
       "        vertical-align: top;\n",
       "    }\n",
       "\n",
       "    .dataframe thead th {\n",
       "        text-align: right;\n",
       "    }\n",
       "</style>\n",
       "<table border=\"1\" class=\"dataframe\">\n",
       "  <thead>\n",
       "    <tr style=\"text-align: right;\">\n",
       "      <th></th>\n",
       "      <th>Household</th>\n",
       "      <th>Paper Plane Design Framed Wall Hanging Motivational Office Decor Art Prints (8.7 X 8.7 inch) - Set of 4 Painting made up in synthetic frame with uv textured print which gives multi effects and attracts towards it. This is an special series of paintings which makes your wall very beautiful and gives a royal touch. This painting is ready to hang, you would be proud to possess this unique painting that is a niche apart. We use only the most modern and efficient printing technology on our prints, with only the and inks and precision epson, roland and hp printers. This innovative hd printing technique results in durable and spectacular looking prints of the highest that last a lifetime. We print solely with top-notch 100% inks, to achieve brilliant and true colours. Due to their high level of uv resistance, our prints retain their beautiful colours for many years. Add colour and style to your living space with this digitally printed painting. Some are for pleasure and some for eternal bliss.so bring home this elegant print that is lushed with rich colors that makes it nothing but sheer elegance to be to your friends and family.it would be treasured forever by whoever your lucky recipient is. Liven up your place with these intriguing paintings that are high definition hd graphic digital prints for home, office or any room.</th>\n",
       "    </tr>\n",
       "  </thead>\n",
       "  <tbody>\n",
       "    <tr>\n",
       "      <th>0</th>\n",
       "      <td>Household</td>\n",
       "      <td>SAF 'Floral' Framed Painting (Wood, 30 inch x ...</td>\n",
       "    </tr>\n",
       "    <tr>\n",
       "      <th>1</th>\n",
       "      <td>Household</td>\n",
       "      <td>SAF 'UV Textured Modern Art Print Framed' Pain...</td>\n",
       "    </tr>\n",
       "    <tr>\n",
       "      <th>2</th>\n",
       "      <td>Household</td>\n",
       "      <td>SAF Flower Print Framed Painting (Synthetic, 1...</td>\n",
       "    </tr>\n",
       "    <tr>\n",
       "      <th>3</th>\n",
       "      <td>Household</td>\n",
       "      <td>Incredible Gifts India Wooden Happy Birthday U...</td>\n",
       "    </tr>\n",
       "    <tr>\n",
       "      <th>4</th>\n",
       "      <td>Household</td>\n",
       "      <td>Pitaara Box Romantic Venice Canvas Painting 6m...</td>\n",
       "    </tr>\n",
       "  </tbody>\n",
       "</table>\n",
       "</div>"
      ],
      "text/plain": [
       "   Household  \\\n",
       "0  Household   \n",
       "1  Household   \n",
       "2  Household   \n",
       "3  Household   \n",
       "4  Household   \n",
       "\n",
       "  Paper Plane Design Framed Wall Hanging Motivational Office Decor Art Prints (8.7 X 8.7 inch) - Set of 4 Painting made up in synthetic frame with uv textured print which gives multi effects and attracts towards it. This is an special series of paintings which makes your wall very beautiful and gives a royal touch. This painting is ready to hang, you would be proud to possess this unique painting that is a niche apart. We use only the most modern and efficient printing technology on our prints, with only the and inks and precision epson, roland and hp printers. This innovative hd printing technique results in durable and spectacular looking prints of the highest that last a lifetime. We print solely with top-notch 100% inks, to achieve brilliant and true colours. Due to their high level of uv resistance, our prints retain their beautiful colours for many years. Add colour and style to your living space with this digitally printed painting. Some are for pleasure and some for eternal bliss.so bring home this elegant print that is lushed with rich colors that makes it nothing but sheer elegance to be to your friends and family.it would be treasured forever by whoever your lucky recipient is. Liven up your place with these intriguing paintings that are high definition hd graphic digital prints for home, office or any room.  \n",
       "0  SAF 'Floral' Framed Painting (Wood, 30 inch x ...                                                                                                                                                                                                                                                                                                                                                                                                                                                                                                                                                                                                                                                                                                                                                                                                                                                                                                                                                                                                                                                                                                                                                                                                                                                                                                                                          \n",
       "1  SAF 'UV Textured Modern Art Print Framed' Pain...                                                                                                                                                                                                                                                                                                                                                                                                                                                                                                                                                                                                                                                                                                                                                                                                                                                                                                                                                                                                                                                                                                                                                                                                                                                                                                                                          \n",
       "2  SAF Flower Print Framed Painting (Synthetic, 1...                                                                                                                                                                                                                                                                                                                                                                                                                                                                                                                                                                                                                                                                                                                                                                                                                                                                                                                                                                                                                                                                                                                                                                                                                                                                                                                                          \n",
       "3  Incredible Gifts India Wooden Happy Birthday U...                                                                                                                                                                                                                                                                                                                                                                                                                                                                                                                                                                                                                                                                                                                                                                                                                                                                                                                                                                                                                                                                                                                                                                                                                                                                                                                                          \n",
       "4  Pitaara Box Romantic Venice Canvas Painting 6m...                                                                                                                                                                                                                                                                                                                                                                                                                                                                                                                                                                                                                                                                                                                                                                                                                                                                                                                                                                                                                                                                                                                                                                                                                                                                                                                                          "
      ]
     },
     "execution_count": 6,
     "metadata": {},
     "output_type": "execute_result"
    }
   ],
   "source": [
    "# importing libraries\n",
    "\n",
    "import numpy as np\n",
    "import pandas as pd\n",
    "df=pd.read_csv(\"/kaggle/input/e-commerce/ecommerceDataset.csv\")\n",
    "df.head()"
   ]
  },
  {
   "cell_type": "code",
   "execution_count": null,
   "id": "12fbf378",
   "metadata": {
    "papermill": {
     "duration": 0.005875,
     "end_time": "2023-09-05T09:06:01.376675",
     "exception": false,
     "start_time": "2023-09-05T09:06:01.370800",
     "status": "completed"
    },
    "tags": []
   },
   "outputs": [],
   "source": []
  }
 ],
 "kernelspec": {
  "display_name": "Python 3",
  "language": "python",
  "name": "python3"
 },
 "language_info": {
  "codemirror_mode": {
   "name": "ipython",
   "version": 3
  },
  "file_extension": ".py",
  "mimetype": "text/x-python",
  "name": "python",
  "nbconvert_exporter": "python",
  "pygments_lexer": "ipython3",
  "version": "3.6.4"
 },
 "metadata": {
  "kernelspec": {
   "display_name": "Python 3",
   "language": "python",
   "name": "python3"
  },
  "language_info": {
   "codemirror_mode": {
    "name": "ipython",
    "version": 3
   },
   "file_extension": ".py",
   "mimetype": "text/x-python",
   "name": "python",
   "nbconvert_exporter": "python",
   "pygments_lexer": "ipython3",
   "version": "3.10.12"
  },
  "papermill": {
   "default_parameters": {},
   "duration": 7.421678,
   "end_time": "2023-09-05T09:06:02.008621",
   "environment_variables": {},
   "exception": null,
   "input_path": "__notebook__.ipynb",
   "output_path": "__notebook__.ipynb",
   "parameters": {},
   "start_time": "2023-09-05T09:05:54.586943",
   "version": "2.4.0"
  }
 },
 "nbformat": 4,
 "nbformat_minor": 5
}
