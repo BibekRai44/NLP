{
 "cells": [
  {
   "cell_type": "code",
   "execution_count": 1,
   "id": "dceb9bad",
   "metadata": {
    "_cell_guid": "b1076dfc-b9ad-4769-8c92-a6c4dae69d19",
    "_uuid": "8f2839f25d086af736a60e9eeb907d3b93b6e0e5",
    "execution": {
     "iopub.execute_input": "2023-09-05T12:04:12.965441Z",
     "iopub.status.busy": "2023-09-05T12:04:12.964902Z",
     "iopub.status.idle": "2023-09-05T12:04:12.976990Z",
     "shell.execute_reply": "2023-09-05T12:04:12.975837Z"
    },
    "papermill": {
     "duration": 0.028013,
     "end_time": "2023-09-05T12:04:12.979471",
     "exception": false,
     "start_time": "2023-09-05T12:04:12.951458",
     "status": "completed"
    },
    "tags": []
   },
   "outputs": [],
   "source": [
    "corpous={\n",
    "    \"I was having a meal.\",\n",
    "    \"I was sitting on a chair.\",\n",
    "    \"I will be getting ready.\"\n",
    "}"
   ]
  },
  {
   "cell_type": "code",
   "execution_count": 2,
   "id": "0d0c988b",
   "metadata": {
    "execution": {
     "iopub.execute_input": "2023-09-05T12:04:13.003223Z",
     "iopub.status.busy": "2023-09-05T12:04:13.002842Z",
     "iopub.status.idle": "2023-09-05T12:04:14.570963Z",
     "shell.execute_reply": "2023-09-05T12:04:14.569664Z"
    },
    "papermill": {
     "duration": 1.583528,
     "end_time": "2023-09-05T12:04:14.573859",
     "exception": false,
     "start_time": "2023-09-05T12:04:12.990331",
     "status": "completed"
    },
    "tags": []
   },
   "outputs": [
    {
     "name": "stdout",
     "output_type": "stream",
     "text": [
      "{'will': 9, 'be': 0, 'getting': 2, 'ready': 6, 'was': 8, 'sitting': 7, 'on': 5, 'chair': 1, 'having': 3, 'meal': 4}\n"
     ]
    }
   ],
   "source": [
    "import sklearn\n",
    "from sklearn.feature_extraction.text import TfidfVectorizer\n",
    "model=TfidfVectorizer()\n",
    "model.fit_transform(corpous)\n",
    "print(model.vocabulary_)"
   ]
  },
  {
   "cell_type": "code",
   "execution_count": 3,
   "id": "a8dc3283",
   "metadata": {
    "execution": {
     "iopub.execute_input": "2023-09-05T12:04:14.597547Z",
     "iopub.status.busy": "2023-09-05T12:04:14.596825Z",
     "iopub.status.idle": "2023-09-05T12:04:14.601335Z",
     "shell.execute_reply": "2023-09-05T12:04:14.600495Z"
    },
    "papermill": {
     "duration": 0.01913,
     "end_time": "2023-09-05T12:04:14.603728",
     "exception": false,
     "start_time": "2023-09-05T12:04:14.584598",
     "status": "completed"
    },
    "tags": []
   },
   "outputs": [],
   "source": [
    "all_feature_names=model.get_feature_names_out()"
   ]
  },
  {
   "cell_type": "code",
   "execution_count": 4,
   "id": "e916aa8d",
   "metadata": {
    "execution": {
     "iopub.execute_input": "2023-09-05T12:04:14.628364Z",
     "iopub.status.busy": "2023-09-05T12:04:14.627139Z",
     "iopub.status.idle": "2023-09-05T12:04:14.635921Z",
     "shell.execute_reply": "2023-09-05T12:04:14.634770Z"
    },
    "papermill": {
     "duration": 0.023881,
     "end_time": "2023-09-05T12:04:14.638329",
     "exception": false,
     "start_time": "2023-09-05T12:04:14.614448",
     "status": "completed"
    },
    "tags": []
   },
   "outputs": [
    {
     "data": {
      "text/plain": [
       "array(['be', 'chair', 'getting', 'having', 'meal', 'on', 'ready',\n",
       "       'sitting', 'was', 'will'], dtype=object)"
      ]
     },
     "execution_count": 4,
     "metadata": {},
     "output_type": "execute_result"
    }
   ],
   "source": [
    "all_feature_names"
   ]
  },
  {
   "cell_type": "code",
   "execution_count": 5,
   "id": "5cf3917f",
   "metadata": {
    "execution": {
     "iopub.execute_input": "2023-09-05T12:04:14.663083Z",
     "iopub.status.busy": "2023-09-05T12:04:14.662029Z",
     "iopub.status.idle": "2023-09-05T12:04:14.671348Z",
     "shell.execute_reply": "2023-09-05T12:04:14.670206Z"
    },
    "papermill": {
     "duration": 0.024822,
     "end_time": "2023-09-05T12:04:14.674471",
     "exception": false,
     "start_time": "2023-09-05T12:04:14.649649",
     "status": "completed"
    },
    "tags": []
   },
   "outputs": [
    {
     "name": "stdout",
     "output_type": "stream",
     "text": [
      "be : 1.6931471805599454\n",
      "chair : 1.6931471805599454\n",
      "getting : 1.6931471805599454\n",
      "having : 1.6931471805599454\n",
      "meal : 1.6931471805599454\n",
      "on : 1.6931471805599454\n",
      "ready : 1.6931471805599454\n",
      "sitting : 1.6931471805599454\n",
      "was : 1.2876820724517808\n",
      "will : 1.6931471805599454\n"
     ]
    }
   ],
   "source": [
    "for word in all_feature_names:\n",
    "    indx = model.vocabulary_.get(word)\n",
    "    idf_score = model.idf_[indx]\n",
    "    print(f\"{word} : {idf_score}\")"
   ]
  },
  {
   "cell_type": "code",
   "execution_count": 6,
   "id": "e02af16e",
   "metadata": {
    "execution": {
     "iopub.execute_input": "2023-09-05T12:04:14.698292Z",
     "iopub.status.busy": "2023-09-05T12:04:14.697905Z",
     "iopub.status.idle": "2023-09-05T12:04:15.611228Z",
     "shell.execute_reply": "2023-09-05T12:04:15.610008Z"
    },
    "papermill": {
     "duration": 0.928411,
     "end_time": "2023-09-05T12:04:15.614034",
     "exception": false,
     "start_time": "2023-09-05T12:04:14.685623",
     "status": "completed"
    },
    "tags": []
   },
   "outputs": [
    {
     "data": {
      "text/html": [
       "<div>\n",
       "<style scoped>\n",
       "    .dataframe tbody tr th:only-of-type {\n",
       "        vertical-align: middle;\n",
       "    }\n",
       "\n",
       "    .dataframe tbody tr th {\n",
       "        vertical-align: top;\n",
       "    }\n",
       "\n",
       "    .dataframe thead th {\n",
       "        text-align: right;\n",
       "    }\n",
       "</style>\n",
       "<table border=\"1\" class=\"dataframe\">\n",
       "  <thead>\n",
       "    <tr style=\"text-align: right;\">\n",
       "      <th></th>\n",
       "      <th>Text</th>\n",
       "      <th>label</th>\n",
       "    </tr>\n",
       "  </thead>\n",
       "  <tbody>\n",
       "    <tr>\n",
       "      <th>0</th>\n",
       "      <td>Urban Ladder Eisner Low Back Study-Office Comp...</td>\n",
       "      <td>Household</td>\n",
       "    </tr>\n",
       "    <tr>\n",
       "      <th>1</th>\n",
       "      <td>Contrast living Wooden Decorative Box,Painted ...</td>\n",
       "      <td>Household</td>\n",
       "    </tr>\n",
       "    <tr>\n",
       "      <th>2</th>\n",
       "      <td>IO Crest SY-PCI40010 PCI RAID Host Controller ...</td>\n",
       "      <td>Electronics</td>\n",
       "    </tr>\n",
       "    <tr>\n",
       "      <th>3</th>\n",
       "      <td>ISAKAA Baby Socks from Just Born to 8 Years- P...</td>\n",
       "      <td>Clothing &amp; Accessories</td>\n",
       "    </tr>\n",
       "    <tr>\n",
       "      <th>4</th>\n",
       "      <td>Indira Designer Women's Art Mysore Silk Saree ...</td>\n",
       "      <td>Clothing &amp; Accessories</td>\n",
       "    </tr>\n",
       "  </tbody>\n",
       "</table>\n",
       "</div>"
      ],
      "text/plain": [
       "                                                Text                   label\n",
       "0  Urban Ladder Eisner Low Back Study-Office Comp...               Household\n",
       "1  Contrast living Wooden Decorative Box,Painted ...               Household\n",
       "2  IO Crest SY-PCI40010 PCI RAID Host Controller ...             Electronics\n",
       "3  ISAKAA Baby Socks from Just Born to 8 Years- P...  Clothing & Accessories\n",
       "4  Indira Designer Women's Art Mysore Silk Saree ...  Clothing & Accessories"
      ]
     },
     "execution_count": 6,
     "metadata": {},
     "output_type": "execute_result"
    }
   ],
   "source": [
    "# importing libraries\n",
    "\n",
    "import numpy as np\n",
    "import pandas as pd\n",
    "df=pd.read_csv(\"/kaggle/input/ecommerce/Ecommerce_data.csv\")\n",
    "df.head()"
   ]
  },
  {
   "cell_type": "code",
   "execution_count": 7,
   "id": "58d7febc",
   "metadata": {
    "execution": {
     "iopub.execute_input": "2023-09-05T12:04:15.638984Z",
     "iopub.status.busy": "2023-09-05T12:04:15.638219Z",
     "iopub.status.idle": "2023-09-05T12:04:15.654138Z",
     "shell.execute_reply": "2023-09-05T12:04:15.652977Z"
    },
    "papermill": {
     "duration": 0.031316,
     "end_time": "2023-09-05T12:04:15.656702",
     "exception": false,
     "start_time": "2023-09-05T12:04:15.625386",
     "status": "completed"
    },
    "tags": []
   },
   "outputs": [
    {
     "data": {
      "text/plain": [
       "label\n",
       "Household                 6000\n",
       "Electronics               6000\n",
       "Clothing & Accessories    6000\n",
       "Books                     6000\n",
       "Name: count, dtype: int64"
      ]
     },
     "execution_count": 7,
     "metadata": {},
     "output_type": "execute_result"
    }
   ],
   "source": [
    "df.label.value_counts()"
   ]
  },
  {
   "cell_type": "code",
   "execution_count": 8,
   "id": "1a949745",
   "metadata": {
    "execution": {
     "iopub.execute_input": "2023-09-05T12:04:15.681470Z",
     "iopub.status.busy": "2023-09-05T12:04:15.680506Z",
     "iopub.status.idle": "2023-09-05T12:04:15.688785Z",
     "shell.execute_reply": "2023-09-05T12:04:15.687657Z"
    },
    "papermill": {
     "duration": 0.02305,
     "end_time": "2023-09-05T12:04:15.691012",
     "exception": false,
     "start_time": "2023-09-05T12:04:15.667962",
     "status": "completed"
    },
    "tags": []
   },
   "outputs": [
    {
     "data": {
      "text/plain": [
       "(24000, 2)"
      ]
     },
     "execution_count": 8,
     "metadata": {},
     "output_type": "execute_result"
    }
   ],
   "source": [
    "df.shape"
   ]
  },
  {
   "cell_type": "markdown",
   "id": "e59ad358",
   "metadata": {
    "papermill": {
     "duration": 0.01122,
     "end_time": "2023-09-05T12:04:15.714071",
     "exception": false,
     "start_time": "2023-09-05T12:04:15.702851",
     "status": "completed"
    },
    "tags": []
   },
   "source": [
    "# so much data . takes time to train model . so reduce in small size"
   ]
  },
  {
   "cell_type": "code",
   "execution_count": 9,
   "id": "48f16397",
   "metadata": {
    "execution": {
     "iopub.execute_input": "2023-09-05T12:04:15.739177Z",
     "iopub.status.busy": "2023-09-05T12:04:15.738662Z",
     "iopub.status.idle": "2023-09-05T12:04:15.744558Z",
     "shell.execute_reply": "2023-09-05T12:04:15.743438Z"
    },
    "papermill": {
     "duration": 0.021375,
     "end_time": "2023-09-05T12:04:15.746959",
     "exception": false,
     "start_time": "2023-09-05T12:04:15.725584",
     "status": "completed"
    },
    "tags": []
   },
   "outputs": [],
   "source": [
    "df=df.head(5000)"
   ]
  },
  {
   "cell_type": "code",
   "execution_count": 10,
   "id": "b54e9f17",
   "metadata": {
    "execution": {
     "iopub.execute_input": "2023-09-05T12:04:15.772703Z",
     "iopub.status.busy": "2023-09-05T12:04:15.772281Z",
     "iopub.status.idle": "2023-09-05T12:04:15.790979Z",
     "shell.execute_reply": "2023-09-05T12:04:15.789711Z"
    },
    "papermill": {
     "duration": 0.034329,
     "end_time": "2023-09-05T12:04:15.793510",
     "exception": false,
     "start_time": "2023-09-05T12:04:15.759181",
     "status": "completed"
    },
    "tags": []
   },
   "outputs": [
    {
     "data": {
      "text/html": [
       "<div>\n",
       "<style scoped>\n",
       "    .dataframe tbody tr th:only-of-type {\n",
       "        vertical-align: middle;\n",
       "    }\n",
       "\n",
       "    .dataframe tbody tr th {\n",
       "        vertical-align: top;\n",
       "    }\n",
       "\n",
       "    .dataframe thead th {\n",
       "        text-align: right;\n",
       "    }\n",
       "</style>\n",
       "<table border=\"1\" class=\"dataframe\">\n",
       "  <thead>\n",
       "    <tr style=\"text-align: right;\">\n",
       "      <th></th>\n",
       "      <th>Text</th>\n",
       "      <th>label</th>\n",
       "      <th>label_num</th>\n",
       "    </tr>\n",
       "  </thead>\n",
       "  <tbody>\n",
       "    <tr>\n",
       "      <th>0</th>\n",
       "      <td>Urban Ladder Eisner Low Back Study-Office Comp...</td>\n",
       "      <td>Household</td>\n",
       "      <td>0</td>\n",
       "    </tr>\n",
       "    <tr>\n",
       "      <th>1</th>\n",
       "      <td>Contrast living Wooden Decorative Box,Painted ...</td>\n",
       "      <td>Household</td>\n",
       "      <td>0</td>\n",
       "    </tr>\n",
       "    <tr>\n",
       "      <th>2</th>\n",
       "      <td>IO Crest SY-PCI40010 PCI RAID Host Controller ...</td>\n",
       "      <td>Electronics</td>\n",
       "      <td>1</td>\n",
       "    </tr>\n",
       "    <tr>\n",
       "      <th>3</th>\n",
       "      <td>ISAKAA Baby Socks from Just Born to 8 Years- P...</td>\n",
       "      <td>Clothing &amp; Accessories</td>\n",
       "      <td>2</td>\n",
       "    </tr>\n",
       "    <tr>\n",
       "      <th>4</th>\n",
       "      <td>Indira Designer Women's Art Mysore Silk Saree ...</td>\n",
       "      <td>Clothing &amp; Accessories</td>\n",
       "      <td>2</td>\n",
       "    </tr>\n",
       "  </tbody>\n",
       "</table>\n",
       "</div>"
      ],
      "text/plain": [
       "                                                Text                   label  \\\n",
       "0  Urban Ladder Eisner Low Back Study-Office Comp...               Household   \n",
       "1  Contrast living Wooden Decorative Box,Painted ...               Household   \n",
       "2  IO Crest SY-PCI40010 PCI RAID Host Controller ...             Electronics   \n",
       "3  ISAKAA Baby Socks from Just Born to 8 Years- P...  Clothing & Accessories   \n",
       "4  Indira Designer Women's Art Mysore Silk Saree ...  Clothing & Accessories   \n",
       "\n",
       "   label_num  \n",
       "0          0  \n",
       "1          0  \n",
       "2          1  \n",
       "3          2  \n",
       "4          2  "
      ]
     },
     "execution_count": 10,
     "metadata": {},
     "output_type": "execute_result"
    }
   ],
   "source": [
    "import warnings\n",
    "warnings.filterwarnings('ignore')\n",
    "df['label_num']=df['label'].map({'Household':0,'Electronics':1,'Clothing & Accessories':2,'Books':3})\n",
    "df.head()"
   ]
  },
  {
   "cell_type": "code",
   "execution_count": 11,
   "id": "53a8f7b6",
   "metadata": {
    "execution": {
     "iopub.execute_input": "2023-09-05T12:04:15.819253Z",
     "iopub.status.busy": "2023-09-05T12:04:15.818859Z",
     "iopub.status.idle": "2023-09-05T12:04:15.824747Z",
     "shell.execute_reply": "2023-09-05T12:04:15.823501Z"
    },
    "papermill": {
     "duration": 0.021494,
     "end_time": "2023-09-05T12:04:15.827082",
     "exception": false,
     "start_time": "2023-09-05T12:04:15.805588",
     "status": "completed"
    },
    "tags": []
   },
   "outputs": [],
   "source": [
    "x=df['Text']\n",
    "y=df['label_num']"
   ]
  },
  {
   "cell_type": "code",
   "execution_count": 12,
   "id": "28ffa916",
   "metadata": {
    "execution": {
     "iopub.execute_input": "2023-09-05T12:04:15.853615Z",
     "iopub.status.busy": "2023-09-05T12:04:15.852357Z",
     "iopub.status.idle": "2023-09-05T12:04:15.985751Z",
     "shell.execute_reply": "2023-09-05T12:04:15.984662Z"
    },
    "papermill": {
     "duration": 0.149627,
     "end_time": "2023-09-05T12:04:15.988549",
     "exception": false,
     "start_time": "2023-09-05T12:04:15.838922",
     "status": "completed"
    },
    "tags": []
   },
   "outputs": [],
   "source": [
    "import sklearn\n",
    "from sklearn.model_selection import train_test_split\n",
    "X_train,X_test,y_train,y_test=train_test_split(x,y,test_size=0.2,random_state=2022,stratify=df['label_num'])\n"
   ]
  },
  {
   "cell_type": "code",
   "execution_count": 13,
   "id": "ac14690c",
   "metadata": {
    "execution": {
     "iopub.execute_input": "2023-09-05T12:04:16.015863Z",
     "iopub.status.busy": "2023-09-05T12:04:16.015392Z",
     "iopub.status.idle": "2023-09-05T12:04:16.022425Z",
     "shell.execute_reply": "2023-09-05T12:04:16.021237Z"
    },
    "papermill": {
     "duration": 0.024659,
     "end_time": "2023-09-05T12:04:16.025841",
     "exception": false,
     "start_time": "2023-09-05T12:04:16.001182",
     "status": "completed"
    },
    "tags": []
   },
   "outputs": [
    {
     "data": {
      "text/plain": [
       "(4000,)"
      ]
     },
     "execution_count": 13,
     "metadata": {},
     "output_type": "execute_result"
    }
   ],
   "source": [
    "X_train.shape"
   ]
  },
  {
   "cell_type": "code",
   "execution_count": 14,
   "id": "e8b4df72",
   "metadata": {
    "execution": {
     "iopub.execute_input": "2023-09-05T12:04:16.054151Z",
     "iopub.status.busy": "2023-09-05T12:04:16.053678Z",
     "iopub.status.idle": "2023-09-05T12:04:16.062780Z",
     "shell.execute_reply": "2023-09-05T12:04:16.060503Z"
    },
    "papermill": {
     "duration": 0.026374,
     "end_time": "2023-09-05T12:04:16.065725",
     "exception": false,
     "start_time": "2023-09-05T12:04:16.039351",
     "status": "completed"
    },
    "tags": []
   },
   "outputs": [
    {
     "data": {
      "text/plain": [
       "(1000,)"
      ]
     },
     "execution_count": 14,
     "metadata": {},
     "output_type": "execute_result"
    }
   ],
   "source": [
    "X_test.shape"
   ]
  },
  {
   "cell_type": "code",
   "execution_count": 15,
   "id": "6c70c323",
   "metadata": {
    "execution": {
     "iopub.execute_input": "2023-09-05T12:04:16.093781Z",
     "iopub.status.busy": "2023-09-05T12:04:16.093317Z",
     "iopub.status.idle": "2023-09-05T12:04:16.101077Z",
     "shell.execute_reply": "2023-09-05T12:04:16.099792Z"
    },
    "papermill": {
     "duration": 0.025511,
     "end_time": "2023-09-05T12:04:16.103939",
     "exception": false,
     "start_time": "2023-09-05T12:04:16.078428",
     "status": "completed"
    },
    "tags": []
   },
   "outputs": [
    {
     "data": {
      "text/plain": [
       "(4000,)"
      ]
     },
     "execution_count": 15,
     "metadata": {},
     "output_type": "execute_result"
    }
   ],
   "source": [
    "y_train.shape"
   ]
  },
  {
   "cell_type": "code",
   "execution_count": 16,
   "id": "a1613f47",
   "metadata": {
    "execution": {
     "iopub.execute_input": "2023-09-05T12:04:16.131641Z",
     "iopub.status.busy": "2023-09-05T12:04:16.131165Z",
     "iopub.status.idle": "2023-09-05T12:04:16.140581Z",
     "shell.execute_reply": "2023-09-05T12:04:16.138774Z"
    },
    "papermill": {
     "duration": 0.026806,
     "end_time": "2023-09-05T12:04:16.143336",
     "exception": false,
     "start_time": "2023-09-05T12:04:16.116530",
     "status": "completed"
    },
    "tags": []
   },
   "outputs": [
    {
     "data": {
      "text/plain": [
       "(1000,)"
      ]
     },
     "execution_count": 16,
     "metadata": {},
     "output_type": "execute_result"
    }
   ],
   "source": [
    "y_test.shape"
   ]
  },
  {
   "cell_type": "markdown",
   "id": "39b9b797",
   "metadata": {
    "papermill": {
     "duration": 0.012327,
     "end_time": "2023-09-05T12:04:16.168338",
     "exception": false,
     "start_time": "2023-09-05T12:04:16.156011",
     "status": "completed"
    },
    "tags": []
   },
   "source": [
    "Attempt 1 :\n",
    "\n",
    "using sklearn pipeline module create a classification pipeline to classify the Ecommerce Data.\n",
    "Note:\n",
    "\n",
    "use TF-IDF for pre-processing the text.\n",
    "\n",
    "use KNN as the classifier\n",
    "\n",
    "print the classification report."
   ]
  },
  {
   "cell_type": "code",
   "execution_count": 17,
   "id": "f1026eb8",
   "metadata": {
    "execution": {
     "iopub.execute_input": "2023-09-05T12:04:16.196011Z",
     "iopub.status.busy": "2023-09-05T12:04:16.195615Z",
     "iopub.status.idle": "2023-09-05T12:04:26.246544Z",
     "shell.execute_reply": "2023-09-05T12:04:26.245197Z"
    },
    "papermill": {
     "duration": 10.067822,
     "end_time": "2023-09-05T12:04:26.249335",
     "exception": false,
     "start_time": "2023-09-05T12:04:16.181513",
     "status": "completed"
    },
    "tags": []
   },
   "outputs": [
    {
     "name": "stdout",
     "output_type": "stream",
     "text": [
      "              precision    recall  f1-score   support\n",
      "\n",
      "           0       0.92      0.95      0.93       255\n",
      "           1       0.95      0.94      0.95       257\n",
      "           2       0.98      0.95      0.96       237\n",
      "           3       0.93      0.95      0.94       251\n",
      "\n",
      "    accuracy                           0.94      1000\n",
      "   macro avg       0.95      0.95      0.95      1000\n",
      "weighted avg       0.95      0.94      0.95      1000\n",
      "\n"
     ]
    }
   ],
   "source": [
    "from sklearn.pipeline import Pipeline\n",
    "from sklearn.metrics import classification_report\n",
    "from sklearn.neighbors import KNeighborsClassifier\n",
    "\n",
    "clf=Pipeline(\n",
    "    [('vectorizer_tfidf',TfidfVectorizer()),\n",
    "    ('KNN',KNeighborsClassifier())])\n",
    "clf.fit(X_train,y_train)\n",
    "y_pred=clf.predict(X_test)\n",
    "print(classification_report(y_test,y_pred))"
   ]
  },
  {
   "cell_type": "code",
   "execution_count": 18,
   "id": "c8378a39",
   "metadata": {
    "execution": {
     "iopub.execute_input": "2023-09-05T12:04:26.277088Z",
     "iopub.status.busy": "2023-09-05T12:04:26.276394Z",
     "iopub.status.idle": "2023-09-05T12:04:26.286112Z",
     "shell.execute_reply": "2023-09-05T12:04:26.284722Z"
    },
    "papermill": {
     "duration": 0.026561,
     "end_time": "2023-09-05T12:04:26.289000",
     "exception": false,
     "start_time": "2023-09-05T12:04:26.262439",
     "status": "completed"
    },
    "tags": []
   },
   "outputs": [
    {
     "data": {
      "text/plain": [
       "610     Frabjous Pebbles Glossy Home Decorative Vase F...\n",
       "2002                         Jack & Jones Men's Waistcoat\n",
       "3945                     Fundamentals of Database System \n",
       "52      Artis AR-MAC-60W-MG1 100-240V Laptop Adapter f...\n",
       "3143    Toreto 15.6 Inch Finished Leather Premium Qual...\n",
       "4887    Satyam Kraft Rectangle Shape Metal Printed Tru...\n",
       "4171    VIMAL JONNEY Winter Cover Blended Thermal Bott...\n",
       "3937    evo India Magazine Issues brief evo India Febr...\n",
       "2392    Glow: Indian Foods, Recipes and Rituals for Be...\n",
       "3849    Make: JavaScript Robotics - Building NodeBots ...\n",
       "Name: Text, dtype: object"
      ]
     },
     "execution_count": 18,
     "metadata": {},
     "output_type": "execute_result"
    }
   ],
   "source": [
    "X_test[10:20]"
   ]
  },
  {
   "cell_type": "code",
   "execution_count": 19,
   "id": "e5696cae",
   "metadata": {
    "execution": {
     "iopub.execute_input": "2023-09-05T12:04:26.319036Z",
     "iopub.status.busy": "2023-09-05T12:04:26.318369Z",
     "iopub.status.idle": "2023-09-05T12:04:26.325466Z",
     "shell.execute_reply": "2023-09-05T12:04:26.324511Z"
    },
    "papermill": {
     "duration": 0.024741,
     "end_time": "2023-09-05T12:04:26.327852",
     "exception": false,
     "start_time": "2023-09-05T12:04:26.303111",
     "status": "completed"
    },
    "tags": []
   },
   "outputs": [
    {
     "data": {
      "text/plain": [
       "610     0\n",
       "2002    2\n",
       "3945    3\n",
       "52      1\n",
       "3143    1\n",
       "4887    0\n",
       "4171    2\n",
       "3937    3\n",
       "2392    3\n",
       "3849    3\n",
       "Name: label_num, dtype: int64"
      ]
     },
     "execution_count": 19,
     "metadata": {},
     "output_type": "execute_result"
    }
   ],
   "source": [
    "y_test[10:20]"
   ]
  },
  {
   "cell_type": "code",
   "execution_count": 20,
   "id": "7280033e",
   "metadata": {
    "execution": {
     "iopub.execute_input": "2023-09-05T12:04:26.356690Z",
     "iopub.status.busy": "2023-09-05T12:04:26.356217Z",
     "iopub.status.idle": "2023-09-05T12:04:26.363777Z",
     "shell.execute_reply": "2023-09-05T12:04:26.362353Z"
    },
    "papermill": {
     "duration": 0.025795,
     "end_time": "2023-09-05T12:04:26.366770",
     "exception": false,
     "start_time": "2023-09-05T12:04:26.340975",
     "status": "completed"
    },
    "tags": []
   },
   "outputs": [
    {
     "data": {
      "text/plain": [
       "array([0, 2, 3, 1, 1, 0, 2, 3, 3, 3])"
      ]
     },
     "execution_count": 20,
     "metadata": {},
     "output_type": "execute_result"
    }
   ],
   "source": [
    "y_pred[10:20]"
   ]
  },
  {
   "cell_type": "markdown",
   "id": "48f44539",
   "metadata": {
    "papermill": {
     "duration": 0.013459,
     "end_time": "2023-09-05T12:04:26.394188",
     "exception": false,
     "start_time": "2023-09-05T12:04:26.380729",
     "status": "completed"
    },
    "tags": []
   },
   "source": [
    "Attempt 2 :\n",
    "\n",
    "using sklearn pipeline module create a classification pipeline to classify the Ecommerce Data.\n",
    "Note:\n",
    "\n",
    "use TF-IDF for pre-processing the text.\n",
    "\n",
    "use MultinomialNB as the classifier.\n",
    "\n",
    "print the classification report."
   ]
  },
  {
   "cell_type": "code",
   "execution_count": 21,
   "id": "5b1aa157",
   "metadata": {
    "execution": {
     "iopub.execute_input": "2023-09-05T12:04:26.425078Z",
     "iopub.status.busy": "2023-09-05T12:04:26.424698Z",
     "iopub.status.idle": "2023-09-05T12:04:27.275981Z",
     "shell.execute_reply": "2023-09-05T12:04:27.275107Z"
    },
    "papermill": {
     "duration": 0.869584,
     "end_time": "2023-09-05T12:04:27.278335",
     "exception": false,
     "start_time": "2023-09-05T12:04:26.408751",
     "status": "completed"
    },
    "tags": []
   },
   "outputs": [
    {
     "name": "stdout",
     "output_type": "stream",
     "text": [
      "              precision    recall  f1-score   support\n",
      "\n",
      "           0       0.90      0.96      0.93       255\n",
      "           1       0.96      0.96      0.96       257\n",
      "           2       0.99      0.97      0.98       237\n",
      "           3       0.97      0.92      0.95       251\n",
      "\n",
      "    accuracy                           0.95      1000\n",
      "   macro avg       0.95      0.95      0.95      1000\n",
      "weighted avg       0.95      0.95      0.95      1000\n",
      "\n"
     ]
    }
   ],
   "source": [
    "from sklearn.naive_bayes import MultinomialNB\n",
    "clf=Pipeline([('vectorizer_tdidf',TfidfVectorizer()),\n",
    "             ('NB',MultinomialNB())])\n",
    "clf.fit(X_train,y_train)\n",
    "y_pred=clf.predict(X_test)\n",
    "print(classification_report(y_test,y_pred))"
   ]
  },
  {
   "cell_type": "markdown",
   "id": "20bfbd59",
   "metadata": {
    "papermill": {
     "duration": 0.012845,
     "end_time": "2023-09-05T12:04:27.304344",
     "exception": false,
     "start_time": "2023-09-05T12:04:27.291499",
     "status": "completed"
    },
    "tags": []
   },
   "source": [
    "Attempt 3 :\n",
    "\n",
    "using sklearn pipeline module create a classification pipeline to classify the Ecommerce Data.\n",
    "Note:\n",
    "\n",
    "use TF-IDF for pre-processing the text.\n",
    "\n",
    "use Random Forest as the classifier.\n",
    "\n",
    "print the classification report."
   ]
  },
  {
   "cell_type": "code",
   "execution_count": 22,
   "id": "38b2ab26",
   "metadata": {
    "execution": {
     "iopub.execute_input": "2023-09-05T12:04:27.332736Z",
     "iopub.status.busy": "2023-09-05T12:04:27.331896Z",
     "iopub.status.idle": "2023-09-05T12:04:33.506097Z",
     "shell.execute_reply": "2023-09-05T12:04:33.504387Z"
    },
    "papermill": {
     "duration": 6.191394,
     "end_time": "2023-09-05T12:04:33.509019",
     "exception": false,
     "start_time": "2023-09-05T12:04:27.317625",
     "status": "completed"
    },
    "tags": []
   },
   "outputs": [
    {
     "name": "stdout",
     "output_type": "stream",
     "text": [
      "              precision    recall  f1-score   support\n",
      "\n",
      "           0       0.92      0.91      0.92       255\n",
      "           1       0.97      0.91      0.94       257\n",
      "           2       0.97      0.96      0.96       237\n",
      "           3       0.90      0.97      0.93       251\n",
      "\n",
      "    accuracy                           0.94      1000\n",
      "   macro avg       0.94      0.94      0.94      1000\n",
      "weighted avg       0.94      0.94      0.94      1000\n",
      "\n"
     ]
    }
   ],
   "source": [
    "from sklearn.ensemble import RandomForestClassifier\n",
    "clf=Pipeline([('tfidf_vectorizer',TfidfVectorizer()),\n",
    "             ('RF',RandomForestClassifier())])\n",
    "clf.fit(X_train,y_train)\n",
    "y_pred=clf.predict(X_test)\n",
    "print(classification_report(y_test,y_pred))"
   ]
  },
  {
   "cell_type": "code",
   "execution_count": null,
   "id": "0d164431",
   "metadata": {
    "papermill": {
     "duration": 0.013257,
     "end_time": "2023-09-05T12:04:33.536107",
     "exception": false,
     "start_time": "2023-09-05T12:04:33.522850",
     "status": "completed"
    },
    "tags": []
   },
   "outputs": [],
   "source": []
  }
 ],
 "kernelspec": {
  "display_name": "Python 3",
  "language": "python",
  "name": "python3"
 },
 "language_info": {
  "codemirror_mode": {
   "name": "ipython",
   "version": 3
  },
  "file_extension": ".py",
  "mimetype": "text/x-python",
  "name": "python",
  "nbconvert_exporter": "python",
  "pygments_lexer": "ipython3",
  "version": "3.6.4"
 },
 "metadata": {
  "kernelspec": {
   "display_name": "Python 3",
   "language": "python",
   "name": "python3"
  },
  "language_info": {
   "codemirror_mode": {
    "name": "ipython",
    "version": 3
   },
   "file_extension": ".py",
   "mimetype": "text/x-python",
   "name": "python",
   "nbconvert_exporter": "python",
   "pygments_lexer": "ipython3",
   "version": "3.10.12"
  },
  "papermill": {
   "default_parameters": {},
   "duration": 25.264484,
   "end_time": "2023-09-05T12:04:34.171315",
   "environment_variables": {},
   "exception": null,
   "input_path": "__notebook__.ipynb",
   "output_path": "__notebook__.ipynb",
   "parameters": {},
   "start_time": "2023-09-05T12:04:08.906831",
   "version": "2.4.0"
  }
 },
 "nbformat": 4,
 "nbformat_minor": 5
}
